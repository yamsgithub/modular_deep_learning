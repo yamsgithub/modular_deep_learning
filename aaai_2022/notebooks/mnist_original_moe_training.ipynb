{
 "cells": [
  {
   "cell_type": "markdown",
   "metadata": {},
   "source": [
    "# Experiments with MNIST Dataset and Original MoE"
   ]
  },
  {
   "cell_type": "markdown",
   "metadata": {},
   "source": [
    "The experiments in this notebook include training the original MoE models as follows:\n",
    "\n",
    "1. original MoE without regularization.\n",
    "2. original MoE with $L_{importance}$ regularization.\n",
    "3. original MoE with $L_s$ regularization.\n",
    "4. train a single model."
   ]
  },
  {
   "cell_type": "code",
   "execution_count": 1,
   "metadata": {},
   "outputs": [],
   "source": [
    "import time\n",
    "import numpy as np\n",
    "import matplotlib.pyplot as plt\n",
    "import matplotlib.cm as cm  # colormaps\n",
    "\n",
    "%matplotlib inline"
   ]
  },
  {
   "cell_type": "code",
   "execution_count": 2,
   "metadata": {},
   "outputs": [],
   "source": [
    "import seaborn as sns\n",
    "import numpy as np\n",
    "from statistics import mean\n",
    "from math import ceil, sin, cos, radians\n",
    "from collections import OrderedDict\n",
    "import os\n",
    "import pandas as pd\n",
    "from pprint import pprint\n",
    "from copy import deepcopy\n",
    "from itertools import product"
   ]
  },
  {
   "cell_type": "code",
   "execution_count": 3,
   "metadata": {},
   "outputs": [
    {
     "name": "stderr",
     "output_type": "stream",
     "text": [
      "/nobackup/projects/bdrap03/yamuna/miniconda/envs/mnn/lib/python3.9/site-packages/tqdm/auto.py:22: TqdmWarning: IProgress not found. Please update jupyter and ipywidgets. See https://ipywidgets.readthedocs.io/en/stable/user_install.html\n",
      "  from .autonotebook import tqdm as notebook_tqdm\n"
     ]
    }
   ],
   "source": [
    "import torch\n",
    "import torchvision\n",
    "import torch.nn as nn\n",
    "import torch.nn.functional as F\n",
    "import torch.optim as optim\n",
    "from torch.utils.data import TensorDataset\n",
    "import torchvision.transforms.functional as TF"
   ]
  },
  {
   "cell_type": "code",
   "execution_count": 4,
   "metadata": {},
   "outputs": [
    {
     "name": "stdout",
     "output_type": "stream",
     "text": [
      "device cuda:1\n"
     ]
    }
   ],
   "source": [
    "if torch.cuda.is_available():\n",
    "    device = torch.device(\"cuda:1\")\n",
    "    print('device', device)\n",
    "else:\n",
    "    device = torch.device(\"cpu\")\n",
    "    print('device', device)"
   ]
  },
  {
   "cell_type": "code",
   "execution_count": 5,
   "metadata": {},
   "outputs": [
    {
     "name": "stdout",
     "output_type": "stream",
     "text": [
      "device cuda:0\n"
     ]
    }
   ],
   "source": [
    "# import MoE expectation model. All experiments for this dataset are done with the expectation model as it\n",
    "# provides the best performance\n",
    "from moe_models.moe_expectation_model import moe_expectation_model\n",
    "from moe_models.moe_stochastic_model import moe_stochastic_model\n",
    "from moe_models.moe_top_k_model import moe_top_k_model\n",
    "from moe_models.moe_models_base import default_optimizer\n",
    "from helper.moe_models import cross_entropy_loss, stochastic_loss\n",
    "from helper.visualise_results import *"
   ]
  },
  {
   "cell_type": "code",
   "execution_count": 10,
   "metadata": {},
   "outputs": [
    {
     "name": "stdout",
     "output_type": "stream",
     "text": [
      "[(0.001, 1e-07), (0.001, 1e-06), (0.001, 1e-05), (0.001, 0.0001), (0.001, 0.001), (0.001, 0.01), (0.001, 0.1)] 7\n",
      "0.001 0.0001\n"
     ]
    }
   ],
   "source": [
    "from itertools import product\n",
    "\n",
    "w_sample_sim_same_range = [1e-3]\n",
    "w_sample_sim_diff_range = [1e-7,1e-6,1e-5,1e-4,1e-3,1e-2,1e-1]\n",
    "sample_sim_weights = list(product(w_sample_sim_same_range,w_sample_sim_diff_range))\n",
    "\n",
    "print(sample_sim_weights, len(sample_sim_weights))\n",
    "index = 3\n",
    "w_sample_sim_same = sample_sim_weights[index][0]\n",
    "w_sample_sim_diff = sample_sim_weights[index][1]\n",
    "print(w_sample_sim_same, w_sample_sim_diff)"
   ]
  },
  {
   "cell_type": "markdown",
   "metadata": {},
   "source": [
    "### NOTE: Pre-trained models are provided to check the results of all the experiments if you do not have the time to train all the models. "
   ]
  },
  {
   "cell_type": "markdown",
   "metadata": {},
   "source": [
    "## Load MNIST dataset"
   ]
  },
  {
   "cell_type": "code",
   "execution_count": 6,
   "metadata": {},
   "outputs": [],
   "source": [
    "# Paths to where the trained models, figures and results will be stored. You can change this as you see fit.\n",
    "fig_path = '../figures/mnist'\n",
    "model_path = '../models/mnist'\n",
    "results_path = '../results/mnist'\n",
    "pre_trained_model_path = '../models/pre_trained'\n",
    "\n",
    "if not os.path.exists(fig_path):\n",
    "    os.mkdir(fig_path)\n",
    "if not os.path.exists(model_path):\n",
    "    os.mkdir(model_path)\n",
    "if not os.path.exists(results_path):\n",
    "    os.mkdir(results_path)    "
   ]
  },
  {
   "cell_type": "code",
   "execution_count": 7,
   "metadata": {},
   "outputs": [],
   "source": [
    "import torchvision.transforms as transforms\n",
    "\n",
    "# transforms: Convert PIL image to tensors and normalize\n",
    "mnist_transform = transforms.Compose(\n",
    "    [transforms.ToTensor(),\n",
    "    transforms.Normalize((0.1307,), (0.3081,))]) #mean and standard deviation computed from the dataset"
   ]
  },
  {
   "cell_type": "code",
   "execution_count": 8,
   "metadata": {},
   "outputs": [],
   "source": [
    "# Complete train and test data\n",
    "trainsize = 60000\n",
    "testsize = 10000"
   ]
  },
  {
   "cell_type": "code",
   "execution_count": 9,
   "metadata": {},
   "outputs": [],
   "source": [
    "batch_size = 512"
   ]
  },
  {
   "cell_type": "code",
   "execution_count": 10,
   "metadata": {},
   "outputs": [
    {
     "name": "stdout",
     "output_type": "stream",
     "text": [
      "Image shape torch.Size([1, 28, 28])\n",
      "Train samples  60000\n",
      "Test samples  10000\n"
     ]
    }
   ],
   "source": [
    "# Load data as train and test\n",
    "trainset = torchvision.datasets.MNIST('./data',\n",
    "    download=True,\n",
    "    train=True,\n",
    "    transform=mnist_transform,\n",
    "    target_transform = torch.tensor,                                 \n",
    "    )\n",
    "testset = torchvision.datasets.MNIST('./data',\n",
    "    download=True,\n",
    "    train=False,\n",
    "    transform=mnist_transform,\n",
    "    target_transform = torch.tensor,)\n",
    "\n",
    "# dataloaders\n",
    "trainloader = torch.utils.data.DataLoader(torch.utils.data.Subset(trainset, range(trainsize)), \n",
    "                                          batch_size=batch_size,\n",
    "                                          shuffle=True)\n",
    "\n",
    "testloader = torch.utils.data.DataLoader(torch.utils.data.Subset(testset, range(testsize)),\n",
    "                                         batch_size=testsize,\n",
    "                                         shuffle=False)\n",
    "num_classes = 10\n",
    "\n",
    "image, label = trainset.__getitem__(0)\n",
    "print('Image shape', image.shape)\n",
    "print('Train samples ', len(trainset))\n",
    "print('Test samples ', len(testset))\n"
   ]
  },
  {
   "cell_type": "code",
   "execution_count": 11,
   "metadata": {
    "scrolled": true,
    "tags": []
   },
   "outputs": [
    {
     "name": "stdout",
     "output_type": "stream",
     "text": [
      "Data samples\n"
     ]
    },
    {
     "data": {
      "image/png": "[encoded data removed]",
      "text/plain": [
       "<Figure size 640x480 with 1 Axes>"
      ]
     },
     "metadata": {},
     "output_type": "display_data"
    }
   ],
   "source": [
    "# create grid of images\n",
    "dataiter = iter(trainloader)\n",
    "images, labels = dataiter.next()\n",
    "img_grid = torchvision.utils.make_grid(images[0:32])\n",
    "\n",
    "print('Data samples')\n",
    "# show images\n",
    "imshow(img_grid, one_channel=True)\n"
   ]
  },
  {
   "cell_type": "markdown",
   "metadata": {},
   "source": [
    "## Define expert and gate networks"
   ]
  },
  {
   "cell_type": "code",
   "execution_count": 12,
   "metadata": {},
   "outputs": [],
   "source": [
    "# Convolutional network with one convultional layer and 2 hidden layers with ReLU activation\n",
    "class expert_layers(nn.Module):\n",
    "    def __init__(self, num_classes, channels=1):\n",
    "        super(expert_layers, self).__init__()\n",
    "        self.conv1 = nn.Conv2d(in_channels=1, out_channels=channels, kernel_size=3)\n",
    "        self.fc1 = nn.Linear(in_features=1*13*13, out_features=5) # this is a pure linear transform\n",
    "        self.fc2 = nn.Linear(in_features=5, out_features=32) # this is a pure linear transform\n",
    "        self.mp = nn.MaxPool2d(2,2)\n",
    "        self.out = nn.Linear(in_features=32, out_features=num_classes)\n",
    "        \n",
    "        self.num_classes = num_classes\n",
    "        \n",
    "    def forward(self, t):\n",
    "        # conv1\n",
    "        t = self.mp(F.relu(self.conv1(t)))\n",
    "        \n",
    "        # fc1\n",
    "        t = t.reshape(-1, 1*13*13)\n",
    "        t = F.relu(self.fc1(t))\n",
    "\n",
    "        # fc2\n",
    "        t = F.relu(self.fc2(t))\n",
    "\n",
    "        # output\n",
    "        t = F.softmax(self.out(t), dim=1)\n",
    "                \n",
    "        return t"
   ]
  },
  {
   "cell_type": "code",
   "execution_count": 36,
   "metadata": {},
   "outputs": [],
   "source": [
    "# Convolutional network with one convultional layer and 2 hidden layers with ReLU activation\n",
    "class gate_layers(nn.Module):\n",
    "    def __init__(self, num_experts):\n",
    "        super(gate_layers, self).__init__()\n",
    "        # define layers\n",
    "        self.conv1 = nn.Conv2d(in_channels=1, out_channels=1, kernel_size=3)\n",
    "        self.fc1 = nn.Linear(in_features=1*13*13, out_features=128)\n",
    "        self.fc2 = nn.Linear(in_features=128, out_features=32)\n",
    "        self.mp = nn.MaxPool2d(2,2)\n",
    "        self.out = nn.Linear(in_features=32, out_features=num_experts)\n",
    "        self.num_experts = num_experts\n",
    "        \n",
    "        self.apply(self._init_weights)\n",
    "        \n",
    "    def _init_weights(self, module):\n",
    "        if isinstance(module, nn.MaxPool2d) or isinstance(module, gate_layers):\n",
    "            return\n",
    "        module.weight.data.zero_()\n",
    "        if module.bias is not None:\n",
    "            module.bias.data.zero_()\n",
    "\n",
    "\n",
    "    def forward(self, t, T=1.0, y=None):\n",
    "        # conv 1\n",
    "        t = self.mp(F.relu(self.conv1(t)))\n",
    "        \n",
    "        # fc1\n",
    "        t = t.reshape(-1, 1*13*13)\n",
    "            \n",
    "        t = F.relu(self.fc1(t))\n",
    "\n",
    "        # fc2\n",
    "        t = F.relu(self.fc2(t))\n",
    "\n",
    "        # output expert log loss\n",
    "        t = self.out(t)\n",
    "        \n",
    "        output = F.softmax(t, dim=1)\n",
    "\n",
    "        return output\n"
   ]
  },
  {
   "cell_type": "code",
   "execution_count": 37,
   "metadata": {},
   "outputs": [],
   "source": [
    "gate = gate_layers(10)"
   ]
  },
  {
   "cell_type": "code",
   "execution_count": 38,
   "metadata": {},
   "outputs": [
    {
     "name": "stdout",
     "output_type": "stream",
     "text": [
      "Parameter containing:\n",
      "tensor([[[[0., 0., 0.],\n",
      "          [0., 0., 0.],\n",
      "          [0., 0., 0.]]]], requires_grad=True)\n",
      "Parameter containing:\n",
      "tensor([0.], requires_grad=True)\n",
      "Parameter containing:\n",
      "tensor([[0., 0., 0.,  ..., 0., 0., 0.],\n",
      "        [0., 0., 0.,  ..., 0., 0., 0.],\n",
      "        [0., 0., 0.,  ..., 0., 0., 0.],\n",
      "        ...,\n",
      "        [0., 0., 0.,  ..., 0., 0., 0.],\n",
      "        [0., 0., 0.,  ..., 0., 0., 0.],\n",
      "        [0., 0., 0.,  ..., 0., 0., 0.]], requires_grad=True)\n",
      "Parameter containing:\n",
      "tensor([0., 0., 0., 0., 0., 0., 0., 0., 0., 0., 0., 0., 0., 0., 0., 0., 0., 0., 0., 0., 0., 0., 0., 0.,\n",
      "        0., 0., 0., 0., 0., 0., 0., 0., 0., 0., 0., 0., 0., 0., 0., 0., 0., 0., 0., 0., 0., 0., 0., 0.,\n",
      "        0., 0., 0., 0., 0., 0., 0., 0., 0., 0., 0., 0., 0., 0., 0., 0., 0., 0., 0., 0., 0., 0., 0., 0.,\n",
      "        0., 0., 0., 0., 0., 0., 0., 0., 0., 0., 0., 0., 0., 0., 0., 0., 0., 0., 0., 0., 0., 0., 0., 0.,\n",
      "        0., 0., 0., 0., 0., 0., 0., 0., 0., 0., 0., 0., 0., 0., 0., 0., 0., 0., 0., 0., 0., 0., 0., 0.,\n",
      "        0., 0., 0., 0., 0., 0., 0., 0.], requires_grad=True)\n",
      "Parameter containing:\n",
      "tensor([[0., 0., 0.,  ..., 0., 0., 0.],\n",
      "        [0., 0., 0.,  ..., 0., 0., 0.],\n",
      "        [0., 0., 0.,  ..., 0., 0., 0.],\n",
      "        ...,\n",
      "        [0., 0., 0.,  ..., 0., 0., 0.],\n",
      "        [0., 0., 0.,  ..., 0., 0., 0.],\n",
      "        [0., 0., 0.,  ..., 0., 0., 0.]], requires_grad=True)\n",
      "Parameter containing:\n",
      "tensor([0., 0., 0., 0., 0., 0., 0., 0., 0., 0., 0., 0., 0., 0., 0., 0., 0., 0., 0., 0., 0., 0., 0., 0.,\n",
      "        0., 0., 0., 0., 0., 0., 0., 0.], requires_grad=True)\n",
      "Parameter containing:\n",
      "tensor([[0., 0., 0., 0., 0., 0., 0., 0., 0., 0., 0., 0., 0., 0., 0., 0., 0., 0., 0., 0., 0., 0., 0., 0.,\n",
      "         0., 0., 0., 0., 0., 0., 0., 0.],\n",
      "        [0., 0., 0., 0., 0., 0., 0., 0., 0., 0., 0., 0., 0., 0., 0., 0., 0., 0., 0., 0., 0., 0., 0., 0.,\n",
      "         0., 0., 0., 0., 0., 0., 0., 0.],\n",
      "        [0., 0., 0., 0., 0., 0., 0., 0., 0., 0., 0., 0., 0., 0., 0., 0., 0., 0., 0., 0., 0., 0., 0., 0.,\n",
      "         0., 0., 0., 0., 0., 0., 0., 0.],\n",
      "        [0., 0., 0., 0., 0., 0., 0., 0., 0., 0., 0., 0., 0., 0., 0., 0., 0., 0., 0., 0., 0., 0., 0., 0.,\n",
      "         0., 0., 0., 0., 0., 0., 0., 0.],\n",
      "        [0., 0., 0., 0., 0., 0., 0., 0., 0., 0., 0., 0., 0., 0., 0., 0., 0., 0., 0., 0., 0., 0., 0., 0.,\n",
      "         0., 0., 0., 0., 0., 0., 0., 0.],\n",
      "        [0., 0., 0., 0., 0., 0., 0., 0., 0., 0., 0., 0., 0., 0., 0., 0., 0., 0., 0., 0., 0., 0., 0., 0.,\n",
      "         0., 0., 0., 0., 0., 0., 0., 0.],\n",
      "        [0., 0., 0., 0., 0., 0., 0., 0., 0., 0., 0., 0., 0., 0., 0., 0., 0., 0., 0., 0., 0., 0., 0., 0.,\n",
      "         0., 0., 0., 0., 0., 0., 0., 0.],\n",
      "        [0., 0., 0., 0., 0., 0., 0., 0., 0., 0., 0., 0., 0., 0., 0., 0., 0., 0., 0., 0., 0., 0., 0., 0.,\n",
      "         0., 0., 0., 0., 0., 0., 0., 0.],\n",
      "        [0., 0., 0., 0., 0., 0., 0., 0., 0., 0., 0., 0., 0., 0., 0., 0., 0., 0., 0., 0., 0., 0., 0., 0.,\n",
      "         0., 0., 0., 0., 0., 0., 0., 0.],\n",
      "        [0., 0., 0., 0., 0., 0., 0., 0., 0., 0., 0., 0., 0., 0., 0., 0., 0., 0., 0., 0., 0., 0., 0., 0.,\n",
      "         0., 0., 0., 0., 0., 0., 0., 0.]], requires_grad=True)\n",
      "Parameter containing:\n",
      "tensor([0., 0., 0., 0., 0., 0., 0., 0., 0., 0.], requires_grad=True)\n"
     ]
    }
   ],
   "source": [
    "for param in gate.parameters():\n",
    "    print(param)"
   ]
  },
  {
   "cell_type": "code",
   "execution_count": 36,
   "metadata": {},
   "outputs": [],
   "source": [
    "# Convolutional network with one convultional layer and 2 hidden layers with ReLU activation\n",
    "class gate_layers_top_k(nn.Module):\n",
    "    def __init__(self, num_experts):\n",
    "        super(gate_layers_top_k, self).__init__()\n",
    "        # define layers\n",
    "        self.conv1 = nn.Conv2d(in_channels=1, out_channels=1, kernel_size=3)\n",
    "        self.fc1 = nn.Linear(in_features=1*13*13, out_features=128)\n",
    "        self.fc2 = nn.Linear(in_features=128, out_features=32)\n",
    "        self.mp = nn.MaxPool2d(2,2)\n",
    "        self.out = nn.Linear(in_features=32, out_features=num_experts)\n",
    "        self.num_experts = num_experts\n",
    "\n",
    "    def forward(self, t, T=1.0, y=None):\n",
    "        # conv 1\n",
    "        t = self.mp(F.relu(self.conv1(t)))\n",
    "        \n",
    "        # fc1\n",
    "        t = t.reshape(-1, 1*13*13)\n",
    "            \n",
    "        t = F.relu(self.fc1(t))\n",
    "\n",
    "        # fc2\n",
    "        t = F.relu(self.fc2(t))\n",
    "\n",
    "        # output expert log loss\n",
    "        t = self.out(t)\n",
    "        \n",
    "        output = t/T\n",
    "\n",
    "        return output"
   ]
  },
  {
   "cell_type": "code",
   "execution_count": 37,
   "metadata": {},
   "outputs": [],
   "source": [
    "# create a set of experts\n",
    "def experts(num_experts, num_classes, expert_layers_type=expert_layers):\n",
    "    models = []\n",
    "    for i in range(num_experts):\n",
    "        models.append(expert_layers_type(num_classes))\n",
    "    return nn.ModuleList(models)"
   ]
  },
  {
   "cell_type": "code",
   "execution_count": 38,
   "metadata": {
    "tags": []
   },
   "outputs": [],
   "source": [
    "# Convolutional network with one convultional layer and 2 hidden layers with ReLU activation. The single model has the same\n",
    "# architecture as an expert\n",
    "class single_model(nn.Module):\n",
    "    def __init__(self, num_classes=10):\n",
    "        super(single_model, self).__init__()\n",
    "        self.conv1 = nn.Conv2d(in_channels=1, out_channels=1, kernel_size=3)\n",
    "        self.fc1 = nn.Linear(in_features=1*13*13, out_features=5) # this is a pure linear transform\n",
    "        self.fc2 = nn.Linear(in_features=5, out_features=32) # this is a pure linear transform\n",
    "        \n",
    "        self.out = nn.Linear(in_features=32, out_features=num_classes)\n",
    "        \n",
    "        self.num_classes = num_classes\n",
    "        \n",
    "    def forward(self, t):\n",
    "        # conv 1\n",
    "        t = self.conv1(t)\n",
    "        \n",
    "        t = F.relu(t)\n",
    "        t = F.max_pool2d(t, kernel_size=2, stride=2)\n",
    "        # fc1\n",
    "        t = t.reshape(-1, 1*13*13)\n",
    "        t = self.fc1(t)\n",
    "        t = F.relu(t)\n",
    "\n",
    "        # fc2\n",
    "        t = self.fc2(t)\n",
    "        t = F.relu(t)\n",
    "\n",
    "        # output\n",
    "        t = F.softmax(self.out(t), dim=1)\n",
    "        \n",
    "        return t"
   ]
  },
  {
   "cell_type": "markdown",
   "metadata": {},
   "source": [
    "## Initialize configurations and helper functions"
   ]
  },
  {
   "cell_type": "code",
   "execution_count": 39,
   "metadata": {},
   "outputs": [],
   "source": [
    "# Compute accuracy of the model\n",
    "def accuracy(out, yb, mean=True):\n",
    "    preds = torch.argmax(out, dim=1).to(device, non_blocking=True)\n",
    "    if mean:\n",
    "        return (preds == yb).float().mean()\n",
    "    else:\n",
    "        return (preds == yb).float()"
   ]
  },
  {
   "cell_type": "markdown",
   "metadata": {},
   "source": [
    "## Functions to train models"
   ]
  },
  {
   "cell_type": "markdown",
   "metadata": {},
   "source": [
    "### Function to train original model with and without regularization\n",
    "\n",
    "* w_importance_range is the range of values for the $w_{importance}$ hyperparameter of the $L_{importance}$ regularization.\n",
    "* w_sample_sim_same_range is the range of values for $\\beta_s$ hyperparameter of the $L_s$ regularization.\n",
    "* w_sample_sim_diff_range is the range of values for $\\beta_d$ hyperparameter of the $L_s$ regularization."
   ]
  },
  {
   "cell_type": "code",
   "execution_count": 46,
   "metadata": {},
   "outputs": [],
   "source": [
    "def train_original_model(model_1,  model_name, k=0, trainloader=trainloader, testloader=testloader, runs=1,\n",
    "                         temps=[[1.0]*20], w_importance_range=[0.0], \n",
    "                         w_sample_sim_same_range=[0.0], w_sample_sim_diff_range=[0.0],\n",
    "                         num_classes=10, total_experts=5, num_epochs=20):\n",
    "    \n",
    "    moe_model_types = {'moe_expectation_model':(moe_expectation_model,cross_entropy_loss().to(device)),\n",
    "                       'moe_stochastic_model':(moe_stochastic_model, stochastic_loss(cross_entropy_loss).to(device)),\n",
    "                       'moe_top_1_model':(moe_top_k_model, stochastic_loss(cross_entropy_loss).to(device)),\n",
    "                       'moe_top_k_model':(moe_top_k_model, cross_entropy_loss().to(device))                 \n",
    "                      }\n",
    "\n",
    "\n",
    "    for T, w_importance, w_sample_sim_same, w_sample_sim_diff in product(temps, w_importance_range, \n",
    "                                                                                      w_sample_sim_same_range,  \n",
    "                                                                                      w_sample_sim_diff_range):\n",
    "        \n",
    "        print('w_importance','{:.1f}'.format(w_importance))\n",
    "        if w_sample_sim_same < 1:\n",
    "            print('w_sample_sim_same',str(w_sample_sim_same))\n",
    "        else:\n",
    "            print('w_sample_sim_same','{:.1f}'.format(w_sample_sim_same))\n",
    "        \n",
    "        if w_sample_sim_diff < 1:\n",
    "            print('w_sample_sim_diff',str(w_sample_sim_diff))\n",
    "        else:\n",
    "            print('w_sample_sim_diff','{:.1f}'.format(w_sample_sim_diff))\n",
    " \n",
    "        n_run_models_1 = []\n",
    "        for run in range(1,runs+1):\n",
    "\n",
    "            print('Run:', run), \n",
    "\n",
    "            models = {model_name:{'model':moe_model_types[model_name][0],'loss':moe_model_types[model_name][1],\n",
    "                                               'experts':{}},}\n",
    "\n",
    "            for key, val in models.items():\n",
    "\n",
    "                expert_models = experts(total_experts, num_classes)\n",
    "\n",
    "                gate_model = gate_layers(total_experts)\n",
    "\n",
    "                if k > 0:\n",
    "                    moe_model = val['model'](k, total_experts, num_classes,\n",
    "                                             experts=expert_models, gate=gate_model, device=device).to(device)\n",
    "                else:\n",
    "                    moe_model = val['model'](total_experts, num_classes,\n",
    "                                         experts=expert_models, gate=gate_model, device=device).to(device)\n",
    "\n",
    "                optimizer_moe = optim.Adam(moe_model.parameters(), lr=0.001, amsgrad=False)\n",
    "\n",
    "                optimizer = default_optimizer(optimizer_moe=optimizer_moe)\n",
    "                \n",
    "                hist = moe_model.train(trainloader, testloader,  val['loss'], optimizer = optimizer, T = T, \n",
    "                                       w_importance=w_importance, w_sample_sim_same = w_sample_sim_same, \n",
    "                                       w_sample_sim_diff = w_sample_sim_diff, \n",
    "                                       accuracy=accuracy, epochs=num_epochs)\n",
    "                val['experts'][total_experts] = {'model':moe_model, 'history':hist}\n",
    "            \n",
    "            plot_file = generate_plot_file(model_1, T[0], w_importance=w_importance, w_sample_sim_same=w_sample_sim_same,w_sample_sim_diff=w_sample_sim_diff,\n",
    "                                           specific=str(num_classes)+'_'+str(total_experts)+'_models.pt')\n",
    "\n",
    "            if  os.path.exists(os.path.join(model_path, plot_file)):\n",
    "                n_run_models_1 = torch.load(open(os.path.join(model_path, plot_file),'rb'))\n",
    "            n_run_models_1.append(models)\n",
    "            torch.save(n_run_models_1,open(os.path.join(model_path, plot_file),'wb'))\n",
    "            n_run_models_1 = []\n"
   ]
  },
  {
   "cell_type": "markdown",
   "metadata": {},
   "source": [
    "### Function to train the single model"
   ]
  },
  {
   "cell_type": "code",
   "execution_count": 41,
   "metadata": {
    "jupyter": {
     "source_hidden": true
    },
    "tags": []
   },
   "outputs": [],
   "source": [
    "def train_single_model(model_name, trainloader, testloader, num_classes, num_epochs, runs):\n",
    "    \n",
    "    loss_criterion = cross_entropy_loss()\n",
    "    \n",
    "    n_runs = {'models':[], 'history':[]}\n",
    "    \n",
    "    for run in range(1, runs+1):\n",
    "        \n",
    "        print('Run', run)\n",
    "        \n",
    "        model = single_model(num_classes).to(device)\n",
    "        history = {'loss':[], 'accuracy':[], 'val_accuracy':[]}\n",
    "        optimizer = optim.Adam(model.parameters(), lr=0.001, amsgrad=False)\n",
    "        \n",
    "        for epoch in range(num_epochs):\n",
    "            running_loss = 0.0\n",
    "            train_running_accuracy = 0.0\n",
    "            num_batches = 0\n",
    "\n",
    "            for inputs, labels in trainloader:\n",
    "                inputs, labels = inputs.to(device, non_blocking=True), labels.to(device, non_blocking=True)\n",
    "                outputs = model(inputs)\n",
    "\n",
    "                optimizer.zero_grad()\n",
    "                loss = loss_criterion(outputs, None, None, labels)\n",
    "\n",
    "                loss.backward()\n",
    "\n",
    "                optimizer.step()\n",
    "\n",
    "                running_loss += loss.item()\n",
    "\n",
    "                outputs = model(inputs)\n",
    "\n",
    "                acc = accuracy(outputs, labels)\n",
    "                train_running_accuracy += acc\n",
    "\n",
    "                num_batches += 1\n",
    "\n",
    "            test_running_accuracy = 0.0\n",
    "            test_num_batches = 0\n",
    "            \n",
    "            for test_inputs, test_labels in testloader:\n",
    "                test_inputs, test_labels = test_inputs.to(device, non_blocking=True), test_labels.to(device, non_blocking=True)\n",
    "                test_outputs = model(test_inputs)              \n",
    "                test_running_accuracy += accuracy(test_outputs, test_labels)\n",
    "                test_num_batches += 1\n",
    "                \n",
    "            loss = (running_loss/num_batches)\n",
    "            train_accuracy = (train_running_accuracy/num_batches)\n",
    "            test_accuracy = (test_running_accuracy/test_num_batches)\n",
    "            \n",
    "            history['loss'].append(loss)\n",
    "            history['accuracy'].append(train_accuracy.item())\n",
    "            history['val_accuracy'].append(test_accuracy.item())\n",
    "            \n",
    "            print('epoch %d' % epoch,\n",
    "                  'training loss %.2f' % loss,\n",
    "                   ', training accuracy %.2f' % train_accuracy,\n",
    "                   ', test accuracy %.2f' % test_accuracy\n",
    "                   )\n",
    "        \n",
    "        # Save all the trained models\n",
    "        plot_file = generate_plot_file(model_name, specific=str(num_classes)+'_models.pt')\n",
    "        if  os.path.exists(os.path.join(model_path, plot_file)):\n",
    "            n_runs = torch.load(open(os.path.join(model_path, plot_file),'rb'))\n",
    "        n_runs['models'].append(model)\n",
    "        n_runs['history'].append(history)        \n",
    "        torch.save(n_runs, open(os.path.join(model_path, plot_file),'wb'))\n",
    "        \n",
    "        n_runs = {'models':[], 'history':[]}"
   ]
  },
  {
   "cell_type": "markdown",
   "metadata": {
    "tags": []
   },
   "source": [
    "## Experiments"
   ]
  },
  {
   "cell_type": "markdown",
   "metadata": {
    "jp-MarkdownHeadingCollapsed": true,
    "tags": []
   },
   "source": [
    "### Experiment 1: Original MoE model trained without gate regularization"
   ]
  },
  {
   "cell_type": "code",
   "execution_count": 42,
   "metadata": {},
   "outputs": [],
   "source": [
    "total_experts = 10"
   ]
  },
  {
   "cell_type": "code",
   "execution_count": 43,
   "metadata": {},
   "outputs": [],
   "source": [
    "num_epochs = 20"
   ]
  },
  {
   "cell_type": "code",
   "execution_count": 44,
   "metadata": {},
   "outputs": [],
   "source": [
    "runs = 1"
   ]
  },
  {
   "cell_type": "code",
   "execution_count": 47,
   "metadata": {
    "scrolled": true,
    "tags": []
   },
   "outputs": [
    {
     "name": "stdout",
     "output_type": "stream",
     "text": [
      "w_importance 0.0\n",
      "w_sample_sim_same 0.0\n",
      "w_sample_sim_diff 0.0\n",
      "Run: 1\n",
      "epoch 0 training loss 0.89 , training accuracy 0.42 , test accuracy 0.69\n",
      "epoch 1 training loss 0.36 , training accuracy 0.75 , test accuracy 0.80\n",
      "epoch 2 training loss 0.28 , training accuracy 0.82 , test accuracy 0.85\n",
      "epoch 3 training loss 0.24 , training accuracy 0.86 , test accuracy 0.87\n",
      "epoch 4 training loss 0.21 , training accuracy 0.87 , test accuracy 0.87\n",
      "epoch 5 training loss 0.20 , training accuracy 0.88 , test accuracy 0.88\n",
      "epoch 6 training loss 0.19 , training accuracy 0.88 , test accuracy 0.89\n",
      "epoch 7 training loss 0.19 , training accuracy 0.89 , test accuracy 0.89\n",
      "epoch 8 training loss 0.18 , training accuracy 0.89 , test accuracy 0.89\n",
      "epoch 9 training loss 0.18 , training accuracy 0.89 , test accuracy 0.89\n",
      "epoch 10 training loss 0.17 , training accuracy 0.89 , test accuracy 0.89\n",
      "epoch 11 training loss 0.17 , training accuracy 0.90 , test accuracy 0.90\n",
      "epoch 12 training loss 0.17 , training accuracy 0.90 , test accuracy 0.90\n",
      "epoch 13 training loss 0.17 , training accuracy 0.90 , test accuracy 0.90\n",
      "epoch 14 training loss 0.17 , training accuracy 0.90 , test accuracy 0.90\n",
      "epoch 15 training loss 0.16 , training accuracy 0.90 , test accuracy 0.90\n",
      "epoch 16 training loss 0.16 , training accuracy 0.90 , test accuracy 0.90\n",
      "epoch 17 training loss 0.16 , training accuracy 0.90 , test accuracy 0.90\n",
      "epoch 18 training loss 0.16 , training accuracy 0.90 , test accuracy 0.90\n",
      "epoch 19 training loss 0.16 , training accuracy 0.90 , test accuracy 0.90\n"
     ]
    }
   ],
   "source": [
    "# Model with gate and expert parameters initialized to default values\n",
    "model_1 = 'mnist_without_reg_top_1_test'\n",
    "train_original_model(model_1, 'moe_top_1_model', 1, trainloader, testloader, runs, num_classes=num_classes, total_experts=total_experts, num_epochs=num_epochs)"
   ]
  },
  {
   "cell_type": "code",
   "execution_count": 48,
   "metadata": {},
   "outputs": [
    {
     "name": "stdout",
     "output_type": "stream",
     "text": [
      "w_importance 0.0\n",
      "w_sample_sim_same 0.0\n",
      "w_sample_sim_diff 0.0\n",
      "Run: 1\n",
      "epoch 0 training loss 1.84 , training accuracy 0.34 , test accuracy 0.66\n",
      "epoch 1 training loss 0.71 , training accuracy 0.78 , test accuracy 0.84\n",
      "epoch 2 training loss 0.51 , training accuracy 0.84 , test accuracy 0.86\n",
      "epoch 3 training loss 0.46 , training accuracy 0.86 , test accuracy 0.87\n",
      "epoch 4 training loss 0.43 , training accuracy 0.87 , test accuracy 0.88\n",
      "epoch 5 training loss 0.40 , training accuracy 0.88 , test accuracy 0.88\n",
      "epoch 6 training loss 0.39 , training accuracy 0.88 , test accuracy 0.88\n",
      "epoch 7 training loss 0.38 , training accuracy 0.89 , test accuracy 0.89\n",
      "epoch 8 training loss 0.37 , training accuracy 0.89 , test accuracy 0.89\n",
      "epoch 9 training loss 0.36 , training accuracy 0.89 , test accuracy 0.89\n",
      "epoch 10 training loss 0.35 , training accuracy 0.89 , test accuracy 0.89\n",
      "epoch 11 training loss 0.35 , training accuracy 0.89 , test accuracy 0.89\n",
      "epoch 12 training loss 0.34 , training accuracy 0.90 , test accuracy 0.89\n",
      "epoch 13 training loss 0.34 , training accuracy 0.90 , test accuracy 0.89\n",
      "epoch 14 training loss 0.34 , training accuracy 0.90 , test accuracy 0.90\n",
      "epoch 15 training loss 0.33 , training accuracy 0.90 , test accuracy 0.90\n",
      "epoch 16 training loss 0.33 , training accuracy 0.90 , test accuracy 0.90\n",
      "epoch 17 training loss 0.32 , training accuracy 0.90 , test accuracy 0.90\n",
      "epoch 18 training loss 0.32 , training accuracy 0.90 , test accuracy 0.90\n",
      "epoch 19 training loss 0.32 , training accuracy 0.90 , test accuracy 0.90\n"
     ]
    }
   ],
   "source": [
    "# Model with gate and expert parameters initialized to default values\n",
    "model_1 = 'mnist_without_reg_top_1_test'\n",
    "train_original_model(model_1, 'moe_top_k_model', 1, trainloader, testloader, runs, num_classes=num_classes, total_experts=total_experts, num_epochs=num_epochs)"
   ]
  },
  {
   "cell_type": "code",
   "execution_count": 25,
   "metadata": {},
   "outputs": [
    {
     "name": "stdout",
     "output_type": "stream",
     "text": [
      "w_importance 0.0\n",
      "w_sample_sim_same 0.0\n",
      "w_sample_sim_diff 0.0\n",
      "Run: 1\n",
      "epoch 0 training loss 0.81 , training accuracy 0.47 , test accuracy 0.73\n",
      "epoch 1 training loss 0.35 , training accuracy 0.78 , test accuracy 0.84\n",
      "epoch 2 training loss 0.22 , training accuracy 0.88 , test accuracy 0.92\n"
     ]
    },
    {
     "ename": "KeyboardInterrupt",
     "evalue": "",
     "output_type": "error",
     "traceback": [
      "\u001b[0;31m---------------------------------------------------------------------------\u001b[0m",
      "\u001b[0;31mKeyboardInterrupt\u001b[0m                         Traceback (most recent call last)",
      "Input \u001b[0;32mIn [25]\u001b[0m, in \u001b[0;36m<cell line: 3>\u001b[0;34m()\u001b[0m\n\u001b[1;32m      1\u001b[0m \u001b[38;5;66;03m# Model with gate and expert parameters initialized to default values\u001b[39;00m\n\u001b[1;32m      2\u001b[0m model_1 \u001b[38;5;241m=\u001b[39m \u001b[38;5;124m'\u001b[39m\u001b[38;5;124mmnist_without_reg_top_5_test\u001b[39m\u001b[38;5;124m'\u001b[39m\n\u001b[0;32m----> 3\u001b[0m \u001b[43mtrain_original_model\u001b[49m\u001b[43m(\u001b[49m\u001b[43mmodel_1\u001b[49m\u001b[43m,\u001b[49m\u001b[43m \u001b[49m\u001b[38;5;124;43m'\u001b[39;49m\u001b[38;5;124;43mmoe_top_k_model\u001b[39;49m\u001b[38;5;124;43m'\u001b[39;49m\u001b[43m,\u001b[49m\u001b[43m \u001b[49m\u001b[38;5;241;43m5\u001b[39;49m\u001b[43m,\u001b[49m\u001b[43m \u001b[49m\u001b[43mtrainloader\u001b[49m\u001b[43m,\u001b[49m\u001b[43m \u001b[49m\u001b[43mtestloader\u001b[49m\u001b[43m,\u001b[49m\u001b[43m \u001b[49m\u001b[43mruns\u001b[49m\u001b[43m,\u001b[49m\u001b[43m \u001b[49m\u001b[43mnum_classes\u001b[49m\u001b[38;5;241;43m=\u001b[39;49m\u001b[43mnum_classes\u001b[49m\u001b[43m,\u001b[49m\u001b[43m \u001b[49m\u001b[43mtotal_experts\u001b[49m\u001b[38;5;241;43m=\u001b[39;49m\u001b[43mtotal_experts\u001b[49m\u001b[43m,\u001b[49m\u001b[43m \u001b[49m\u001b[43mnum_epochs\u001b[49m\u001b[38;5;241;43m=\u001b[39;49m\u001b[43mnum_epochs\u001b[49m\u001b[43m)\u001b[49m\n",
      "Input \u001b[0;32mIn [19]\u001b[0m, in \u001b[0;36mtrain_original_model\u001b[0;34m(model_1, model_name, k, trainloader, testloader, runs, temps, w_importance_range, w_sample_sim_same_range, w_sample_sim_diff_range, num_classes, total_experts, num_epochs)\u001b[0m\n\u001b[1;32m     49\u001b[0m     optimizer_moe \u001b[38;5;241m=\u001b[39m optim\u001b[38;5;241m.\u001b[39mAdam(moe_model\u001b[38;5;241m.\u001b[39mparameters(), lr\u001b[38;5;241m=\u001b[39m\u001b[38;5;241m0.001\u001b[39m, amsgrad\u001b[38;5;241m=\u001b[39m\u001b[38;5;28;01mFalse\u001b[39;00m)\n\u001b[1;32m     51\u001b[0m     optimizer \u001b[38;5;241m=\u001b[39m default_optimizer(optimizer_moe\u001b[38;5;241m=\u001b[39moptimizer_moe)\n\u001b[0;32m---> 53\u001b[0m     hist \u001b[38;5;241m=\u001b[39m \u001b[43mmoe_model\u001b[49m\u001b[38;5;241;43m.\u001b[39;49m\u001b[43mtrain\u001b[49m\u001b[43m(\u001b[49m\u001b[43mtrainloader\u001b[49m\u001b[43m,\u001b[49m\u001b[43m \u001b[49m\u001b[43mtestloader\u001b[49m\u001b[43m,\u001b[49m\u001b[43m  \u001b[49m\u001b[43mval\u001b[49m\u001b[43m[\u001b[49m\u001b[38;5;124;43m'\u001b[39;49m\u001b[38;5;124;43mloss\u001b[39;49m\u001b[38;5;124;43m'\u001b[39;49m\u001b[43m]\u001b[49m\u001b[43m,\u001b[49m\u001b[43m \u001b[49m\u001b[43moptimizer\u001b[49m\u001b[43m \u001b[49m\u001b[38;5;241;43m=\u001b[39;49m\u001b[43m \u001b[49m\u001b[43moptimizer\u001b[49m\u001b[43m,\u001b[49m\u001b[43m \u001b[49m\u001b[43mT\u001b[49m\u001b[43m \u001b[49m\u001b[38;5;241;43m=\u001b[39;49m\u001b[43m \u001b[49m\u001b[43mT\u001b[49m\u001b[43m,\u001b[49m\u001b[43m \u001b[49m\n\u001b[1;32m     54\u001b[0m \u001b[43m                           \u001b[49m\u001b[43mw_importance\u001b[49m\u001b[38;5;241;43m=\u001b[39;49m\u001b[43mw_importance\u001b[49m\u001b[43m,\u001b[49m\u001b[43m \u001b[49m\u001b[43mw_sample_sim_same\u001b[49m\u001b[43m \u001b[49m\u001b[38;5;241;43m=\u001b[39;49m\u001b[43m \u001b[49m\u001b[43mw_sample_sim_same\u001b[49m\u001b[43m,\u001b[49m\u001b[43m \u001b[49m\n\u001b[1;32m     55\u001b[0m \u001b[43m                           \u001b[49m\u001b[43mw_sample_sim_diff\u001b[49m\u001b[43m \u001b[49m\u001b[38;5;241;43m=\u001b[39;49m\u001b[43m \u001b[49m\u001b[43mw_sample_sim_diff\u001b[49m\u001b[43m,\u001b[49m\u001b[43m \u001b[49m\n\u001b[1;32m     56\u001b[0m \u001b[43m                           \u001b[49m\u001b[43maccuracy\u001b[49m\u001b[38;5;241;43m=\u001b[39;49m\u001b[43maccuracy\u001b[49m\u001b[43m,\u001b[49m\u001b[43m \u001b[49m\u001b[43mepochs\u001b[49m\u001b[38;5;241;43m=\u001b[39;49m\u001b[43mnum_epochs\u001b[49m\u001b[43m)\u001b[49m\n\u001b[1;32m     57\u001b[0m     val[\u001b[38;5;124m'\u001b[39m\u001b[38;5;124mexperts\u001b[39m\u001b[38;5;124m'\u001b[39m][total_experts] \u001b[38;5;241m=\u001b[39m {\u001b[38;5;124m'\u001b[39m\u001b[38;5;124mmodel\u001b[39m\u001b[38;5;124m'\u001b[39m:moe_model, \u001b[38;5;124m'\u001b[39m\u001b[38;5;124mhistory\u001b[39m\u001b[38;5;124m'\u001b[39m:hist}\n\u001b[1;32m     59\u001b[0m plot_file \u001b[38;5;241m=\u001b[39m generate_plot_file(model_1, T[\u001b[38;5;241m0\u001b[39m], w_importance\u001b[38;5;241m=\u001b[39mw_importance, w_sample_sim_same\u001b[38;5;241m=\u001b[39mw_sample_sim_same,w_sample_sim_diff\u001b[38;5;241m=\u001b[39mw_sample_sim_diff,\n\u001b[1;32m     60\u001b[0m                                specific\u001b[38;5;241m=\u001b[39m\u001b[38;5;28mstr\u001b[39m(num_classes)\u001b[38;5;241m+\u001b[39m\u001b[38;5;124m'\u001b[39m\u001b[38;5;124m_\u001b[39m\u001b[38;5;124m'\u001b[39m\u001b[38;5;241m+\u001b[39m\u001b[38;5;28mstr\u001b[39m(total_experts)\u001b[38;5;241m+\u001b[39m\u001b[38;5;124m'\u001b[39m\u001b[38;5;124m_models.pt\u001b[39m\u001b[38;5;124m'\u001b[39m)\n",
      "File \u001b[0;32m/nobackup/projects/bdrap03/yamuna/modular_deep_learning/moe_models/moe_models_base.py:280\u001b[0m, in \u001b[0;36mmoe_models_base.train\u001b[0;34m(self, trainloader, testloader, loss_criterion, optimizer, w_importance, w_ortho, w_ideal_gate, w_sample_sim_same, w_sample_sim_diff, w_exp_gamma, T, T_decay, T_decay_start, no_gate_T, accuracy, epochs, model_name)\u001b[0m\n\u001b[1;32m    276\u001b[0m         ideal_gate_loss \u001b[38;5;241m=\u001b[39m ideal_gate_loss_criterion(gate_outputs, ideal_gate_output)\n\u001b[1;32m    277\u001b[0m         regularization \u001b[38;5;241m+\u001b[39m\u001b[38;5;241m=\u001b[39m ideal_gate_loss\n\u001b[0;32m--> 280\u001b[0m loss \u001b[38;5;241m=\u001b[39m \u001b[43moptimizer\u001b[49m\u001b[38;5;241;43m.\u001b[39;49m\u001b[43moptimise\u001b[49m\u001b[43m(\u001b[49m\u001b[38;5;28;43mself\u001b[39;49m\u001b[43m,\u001b[49m\u001b[43m \u001b[49m\u001b[43minputs\u001b[49m\u001b[43m,\u001b[49m\u001b[43m \u001b[49m\u001b[43mlabels\u001b[49m\u001b[43m,\u001b[49m\u001b[43m \u001b[49m\u001b[43moutputs\u001b[49m\u001b[43m,\u001b[49m\u001b[43m \u001b[49m\u001b[43mexpert_outputs\u001b[49m\u001b[43m,\u001b[49m\u001b[43m \u001b[49m\u001b[43mgate_outputs\u001b[49m\u001b[43m,\u001b[49m\u001b[43m  \u001b[49m\n\u001b[1;32m    281\u001b[0m \u001b[43m                 \u001b[49m\u001b[43mloss_criterion\u001b[49m\u001b[43m,\u001b[49m\u001b[43m \u001b[49m\u001b[43mregularization\u001b[49m\u001b[43m,\u001b[49m\u001b[43m \u001b[49m\u001b[43mepoch\u001b[49m\u001b[43m)\u001b[49m\n\u001b[1;32m    282\u001b[0m \u001b[38;5;28;01mif\u001b[39;00m \u001b[38;5;129;01mnot\u001b[39;00m T[epoch] \u001b[38;5;241m==\u001b[39m \u001b[38;5;241m1.0\u001b[39m:\n\u001b[1;32m    283\u001b[0m    loss, gate_probabilities_batch_high_T \u001b[38;5;241m=\u001b[39m optimizer\u001b[38;5;241m.\u001b[39mgate_probabilities_batch_high_T\n",
      "File \u001b[0;32m/nobackup/projects/bdrap03/yamuna/modular_deep_learning/moe_models/moe_models_base.py:60\u001b[0m, in \u001b[0;36mdefault_optimizer.optimise\u001b[0;34m(self, model, inputs, labels, outputs, expert_outputs, gate_outputs, loss_criterion, regularization, T)\u001b[0m\n\u001b[1;32m     56\u001b[0m \u001b[38;5;28;01mdef\u001b[39;00m \u001b[38;5;21moptimise\u001b[39m(\u001b[38;5;28mself\u001b[39m, model\u001b[38;5;241m=\u001b[39m\u001b[38;5;28;01mNone\u001b[39;00m, inputs\u001b[38;5;241m=\u001b[39m\u001b[38;5;28;01mNone\u001b[39;00m, labels\u001b[38;5;241m=\u001b[39m\u001b[38;5;28;01mNone\u001b[39;00m, outputs\u001b[38;5;241m=\u001b[39m\u001b[38;5;28;01mNone\u001b[39;00m, expert_outputs\u001b[38;5;241m=\u001b[39m\u001b[38;5;28;01mNone\u001b[39;00m, gate_outputs\u001b[38;5;241m=\u001b[39m\u001b[38;5;28;01mNone\u001b[39;00m, \n\u001b[1;32m     57\u001b[0m              loss_criterion\u001b[38;5;241m=\u001b[39m\u001b[38;5;28;01mNone\u001b[39;00m, regularization\u001b[38;5;241m=\u001b[39m\u001b[38;5;241m0.0\u001b[39m, T\u001b[38;5;241m=\u001b[39m\u001b[38;5;241m1.0\u001b[39m):\n\u001b[1;32m     58\u001b[0m     \u001b[38;5;66;03m# zero the parameter gradients\u001b[39;00m\n\u001b[1;32m     59\u001b[0m     \u001b[38;5;28mself\u001b[39m\u001b[38;5;241m.\u001b[39moptimizer_moe\u001b[38;5;241m.\u001b[39mzero_grad(set_to_none\u001b[38;5;241m=\u001b[39m\u001b[38;5;28;01mTrue\u001b[39;00m)\n\u001b[0;32m---> 60\u001b[0m     loss \u001b[38;5;241m=\u001b[39m \u001b[43mloss_criterion\u001b[49m\u001b[43m(\u001b[49m\u001b[43moutputs\u001b[49m\u001b[43m,\u001b[49m\u001b[43m \u001b[49m\u001b[43mexpert_outputs\u001b[49m\u001b[43m,\u001b[49m\u001b[43m \u001b[49m\u001b[43mgate_outputs\u001b[49m\u001b[43m,\u001b[49m\u001b[43m \u001b[49m\u001b[43mlabels\u001b[49m\u001b[43m)\u001b[49m\n\u001b[1;32m     61\u001b[0m     \u001b[38;5;28;01mif\u001b[39;00m \u001b[38;5;129;01mnot\u001b[39;00m regularization \u001b[38;5;241m==\u001b[39m \u001b[38;5;241m0\u001b[39m: \n\u001b[1;32m     62\u001b[0m         loss \u001b[38;5;241m+\u001b[39m\u001b[38;5;241m=\u001b[39m regularization   \n",
      "File \u001b[0;32m/nobackup/projects/bdrap03/yamuna/miniconda/envs/mnn/lib/python3.9/site-packages/torch/nn/modules/module.py:1102\u001b[0m, in \u001b[0;36mModule._call_impl\u001b[0;34m(self, *input, **kwargs)\u001b[0m\n\u001b[1;32m   1098\u001b[0m \u001b[38;5;66;03m# If we don't have any hooks, we want to skip the rest of the logic in\u001b[39;00m\n\u001b[1;32m   1099\u001b[0m \u001b[38;5;66;03m# this function, and just call forward.\u001b[39;00m\n\u001b[1;32m   1100\u001b[0m \u001b[38;5;28;01mif\u001b[39;00m \u001b[38;5;129;01mnot\u001b[39;00m (\u001b[38;5;28mself\u001b[39m\u001b[38;5;241m.\u001b[39m_backward_hooks \u001b[38;5;129;01mor\u001b[39;00m \u001b[38;5;28mself\u001b[39m\u001b[38;5;241m.\u001b[39m_forward_hooks \u001b[38;5;129;01mor\u001b[39;00m \u001b[38;5;28mself\u001b[39m\u001b[38;5;241m.\u001b[39m_forward_pre_hooks \u001b[38;5;129;01mor\u001b[39;00m _global_backward_hooks\n\u001b[1;32m   1101\u001b[0m         \u001b[38;5;129;01mor\u001b[39;00m _global_forward_hooks \u001b[38;5;129;01mor\u001b[39;00m _global_forward_pre_hooks):\n\u001b[0;32m-> 1102\u001b[0m     \u001b[38;5;28;01mreturn\u001b[39;00m \u001b[43mforward_call\u001b[49m\u001b[43m(\u001b[49m\u001b[38;5;241;43m*\u001b[39;49m\u001b[38;5;28;43minput\u001b[39;49m\u001b[43m,\u001b[49m\u001b[43m \u001b[49m\u001b[38;5;241;43m*\u001b[39;49m\u001b[38;5;241;43m*\u001b[39;49m\u001b[43mkwargs\u001b[49m\u001b[43m)\u001b[49m\n\u001b[1;32m   1103\u001b[0m \u001b[38;5;66;03m# Do not call functions when jit is used\u001b[39;00m\n\u001b[1;32m   1104\u001b[0m full_backward_hooks, non_full_backward_hooks \u001b[38;5;241m=\u001b[39m [], []\n",
      "File \u001b[0;32m/nobackup/projects/bdrap03/yamuna/modular_deep_learning/helper/moe_models.py:55\u001b[0m, in \u001b[0;36mstochastic_loss.forward\u001b[0;34m(self, outputs, expert_outputs, gate_outputs, target)\u001b[0m\n\u001b[1;32m     53\u001b[0m expected_loss \u001b[38;5;241m=\u001b[39m []\n\u001b[1;32m     54\u001b[0m \u001b[38;5;28;01mfor\u001b[39;00m i \u001b[38;5;129;01min\u001b[39;00m \u001b[38;5;28mrange\u001b[39m(num_experts):\n\u001b[0;32m---> 55\u001b[0m     loss \u001b[38;5;241m=\u001b[39m \u001b[38;5;28;43mself\u001b[39;49m\u001b[38;5;241;43m.\u001b[39;49m\u001b[43mloss_criterion\u001b[49m\u001b[43m(\u001b[49m\u001b[43mexpert_outputs\u001b[49m\u001b[43m[\u001b[49m\u001b[43m:\u001b[49m\u001b[43m,\u001b[49m\u001b[43mi\u001b[49m\u001b[43m,\u001b[49m\u001b[43m:\u001b[49m\u001b[43m]\u001b[49m\u001b[43m,\u001b[49m\u001b[43m \u001b[49m\u001b[38;5;28;43;01mNone\u001b[39;49;00m\u001b[43m,\u001b[49m\u001b[43m \u001b[49m\u001b[38;5;28;43;01mNone\u001b[39;49;00m\u001b[43m,\u001b[49m\u001b[43m \u001b[49m\u001b[43mtarget\u001b[49m\u001b[43m)\u001b[49m\n\u001b[1;32m     56\u001b[0m     expected_loss\u001b[38;5;241m.\u001b[39mappend(gate_outputs[:,i]\u001b[38;5;241m*\u001b[39mtorch\u001b[38;5;241m.\u001b[39mexp(\u001b[38;5;241m-\u001b[39m\u001b[38;5;241m0.5\u001b[39m\u001b[38;5;241m*\u001b[39mloss))\n\u001b[1;32m     57\u001b[0m     \u001b[38;5;66;03m# print('torch.exp(-0.5*loss)',torch.exp(-0.5*loss))\u001b[39;00m\n",
      "File \u001b[0;32m/nobackup/projects/bdrap03/yamuna/miniconda/envs/mnn/lib/python3.9/site-packages/torch/nn/modules/module.py:1102\u001b[0m, in \u001b[0;36mModule._call_impl\u001b[0;34m(self, *input, **kwargs)\u001b[0m\n\u001b[1;32m   1098\u001b[0m \u001b[38;5;66;03m# If we don't have any hooks, we want to skip the rest of the logic in\u001b[39;00m\n\u001b[1;32m   1099\u001b[0m \u001b[38;5;66;03m# this function, and just call forward.\u001b[39;00m\n\u001b[1;32m   1100\u001b[0m \u001b[38;5;28;01mif\u001b[39;00m \u001b[38;5;129;01mnot\u001b[39;00m (\u001b[38;5;28mself\u001b[39m\u001b[38;5;241m.\u001b[39m_backward_hooks \u001b[38;5;129;01mor\u001b[39;00m \u001b[38;5;28mself\u001b[39m\u001b[38;5;241m.\u001b[39m_forward_hooks \u001b[38;5;129;01mor\u001b[39;00m \u001b[38;5;28mself\u001b[39m\u001b[38;5;241m.\u001b[39m_forward_pre_hooks \u001b[38;5;129;01mor\u001b[39;00m _global_backward_hooks\n\u001b[1;32m   1101\u001b[0m         \u001b[38;5;129;01mor\u001b[39;00m _global_forward_hooks \u001b[38;5;129;01mor\u001b[39;00m _global_forward_pre_hooks):\n\u001b[0;32m-> 1102\u001b[0m     \u001b[38;5;28;01mreturn\u001b[39;00m \u001b[43mforward_call\u001b[49m\u001b[43m(\u001b[49m\u001b[38;5;241;43m*\u001b[39;49m\u001b[38;5;28;43minput\u001b[39;49m\u001b[43m,\u001b[49m\u001b[43m \u001b[49m\u001b[38;5;241;43m*\u001b[39;49m\u001b[38;5;241;43m*\u001b[39;49m\u001b[43mkwargs\u001b[49m\u001b[43m)\u001b[49m\n\u001b[1;32m   1103\u001b[0m \u001b[38;5;66;03m# Do not call functions when jit is used\u001b[39;00m\n\u001b[1;32m   1104\u001b[0m full_backward_hooks, non_full_backward_hooks \u001b[38;5;241m=\u001b[39m [], []\n",
      "File \u001b[0;32m/nobackup/projects/bdrap03/yamuna/modular_deep_learning/helper/moe_models.py:22\u001b[0m, in \u001b[0;36mcross_entropy_loss.forward\u001b[0;34m(self, outputs, expert_outputs, gate_outputs, targets)\u001b[0m\n\u001b[1;32m     20\u001b[0m eps\u001b[38;5;241m=\u001b[39m\u001b[38;5;241m1e-15\u001b[39m\n\u001b[1;32m     21\u001b[0m logp \u001b[38;5;241m=\u001b[39m torch\u001b[38;5;241m.\u001b[39mlog(outputs\u001b[38;5;241m+\u001b[39meps)\n\u001b[0;32m---> 22\u001b[0m crossentropy_loss \u001b[38;5;241m=\u001b[39m \u001b[38;5;28;43mself\u001b[39;49m\u001b[38;5;241;43m.\u001b[39;49m\u001b[43mcriterion\u001b[49m(logp, targets)\n\u001b[1;32m     23\u001b[0m \u001b[38;5;66;03m# print('crossentropy_loss', crossentropy_loss)\u001b[39;00m\n\u001b[1;32m     24\u001b[0m \u001b[38;5;28;01mreturn\u001b[39;00m crossentropy_loss\n",
      "File \u001b[0;32m/nobackup/projects/bdrap03/yamuna/miniconda/envs/mnn/lib/python3.9/site-packages/torch/nn/modules/module.py:1174\u001b[0m, in \u001b[0;36mModule.__getattr__\u001b[0;34m(self, name)\u001b[0m\n\u001b[1;32m   1172\u001b[0m         \u001b[38;5;28;01mreturn\u001b[39;00m _buffers[name]\n\u001b[1;32m   1173\u001b[0m \u001b[38;5;28;01mif\u001b[39;00m \u001b[38;5;124m'\u001b[39m\u001b[38;5;124m_modules\u001b[39m\u001b[38;5;124m'\u001b[39m \u001b[38;5;129;01min\u001b[39;00m \u001b[38;5;28mself\u001b[39m\u001b[38;5;241m.\u001b[39m\u001b[38;5;18m__dict__\u001b[39m:\n\u001b[0;32m-> 1174\u001b[0m     modules \u001b[38;5;241m=\u001b[39m \u001b[38;5;28;43mself\u001b[39;49m\u001b[38;5;241;43m.\u001b[39;49m\u001b[38;5;18;43m__dict__\u001b[39;49m\u001b[43m[\u001b[49m\u001b[38;5;124;43m'\u001b[39;49m\u001b[38;5;124;43m_modules\u001b[39;49m\u001b[38;5;124;43m'\u001b[39;49m\u001b[43m]\u001b[49m\n\u001b[1;32m   1175\u001b[0m     \u001b[38;5;28;01mif\u001b[39;00m name \u001b[38;5;129;01min\u001b[39;00m modules:\n\u001b[1;32m   1176\u001b[0m         \u001b[38;5;28;01mreturn\u001b[39;00m modules[name]\n",
      "\u001b[0;31mKeyboardInterrupt\u001b[0m: "
     ]
    }
   ],
   "source": [
    "# Model with gate and expert parameters initialized to default values\n",
    "model_1 = 'mnist_without_reg_top_5_test'\n",
    "train_original_model(model_1, 'moe_top_k_model', 5, trainloader, testloader, runs, num_classes=num_classes, total_experts=total_experts, num_epochs=num_epochs)"
   ]
  },
  {
   "cell_type": "code",
   "execution_count": null,
   "metadata": {
    "scrolled": true,
    "tags": []
   },
   "outputs": [],
   "source": [
    "# Model with gate and expert parameters initialized to default values\n",
    "model_1 = 'mnist_without_reg_stochastic'\n",
    "train_original_model(model_1, 'moe_stochastic_model', trainloader, testloader, runs, num_classes=num_classes, total_experts=total_experts, num_epochs=num_epochs)"
   ]
  },
  {
   "cell_type": "code",
   "execution_count": null,
   "metadata": {
    "scrolled": true,
    "tags": []
   },
   "outputs": [],
   "source": [
    "# Model with gate and expert parameters initialized to default values\n",
    "model_1 = 'mnist_without_reg_top_2'\n",
    "train_original_model(model_1, 'moe_top_2_model', 2, trainloader, testloader, runs, num_classes=num_classes, total_experts=total_experts, num_epochs=num_epochs)"
   ]
  },
  {
   "cell_type": "code",
   "execution_count": null,
   "metadata": {
    "scrolled": true,
    "tags": []
   },
   "outputs": [],
   "source": [
    "# Model with gate and expert parameters initialized to default values\n",
    "for k in range(3,num_classes):\n",
    "    model_1 = 'mnist_without_reg_top_'+str(k)\n",
    "    train_original_model(model_1, 'moe_top_'+str(k)+'_model', k, trainloader, testloader, runs, num_classes=num_classes, total_experts=total_experts, num_epochs=num_epochs)"
   ]
  },
  {
   "cell_type": "markdown",
   "metadata": {
    "tags": []
   },
   "source": [
    "### Experiment 2: Original MoE model trained with $L_{importance}$ regularization"
   ]
  },
  {
   "cell_type": "code",
   "execution_count": null,
   "metadata": {},
   "outputs": [],
   "source": [
    "# Model with gate and expert parameters initialized to default values\n",
    "model_2 = 'mnist_with_reg_hidden_32_test'"
   ]
  },
  {
   "cell_type": "code",
   "execution_count": null,
   "metadata": {},
   "outputs": [],
   "source": [
    "total_experts = 5"
   ]
  },
  {
   "cell_type": "code",
   "execution_count": null,
   "metadata": {},
   "outputs": [],
   "source": [
    "num_epochs = 20"
   ]
  },
  {
   "cell_type": "code",
   "execution_count": null,
   "metadata": {
    "tags": []
   },
   "outputs": [],
   "source": [
    "w_importance_range = [i * 0.2 for i in range(1, 6)]\n",
    "w_importance_range = [0.2,1.0]\n",
    "print('w_importance_range = ', ['{:.1f}'.format(w) for w in w_importance_range])"
   ]
  },
  {
   "cell_type": "code",
   "execution_count": null,
   "metadata": {},
   "outputs": [],
   "source": [
    "runs = 1"
   ]
  },
  {
   "cell_type": "code",
   "execution_count": null,
   "metadata": {
    "scrolled": true,
    "tags": []
   },
   "outputs": [],
   "source": [
    "train_original_model(model_2, trainloader, testloader, runs, w_importance_range=w_importance_range, num_classes=num_classes, \n",
    "                     total_experts=total_experts, num_epochs=num_epochs)"
   ]
  },
  {
   "cell_type": "markdown",
   "metadata": {
    "tags": []
   },
   "source": [
    "### Experiment 3: Original MoE model trained with sample similarity regularization, $L_s$"
   ]
  },
  {
   "cell_type": "code",
   "execution_count": null,
   "metadata": {},
   "outputs": [],
   "source": [
    "# Model with gate and expert parameters initialized to default values\n",
    "model_3 = 'mnist_with_reg_hidden_32'"
   ]
  },
  {
   "cell_type": "code",
   "execution_count": null,
   "metadata": {},
   "outputs": [],
   "source": [
    "total_experts = 15"
   ]
  },
  {
   "cell_type": "code",
   "execution_count": null,
   "metadata": {},
   "outputs": [],
   "source": [
    "num_epochs = 20"
   ]
  },
  {
   "cell_type": "code",
   "execution_count": null,
   "metadata": {},
   "outputs": [],
   "source": [
    "w_sample_sim_same_range = [1e-6, 1e-5]\n",
    "w_sample_sim_diff_range = [1e-6,1e-5,1e-4,1e-3,1e-2,1e-1]\n",
    "w_sample_sim_same_range = [1e-6]\n",
    "w_sample_sim_diff_range = [1e-6]\n",
    "print('w_sample_sim_same_range = ', w_sample_sim_same_range)\n",
    "print('w_sample_sim_diff_range = ', w_sample_sim_diff_range)"
   ]
  },
  {
   "cell_type": "code",
   "execution_count": null,
   "metadata": {},
   "outputs": [],
   "source": [
    "runs = 1"
   ]
  },
  {
   "cell_type": "code",
   "execution_count": null,
   "metadata": {
    "scrolled": true,
    "tags": []
   },
   "outputs": [],
   "source": [
    "train_original_model(model_3, trainloader, testloader, runs, \n",
    "                     w_sample_sim_same_range=w_sample_sim_same_range, w_sample_sim_diff_range=w_sample_sim_diff_range, \n",
    "                     num_classes=num_classes, total_experts=total_experts, num_epochs=num_epochs)"
   ]
  },
  {
   "cell_type": "markdown",
   "metadata": {
    "tags": []
   },
   "source": [
    "### Experiment 4: Training the single model"
   ]
  },
  {
   "cell_type": "code",
   "execution_count": null,
   "metadata": {},
   "outputs": [],
   "source": [
    "model_4 = 'mnist_single_model_hidden_32'"
   ]
  },
  {
   "cell_type": "code",
   "execution_count": null,
   "metadata": {},
   "outputs": [],
   "source": [
    "num_epochs = 20"
   ]
  },
  {
   "cell_type": "code",
   "execution_count": null,
   "metadata": {},
   "outputs": [],
   "source": [
    "runs = 10"
   ]
  },
  {
   "cell_type": "code",
   "execution_count": null,
   "metadata": {
    "scrolled": true,
    "tags": []
   },
   "outputs": [],
   "source": [
    "train_single_model(model_4, trainloader, testloader, num_classes, num_epochs, runs)"
   ]
  },
  {
   "cell_type": "markdown",
   "metadata": {
    "tags": []
   },
   "source": [
    "## Results"
   ]
  },
  {
   "cell_type": "markdown",
   "metadata": {},
   "source": [
    "### Collect the train error, test error for the trained single models and store in the '../results/mnist_results.csv' file."
   ]
  },
  {
   "cell_type": "code",
   "execution_count": null,
   "metadata": {},
   "outputs": [],
   "source": [
    "import csv\n",
    "\n",
    "m = 'mnist_single_model_hidden_32'\n",
    "plot_file = generate_plot_file(m, specific=str(num_classes)+'_models.pt')\n",
    "\n",
    "# loading model from pre_trained_model_path. Change this to model_path to use models you train\n",
    "models = torch.load(open(os.path.join(pre_trained_model_path,'mnist', plot_file),'rb'), map_location=device)\n",
    "\n",
    "filename = os.path.join(results_path, 'mnist_results.csv')\n",
    "\n",
    "if os.path.exists(filename):\n",
    "    p = 'a'\n",
    "else:\n",
    "    p = 'w'\n",
    "        \n",
    "header = ['filename', 'train error', 'test error','mutual information', 'sample entropy', 'expert usage']\n",
    "    \n",
    "with open(filename, p) as f:\n",
    "    writer = csv.writer(f)        \n",
    "\n",
    "    if p == 'w':            \n",
    "        writer.writerow(header)\n",
    "    for i, model in enumerate(models['models']):\n",
    "        data = ['']*5\n",
    "        data[0] = m+'_'+str(i)\n",
    "        running_test_accuracy = 0.0\n",
    "        num_batches = 0\n",
    "        train_error = 1-models['history'][i]['accuracy'][-1]\n",
    "        data[1] = train_error\n",
    "        for test_inputs, test_labels in testloader:\n",
    "            test_inputs, test_labels = test_inputs.to(device, non_blocking=True), test_labels.to(device, non_blocking=True)                \n",
    "            outputs = model(test_inputs)\n",
    "            running_test_accuracy += accuracy(outputs, test_labels)\n",
    "            num_batches += 1\n",
    "        test_error = 1-(running_test_accuracy/num_batches)\n",
    "        data[2] = test_error.item()\n",
    "        \n",
    "        writer.writerow(data)\n"
   ]
  },
  {
   "cell_type": "code",
   "execution_count": null,
   "metadata": {},
   "outputs": [],
   "source": [
    "import sys\n",
    "sys.path.append('../src/mnist')"
   ]
  },
  {
   "cell_type": "code",
   "execution_count": null,
   "metadata": {},
   "outputs": [],
   "source": [
    "pre_trained_model_path=model_path"
   ]
  },
  {
   "cell_type": "code",
   "execution_count": null,
   "metadata": {},
   "outputs": [],
   "source": [
    "m='mnist_without_reg_top_10'\n",
    "total_experts = 10\n",
    "classes = range(num_classes)\n",
    "num_epochs = 20\n",
    "temps=[[1]*num_epochs]\n",
    "test_loader = testloader\n",
    "\n",
    "w_importance_range = [0.0]\n",
    "\n",
    "plot_expert_usage(m, test_loader, temps=temps,\n",
    "                  w_importance_range=w_importance_range,\n",
    "                  total_experts=total_experts,num_classes=num_classes,\n",
    "                  classes=classes, num_epochs=num_epochs, fig_path=fig_path, model_path=pre_trained_model_path, dataset='mnist', device=device)"
   ]
  },
  {
   "cell_type": "code",
   "execution_count": null,
   "metadata": {},
   "outputs": [],
   "source": []
  }
 ],
 "metadata": {
  "@webio": {
   "lastCommId": null,
   "lastKernelId": null
  },
  "kernelspec": {
   "display_name": "mnn",
   "language": "python",
   "name": "mnn"
  },
  "language_info": {
   "codemirror_mode": {
    "name": "ipython",
    "version": 3
   },
   "file_extension": ".py",
   "mimetype": "text/x-python",
   "name": "python",
   "nbconvert_exporter": "python",
   "pygments_lexer": "ipython3",
   "version": "3.9.13"
  },
  "latex_envs": {
   "LaTeX_envs_menu_present": true,
   "autoclose": false,
   "autocomplete": true,
   "bibliofile": "biblio.bib",
   "cite_by": "apalike",
   "current_citInitial": 1,
   "eqLabelWithNumbers": true,
   "eqNumInitial": 1,
   "hotkeys": {
    "equation": "Ctrl-E",
    "itemize": "Ctrl-I"
   },
   "labels_anchors": false,
   "latex_user_defs": false,
   "report_style_numbering": false,
   "user_envs_cfg": false
  }
 },
 "nbformat": 4,
 "nbformat_minor": 4
}
