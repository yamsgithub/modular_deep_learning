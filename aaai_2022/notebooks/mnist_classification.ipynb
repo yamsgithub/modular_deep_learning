{
 "cells": [
  {
   "cell_type": "markdown",
   "metadata": {},
   "source": [
    "# Preliminary Experiments to Analyse Task Decompositions in MoE Model for MNIST Dataset"
   ]
  },
  {
   "cell_type": "markdown",
   "metadata": {},
   "source": [
    "In this notebook we run experiments, as detailed in the figure below, to analyse task decomposition in MoE models and if there is a training or error advantage for bad decompositions.\n",
    "\n",
    "![](../figures/exp_flow.png)"
   ]
  },
  {
   "cell_type": "code",
   "execution_count": null,
   "metadata": {},
   "outputs": [],
   "source": [
    "import time\n",
    "import numpy as np\n",
    "import matplotlib.pyplot as plt\n",
    "import matplotlib.cm as cm  # colormaps\n",
    "\n",
    "%matplotlib inline"
   ]
  },
  {
   "cell_type": "code",
   "execution_count": null,
   "metadata": {},
   "outputs": [],
   "source": [
    "import seaborn as sns\n",
    "import numpy as np\n",
    "from statistics import mean\n",
    "from math import ceil, sin, cos, radians\n",
    "from collections import OrderedDict\n",
    "import os\n",
    "import pandas as pd\n",
    "from pprint import pprint\n",
    "from copy import deepcopy"
   ]
  },
  {
   "cell_type": "code",
   "execution_count": null,
   "metadata": {},
   "outputs": [],
   "source": [
    "import torch\n",
    "import torchvision\n",
    "import torch.nn as nn\n",
    "import torch.nn.functional as F\n",
    "import torch.optim as optim\n",
    "from torch.utils.data import TensorDataset\n",
    "import torchvision.transforms.functional as TF"
   ]
  },
  {
   "cell_type": "code",
   "execution_count": null,
   "metadata": {
    "scrolled": true,
    "tags": []
   },
   "outputs": [],
   "source": [
    "# !pip3 install continuum"
   ]
  },
  {
   "cell_type": "code",
   "execution_count": null,
   "metadata": {},
   "outputs": [
    {
     "name": "stdout",
     "output_type": "stream",
     "text": [
      "device cuda:0\n"
     ]
    }
   ],
   "source": [
    "if torch.cuda.is_available():\n",
    "    device = torch.device(\"cuda:0\")\n",
    "    print('device', device)\n",
    "else:\n",
    "    device = torch.device(\"cpu\")\n",
    "    print('device', device)"
   ]
  },
  {
   "cell_type": "code",
   "execution_count": null,
   "metadata": {},
   "outputs": [],
   "source": [
    "# import MoE expectation model. All experiments for this dataset are done with the expectation model as it\n",
    "# provides the best guarantee of interpretable task decompositions\n",
    "from moe_models.moe_expectation_model import moe_expectation_model\n",
    "from helper.moe_models import cross_entropy_loss\n",
    "from helper.visualise_results import *"
   ]
  },
  {
   "cell_type": "markdown",
   "metadata": {},
   "source": [
    "### NOTE: Pre-trained models are provided to check the results of all the experiments if you do not have the time to train all the models. They are in the folder \\\\$root/models/pre_trained . You can either copy them to the \\\\$root/models folder or load them directly from the pre_trained folder (just make sure you use the correct folder)."
   ]
  },
  {
   "cell_type": "markdown",
   "metadata": {},
   "source": [
    "## Load MNIST dataset"
   ]
  },
  {
   "cell_type": "code",
   "execution_count": null,
   "metadata": {},
   "outputs": [],
   "source": [
    "# Paths to where the trained models and figures will be stored. You can change this as you see fit.\n",
    "fig_path = '../figures/mnist'\n",
    "model_path = '../models/mnist'\n",
    "results_path = '../results/mnist'\n",
    "pre_trained_model_path = '../models/pre_trained'\n",
    "\n",
    "if not os.path.exists(fig_path):\n",
    "    os.mkdir(fig_path)\n",
    "if not os.path.exists(model_path):\n",
    "    os.mkdir(model_path)\n",
    "if not os.path.exists(results_path):\n",
    "    os.mkdir(results_path)        "
   ]
  },
  {
   "cell_type": "code",
   "execution_count": null,
   "metadata": {},
   "outputs": [],
   "source": [
    "import torchvision.transforms as transforms\n",
    "\n",
    "# transforms: Convert PIL image to tensors and normalize\n",
    "transform = transforms.Compose(\n",
    "    [transforms.ToTensor(),\n",
    "    transforms.Normalize((0.5,), (0.5,))]) "
   ]
  },
  {
   "cell_type": "code",
   "execution_count": null,
   "metadata": {},
   "outputs": [],
   "source": [
    "# Set train and test size\n",
    "trainsize = 10000\n",
    "testsize = 2000"
   ]
  },
  {
   "cell_type": "code",
   "execution_count": null,
   "metadata": {},
   "outputs": [],
   "source": [
    "batch_size = 64"
   ]
  },
  {
   "cell_type": "code",
   "execution_count": null,
   "metadata": {},
   "outputs": [
    {
     "name": "stdout",
     "output_type": "stream",
     "text": [
      "Image shape torch.Size([1, 28, 28])\n",
      "Train samples  60000\n",
      "Test samples  10000\n"
     ]
    }
   ],
   "source": [
    "# Load and split data as train and test\n",
    "trainset = torchvision.datasets.MNIST('./data',\n",
    "    download=True,\n",
    "    train=True,\n",
    "    transform=transform)\n",
    "testset = torchvision.datasets.MNIST('./data',\n",
    "    download=True,\n",
    "    train=False,\n",
    "    transform=transform)\n",
    "\n",
    "# dataloaders\n",
    "trainloader = torch.utils.data.DataLoader(torch.utils.data.Subset(trainset, range(0,trainsize)), \n",
    "                                          batch_size=batch_size,\n",
    "                                          shuffle=True)\n",
    "testloader = torch.utils.data.DataLoader(torch.utils.data.Subset(testset, range(0,testsize)),\n",
    "                                         batch_size=testsize,\n",
    "                                         shuffle=False)\n",
    "num_classes = 10\n",
    "\n",
    "image, label = trainset.__getitem__(0)\n",
    "print('Image shape', image.shape)\n",
    "print('Train samples ', len(trainset))\n",
    "print('Test samples ', len(testset))"
   ]
  },
  {
   "cell_type": "code",
   "execution_count": null,
   "metadata": {},
   "outputs": [],
   "source": [
    "# helper function to show an image\n",
    "# (used in the `plot_classes_preds` function below)\n",
    "def imshow(img, one_channel=False, filename=None, ax=None):\n",
    "    if one_channel:\n",
    "        img = img.mean(dim=0)\n",
    "    img = img / 2 + 0.5     # unnormalize\n",
    "    npimg = img.cpu().numpy()\n",
    "    if one_channel:\n",
    "        if ax is None: \n",
    "            plt.imshow(npimg, cmap=\"Greys\")\n",
    "        else:\n",
    "            ax.imshow(npimg, cmap=\"Greys\")\n",
    "        plt.tight_layout()\n",
    "    else:\n",
    "        plt.imshow(np.transpose(npimg, (1, 2, 0)))\n",
    "    if not filename is None:\n",
    "        plt.savefig(filename)"
   ]
  },
  {
   "cell_type": "code",
   "execution_count": null,
   "metadata": {},
   "outputs": [
    {
     "name": "stdout",
     "output_type": "stream",
     "text": [
      "torch.Size([512, 1, 28, 28])\n",
      "Data samples\n"
     ]
    },
    {
     "data": {
      "image/png": "[encoded data removed]",
      "text/plain": [
       "<Figure size 640x480 with 1 Axes>"
      ]
     },
     "metadata": {},
     "output_type": "display_data"
    }
   ],
   "source": [
    "# get some random training images\n",
    "dataiter = iter(trainloader)\n",
    "images, labels = dataiter.next()\n",
    "print(images.shape)\n",
    "# create grid of images\n",
    "img_grid = torchvision.utils.make_grid(images[0:32])\n",
    "\n",
    "print('Data samples')\n",
    "# show images\n",
    "imshow(img_grid, one_channel=True)\n"
   ]
  },
  {
   "cell_type": "markdown",
   "metadata": {},
   "source": [
    "## Define expert and gate networks"
   ]
  },
  {
   "cell_type": "code",
   "execution_count": null,
   "metadata": {},
   "outputs": [],
   "source": [
    "# Convolutional network with one convultional layer and 2 hidden layers with ReLU activation\n",
    "class expert_layers(nn.Module):\n",
    "    def __init__(self, num_classes=10, channels=1):\n",
    "        super(expert_layers, self).__init__()\n",
    "        self.conv1 = nn.Conv2d(in_channels=1, out_channels=channels, kernel_size=3)\n",
    "        self.fc1 = nn.Linear(in_features=1*13*13, out_features=5) # this is a pure linear transform\n",
    "        self.fc2 = nn.Linear(in_features=5, out_features=32) # this is a pure linear transform\n",
    "        \n",
    "        self.out = nn.Linear(in_features=32, out_features=num_classes)\n",
    "        \n",
    "        self.num_classes = num_classes\n",
    "        \n",
    "    def forward(self, t):\n",
    "        # conv 1\n",
    "        t = self.conv1(t)\n",
    "        t = F.relu(t)\n",
    "        t = F.max_pool2d(t, kernel_size=2, stride=2)\n",
    "        # fc1\n",
    "        t = t.reshape(-1, 1*13*13)\n",
    "        t = self.fc1(t)\n",
    "        t = F.relu(t)\n",
    "\n",
    "        # fc2\n",
    "        t = self.fc2(t)\n",
    "        t = F.relu(t)\n",
    "\n",
    "        # output\n",
    "        t = F.softmax(self.out(t), dim=1)\n",
    "                \n",
    "        return t"
   ]
  },
  {
   "cell_type": "code",
   "execution_count": null,
   "metadata": {},
   "outputs": [],
   "source": [
    "# Convolutional network with one convultional layer and 2 hidden layers with ReLU activation\n",
    "class gate_layers(nn.Module):\n",
    "    def __init__(self, num_experts):\n",
    "        super(gate_layers, self).__init__()\n",
    "        # define layers\n",
    "        self.conv1 = nn.Conv2d(in_channels=1, out_channels=1, kernel_size=3)\n",
    "\n",
    "        self.fc1 = nn.Linear(in_features=1*13*13, out_features=128)\n",
    "        self.fc2 = nn.Linear(in_features=128, out_features=32)\n",
    "        self.out = nn.Linear(in_features=32, out_features=num_experts)\n",
    "        self.num_experts = num_experts\n",
    "\n",
    "    def forward(self, t, T=1.0, y=None):\n",
    "        # conv 1\n",
    "        t = self.conv1(t)\n",
    "        t = F.relu(t)\n",
    "        t = F.max_pool2d(t, kernel_size=2, stride=2)\n",
    "        # fc1\n",
    "        t = t.reshape(-1, 1*13*13)\n",
    "            \n",
    "        t = self.fc1(t)\n",
    "        t = F.relu(t)\n",
    "\n",
    "        # fc2\n",
    "        t = self.fc2(t)\n",
    "        t = F.relu(t)\n",
    "\n",
    "        # output\n",
    "        t = self.out(t)\n",
    "        t = F.softmax(t/T, dim=1)\n",
    "        return t\n"
   ]
  },
  {
   "cell_type": "code",
   "execution_count": null,
   "metadata": {},
   "outputs": [],
   "source": [
    "# create a set of experts\n",
    "def experts(num_experts, num_classes, expert_layers_type=expert_layers, channels=1):\n",
    "    models = []\n",
    "    for i in range(num_experts):\n",
    "        models.append(expert_layers_type(num_classes, channels))\n",
    "    return nn.ModuleList(models)"
   ]
  },
  {
   "cell_type": "markdown",
   "metadata": {},
   "source": [
    "## Initialize configurations and helper functions"
   ]
  },
  {
   "cell_type": "code",
   "execution_count": null,
   "metadata": {},
   "outputs": [],
   "source": [
    "# Compute accuracy of the model\n",
    "def accuracy(out, yb, mean=True):\n",
    "    preds = torch.argmax(out, dim=1).to(device, non_blocking=True)\n",
    "    if mean:\n",
    "        return (preds == yb).float().mean()\n",
    "    else:\n",
    "        return (preds == yb).float()"
   ]
  },
  {
   "cell_type": "code",
   "execution_count": null,
   "metadata": {},
   "outputs": [],
   "source": [
    "# Generate the string reprensentation of the class split used for pre-training the experts\n",
    "def classes_per_expert_str(classes_per_expert):\n",
    "    buffer_str = ''\n",
    "    for labels in classes_per_expert:\n",
    "        buffer = \"_\".join(str(labels).replace('[','').replace(']','').replace(',','_').replace(\" \",'')).replace('_','')\n",
    "        buffer_str += buffer+'_'\n",
    "    buffer_str = buffer_str.strip('_')\n",
    "    return buffer_str"
   ]
  },
  {
   "cell_type": "markdown",
   "metadata": {},
   "source": [
    "## Experiments"
   ]
  },
  {
   "cell_type": "markdown",
   "metadata": {
    "tags": []
   },
   "source": [
    "### Experiment 1: Train MoE expectation model with un-trained experts"
   ]
  },
  {
   "cell_type": "markdown",
   "metadata": {},
   "source": [
    "#### The MoE model is first trained with un-trained experts. The gate trained in this model is then used to train a new model with new experts with (a) default parameters and (b) parameters initialized to parameters of the experts that the gate was trained with. "
   ]
  },
  {
   "cell_type": "markdown",
   "metadata": {},
   "source": [
    "#### Jump to [Results](#Results) if you just want to run pre-trained models and see the results"
   ]
  },
  {
   "cell_type": "code",
   "execution_count": 25,
   "metadata": {
    "tags": []
   },
   "outputs": [],
   "source": [
    "# Model with gate and expert parameters initialized to default values\n",
    "model_1 = 'mnist_scratch'\n",
    "# Model with gate parameters fixed to learnt gate parameters from model_1 and experts initialized to \n",
    "# the same initial parameters as experts from model_1 before they were trained\n",
    "model_2 = 'mnist_pretrained_gate_scratch_same_wts'\n",
    "# Model with gate parameters fixed to learnt gate parameters from model_1 and experts initialized to \n",
    "# default parameters\n",
    "model_3 = 'mnist_pretrained_gate_scratch_rand_wts'"
   ]
  },
  {
   "cell_type": "code",
   "execution_count": 26,
   "metadata": {
    "tags": []
   },
   "outputs": [],
   "source": [
    "total_experts = 5"
   ]
  },
  {
   "cell_type": "code",
   "execution_count": 27,
   "metadata": {
    "tags": []
   },
   "outputs": [],
   "source": [
    "num_epochs = 20"
   ]
  },
  {
   "cell_type": "code",
   "execution_count": 28,
   "metadata": {},
   "outputs": [],
   "source": [
    "T = [1.0]*num_epochs"
   ]
  },
  {
   "cell_type": "code",
   "execution_count": 29,
   "metadata": {
    "scrolled": true,
    "tags": []
   },
   "outputs": [
    {
     "name": "stdout",
     "output_type": "stream",
     "text": [
      "RUN 1\n",
      "Model: moe_expectation_model 5 Experts\n",
      "Building model with un-trained experts\n",
      "model params: 32973\n",
      "epoch 0 training loss 1.56 , training accuracy 0.50 , test accuracy 0.73\n",
      "epoch 1 training loss 0.52 , training accuracy 0.85 , test accuracy 0.84\n",
      "epoch 2 training loss 0.38 , training accuracy 0.89 , test accuracy 0.85\n",
      "epoch 3 training loss 0.32 , training accuracy 0.91 , test accuracy 0.87\n",
      "epoch 4 training loss 0.28 , training accuracy 0.92 , test accuracy 0.88\n",
      "epoch 5 training loss 0.25 , training accuracy 0.93 , test accuracy 0.89\n",
      "epoch 6 training loss 0.22 , training accuracy 0.94 , test accuracy 0.90\n",
      "epoch 7 training loss 0.20 , training accuracy 0.94 , test accuracy 0.90\n",
      "epoch 8 training loss 0.19 , training accuracy 0.95 , test accuracy 0.91\n",
      "epoch 9 training loss 0.16 , training accuracy 0.95 , test accuracy 0.91\n",
      "epoch 10 training loss 0.15 , training accuracy 0.96 , test accuracy 0.91\n",
      "epoch 11 training loss 0.14 , training accuracy 0.96 , test accuracy 0.91\n",
      "epoch 12 training loss 0.13 , training accuracy 0.97 , test accuracy 0.91\n",
      "epoch 13 training loss 0.12 , training accuracy 0.97 , test accuracy 0.91\n",
      "epoch 14 training loss 0.11 , training accuracy 0.97 , test accuracy 0.92\n",
      "epoch 15 training loss 0.10 , training accuracy 0.97 , test accuracy 0.91\n",
      "epoch 16 training loss 0.09 , training accuracy 0.98 , test accuracy 0.91\n",
      "epoch 17 training loss 0.08 , training accuracy 0.98 , test accuracy 0.91\n",
      "epoch 18 training loss 0.08 , training accuracy 0.98 , test accuracy 0.91\n",
      "epoch 19 training loss 0.07 , training accuracy 0.98 , test accuracy 0.92\n",
      "Building model with pre-trained gate and new experts initialized to same parameters as experts used to train the gate\n",
      "epoch 0 training loss 1.18 , training accuracy 0.60 , test accuracy 0.72\n",
      "epoch 1 training loss 0.48 , training accuracy 0.85 , test accuracy 0.86\n",
      "epoch 2 training loss 0.29 , training accuracy 0.91 , test accuracy 0.88\n",
      "epoch 3 training loss 0.23 , training accuracy 0.93 , test accuracy 0.88\n",
      "epoch 4 training loss 0.19 , training accuracy 0.94 , test accuracy 0.89\n",
      "epoch 5 training loss 0.17 , training accuracy 0.95 , test accuracy 0.90\n",
      "epoch 6 training loss 0.16 , training accuracy 0.95 , test accuracy 0.90\n",
      "epoch 7 training loss 0.15 , training accuracy 0.96 , test accuracy 0.91\n",
      "epoch 8 training loss 0.14 , training accuracy 0.96 , test accuracy 0.91\n",
      "epoch 9 training loss 0.13 , training accuracy 0.96 , test accuracy 0.90\n",
      "epoch 10 training loss 0.12 , training accuracy 0.96 , test accuracy 0.91\n",
      "epoch 11 training loss 0.11 , training accuracy 0.97 , test accuracy 0.91\n",
      "epoch 12 training loss 0.11 , training accuracy 0.97 , test accuracy 0.91\n",
      "epoch 13 training loss 0.10 , training accuracy 0.97 , test accuracy 0.91\n",
      "epoch 14 training loss 0.09 , training accuracy 0.97 , test accuracy 0.91\n",
      "epoch 15 training loss 0.09 , training accuracy 0.97 , test accuracy 0.91\n",
      "epoch 16 training loss 0.09 , training accuracy 0.98 , test accuracy 0.91\n",
      "epoch 17 training loss 0.08 , training accuracy 0.98 , test accuracy 0.91\n",
      "epoch 18 training loss 0.08 , training accuracy 0.98 , test accuracy 0.91\n",
      "epoch 19 training loss 0.08 , training accuracy 0.98 , test accuracy 0.91\n",
      "Building model with pre-trained gate and new experts initialized to default parameters\n",
      "epoch 0 training loss 0.76 , training accuracy 0.69 , test accuracy 0.73\n",
      "epoch 1 training loss 0.48 , training accuracy 0.81 , test accuracy 0.78\n",
      "epoch 2 training loss 0.40 , training accuracy 0.86 , test accuracy 0.80\n",
      "epoch 3 training loss 0.37 , training accuracy 0.87 , test accuracy 0.81\n",
      "epoch 4 training loss 0.37 , training accuracy 0.88 , test accuracy 0.82\n",
      "epoch 5 training loss 0.36 , training accuracy 0.89 , test accuracy 0.83\n",
      "epoch 6 training loss 0.34 , training accuracy 0.89 , test accuracy 0.82\n",
      "epoch 7 training loss 0.35 , training accuracy 0.89 , test accuracy 0.82\n",
      "epoch 8 training loss 0.34 , training accuracy 0.89 , test accuracy 0.83\n",
      "epoch 9 training loss 0.34 , training accuracy 0.89 , test accuracy 0.81\n",
      "epoch 10 training loss 0.34 , training accuracy 0.89 , test accuracy 0.83\n",
      "epoch 11 training loss 0.34 , training accuracy 0.89 , test accuracy 0.83\n",
      "epoch 12 training loss 0.33 , training accuracy 0.89 , test accuracy 0.83\n",
      "epoch 13 training loss 0.33 , training accuracy 0.89 , test accuracy 0.83\n",
      "epoch 14 training loss 0.33 , training accuracy 0.89 , test accuracy 0.83\n",
      "epoch 15 training loss 0.32 , training accuracy 0.89 , test accuracy 0.83\n",
      "epoch 16 training loss 0.32 , training accuracy 0.89 , test accuracy 0.83\n",
      "epoch 17 training loss 0.32 , training accuracy 0.90 , test accuracy 0.83\n",
      "epoch 18 training loss 0.32 , training accuracy 0.90 , test accuracy 0.83\n",
      "epoch 19 training loss 0.32 , training accuracy 0.90 , test accuracy 0.83\n",
      "RUN 2\n",
      "Model: moe_expectation_model 5 Experts\n",
      "Building model with un-trained experts\n",
      "model params: 32973\n",
      "epoch 0 training loss 1.68 , training accuracy 0.46 , test accuracy 0.63\n",
      "epoch 1 training loss 0.75 , training accuracy 0.77 , test accuracy 0.75\n",
      "epoch 2 training loss 0.59 , training accuracy 0.82 , test accuracy 0.80\n",
      "epoch 3 training loss 0.50 , training accuracy 0.85 , test accuracy 0.81\n",
      "epoch 4 training loss 0.44 , training accuracy 0.87 , test accuracy 0.82\n",
      "epoch 5 training loss 0.40 , training accuracy 0.88 , test accuracy 0.84\n",
      "epoch 6 training loss 0.37 , training accuracy 0.90 , test accuracy 0.85\n",
      "epoch 7 training loss 0.34 , training accuracy 0.90 , test accuracy 0.85\n",
      "epoch 8 training loss 0.32 , training accuracy 0.91 , test accuracy 0.85\n",
      "epoch 9 training loss 0.30 , training accuracy 0.91 , test accuracy 0.87\n",
      "epoch 10 training loss 0.27 , training accuracy 0.92 , test accuracy 0.87\n",
      "epoch 11 training loss 0.26 , training accuracy 0.92 , test accuracy 0.87\n",
      "epoch 12 training loss 0.25 , training accuracy 0.93 , test accuracy 0.89\n",
      "epoch 13 training loss 0.23 , training accuracy 0.93 , test accuracy 0.89\n",
      "epoch 14 training loss 0.22 , training accuracy 0.93 , test accuracy 0.90\n",
      "epoch 15 training loss 0.21 , training accuracy 0.94 , test accuracy 0.89\n",
      "epoch 16 training loss 0.20 , training accuracy 0.94 , test accuracy 0.90\n",
      "epoch 17 training loss 0.19 , training accuracy 0.94 , test accuracy 0.90\n",
      "epoch 18 training loss 0.18 , training accuracy 0.95 , test accuracy 0.90\n",
      "epoch 19 training loss 0.17 , training accuracy 0.95 , test accuracy 0.90\n",
      "Building model with pre-trained gate and new experts initialized to same parameters as experts used to train the gate\n",
      "epoch 0 training loss 1.41 , training accuracy 0.52 , test accuracy 0.74\n",
      "epoch 1 training loss 0.57 , training accuracy 0.83 , test accuracy 0.83\n",
      "epoch 2 training loss 0.44 , training accuracy 0.87 , test accuracy 0.85\n",
      "epoch 3 training loss 0.37 , training accuracy 0.89 , test accuracy 0.86\n",
      "epoch 4 training loss 0.34 , training accuracy 0.91 , test accuracy 0.87\n",
      "epoch 5 training loss 0.31 , training accuracy 0.91 , test accuracy 0.87\n",
      "epoch 6 training loss 0.29 , training accuracy 0.92 , test accuracy 0.88\n",
      "epoch 7 training loss 0.27 , training accuracy 0.92 , test accuracy 0.88\n",
      "epoch 8 training loss 0.26 , training accuracy 0.93 , test accuracy 0.88\n",
      "epoch 9 training loss 0.24 , training accuracy 0.93 , test accuracy 0.89\n",
      "epoch 10 training loss 0.23 , training accuracy 0.93 , test accuracy 0.89\n",
      "epoch 11 training loss 0.22 , training accuracy 0.94 , test accuracy 0.89\n",
      "epoch 12 training loss 0.21 , training accuracy 0.94 , test accuracy 0.90\n",
      "epoch 13 training loss 0.20 , training accuracy 0.94 , test accuracy 0.89\n",
      "epoch 14 training loss 0.20 , training accuracy 0.94 , test accuracy 0.89\n",
      "epoch 15 training loss 0.19 , training accuracy 0.95 , test accuracy 0.89\n",
      "epoch 16 training loss 0.19 , training accuracy 0.95 , test accuracy 0.89\n",
      "epoch 17 training loss 0.19 , training accuracy 0.95 , test accuracy 0.89\n",
      "epoch 18 training loss 0.18 , training accuracy 0.95 , test accuracy 0.90\n",
      "epoch 19 training loss 0.18 , training accuracy 0.95 , test accuracy 0.89\n",
      "Building model with pre-trained gate and new experts initialized to default parameters\n",
      "epoch 0 training loss 0.78 , training accuracy 0.77 , test accuracy 0.83\n",
      "epoch 1 training loss 0.39 , training accuracy 0.89 , test accuracy 0.88\n",
      "epoch 2 training loss 0.33 , training accuracy 0.91 , test accuracy 0.88\n",
      "epoch 3 training loss 0.30 , training accuracy 0.92 , test accuracy 0.89\n"
     ]
    },
    {
     "ename": "KeyboardInterrupt",
     "evalue": "",
     "output_type": "error",
     "traceback": [
      "\u001b[0;31m---------------------------------------------------------------------------\u001b[0m",
      "\u001b[0;31mKeyboardInterrupt\u001b[0m                         Traceback (most recent call last)",
      "Input \u001b[0;32mIn [29]\u001b[0m, in \u001b[0;36m<cell line: 8>\u001b[0;34m()\u001b[0m\n\u001b[1;32m    111\u001b[0m     moe_model \u001b[38;5;241m=\u001b[39m val[\u001b[38;5;124m'\u001b[39m\u001b[38;5;124mmodel\u001b[39m\u001b[38;5;124m'\u001b[39m](total_experts, num_classes, augment\u001b[38;5;241m=\u001b[39m\u001b[38;5;241m0\u001b[39m, attention_flag\u001b[38;5;241m=\u001b[39m\u001b[38;5;241m0\u001b[39m, \n\u001b[1;32m    112\u001b[0m                              experts\u001b[38;5;241m=\u001b[39mexpert_models, gate\u001b[38;5;241m=\u001b[39mgate_model)\n\u001b[1;32m    114\u001b[0m     optimizer_moe \u001b[38;5;241m=\u001b[39m optim\u001b[38;5;241m.\u001b[39mRMSprop(moe_model\u001b[38;5;241m.\u001b[39mparameters(),\n\u001b[1;32m    115\u001b[0m                               lr\u001b[38;5;241m=\u001b[39m\u001b[38;5;241m0.001\u001b[39m, momentum\u001b[38;5;241m=\u001b[39m\u001b[38;5;241m0.9\u001b[39m)\n\u001b[0;32m--> 117\u001b[0m     hist \u001b[38;5;241m=\u001b[39m \u001b[43mmoe_model\u001b[49m\u001b[38;5;241;43m.\u001b[39;49m\u001b[43mtrain\u001b[49m\u001b[43m(\u001b[49m\u001b[43mtrainloader\u001b[49m\u001b[43m,\u001b[49m\u001b[43m \u001b[49m\u001b[43mtestloader\u001b[49m\u001b[43m,\u001b[49m\u001b[43m  \u001b[49m\u001b[43mval\u001b[49m\u001b[43m[\u001b[49m\u001b[38;5;124;43m'\u001b[39;49m\u001b[38;5;124;43mloss\u001b[39;49m\u001b[38;5;124;43m'\u001b[39;49m\u001b[43m]\u001b[49m\u001b[43m,\u001b[49m\u001b[43m \u001b[49m\u001b[43moptimizer_moe\u001b[49m\u001b[43m,\u001b[49m\u001b[43m \u001b[49m\u001b[43mT\u001b[49m\u001b[38;5;241;43m=\u001b[39;49m\u001b[43mT\u001b[49m\u001b[43m,\u001b[49m\n\u001b[1;32m    118\u001b[0m \u001b[43m                           \u001b[49m\u001b[43maccuracy\u001b[49m\u001b[38;5;241;43m=\u001b[39;49m\u001b[43maccuracy\u001b[49m\u001b[43m,\u001b[49m\u001b[43m \u001b[49m\u001b[43mepochs\u001b[49m\u001b[38;5;241;43m=\u001b[39;49m\u001b[43mnum_epochs\u001b[49m\u001b[43m)\u001b[49m\n\u001b[1;32m    119\u001b[0m     val[\u001b[38;5;124m'\u001b[39m\u001b[38;5;124mexperts\u001b[39m\u001b[38;5;124m'\u001b[39m][total_experts] \u001b[38;5;241m=\u001b[39m {\u001b[38;5;124m'\u001b[39m\u001b[38;5;124mmodel\u001b[39m\u001b[38;5;124m'\u001b[39m:moe_model, \u001b[38;5;124m'\u001b[39m\u001b[38;5;124mhistory\u001b[39m\u001b[38;5;124m'\u001b[39m:hist}\n\u001b[1;32m    121\u001b[0m \u001b[38;5;66;03m# Save all the trained models\u001b[39;00m\n",
      "File \u001b[0;32m~/aaai2023/modular_deep_learning/moe_models/moe_models_base.py:141\u001b[0m, in \u001b[0;36mmoe_models_base.train\u001b[0;34m(self, trainloader, testloader, loss_criterion, optimizer_moe, scheduler_moe, optimizer_gate, optimizer_experts, w_importance, w_ortho, w_ideal_gate, w_sample_sim_same, w_sample_sim_diff, w_exp_gamma, T, T_decay, T_decay_start, no_gate_T, accuracy, epochs, model_name)\u001b[0m\n\u001b[1;32m    137\u001b[0m gate_avg_wts \u001b[38;5;241m=\u001b[39m gate_avg_wts\u001b[38;5;241m/\u001b[39mnum_params\n\u001b[1;32m    139\u001b[0m all_labels \u001b[38;5;241m=\u001b[39m \u001b[38;5;28;01mNone\u001b[39;00m \n\u001b[0;32m--> 141\u001b[0m \u001b[38;5;28;01mfor\u001b[39;00m inputs, labels \u001b[38;5;129;01min\u001b[39;00m trainloader:\n\u001b[1;32m    142\u001b[0m     \u001b[38;5;66;03m# get the inputs; data is a list of [inputs, labels]\u001b[39;00m\n\u001b[1;32m    143\u001b[0m     inputs, labels \u001b[38;5;241m=\u001b[39m inputs\u001b[38;5;241m.\u001b[39mto(device, non_blocking\u001b[38;5;241m=\u001b[39m\u001b[38;5;28;01mTrue\u001b[39;00m), labels\u001b[38;5;241m.\u001b[39mto(device, non_blocking\u001b[38;5;241m=\u001b[39m\u001b[38;5;28;01mTrue\u001b[39;00m)\n\u001b[1;32m    145\u001b[0m     \u001b[38;5;28;01mif\u001b[39;00m all_labels \u001b[38;5;129;01mis\u001b[39;00m \u001b[38;5;28;01mNone\u001b[39;00m:\n",
      "File \u001b[0;32m~/modular_deep_learning/mnn/lib/python3.9/site-packages/torch/utils/data/dataloader.py:530\u001b[0m, in \u001b[0;36m_BaseDataLoaderIter.__next__\u001b[0;34m(self)\u001b[0m\n\u001b[1;32m    528\u001b[0m \u001b[38;5;28;01mif\u001b[39;00m \u001b[38;5;28mself\u001b[39m\u001b[38;5;241m.\u001b[39m_sampler_iter \u001b[38;5;129;01mis\u001b[39;00m \u001b[38;5;28;01mNone\u001b[39;00m:\n\u001b[1;32m    529\u001b[0m     \u001b[38;5;28mself\u001b[39m\u001b[38;5;241m.\u001b[39m_reset()\n\u001b[0;32m--> 530\u001b[0m data \u001b[38;5;241m=\u001b[39m \u001b[38;5;28;43mself\u001b[39;49m\u001b[38;5;241;43m.\u001b[39;49m\u001b[43m_next_data\u001b[49m\u001b[43m(\u001b[49m\u001b[43m)\u001b[49m\n\u001b[1;32m    531\u001b[0m \u001b[38;5;28mself\u001b[39m\u001b[38;5;241m.\u001b[39m_num_yielded \u001b[38;5;241m+\u001b[39m\u001b[38;5;241m=\u001b[39m \u001b[38;5;241m1\u001b[39m\n\u001b[1;32m    532\u001b[0m \u001b[38;5;28;01mif\u001b[39;00m \u001b[38;5;28mself\u001b[39m\u001b[38;5;241m.\u001b[39m_dataset_kind \u001b[38;5;241m==\u001b[39m _DatasetKind\u001b[38;5;241m.\u001b[39mIterable \u001b[38;5;129;01mand\u001b[39;00m \\\n\u001b[1;32m    533\u001b[0m         \u001b[38;5;28mself\u001b[39m\u001b[38;5;241m.\u001b[39m_IterableDataset_len_called \u001b[38;5;129;01mis\u001b[39;00m \u001b[38;5;129;01mnot\u001b[39;00m \u001b[38;5;28;01mNone\u001b[39;00m \u001b[38;5;129;01mand\u001b[39;00m \\\n\u001b[1;32m    534\u001b[0m         \u001b[38;5;28mself\u001b[39m\u001b[38;5;241m.\u001b[39m_num_yielded \u001b[38;5;241m>\u001b[39m \u001b[38;5;28mself\u001b[39m\u001b[38;5;241m.\u001b[39m_IterableDataset_len_called:\n",
      "File \u001b[0;32m~/modular_deep_learning/mnn/lib/python3.9/site-packages/torch/utils/data/dataloader.py:570\u001b[0m, in \u001b[0;36m_SingleProcessDataLoaderIter._next_data\u001b[0;34m(self)\u001b[0m\n\u001b[1;32m    568\u001b[0m \u001b[38;5;28;01mdef\u001b[39;00m \u001b[38;5;21m_next_data\u001b[39m(\u001b[38;5;28mself\u001b[39m):\n\u001b[1;32m    569\u001b[0m     index \u001b[38;5;241m=\u001b[39m \u001b[38;5;28mself\u001b[39m\u001b[38;5;241m.\u001b[39m_next_index()  \u001b[38;5;66;03m# may raise StopIteration\u001b[39;00m\n\u001b[0;32m--> 570\u001b[0m     data \u001b[38;5;241m=\u001b[39m \u001b[38;5;28;43mself\u001b[39;49m\u001b[38;5;241;43m.\u001b[39;49m\u001b[43m_dataset_fetcher\u001b[49m\u001b[38;5;241;43m.\u001b[39;49m\u001b[43mfetch\u001b[49m\u001b[43m(\u001b[49m\u001b[43mindex\u001b[49m\u001b[43m)\u001b[49m  \u001b[38;5;66;03m# may raise StopIteration\u001b[39;00m\n\u001b[1;32m    571\u001b[0m     \u001b[38;5;28;01mif\u001b[39;00m \u001b[38;5;28mself\u001b[39m\u001b[38;5;241m.\u001b[39m_pin_memory:\n\u001b[1;32m    572\u001b[0m         data \u001b[38;5;241m=\u001b[39m _utils\u001b[38;5;241m.\u001b[39mpin_memory\u001b[38;5;241m.\u001b[39mpin_memory(data)\n",
      "File \u001b[0;32m~/modular_deep_learning/mnn/lib/python3.9/site-packages/torch/utils/data/_utils/fetch.py:49\u001b[0m, in \u001b[0;36m_MapDatasetFetcher.fetch\u001b[0;34m(self, possibly_batched_index)\u001b[0m\n\u001b[1;32m     47\u001b[0m \u001b[38;5;28;01mdef\u001b[39;00m \u001b[38;5;21mfetch\u001b[39m(\u001b[38;5;28mself\u001b[39m, possibly_batched_index):\n\u001b[1;32m     48\u001b[0m     \u001b[38;5;28;01mif\u001b[39;00m \u001b[38;5;28mself\u001b[39m\u001b[38;5;241m.\u001b[39mauto_collation:\n\u001b[0;32m---> 49\u001b[0m         data \u001b[38;5;241m=\u001b[39m [\u001b[38;5;28mself\u001b[39m\u001b[38;5;241m.\u001b[39mdataset[idx] \u001b[38;5;28;01mfor\u001b[39;00m idx \u001b[38;5;129;01min\u001b[39;00m possibly_batched_index]\n\u001b[1;32m     50\u001b[0m     \u001b[38;5;28;01melse\u001b[39;00m:\n\u001b[1;32m     51\u001b[0m         data \u001b[38;5;241m=\u001b[39m \u001b[38;5;28mself\u001b[39m\u001b[38;5;241m.\u001b[39mdataset[possibly_batched_index]\n",
      "File \u001b[0;32m~/modular_deep_learning/mnn/lib/python3.9/site-packages/torch/utils/data/_utils/fetch.py:49\u001b[0m, in \u001b[0;36m<listcomp>\u001b[0;34m(.0)\u001b[0m\n\u001b[1;32m     47\u001b[0m \u001b[38;5;28;01mdef\u001b[39;00m \u001b[38;5;21mfetch\u001b[39m(\u001b[38;5;28mself\u001b[39m, possibly_batched_index):\n\u001b[1;32m     48\u001b[0m     \u001b[38;5;28;01mif\u001b[39;00m \u001b[38;5;28mself\u001b[39m\u001b[38;5;241m.\u001b[39mauto_collation:\n\u001b[0;32m---> 49\u001b[0m         data \u001b[38;5;241m=\u001b[39m [\u001b[38;5;28;43mself\u001b[39;49m\u001b[38;5;241;43m.\u001b[39;49m\u001b[43mdataset\u001b[49m\u001b[43m[\u001b[49m\u001b[43midx\u001b[49m\u001b[43m]\u001b[49m \u001b[38;5;28;01mfor\u001b[39;00m idx \u001b[38;5;129;01min\u001b[39;00m possibly_batched_index]\n\u001b[1;32m     50\u001b[0m     \u001b[38;5;28;01melse\u001b[39;00m:\n\u001b[1;32m     51\u001b[0m         data \u001b[38;5;241m=\u001b[39m \u001b[38;5;28mself\u001b[39m\u001b[38;5;241m.\u001b[39mdataset[possibly_batched_index]\n",
      "File \u001b[0;32m~/modular_deep_learning/mnn/lib/python3.9/site-packages/torch/utils/data/dataset.py:471\u001b[0m, in \u001b[0;36mSubset.__getitem__\u001b[0;34m(self, idx)\u001b[0m\n\u001b[1;32m    469\u001b[0m \u001b[38;5;28;01mif\u001b[39;00m \u001b[38;5;28misinstance\u001b[39m(idx, \u001b[38;5;28mlist\u001b[39m):\n\u001b[1;32m    470\u001b[0m     \u001b[38;5;28;01mreturn\u001b[39;00m \u001b[38;5;28mself\u001b[39m\u001b[38;5;241m.\u001b[39mdataset[[\u001b[38;5;28mself\u001b[39m\u001b[38;5;241m.\u001b[39mindices[i] \u001b[38;5;28;01mfor\u001b[39;00m i \u001b[38;5;129;01min\u001b[39;00m idx]]\n\u001b[0;32m--> 471\u001b[0m \u001b[38;5;28;01mreturn\u001b[39;00m \u001b[38;5;28;43mself\u001b[39;49m\u001b[38;5;241;43m.\u001b[39;49m\u001b[43mdataset\u001b[49m\u001b[43m[\u001b[49m\u001b[38;5;28;43mself\u001b[39;49m\u001b[38;5;241;43m.\u001b[39;49m\u001b[43mindices\u001b[49m\u001b[43m[\u001b[49m\u001b[43midx\u001b[49m\u001b[43m]\u001b[49m\u001b[43m]\u001b[49m\n",
      "File \u001b[0;32m~/modular_deep_learning/mnn/lib/python3.9/site-packages/torchvision/datasets/mnist.py:145\u001b[0m, in \u001b[0;36mMNIST.__getitem__\u001b[0;34m(self, index)\u001b[0m\n\u001b[1;32m    142\u001b[0m img \u001b[38;5;241m=\u001b[39m Image\u001b[38;5;241m.\u001b[39mfromarray(img\u001b[38;5;241m.\u001b[39mnumpy(), mode\u001b[38;5;241m=\u001b[39m\u001b[38;5;124m\"\u001b[39m\u001b[38;5;124mL\u001b[39m\u001b[38;5;124m\"\u001b[39m)\n\u001b[1;32m    144\u001b[0m \u001b[38;5;28;01mif\u001b[39;00m \u001b[38;5;28mself\u001b[39m\u001b[38;5;241m.\u001b[39mtransform \u001b[38;5;129;01mis\u001b[39;00m \u001b[38;5;129;01mnot\u001b[39;00m \u001b[38;5;28;01mNone\u001b[39;00m:\n\u001b[0;32m--> 145\u001b[0m     img \u001b[38;5;241m=\u001b[39m \u001b[38;5;28;43mself\u001b[39;49m\u001b[38;5;241;43m.\u001b[39;49m\u001b[43mtransform\u001b[49m\u001b[43m(\u001b[49m\u001b[43mimg\u001b[49m\u001b[43m)\u001b[49m\n\u001b[1;32m    147\u001b[0m \u001b[38;5;28;01mif\u001b[39;00m \u001b[38;5;28mself\u001b[39m\u001b[38;5;241m.\u001b[39mtarget_transform \u001b[38;5;129;01mis\u001b[39;00m \u001b[38;5;129;01mnot\u001b[39;00m \u001b[38;5;28;01mNone\u001b[39;00m:\n\u001b[1;32m    148\u001b[0m     target \u001b[38;5;241m=\u001b[39m \u001b[38;5;28mself\u001b[39m\u001b[38;5;241m.\u001b[39mtarget_transform(target)\n",
      "File \u001b[0;32m~/modular_deep_learning/mnn/lib/python3.9/site-packages/torchvision/transforms/transforms.py:95\u001b[0m, in \u001b[0;36mCompose.__call__\u001b[0;34m(self, img)\u001b[0m\n\u001b[1;32m     93\u001b[0m \u001b[38;5;28;01mdef\u001b[39;00m \u001b[38;5;21m__call__\u001b[39m(\u001b[38;5;28mself\u001b[39m, img):\n\u001b[1;32m     94\u001b[0m     \u001b[38;5;28;01mfor\u001b[39;00m t \u001b[38;5;129;01min\u001b[39;00m \u001b[38;5;28mself\u001b[39m\u001b[38;5;241m.\u001b[39mtransforms:\n\u001b[0;32m---> 95\u001b[0m         img \u001b[38;5;241m=\u001b[39m \u001b[43mt\u001b[49m\u001b[43m(\u001b[49m\u001b[43mimg\u001b[49m\u001b[43m)\u001b[49m\n\u001b[1;32m     96\u001b[0m     \u001b[38;5;28;01mreturn\u001b[39;00m img\n",
      "File \u001b[0;32m~/modular_deep_learning/mnn/lib/python3.9/site-packages/torchvision/transforms/transforms.py:135\u001b[0m, in \u001b[0;36mToTensor.__call__\u001b[0;34m(self, pic)\u001b[0m\n\u001b[1;32m    127\u001b[0m \u001b[38;5;28;01mdef\u001b[39;00m \u001b[38;5;21m__call__\u001b[39m(\u001b[38;5;28mself\u001b[39m, pic):\n\u001b[1;32m    128\u001b[0m     \u001b[38;5;124;03m\"\"\"\u001b[39;00m\n\u001b[1;32m    129\u001b[0m \u001b[38;5;124;03m    Args:\u001b[39;00m\n\u001b[1;32m    130\u001b[0m \u001b[38;5;124;03m        pic (PIL Image or numpy.ndarray): Image to be converted to tensor.\u001b[39;00m\n\u001b[0;32m   (...)\u001b[0m\n\u001b[1;32m    133\u001b[0m \u001b[38;5;124;03m        Tensor: Converted image.\u001b[39;00m\n\u001b[1;32m    134\u001b[0m \u001b[38;5;124;03m    \"\"\"\u001b[39;00m\n\u001b[0;32m--> 135\u001b[0m     \u001b[38;5;28;01mreturn\u001b[39;00m \u001b[43mF\u001b[49m\u001b[38;5;241;43m.\u001b[39;49m\u001b[43mto_tensor\u001b[49m\u001b[43m(\u001b[49m\u001b[43mpic\u001b[49m\u001b[43m)\u001b[49m\n",
      "File \u001b[0;32m~/modular_deep_learning/mnn/lib/python3.9/site-packages/torchvision/transforms/functional.py:147\u001b[0m, in \u001b[0;36mto_tensor\u001b[0;34m(pic)\u001b[0m\n\u001b[1;32m    145\u001b[0m \u001b[38;5;66;03m# handle PIL Image\u001b[39;00m\n\u001b[1;32m    146\u001b[0m mode_to_nptype \u001b[38;5;241m=\u001b[39m {\u001b[38;5;124m\"\u001b[39m\u001b[38;5;124mI\u001b[39m\u001b[38;5;124m\"\u001b[39m: np\u001b[38;5;241m.\u001b[39mint32, \u001b[38;5;124m\"\u001b[39m\u001b[38;5;124mI;16\u001b[39m\u001b[38;5;124m\"\u001b[39m: np\u001b[38;5;241m.\u001b[39mint16, \u001b[38;5;124m\"\u001b[39m\u001b[38;5;124mF\u001b[39m\u001b[38;5;124m\"\u001b[39m: np\u001b[38;5;241m.\u001b[39mfloat32}\n\u001b[0;32m--> 147\u001b[0m img \u001b[38;5;241m=\u001b[39m torch\u001b[38;5;241m.\u001b[39mfrom_numpy(\u001b[43mnp\u001b[49m\u001b[38;5;241;43m.\u001b[39;49m\u001b[43marray\u001b[49m\u001b[43m(\u001b[49m\u001b[43mpic\u001b[49m\u001b[43m,\u001b[49m\u001b[43m \u001b[49m\u001b[43mmode_to_nptype\u001b[49m\u001b[38;5;241;43m.\u001b[39;49m\u001b[43mget\u001b[49m\u001b[43m(\u001b[49m\u001b[43mpic\u001b[49m\u001b[38;5;241;43m.\u001b[39;49m\u001b[43mmode\u001b[49m\u001b[43m,\u001b[49m\u001b[43m \u001b[49m\u001b[43mnp\u001b[49m\u001b[38;5;241;43m.\u001b[39;49m\u001b[43muint8\u001b[49m\u001b[43m)\u001b[49m\u001b[43m,\u001b[49m\u001b[43m \u001b[49m\u001b[43mcopy\u001b[49m\u001b[38;5;241;43m=\u001b[39;49m\u001b[38;5;28;43;01mTrue\u001b[39;49;00m\u001b[43m)\u001b[49m)\n\u001b[1;32m    149\u001b[0m \u001b[38;5;28;01mif\u001b[39;00m pic\u001b[38;5;241m.\u001b[39mmode \u001b[38;5;241m==\u001b[39m \u001b[38;5;124m\"\u001b[39m\u001b[38;5;124m1\u001b[39m\u001b[38;5;124m\"\u001b[39m:\n\u001b[1;32m    150\u001b[0m     img \u001b[38;5;241m=\u001b[39m \u001b[38;5;241m255\u001b[39m \u001b[38;5;241m*\u001b[39m img\n",
      "File \u001b[0;32m~/modular_deep_learning/mnn/lib/python3.9/site-packages/PIL/Image.py:539\u001b[0m, in \u001b[0;36mImage.__getattr__\u001b[0;34m(self, name)\u001b[0m\n\u001b[1;32m    536\u001b[0m     \u001b[38;5;28mself\u001b[39m\u001b[38;5;241m.\u001b[39mpyaccess \u001b[38;5;241m=\u001b[39m \u001b[38;5;28;01mNone\u001b[39;00m\n\u001b[1;32m    537\u001b[0m     \u001b[38;5;28mself\u001b[39m\u001b[38;5;241m.\u001b[39m_exif \u001b[38;5;241m=\u001b[39m \u001b[38;5;28;01mNone\u001b[39;00m\n\u001b[0;32m--> 539\u001b[0m \u001b[38;5;28;01mdef\u001b[39;00m \u001b[38;5;21m__getattr__\u001b[39m(\u001b[38;5;28mself\u001b[39m, name):\n\u001b[1;32m    540\u001b[0m     \u001b[38;5;28;01mif\u001b[39;00m name \u001b[38;5;241m==\u001b[39m \u001b[38;5;124m\"\u001b[39m\u001b[38;5;124mcategory\u001b[39m\u001b[38;5;124m\"\u001b[39m:\n\u001b[1;32m    541\u001b[0m         warnings\u001b[38;5;241m.\u001b[39mwarn(\n\u001b[1;32m    542\u001b[0m             \u001b[38;5;124m\"\u001b[39m\u001b[38;5;124mImage categories are deprecated and will be removed in Pillow 10 \u001b[39m\u001b[38;5;124m\"\u001b[39m\n\u001b[1;32m    543\u001b[0m             \u001b[38;5;124m\"\u001b[39m\u001b[38;5;124m(2023-07-01). Use is_animated instead.\u001b[39m\u001b[38;5;124m\"\u001b[39m,\n\u001b[1;32m    544\u001b[0m             \u001b[38;5;167;01mDeprecationWarning\u001b[39;00m,\n\u001b[1;32m    545\u001b[0m             stacklevel\u001b[38;5;241m=\u001b[39m\u001b[38;5;241m2\u001b[39m,\n\u001b[1;32m    546\u001b[0m         )\n",
      "\u001b[0;31mKeyboardInterrupt\u001b[0m: "
     ]
    }
   ],
   "source": [
    "# Train models model_1, model_2 and model_3 for 10 runs\n",
    "# Train models model_1, model_2 and model_3 for 10 runs\n",
    "n_runs = 5\n",
    "n_run_models_1 = []\n",
    "n_run_models_2 = []\n",
    "n_run_models_3 = []\n",
    "\n",
    "for n_run in range(1, n_runs+1):\n",
    "    print('RUN', n_run)\n",
    "    \n",
    "    models = {\n",
    "        'moe_expectation_model':{'model':moe_expectation_model,'loss':cross_entropy_loss(),'experts':{}},\n",
    "        }\n",
    "    \n",
    "    models_gate_pretrained_same_wts = {\n",
    "        'moe_expectation_model':{'model':moe_expectation_model,'loss':cross_entropy_loss(),'experts':{}},\n",
    "        }\n",
    "\n",
    "    models_gate_pretrained_rand_wts = {\n",
    "        'moe_expectation_model':{'model':moe_expectation_model,'loss':cross_entropy_loss(),'experts':{}},\n",
    "        }\n",
    "\n",
    "    saved_experts = {}\n",
    "        \n",
    "    # Build model with un-trained experts\n",
    "    for key, val in models.items():\n",
    "        print('Model:', key, total_experts, 'Experts')\n",
    "        print('Building model with un-trained experts')\n",
    "        # copy and save the expert models to save the parameters\n",
    "        expert_models_copy = experts(total_experts, num_classes).to(device)\n",
    "\n",
    "        # copy and save the expert models to save the parameters\n",
    "        expert_models = deepcopy(expert_models_copy)\n",
    "        saved_experts[key] = expert_models_copy\n",
    "        \n",
    "        gate_model = gate_layers(total_experts).to(device)\n",
    "\n",
    "        moe_model = val['model'](total_experts, num_classes, \n",
    "                                 experts=expert_models, gate=gate_model)\n",
    "\n",
    "        params = [p.numel() for p in moe_model.parameters() if p.requires_grad]\n",
    "        print('model params:', sum(params))\n",
    "\n",
    "        optimizer_moe = optim.Adam(moe_model.parameters(), lr=0.001, amsgrad=False)\n",
    "        # optimizer_moe = optim.RMSprop(moe_model.parameters(),\n",
    "        #                           lr=0.001, momentum=0.9)\n",
    "        hist = moe_model.train(trainloader, testloader,  val['loss'], optimizer_moe, T=T,\n",
    "                               accuracy=accuracy, epochs=num_epochs)\n",
    "        val['experts'][total_experts] = {'model':moe_model, 'history':hist}\n",
    "\n",
    "    # Save all the trained models\n",
    "    plot_file = generate_plot_file(model_1, specific=str(num_classes)+'_'+str(total_experts)+'_models.pt')\n",
    "\n",
    "    if os.path.exists(os.path.join(model_path, plot_file)):\n",
    "        n_run_models_1 = torch.load(open(os.path.join(model_path, plot_file),'rb'))\n",
    "                \n",
    "    n_run_models_1.append(models)\n",
    "    torch.save(n_run_models_1,open(os.path.join(model_path, plot_file),'wb'))\n",
    "    n_run_models_1 = []\n",
    "    \n",
    "        # train new experts with pre-trained gate fom model_1 above with same parameters as the \n",
    "    # experts it was trained from\n",
    "    for key, val in models_gate_pretrained_same_wts.items():\n",
    "        print('Building model with pre-trained gate and new experts initialized to same parameters as experts used to train the gate')\n",
    "        \n",
    "        # copy parameters of the experts\n",
    "        expert_models = deepcopy(saved_experts[key])\n",
    "\n",
    "        # load the pre-trained gate model\n",
    "        gate_model = models[key]['experts'][total_experts]['model'].gate\n",
    "\n",
    "        # Fix the parameters of the gate\n",
    "        for param in gate_model.parameters():\n",
    "            param.requires_grad = False\n",
    "\n",
    "        moe_model = val['model'](total_experts, num_classes, augment=0, attention_flag=0, \n",
    "                                 experts=expert_models, gate=gate_model)\n",
    "\n",
    "        optimizer_moe = optim.Adam(moe_model.parameters(), lr=0.001, amsgrad=False)\n",
    "        \n",
    "        hist = moe_model.train(trainloader, testloader,  val['loss'], optimizer_moe, T=T,\n",
    "                               accuracy=accuracy, epochs=num_epochs)\n",
    "        val['experts'][total_experts] = {'model':moe_model, 'history':hist}\n",
    "\n",
    "    # Save all the trained models\n",
    "    plot_file = generate_plot_file(model_2, specific=str(num_classes)+'_'+str(total_experts)+'_models.pt')\n",
    "\n",
    "    if os.path.exists(os.path.join(model_path, plot_file)):\n",
    "        n_run_models_2 = torch.load(open(os.path.join(model_path, plot_file),'rb'))\n",
    "                \n",
    "    n_run_models_2.append(models_gate_pretrained_same_wts)\n",
    "    torch.save(n_run_models_2,open(os.path.join(model_path, plot_file),'wb'))\n",
    "    n_run_models_2 = []\n",
    "\n",
    "\n",
    "    # Train new experts with pre-trained gate fom model_1 above with default parameters\n",
    "    for key, val in models_gate_pretrained_rand_wts.items():\n",
    "        \n",
    "        print('Building model with pre-trained gate and new experts initialized to default parameters')\n",
    "\n",
    "        # initialize the expert parameters to default parameters\n",
    "        expert_models = experts(total_experts, num_classes).to(device)\n",
    "\n",
    "        # load pre-trained gate\n",
    "        gate_model = models[key]['experts'][total_experts]['model'].gate\n",
    "\n",
    "        # Fix the gate parameters\n",
    "        for param in gate_model.parameters():\n",
    "            param.requires_grad = False\n",
    "\n",
    "        moe_model = val['model'](total_experts, num_classes, augment=0, attention_flag=0, \n",
    "                                 experts=expert_models, gate=gate_model)\n",
    "\n",
    "        optimizer_moe = optim.RMSprop(moe_model.parameters(),\n",
    "                                  lr=0.001, momentum=0.9)\n",
    "        \n",
    "        hist = moe_model.train(trainloader, testloader,  val['loss'], optimizer_moe, T=T,\n",
    "                               accuracy=accuracy, epochs=num_epochs)\n",
    "        val['experts'][total_experts] = {'model':moe_model, 'history':hist}\n",
    "    \n",
    "    # Save all the trained models\n",
    "    plot_file = generate_plot_file(model_3, specific=str(num_classes)+'_'+str(total_experts)+'_models.pt')\n",
    "\n",
    "    if os.path.exists(os.path.join(model_path, plot_file)):\n",
    "        n_run_models_3 = torch.load(open(os.path.join(model_path, plot_file),'rb'))\n",
    "                \n",
    "    n_run_models_3.append(models_gate_pretrained_rand_wts)\n",
    "    torch.save(n_run_models_3,open(os.path.join(model_path, plot_file),'wb'))\n",
    "    n_run_models_3 = []\n",
    "\n"
   ]
  },
  {
   "cell_type": "markdown",
   "metadata": {},
   "source": [
    "### Experiment 2: Train MoE expectation model with pre-trained experts"
   ]
  },
  {
   "cell_type": "markdown",
   "metadata": {},
   "source": [
    "#### The MoE model is first trained with pre-trained experts trained on pre-defined data splits. The gate trained in this model is then used to train a new model with new experts with (a) default parameters and (b) parameters initialized to parameters of the experts that the gate was trained with. "
   ]
  },
  {
   "cell_type": "markdown",
   "metadata": {},
   "source": [
    "#### Jump to [Results](#Results) if you just want to run pre-trained models and see the results"
   ]
  },
  {
   "cell_type": "markdown",
   "metadata": {},
   "source": [
    "#### Pre-defined data splits are each a set of 5 pairs of digits. Each of the 5 experts is trained on data samples of only one of the 5 pairs of the split. We created 5 splits in all for the experiments."
   ]
  },
  {
   "cell_type": "code",
   "execution_count": null,
   "metadata": {},
   "outputs": [],
   "source": [
    "def process_split(split):\n",
    "    sorted_tuples = []\n",
    "    for i in range(0,len(split),2):\n",
    "        sorted_tuples.append(sorted(split[i:i+2]))\n",
    "    return sorted_tuples"
   ]
  },
  {
   "cell_type": "code",
   "execution_count": null,
   "metadata": {},
   "outputs": [],
   "source": [
    "# Generate random splits of the classes of the dataset\n",
    "def select_classes_per_expert(classes=[], num_splits = 5):\n",
    "    splits = []\n",
    "    for i in range(num_splits):\n",
    "        split = []\n",
    "        while not split or split in splits:\n",
    "            for j in range(len(classes)):\n",
    "                selected_class = np.random.choice(classes)\n",
    "                while selected_class in split:\n",
    "                    selected_class = np.random.choice(classes)\n",
    "                split.append(selected_class)\n",
    "            split = process_split(split)    \n",
    "        splits.append(split)\n",
    "    return splits"
   ]
  },
  {
   "cell_type": "code",
   "execution_count": null,
   "metadata": {},
   "outputs": [
    {
     "data": {
      "text/plain": [
       "[[[1, 8], [0, 6], [5, 9], [4, 7], [2, 3]]]"
      ]
     },
     "execution_count": 40,
     "metadata": {},
     "output_type": "execute_result"
    }
   ],
   "source": [
    "# Example random split of data\n",
    "classes_per_expert_list = select_classes_per_expert(classes=range(10))\n",
    "\n",
    "classes_per_expert_list"
   ]
  },
  {
   "cell_type": "code",
   "execution_count": null,
   "metadata": {},
   "outputs": [],
   "source": [
    "# This is the split used in the paper\n",
    "classes_per_expert_list = [[[0, 7], [1, 9], [2, 4], [3, 8], [5, 6]],\n",
    " [[4, 6], [1, 7], [2, 9], [3, 8], [0, 5]],\n",
    " [[4, 7], [0, 6], [3, 8], [1, 2], [5, 9]],\n",
    " [[5, 8], [6, 9], [1, 3], [0, 2], [4, 7]],\n",
    " [[2, 8], [3, 6], [0, 5], [4, 7], [1, 9]]]"
   ]
  },
  {
   "cell_type": "code",
   "execution_count": null,
   "metadata": {},
   "outputs": [],
   "source": [
    "# Pre-defined class split among experts.\n",
    "class_expert_map = []\n",
    "for cpe in classes_per_expert_list:\n",
    "    entry = {c[0]:c[1] for c in cpe}\n",
    "    class_expert_map.append(entry)"
   ]
  },
  {
   "cell_type": "code",
   "execution_count": null,
   "metadata": {
    "tags": []
   },
   "outputs": [],
   "source": [
    "# Function to pre-train experts according to the split\n",
    "def train_experts(masks, total_experts, num_classes, num_epochs, batch_size,\n",
    "                  trainset, testset):\n",
    "    expert_models_copy = experts(total_experts, num_classes).to(device)\n",
    "    expert_models = deepcopy(expert_models_copy)\n",
    "    \n",
    "    for mask, expert in zip(masks, expert_models):\n",
    "        print('Classes', mask)\n",
    "        indices = []\n",
    "        for m in mask:\n",
    "            indices += torch.where(trainset.targets[0:trainsize] == m)[0]\n",
    "        \n",
    "        trainloader = torch.utils.data.DataLoader(torch.utils.data.Subset(torch.utils.data.Subset(trainset, range(0, trainsize)), indices), \n",
    "                                          batch_size=batch_size,\n",
    "                                          shuffle=True)\n",
    "        \n",
    "        optimizer_expert = optim.Adam(expert.parameters(), lr=0.001, amsgrad=False)\n",
    "\n",
    "        loss_criterion = cross_entropy_loss()\n",
    "        for epoch in range(num_epochs):\n",
    "            running_loss = 0.0\n",
    "            train_running_accuracy = 0.0\n",
    "            num_batches = 0\n",
    "            for inputs, labels in trainloader:\n",
    "                inputs, labels = inputs.to(device, non_blocking=True), labels.to(device, non_blocking=True)\n",
    "                outputs = expert(inputs)\n",
    "\n",
    "                optimizer_expert.zero_grad()\n",
    "                loss = loss_criterion(outputs, None, None,labels)\n",
    "\n",
    "                loss.backward()\n",
    "\n",
    "                optimizer_expert.step()\n",
    "\n",
    "                running_loss += loss.item()\n",
    "\n",
    "                outputs = expert(inputs)\n",
    "\n",
    "                acc = accuracy(outputs, labels)\n",
    "                train_running_accuracy += acc\n",
    "\n",
    "                num_batches += 1\n",
    "                \n",
    "            print('epoch %d' % epoch,\n",
    "                  'training loss %.2f' % (running_loss/num_batches),\n",
    "                   ', training accuracy %.2f' % (train_running_accuracy/num_batches),\n",
    "                   )\n",
    "    pre_trained_expert = 'mnist_pre_trained_10K'\n",
    "    plot_file = generate_plot_file(pre_trained_expert, specific=str(num_classes)+'_'+str(total_experts)+'_'+classes_per_expert_str(masks)+'_expert_model.pt')\n",
    "    print(plot_file)\n",
    "    torch.save([expert_models, expert_models_copy],open(os.path.join(model_path, plot_file),'wb'))\n",
    "    return expert_models, expert_models_copy"
   ]
  },
  {
   "cell_type": "code",
   "execution_count": null,
   "metadata": {},
   "outputs": [],
   "source": [
    "total_experts = 5"
   ]
  },
  {
   "cell_type": "code",
   "execution_count": null,
   "metadata": {},
   "outputs": [],
   "source": [
    "num_epochs = 20"
   ]
  },
  {
   "cell_type": "code",
   "execution_count": null,
   "metadata": {
    "scrolled": true,
    "tags": []
   },
   "outputs": [
    {
     "name": "stdout",
     "output_type": "stream",
     "text": [
      "[[1, 8], [0, 6], [5, 9], [4, 7], [2, 3]]\n",
      "Classes [1, 8]\n",
      "epoch 0 training loss 2.17 , training accuracy 0.33\n",
      "epoch 1 training loss 1.22 , training accuracy 0.54\n",
      "epoch 2 training loss 0.68 , training accuracy 0.61\n",
      "epoch 3 training loss 0.58 , training accuracy 0.81\n",
      "epoch 4 training loss 0.44 , training accuracy 0.91\n",
      "epoch 5 training loss 0.28 , training accuracy 0.94\n",
      "epoch 6 training loss 0.19 , training accuracy 0.95\n",
      "epoch 7 training loss 0.14 , training accuracy 0.96\n",
      "epoch 8 training loss 0.12 , training accuracy 0.96\n",
      "epoch 9 training loss 0.11 , training accuracy 0.96\n",
      "epoch 10 training loss 0.10 , training accuracy 0.97\n",
      "epoch 11 training loss 0.10 , training accuracy 0.97\n",
      "epoch 12 training loss 0.09 , training accuracy 0.97\n",
      "epoch 13 training loss 0.09 , training accuracy 0.97\n",
      "epoch 14 training loss 0.09 , training accuracy 0.97\n",
      "epoch 15 training loss 0.08 , training accuracy 0.97\n",
      "epoch 16 training loss 0.08 , training accuracy 0.97\n",
      "epoch 17 training loss 0.08 , training accuracy 0.97\n",
      "epoch 18 training loss 0.08 , training accuracy 0.97\n",
      "epoch 19 training loss 0.08 , training accuracy 0.97\n",
      "Classes [0, 6]\n",
      "epoch 0 training loss 2.22 , training accuracy 0.29\n",
      "epoch 1 training loss 2.01 , training accuracy 0.50\n",
      "epoch 2 training loss 1.31 , training accuracy 0.50\n",
      "epoch 3 training loss 0.70 , training accuracy 0.55\n",
      "epoch 4 training loss 0.65 , training accuracy 0.84\n",
      "epoch 5 training loss 0.57 , training accuracy 0.91\n",
      "epoch 6 training loss 0.44 , training accuracy 0.92\n",
      "epoch 7 training loss 0.29 , training accuracy 0.94\n",
      "epoch 8 training loss 0.18 , training accuracy 0.95\n",
      "epoch 9 training loss 0.13 , training accuracy 0.96\n",
      "epoch 10 training loss 0.10 , training accuracy 0.97\n",
      "epoch 11 training loss 0.09 , training accuracy 0.97\n",
      "epoch 12 training loss 0.08 , training accuracy 0.97\n",
      "epoch 13 training loss 0.07 , training accuracy 0.97\n",
      "epoch 14 training loss 0.07 , training accuracy 0.98\n",
      "epoch 15 training loss 0.06 , training accuracy 0.98\n",
      "epoch 16 training loss 0.06 , training accuracy 0.98\n",
      "epoch 17 training loss 0.05 , training accuracy 0.98\n",
      "epoch 18 training loss 0.05 , training accuracy 0.98\n",
      "epoch 19 training loss 0.05 , training accuracy 0.98\n",
      "Classes [5, 9]\n",
      "epoch 0 training loss 2.23 , training accuracy 0.34\n",
      "epoch 1 training loss 1.72 , training accuracy 0.48\n",
      "epoch 2 training loss 0.77 , training accuracy 0.51\n",
      "epoch 3 training loss 0.69 , training accuracy 0.57\n",
      "epoch 4 training loss 0.68 , training accuracy 0.59\n",
      "epoch 5 training loss 0.67 , training accuracy 0.65\n",
      "epoch 6 training loss 0.65 , training accuracy 0.74\n",
      "epoch 7 training loss 0.60 , training accuracy 0.87\n",
      "epoch 8 training loss 0.50 , training accuracy 0.93\n",
      "epoch 9 training loss 0.37 , training accuracy 0.95\n",
      "epoch 10 training loss 0.24 , training accuracy 0.96\n",
      "epoch 11 training loss 0.17 , training accuracy 0.97\n",
      "epoch 12 training loss 0.13 , training accuracy 0.97\n",
      "epoch 13 training loss 0.11 , training accuracy 0.97\n",
      "epoch 14 training loss 0.09 , training accuracy 0.97\n",
      "epoch 15 training loss 0.08 , training accuracy 0.98\n",
      "epoch 16 training loss 0.08 , training accuracy 0.98\n",
      "epoch 17 training loss 0.07 , training accuracy 0.98\n",
      "epoch 18 training loss 0.07 , training accuracy 0.98\n",
      "epoch 19 training loss 0.07 , training accuracy 0.98\n",
      "Classes [4, 7]\n",
      "epoch 0 training loss 2.19 , training accuracy 0.11\n",
      "epoch 1 training loss 1.73 , training accuracy 0.76\n",
      "epoch 2 training loss 0.95 , training accuracy 0.75\n",
      "epoch 3 training loss 0.50 , training accuracy 0.92\n",
      "epoch 4 training loss 0.31 , training accuracy 0.94\n",
      "epoch 5 training loss 0.20 , training accuracy 0.95\n",
      "epoch 6 training loss 0.15 , training accuracy 0.96\n",
      "epoch 7 training loss 0.12 , training accuracy 0.96\n",
      "epoch 8 training loss 0.10 , training accuracy 0.97\n",
      "epoch 9 training loss 0.09 , training accuracy 0.97\n",
      "epoch 10 training loss 0.09 , training accuracy 0.97\n",
      "epoch 11 training loss 0.08 , training accuracy 0.97\n",
      "epoch 12 training loss 0.08 , training accuracy 0.98\n",
      "epoch 13 training loss 0.07 , training accuracy 0.98\n",
      "epoch 14 training loss 0.07 , training accuracy 0.98\n",
      "epoch 15 training loss 0.07 , training accuracy 0.98\n",
      "epoch 16 training loss 0.07 , training accuracy 0.98\n",
      "epoch 17 training loss 0.06 , training accuracy 0.98\n",
      "epoch 18 training loss 0.06 , training accuracy 0.98\n",
      "epoch 19 training loss 0.06 , training accuracy 0.98\n",
      "Classes [2, 3]\n",
      "epoch 0 training loss 2.21 , training accuracy 0.02\n",
      "epoch 1 training loss 1.33 , training accuracy 0.51\n",
      "epoch 2 training loss 0.72 , training accuracy 0.55\n",
      "epoch 3 training loss 0.68 , training accuracy 0.70\n",
      "epoch 4 training loss 0.61 , training accuracy 0.84\n",
      "epoch 5 training loss 0.47 , training accuracy 0.90\n",
      "epoch 6 training loss 0.31 , training accuracy 0.92\n",
      "epoch 7 training loss 0.19 , training accuracy 0.94\n",
      "epoch 8 training loss 0.15 , training accuracy 0.95\n",
      "epoch 9 training loss 0.13 , training accuracy 0.95\n",
      "epoch 10 training loss 0.12 , training accuracy 0.96\n",
      "epoch 11 training loss 0.12 , training accuracy 0.96\n",
      "epoch 12 training loss 0.11 , training accuracy 0.96\n",
      "epoch 13 training loss 0.11 , training accuracy 0.96\n",
      "epoch 14 training loss 0.11 , training accuracy 0.96\n",
      "epoch 15 training loss 0.10 , training accuracy 0.96\n",
      "epoch 16 training loss 0.10 , training accuracy 0.96\n",
      "epoch 17 training loss 0.10 , training accuracy 0.96\n",
      "epoch 18 training loss 0.10 , training accuracy 0.97\n",
      "epoch 19 training loss 0.10 , training accuracy 0.96\n",
      "mnist_pre_trained_10_5_18_06_59_47_23_expert_model.pt\n"
     ]
    }
   ],
   "source": [
    "# Pre-train experts on pre-defined splits\n",
    "for class_per_expert in classes_per_expert_list:\n",
    "    print(class_per_expert)\n",
    "    expert_models, expert_models_copy = train_experts(masks=class_per_expert, total_experts=total_experts, \n",
    "                                                      num_classes=num_classes, num_epochs=num_epochs, batch_size=batch_size,\n",
    "                                                      trainset=trainset,testset=testset)"
   ]
  },
  {
   "cell_type": "markdown",
   "metadata": {},
   "source": [
    "#### NOTE: We have provided expert models already pre-trained with the above class splits"
   ]
  },
  {
   "cell_type": "code",
   "execution_count": 117,
   "metadata": {},
   "outputs": [],
   "source": [
    "# Model trained with pre-trained experts\n",
    "model_4 = 'mnist_pretrained_gate_prechosen'\n",
    "# Model with gate parameters fixed to learnt gate parameters from model_4 and experts initialized to \n",
    "# the same initial parameters as experts from model_4 before they were trained\n",
    "model_5 = 'mnist_pretrained_gate_prechosen_same_wts'\n",
    "# Model with gate parameters fixed to learnt gate parameters from model_4 and experts initialized to default parameters\n",
    "model_6 = 'mnist_pretrained_gate_prechosen_rand_wts'"
   ]
  },
  {
   "cell_type": "code",
   "execution_count": 118,
   "metadata": {},
   "outputs": [],
   "source": [
    "total_experts = 5"
   ]
  },
  {
   "cell_type": "code",
   "execution_count": 119,
   "metadata": {},
   "outputs": [],
   "source": [
    "num_epochs = 20"
   ]
  },
  {
   "cell_type": "code",
   "execution_count": 120,
   "metadata": {
    "scrolled": true,
    "tags": []
   },
   "outputs": [
    {
     "name": "stdout",
     "output_type": "stream",
     "text": [
      "RUN for split: 07_19_24_38_56\n",
      "mnist_pre_trained_10K_10_5_07_19_24_38_56_expert_model.pt\n",
      "Model: moe_expectation_model 5 Experts\n",
      "Building model with pre-trained experts\n",
      "model params: 26063\n",
      "epoch 0 training loss 1.07 , training accuracy 0.67 , test accuracy 0.75\n",
      "epoch 1 training loss 0.52 , training accuracy 0.84 , test accuracy 0.82\n",
      "epoch 2 training loss 0.36 , training accuracy 0.89 , test accuracy 0.86\n",
      "epoch 3 training loss 0.28 , training accuracy 0.92 , test accuracy 0.89\n",
      "epoch 4 training loss 0.23 , training accuracy 0.93 , test accuracy 0.89\n",
      "epoch 5 training loss 0.20 , training accuracy 0.94 , test accuracy 0.90\n",
      "epoch 6 training loss 0.18 , training accuracy 0.95 , test accuracy 0.90\n",
      "epoch 7 training loss 0.15 , training accuracy 0.96 , test accuracy 0.90\n",
      "epoch 8 training loss 0.14 , training accuracy 0.96 , test accuracy 0.91\n",
      "epoch 9 training loss 0.13 , training accuracy 0.97 , test accuracy 0.90\n",
      "epoch 10 training loss 0.11 , training accuracy 0.97 , test accuracy 0.92\n",
      "epoch 11 training loss 0.10 , training accuracy 0.97 , test accuracy 0.92\n",
      "epoch 12 training loss 0.09 , training accuracy 0.98 , test accuracy 0.92\n",
      "epoch 13 training loss 0.09 , training accuracy 0.98 , test accuracy 0.92\n",
      "epoch 14 training loss 0.08 , training accuracy 0.98 , test accuracy 0.92\n",
      "epoch 15 training loss 0.07 , training accuracy 0.98 , test accuracy 0.92\n",
      "epoch 16 training loss 0.07 , training accuracy 0.98 , test accuracy 0.92\n",
      "epoch 17 training loss 0.06 , training accuracy 0.98 , test accuracy 0.92\n",
      "epoch 18 training loss 0.06 , training accuracy 0.98 , test accuracy 0.92\n",
      "epoch 19 training loss 0.06 , training accuracy 0.98 , test accuracy 0.93\n",
      "Building model with pre-trained gate and new experts initialized to same parameters as experts used to train the gate\n",
      "epoch 0 training loss 1.09 , training accuracy 0.64 , test accuracy 0.89\n",
      "epoch 1 training loss 0.14 , training accuracy 0.96 , test accuracy 0.92\n",
      "epoch 2 training loss 0.09 , training accuracy 0.97 , test accuracy 0.92\n",
      "epoch 3 training loss 0.08 , training accuracy 0.98 , test accuracy 0.93\n",
      "epoch 4 training loss 0.07 , training accuracy 0.98 , test accuracy 0.92\n",
      "epoch 5 training loss 0.06 , training accuracy 0.98 , test accuracy 0.92\n",
      "epoch 6 training loss 0.06 , training accuracy 0.98 , test accuracy 0.92\n",
      "epoch 7 training loss 0.06 , training accuracy 0.98 , test accuracy 0.93\n",
      "epoch 8 training loss 0.06 , training accuracy 0.98 , test accuracy 0.92\n",
      "epoch 9 training loss 0.05 , training accuracy 0.98 , test accuracy 0.93\n",
      "epoch 10 training loss 0.05 , training accuracy 0.99 , test accuracy 0.92\n",
      "epoch 11 training loss 0.05 , training accuracy 0.99 , test accuracy 0.93\n",
      "epoch 12 training loss 0.05 , training accuracy 0.99 , test accuracy 0.92\n",
      "epoch 13 training loss 0.05 , training accuracy 0.99 , test accuracy 0.93\n",
      "epoch 14 training loss 0.05 , training accuracy 0.99 , test accuracy 0.92\n",
      "epoch 15 training loss 0.05 , training accuracy 0.99 , test accuracy 0.92\n",
      "epoch 16 training loss 0.05 , training accuracy 0.99 , test accuracy 0.93\n",
      "epoch 17 training loss 0.04 , training accuracy 0.99 , test accuracy 0.93\n",
      "epoch 18 training loss 0.04 , training accuracy 0.99 , test accuracy 0.92\n",
      "epoch 19 training loss 0.04 , training accuracy 0.99 , test accuracy 0.93\n",
      "Building model with pre-trained gate and new experts initialized to default parameters\n",
      "epoch 0 training loss 0.94 , training accuracy 0.68 , test accuracy 0.83\n",
      "epoch 1 training loss 0.23 , training accuracy 0.89 , test accuracy 0.84\n",
      "epoch 2 training loss 0.20 , training accuracy 0.89 , test accuracy 0.84\n",
      "epoch 3 training loss 0.19 , training accuracy 0.90 , test accuracy 0.86\n",
      "epoch 4 training loss 0.18 , training accuracy 0.90 , test accuracy 0.84\n",
      "epoch 5 training loss 0.17 , training accuracy 0.90 , test accuracy 0.85\n",
      "epoch 6 training loss 0.14 , training accuracy 0.94 , test accuracy 0.92\n",
      "epoch 7 training loss 0.10 , training accuracy 0.98 , test accuracy 0.92\n",
      "epoch 8 training loss 0.07 , training accuracy 0.98 , test accuracy 0.92\n",
      "epoch 9 training loss 0.06 , training accuracy 0.98 , test accuracy 0.92\n",
      "epoch 10 training loss 0.06 , training accuracy 0.98 , test accuracy 0.92\n",
      "epoch 11 training loss 0.06 , training accuracy 0.98 , test accuracy 0.92\n",
      "epoch 12 training loss 0.05 , training accuracy 0.98 , test accuracy 0.92\n",
      "epoch 13 training loss 0.05 , training accuracy 0.99 , test accuracy 0.92\n",
      "epoch 14 training loss 0.05 , training accuracy 0.98 , test accuracy 0.93\n",
      "epoch 15 training loss 0.05 , training accuracy 0.99 , test accuracy 0.93\n",
      "epoch 16 training loss 0.05 , training accuracy 0.99 , test accuracy 0.92\n",
      "epoch 17 training loss 0.05 , training accuracy 0.99 , test accuracy 0.92\n",
      "epoch 18 training loss 0.05 , training accuracy 0.99 , test accuracy 0.93\n",
      "epoch 19 training loss 0.05 , training accuracy 0.99 , test accuracy 0.92\n",
      "RUN for split: 46_17_29_38_05\n",
      "mnist_pre_trained_10K_10_5_46_17_29_38_05_expert_model.pt\n",
      "Model: moe_expectation_model 5 Experts\n",
      "Building model with pre-trained experts\n",
      "model params: 26063\n",
      "epoch 0 training loss 0.87 , training accuracy 0.75 , test accuracy 0.82\n",
      "epoch 1 training loss 0.39 , training accuracy 0.88 , test accuracy 0.86\n",
      "epoch 2 training loss 0.31 , training accuracy 0.91 , test accuracy 0.87\n",
      "epoch 3 training loss 0.26 , training accuracy 0.93 , test accuracy 0.88\n",
      "epoch 4 training loss 0.23 , training accuracy 0.93 , test accuracy 0.89\n",
      "epoch 5 training loss 0.20 , training accuracy 0.94 , test accuracy 0.90\n",
      "epoch 6 training loss 0.18 , training accuracy 0.95 , test accuracy 0.90\n",
      "epoch 7 training loss 0.16 , training accuracy 0.95 , test accuracy 0.91\n",
      "epoch 8 training loss 0.15 , training accuracy 0.96 , test accuracy 0.90\n",
      "epoch 9 training loss 0.14 , training accuracy 0.96 , test accuracy 0.91\n",
      "epoch 10 training loss 0.13 , training accuracy 0.97 , test accuracy 0.91\n",
      "epoch 11 training loss 0.12 , training accuracy 0.97 , test accuracy 0.91\n",
      "epoch 12 training loss 0.11 , training accuracy 0.97 , test accuracy 0.91\n",
      "epoch 13 training loss 0.10 , training accuracy 0.97 , test accuracy 0.91\n",
      "epoch 14 training loss 0.09 , training accuracy 0.98 , test accuracy 0.90\n",
      "epoch 15 training loss 0.09 , training accuracy 0.98 , test accuracy 0.91\n",
      "epoch 16 training loss 0.08 , training accuracy 0.98 , test accuracy 0.91\n",
      "epoch 17 training loss 0.08 , training accuracy 0.98 , test accuracy 0.92\n",
      "epoch 18 training loss 0.08 , training accuracy 0.98 , test accuracy 0.91\n",
      "epoch 19 training loss 0.07 , training accuracy 0.98 , test accuracy 0.91\n",
      "Building model with pre-trained gate and new experts initialized to same parameters as experts used to train the gate\n",
      "epoch 0 training loss 0.94 , training accuracy 0.73 , test accuracy 0.88\n",
      "epoch 1 training loss 0.14 , training accuracy 0.96 , test accuracy 0.90\n",
      "epoch 2 training loss 0.10 , training accuracy 0.97 , test accuracy 0.91\n",
      "epoch 3 training loss 0.08 , training accuracy 0.98 , test accuracy 0.91\n",
      "epoch 4 training loss 0.08 , training accuracy 0.98 , test accuracy 0.90\n",
      "epoch 5 training loss 0.07 , training accuracy 0.98 , test accuracy 0.91\n",
      "epoch 6 training loss 0.07 , training accuracy 0.98 , test accuracy 0.91\n",
      "epoch 7 training loss 0.07 , training accuracy 0.98 , test accuracy 0.91\n",
      "epoch 8 training loss 0.06 , training accuracy 0.98 , test accuracy 0.91\n",
      "epoch 9 training loss 0.06 , training accuracy 0.98 , test accuracy 0.92\n",
      "epoch 10 training loss 0.06 , training accuracy 0.98 , test accuracy 0.91\n",
      "epoch 11 training loss 0.06 , training accuracy 0.98 , test accuracy 0.91\n",
      "epoch 12 training loss 0.06 , training accuracy 0.98 , test accuracy 0.91\n",
      "epoch 13 training loss 0.06 , training accuracy 0.98 , test accuracy 0.92\n",
      "epoch 14 training loss 0.05 , training accuracy 0.99 , test accuracy 0.91\n",
      "epoch 15 training loss 0.05 , training accuracy 0.99 , test accuracy 0.91\n",
      "epoch 16 training loss 0.05 , training accuracy 0.99 , test accuracy 0.91\n",
      "epoch 17 training loss 0.05 , training accuracy 0.99 , test accuracy 0.91\n",
      "epoch 18 training loss 0.05 , training accuracy 0.99 , test accuracy 0.92\n",
      "epoch 19 training loss 0.05 , training accuracy 0.99 , test accuracy 0.91\n",
      "Building model with pre-trained gate and new experts initialized to default parameters\n",
      "epoch 0 training loss 1.04 , training accuracy 0.56 , test accuracy 0.64\n",
      "epoch 1 training loss 0.46 , training accuracy 0.74 , test accuracy 0.69\n",
      "epoch 2 training loss 0.38 , training accuracy 0.77 , test accuracy 0.72\n",
      "epoch 3 training loss 0.35 , training accuracy 0.79 , test accuracy 0.72\n",
      "epoch 4 training loss 0.32 , training accuracy 0.83 , test accuracy 0.78\n",
      "epoch 5 training loss 0.27 , training accuracy 0.88 , test accuracy 0.79\n",
      "epoch 6 training loss 0.22 , training accuracy 0.90 , test accuracy 0.86\n",
      "epoch 7 training loss 0.17 , training accuracy 0.95 , test accuracy 0.91\n",
      "epoch 8 training loss 0.12 , training accuracy 0.97 , test accuracy 0.91\n",
      "epoch 9 training loss 0.09 , training accuracy 0.98 , test accuracy 0.91\n",
      "epoch 10 training loss 0.07 , training accuracy 0.98 , test accuracy 0.91\n",
      "epoch 11 training loss 0.07 , training accuracy 0.98 , test accuracy 0.92\n",
      "epoch 12 training loss 0.06 , training accuracy 0.98 , test accuracy 0.91\n",
      "epoch 13 training loss 0.06 , training accuracy 0.98 , test accuracy 0.92\n",
      "epoch 14 training loss 0.06 , training accuracy 0.99 , test accuracy 0.91\n",
      "epoch 15 training loss 0.06 , training accuracy 0.98 , test accuracy 0.92\n",
      "epoch 16 training loss 0.05 , training accuracy 0.99 , test accuracy 0.92\n",
      "epoch 17 training loss 0.05 , training accuracy 0.99 , test accuracy 0.92\n",
      "epoch 18 training loss 0.05 , training accuracy 0.99 , test accuracy 0.92\n",
      "epoch 19 training loss 0.05 , training accuracy 0.99 , test accuracy 0.92\n",
      "RUN for split: 47_06_38_12_59\n",
      "mnist_pre_trained_10K_10_5_47_06_38_12_59_expert_model.pt\n",
      "Model: moe_expectation_model 5 Experts\n",
      "Building model with pre-trained experts\n",
      "model params: 26063\n",
      "epoch 0 training loss 0.94 , training accuracy 0.74 , test accuracy 0.82\n",
      "epoch 1 training loss 0.44 , training accuracy 0.87 , test accuracy 0.83\n",
      "epoch 2 training loss 0.37 , training accuracy 0.89 , test accuracy 0.86\n",
      "epoch 3 training loss 0.32 , training accuracy 0.91 , test accuracy 0.87\n",
      "epoch 4 training loss 0.28 , training accuracy 0.92 , test accuracy 0.88\n",
      "epoch 5 training loss 0.25 , training accuracy 0.93 , test accuracy 0.89\n",
      "epoch 6 training loss 0.22 , training accuracy 0.94 , test accuracy 0.89\n",
      "epoch 7 training loss 0.20 , training accuracy 0.94 , test accuracy 0.89\n",
      "epoch 8 training loss 0.18 , training accuracy 0.95 , test accuracy 0.90\n",
      "epoch 9 training loss 0.17 , training accuracy 0.95 , test accuracy 0.89\n",
      "epoch 10 training loss 0.15 , training accuracy 0.96 , test accuracy 0.90\n",
      "epoch 11 training loss 0.14 , training accuracy 0.96 , test accuracy 0.90\n",
      "epoch 12 training loss 0.13 , training accuracy 0.96 , test accuracy 0.90\n",
      "epoch 13 training loss 0.12 , training accuracy 0.97 , test accuracy 0.90\n",
      "epoch 14 training loss 0.11 , training accuracy 0.97 , test accuracy 0.90\n",
      "epoch 15 training loss 0.11 , training accuracy 0.97 , test accuracy 0.91\n",
      "epoch 16 training loss 0.10 , training accuracy 0.97 , test accuracy 0.91\n",
      "epoch 17 training loss 0.09 , training accuracy 0.97 , test accuracy 0.91\n",
      "epoch 18 training loss 0.10 , training accuracy 0.97 , test accuracy 0.90\n",
      "epoch 19 training loss 0.09 , training accuracy 0.98 , test accuracy 0.90\n",
      "Building model with pre-trained gate and new experts initialized to same parameters as experts used to train the gate\n",
      "epoch 0 training loss 0.99 , training accuracy 0.58 , test accuracy 0.63\n",
      "epoch 1 training loss 0.39 , training accuracy 0.88 , test accuracy 0.86\n",
      "epoch 2 training loss 0.16 , training accuracy 0.95 , test accuracy 0.89\n",
      "epoch 3 training loss 0.12 , training accuracy 0.97 , test accuracy 0.90\n",
      "epoch 4 training loss 0.10 , training accuracy 0.97 , test accuracy 0.89\n",
      "epoch 5 training loss 0.10 , training accuracy 0.97 , test accuracy 0.90\n",
      "epoch 6 training loss 0.09 , training accuracy 0.98 , test accuracy 0.90\n",
      "epoch 7 training loss 0.08 , training accuracy 0.98 , test accuracy 0.90\n",
      "epoch 8 training loss 0.08 , training accuracy 0.98 , test accuracy 0.90\n",
      "epoch 9 training loss 0.08 , training accuracy 0.98 , test accuracy 0.91\n",
      "epoch 10 training loss 0.08 , training accuracy 0.98 , test accuracy 0.90\n",
      "epoch 11 training loss 0.07 , training accuracy 0.98 , test accuracy 0.90\n",
      "epoch 12 training loss 0.07 , training accuracy 0.98 , test accuracy 0.90\n",
      "epoch 13 training loss 0.07 , training accuracy 0.98 , test accuracy 0.89\n",
      "epoch 14 training loss 0.07 , training accuracy 0.98 , test accuracy 0.91\n",
      "epoch 15 training loss 0.07 , training accuracy 0.98 , test accuracy 0.90\n",
      "epoch 16 training loss 0.07 , training accuracy 0.98 , test accuracy 0.91\n",
      "epoch 17 training loss 0.06 , training accuracy 0.98 , test accuracy 0.91\n",
      "epoch 18 training loss 0.06 , training accuracy 0.98 , test accuracy 0.91\n",
      "epoch 19 training loss 0.06 , training accuracy 0.98 , test accuracy 0.91\n",
      "Building model with pre-trained gate and new experts initialized to default parameters\n",
      "epoch 0 training loss 0.94 , training accuracy 0.61 , test accuracy 0.67\n",
      "epoch 1 training loss 0.40 , training accuracy 0.80 , test accuracy 0.77\n",
      "epoch 2 training loss 0.30 , training accuracy 0.85 , test accuracy 0.80\n",
      "epoch 3 training loss 0.21 , training accuracy 0.91 , test accuracy 0.86\n",
      "epoch 4 training loss 0.16 , training accuracy 0.96 , test accuracy 0.87\n",
      "epoch 5 training loss 0.11 , training accuracy 0.97 , test accuracy 0.90\n",
      "epoch 6 training loss 0.09 , training accuracy 0.98 , test accuracy 0.90\n",
      "epoch 7 training loss 0.08 , training accuracy 0.98 , test accuracy 0.91\n",
      "epoch 8 training loss 0.07 , training accuracy 0.98 , test accuracy 0.90\n",
      "epoch 9 training loss 0.07 , training accuracy 0.98 , test accuracy 0.90\n",
      "epoch 10 training loss 0.06 , training accuracy 0.98 , test accuracy 0.91\n",
      "epoch 11 training loss 0.07 , training accuracy 0.98 , test accuracy 0.91\n",
      "epoch 12 training loss 0.06 , training accuracy 0.98 , test accuracy 0.91\n",
      "epoch 13 training loss 0.06 , training accuracy 0.98 , test accuracy 0.91\n",
      "epoch 14 training loss 0.06 , training accuracy 0.98 , test accuracy 0.91\n",
      "epoch 15 training loss 0.06 , training accuracy 0.99 , test accuracy 0.91\n",
      "epoch 16 training loss 0.06 , training accuracy 0.98 , test accuracy 0.91\n",
      "epoch 17 training loss 0.05 , training accuracy 0.99 , test accuracy 0.91\n",
      "epoch 18 training loss 0.05 , training accuracy 0.98 , test accuracy 0.91\n",
      "epoch 19 training loss 0.05 , training accuracy 0.99 , test accuracy 0.91\n",
      "RUN for split: 58_69_13_02_47\n",
      "mnist_pre_trained_10K_10_5_58_69_13_02_47_expert_model.pt\n",
      "Model: moe_expectation_model 5 Experts\n",
      "Building model with pre-trained experts\n",
      "model params: 26063\n",
      "epoch 0 training loss 0.90 , training accuracy 0.73 , test accuracy 0.81\n",
      "epoch 1 training loss 0.43 , training accuracy 0.87 , test accuracy 0.85\n",
      "epoch 2 training loss 0.34 , training accuracy 0.90 , test accuracy 0.87\n",
      "epoch 3 training loss 0.28 , training accuracy 0.92 , test accuracy 0.88\n",
      "epoch 4 training loss 0.24 , training accuracy 0.93 , test accuracy 0.90\n",
      "epoch 5 training loss 0.21 , training accuracy 0.94 , test accuracy 0.90\n",
      "epoch 6 training loss 0.18 , training accuracy 0.95 , test accuracy 0.91\n",
      "epoch 7 training loss 0.16 , training accuracy 0.96 , test accuracy 0.91\n",
      "epoch 8 training loss 0.15 , training accuracy 0.96 , test accuracy 0.92\n",
      "epoch 9 training loss 0.13 , training accuracy 0.97 , test accuracy 0.92\n",
      "epoch 10 training loss 0.12 , training accuracy 0.97 , test accuracy 0.93\n",
      "epoch 11 training loss 0.11 , training accuracy 0.97 , test accuracy 0.92\n",
      "epoch 12 training loss 0.10 , training accuracy 0.97 , test accuracy 0.92\n",
      "epoch 13 training loss 0.09 , training accuracy 0.98 , test accuracy 0.92\n",
      "epoch 14 training loss 0.08 , training accuracy 0.98 , test accuracy 0.92\n",
      "epoch 15 training loss 0.07 , training accuracy 0.98 , test accuracy 0.93\n",
      "epoch 16 training loss 0.06 , training accuracy 0.99 , test accuracy 0.93\n",
      "epoch 17 training loss 0.06 , training accuracy 0.99 , test accuracy 0.92\n",
      "epoch 18 training loss 0.05 , training accuracy 0.99 , test accuracy 0.92\n",
      "epoch 19 training loss 0.05 , training accuracy 0.99 , test accuracy 0.92\n",
      "Building model with pre-trained gate and new experts initialized to same parameters as experts used to train the gate\n",
      "epoch 0 training loss 1.03 , training accuracy 0.71 , test accuracy 0.88\n",
      "epoch 1 training loss 0.13 , training accuracy 0.97 , test accuracy 0.91\n",
      "epoch 2 training loss 0.08 , training accuracy 0.98 , test accuracy 0.92\n",
      "epoch 3 training loss 0.06 , training accuracy 0.98 , test accuracy 0.92\n",
      "epoch 4 training loss 0.05 , training accuracy 0.99 , test accuracy 0.92\n",
      "epoch 5 training loss 0.05 , training accuracy 0.99 , test accuracy 0.92\n",
      "epoch 6 training loss 0.04 , training accuracy 0.99 , test accuracy 0.92\n",
      "epoch 7 training loss 0.04 , training accuracy 0.99 , test accuracy 0.92\n",
      "epoch 8 training loss 0.03 , training accuracy 0.99 , test accuracy 0.92\n",
      "epoch 9 training loss 0.03 , training accuracy 0.99 , test accuracy 0.92\n",
      "epoch 10 training loss 0.03 , training accuracy 0.99 , test accuracy 0.92\n",
      "epoch 11 training loss 0.03 , training accuracy 0.99 , test accuracy 0.92\n",
      "epoch 12 training loss 0.03 , training accuracy 0.99 , test accuracy 0.92\n",
      "epoch 13 training loss 0.02 , training accuracy 0.99 , test accuracy 0.92\n",
      "epoch 14 training loss 0.02 , training accuracy 0.99 , test accuracy 0.92\n",
      "epoch 15 training loss 0.02 , training accuracy 1.00 , test accuracy 0.92\n",
      "epoch 16 training loss 0.02 , training accuracy 0.99 , test accuracy 0.92\n",
      "epoch 17 training loss 0.02 , training accuracy 1.00 , test accuracy 0.92\n",
      "epoch 18 training loss 0.02 , training accuracy 1.00 , test accuracy 0.92\n",
      "epoch 19 training loss 0.02 , training accuracy 1.00 , test accuracy 0.92\n",
      "Building model with pre-trained gate and new experts initialized to default parameters\n",
      "epoch 0 training loss 1.02 , training accuracy 0.66 , test accuracy 0.81\n",
      "epoch 1 training loss 0.25 , training accuracy 0.91 , test accuracy 0.89\n",
      "epoch 2 training loss 0.11 , training accuracy 0.97 , test accuracy 0.91\n",
      "epoch 3 training loss 0.09 , training accuracy 0.97 , test accuracy 0.91\n",
      "epoch 4 training loss 0.08 , training accuracy 0.98 , test accuracy 0.91\n",
      "epoch 5 training loss 0.08 , training accuracy 0.98 , test accuracy 0.91\n",
      "epoch 6 training loss 0.07 , training accuracy 0.98 , test accuracy 0.91\n",
      "epoch 7 training loss 0.07 , training accuracy 0.98 , test accuracy 0.91\n",
      "epoch 8 training loss 0.06 , training accuracy 0.98 , test accuracy 0.92\n",
      "epoch 9 training loss 0.06 , training accuracy 0.98 , test accuracy 0.91\n",
      "epoch 10 training loss 0.06 , training accuracy 0.98 , test accuracy 0.92\n",
      "epoch 11 training loss 0.05 , training accuracy 0.98 , test accuracy 0.91\n",
      "epoch 12 training loss 0.05 , training accuracy 0.98 , test accuracy 0.91\n",
      "epoch 13 training loss 0.05 , training accuracy 0.98 , test accuracy 0.91\n",
      "epoch 14 training loss 0.05 , training accuracy 0.98 , test accuracy 0.91\n",
      "epoch 15 training loss 0.05 , training accuracy 0.99 , test accuracy 0.92\n",
      "epoch 16 training loss 0.05 , training accuracy 0.99 , test accuracy 0.92\n",
      "epoch 17 training loss 0.05 , training accuracy 0.99 , test accuracy 0.92\n",
      "epoch 18 training loss 0.05 , training accuracy 0.99 , test accuracy 0.91\n",
      "epoch 19 training loss 0.04 , training accuracy 0.99 , test accuracy 0.92\n",
      "RUN for split: 28_36_05_47_19\n",
      "mnist_pre_trained_10K_10_5_28_36_05_47_19_expert_model.pt\n",
      "Model: moe_expectation_model 5 Experts\n",
      "Building model with pre-trained experts\n",
      "model params: 26063\n",
      "epoch 0 training loss 1.17 , training accuracy 0.61 , test accuracy 0.71\n",
      "epoch 1 training loss 0.51 , training accuracy 0.84 , test accuracy 0.85\n",
      "epoch 2 training loss 0.33 , training accuracy 0.90 , test accuracy 0.88\n",
      "epoch 3 training loss 0.26 , training accuracy 0.92 , test accuracy 0.89\n",
      "epoch 4 training loss 0.22 , training accuracy 0.94 , test accuracy 0.90\n",
      "epoch 5 training loss 0.19 , training accuracy 0.94 , test accuracy 0.91\n",
      "epoch 6 training loss 0.18 , training accuracy 0.95 , test accuracy 0.91\n",
      "epoch 7 training loss 0.15 , training accuracy 0.96 , test accuracy 0.91\n",
      "epoch 8 training loss 0.14 , training accuracy 0.96 , test accuracy 0.92\n",
      "epoch 9 training loss 0.13 , training accuracy 0.97 , test accuracy 0.92\n",
      "epoch 10 training loss 0.12 , training accuracy 0.97 , test accuracy 0.92\n",
      "epoch 11 training loss 0.11 , training accuracy 0.97 , test accuracy 0.91\n",
      "epoch 12 training loss 0.10 , training accuracy 0.97 , test accuracy 0.92\n",
      "epoch 13 training loss 0.09 , training accuracy 0.98 , test accuracy 0.93\n",
      "epoch 14 training loss 0.08 , training accuracy 0.98 , test accuracy 0.93\n",
      "epoch 15 training loss 0.08 , training accuracy 0.98 , test accuracy 0.93\n",
      "epoch 16 training loss 0.07 , training accuracy 0.98 , test accuracy 0.93\n",
      "epoch 17 training loss 0.06 , training accuracy 0.98 , test accuracy 0.93\n",
      "epoch 18 training loss 0.06 , training accuracy 0.98 , test accuracy 0.93\n",
      "epoch 19 training loss 0.06 , training accuracy 0.98 , test accuracy 0.93\n",
      "Building model with pre-trained gate and new experts initialized to same parameters as experts used to train the gate\n",
      "epoch 0 training loss 1.09 , training accuracy 0.60 , test accuracy 0.82\n",
      "epoch 1 training loss 0.20 , training accuracy 0.96 , test accuracy 0.91\n",
      "epoch 2 training loss 0.09 , training accuracy 0.98 , test accuracy 0.92\n",
      "epoch 3 training loss 0.07 , training accuracy 0.98 , test accuracy 0.93\n",
      "epoch 4 training loss 0.06 , training accuracy 0.98 , test accuracy 0.93\n",
      "epoch 5 training loss 0.06 , training accuracy 0.98 , test accuracy 0.93\n",
      "epoch 6 training loss 0.05 , training accuracy 0.98 , test accuracy 0.93\n",
      "epoch 7 training loss 0.05 , training accuracy 0.99 , test accuracy 0.93\n",
      "epoch 8 training loss 0.05 , training accuracy 0.98 , test accuracy 0.93\n",
      "epoch 9 training loss 0.05 , training accuracy 0.99 , test accuracy 0.93\n",
      "epoch 10 training loss 0.05 , training accuracy 0.99 , test accuracy 0.93\n",
      "epoch 11 training loss 0.05 , training accuracy 0.99 , test accuracy 0.93\n",
      "epoch 12 training loss 0.04 , training accuracy 0.99 , test accuracy 0.93\n",
      "epoch 13 training loss 0.04 , training accuracy 0.99 , test accuracy 0.93\n",
      "epoch 14 training loss 0.04 , training accuracy 0.99 , test accuracy 0.93\n",
      "epoch 15 training loss 0.04 , training accuracy 0.99 , test accuracy 0.93\n",
      "epoch 16 training loss 0.04 , training accuracy 0.99 , test accuracy 0.93\n",
      "epoch 17 training loss 0.04 , training accuracy 0.99 , test accuracy 0.93\n",
      "epoch 18 training loss 0.04 , training accuracy 0.99 , test accuracy 0.93\n",
      "epoch 19 training loss 0.04 , training accuracy 0.99 , test accuracy 0.93\n",
      "Building model with pre-trained gate and new experts initialized to default parameters\n",
      "epoch 0 training loss 1.04 , training accuracy 0.64 , test accuracy 0.81\n",
      "epoch 1 training loss 0.27 , training accuracy 0.88 , test accuracy 0.84\n",
      "epoch 2 training loss 0.20 , training accuracy 0.89 , test accuracy 0.83\n",
      "epoch 3 training loss 0.19 , training accuracy 0.90 , test accuracy 0.83\n",
      "epoch 4 training loss 0.18 , training accuracy 0.90 , test accuracy 0.84\n",
      "epoch 5 training loss 0.17 , training accuracy 0.91 , test accuracy 0.87\n",
      "epoch 6 training loss 0.14 , training accuracy 0.96 , test accuracy 0.92\n",
      "epoch 7 training loss 0.10 , training accuracy 0.98 , test accuracy 0.92\n",
      "epoch 8 training loss 0.07 , training accuracy 0.98 , test accuracy 0.92\n",
      "epoch 9 training loss 0.06 , training accuracy 0.98 , test accuracy 0.92\n",
      "epoch 10 training loss 0.06 , training accuracy 0.98 , test accuracy 0.93\n",
      "epoch 11 training loss 0.06 , training accuracy 0.98 , test accuracy 0.93\n",
      "epoch 12 training loss 0.05 , training accuracy 0.98 , test accuracy 0.93\n",
      "epoch 13 training loss 0.05 , training accuracy 0.98 , test accuracy 0.93\n",
      "epoch 14 training loss 0.05 , training accuracy 0.98 , test accuracy 0.92\n",
      "epoch 15 training loss 0.05 , training accuracy 0.98 , test accuracy 0.93\n",
      "epoch 16 training loss 0.05 , training accuracy 0.99 , test accuracy 0.93\n",
      "epoch 17 training loss 0.05 , training accuracy 0.99 , test accuracy 0.93\n",
      "epoch 18 training loss 0.05 , training accuracy 0.99 , test accuracy 0.93\n",
      "epoch 19 training loss 0.05 , training accuracy 0.99 , test accuracy 0.93\n"
     ]
    }
   ],
   "source": [
    "# Train models model_4, model_5 and model_6 for the different splits of the digits shown above.\n",
    "T = [1.0]*20\n",
    "#re_trained_expert = 'mnist_pre_trained_10K'\n",
    "n_split_models_1 = []\n",
    "n_split_models_2 = []\n",
    "n_split_models_3 = []\n",
    "\n",
    "for classes_per_expert in classes_per_expert_list:\n",
    "    n_split_models = []\n",
    "\n",
    "    print('RUN for split:', classes_per_expert_str(classes_per_expert))\n",
    "\n",
    "    models = {\n",
    "        'moe_expectation_model':{'model':moe_expectation_model,'loss':cross_entropy_loss(),'experts':{}},\n",
    "        }\n",
    "\n",
    "    models_gate_pretrained_same_wts = {\n",
    "        'moe_expectation_model':{'model':moe_expectation_model,'loss':cross_entropy_loss(),'experts':{}},\n",
    "        }\n",
    "\n",
    "    models_gate_pretrained_rand_wts = {\n",
    "        'moe_expectation_model':{'model':moe_expectation_model,'loss':cross_entropy_loss(),'experts':{}},\n",
    "        }\n",
    "\n",
    "    # Load the pre-trained experts for the corresponding split\n",
    "    plot_file = generate_plot_file(pre_trained_expert, specific=str(num_classes)+'_'+str(total_experts)+'_'+classes_per_expert_str(classes_per_expert)+'_expert_model.pt')\n",
    "    print(plot_file)\n",
    "    expert_models, expert_models_copy = torch.load(os.path.join(model_path, plot_file), map_location=device)\n",
    "\n",
    "    for i, expert in enumerate(expert_models):\n",
    "        for param in expert.parameters():\n",
    "            param.requires_grad = False\n",
    "            \n",
    "    for key, val in models.items():\n",
    "        print('Model:', key, total_experts, 'Experts')\n",
    "        print('Building model with pre-trained experts')\n",
    "\n",
    "        expert_models = expert_models.to(device)\n",
    "\n",
    "        gate_model = gate_layers(total_experts)\n",
    "\n",
    "        moe_model = val['model'](total_experts, num_classes, \n",
    "                                 experts=expert_models, gate=gate_model)\n",
    "\n",
    "        params = [p.numel() for p in moe_model.parameters() if p.requires_grad]\n",
    "        print('model params:', sum(params))\n",
    "\n",
    "        optimizer_moe = optim.Adam(moe_model.parameters(), lr=0.001, amsgrad=False)\n",
    "\n",
    "        hist = moe_model.train(trainloader, testloader,  val['loss'], optimizer_moe, T=T,\n",
    "                               accuracy=accuracy, epochs=num_epochs)\n",
    "        val['experts'][total_experts] = {'model':moe_model, 'history':hist}\n",
    "\n",
    "    plot_file = generate_plot_file(model_4, specific=str(num_classes)+'_'+str(total_experts)+'_models.pt')\n",
    "\n",
    "    if os.path.exists(os.path.join(model_path, plot_file)):\n",
    "        n_split_models_1 = torch.load(open(os.path.join(model_path, plot_file),'rb'))\n",
    "\n",
    "    n_split_models_1.append(models)\n",
    "    torch.save(n_split_models_1,open(os.path.join(model_path, plot_file),'wb'))\n",
    "    n_split_models_1 = []\n",
    "    \n",
    "    for key, val in models_gate_pretrained_same_wts.items():\n",
    "\n",
    "        print('Building model with pre-trained gate and new experts initialized to same parameters as experts used to train the gate')\n",
    "\n",
    "        # copy parameters of the experts\n",
    "        expert_models = expert_models_copy\n",
    "\n",
    "        # load the pre-trained gate\n",
    "        gate_model = models[key]['experts'][total_experts]['model'].gate\n",
    "\n",
    "        # Fix the gate parameters\n",
    "        for param in gate_model.parameters():\n",
    "            param.requires_grad = False\n",
    "\n",
    "        moe_model = val['model'](total_experts, num_classes, augment=0, attention_flag=0, \n",
    "                                 experts=expert_models, gate=gate_model)\n",
    "\n",
    "        optimizer_moe = optim.Adam(moe_model.parameters(), lr=0.001, amsgrad=False)\n",
    "        \n",
    "        hist = moe_model.train(trainloader, testloader,  val['loss'], optimizer_moe, T=T, \n",
    "                               accuracy=accuracy, epochs=num_epochs)\n",
    "        val['experts'][total_experts] = {'model':moe_model, 'history':hist}\n",
    "\n",
    "    plot_file = generate_plot_file(model_5, specific=str(num_classes)+'_'+str(total_experts)+'_models.pt')\n",
    "\n",
    "    if os.path.exists(os.path.join(model_path, plot_file)):\n",
    "        n_split_models_2 = torch.load(open(os.path.join(model_path, plot_file),'rb'))\n",
    "\n",
    "    n_split_models_2.append(models_gate_pretrained_same_wts)\n",
    "    torch.save(n_split_models_2,open(os.path.join(model_path, plot_file),'wb'))\n",
    "    n_split_models_2 = []\n",
    "\n",
    "\n",
    "    for key, val in models_gate_pretrained_rand_wts.items():\n",
    "        print('Building model with pre-trained gate and new experts initialized to default parameters')\n",
    "\n",
    "        # initialize the expert parameters to default parameters\n",
    "        expert_models = experts(total_experts, num_classes).to(device)\n",
    "\n",
    "        # load the pre-trained gate\n",
    "        gate_model = models[key]['experts'][total_experts]['model'].gate\n",
    "\n",
    "        # Fix the gate parameters\n",
    "        for param in gate_model.parameters():\n",
    "            param.requires_grad = False\n",
    "\n",
    "        moe_model = val['model'](total_experts, num_classes, augment=0, attention_flag=0, \n",
    "                                 experts=expert_models, gate=gate_model)\n",
    "\n",
    "        optimizer_moe = optim.Adam(moe_model.parameters(), lr=0.001, amsgrad=False)\n",
    "        \n",
    "        hist = moe_model.train(trainloader, testloader,  val['loss'], optimizer_moe, T=T,\n",
    "                               accuracy=accuracy, epochs=num_epochs)\n",
    "        val['experts'][total_experts] = {'model':moe_model, 'history':hist}\n",
    "    \n",
    "    plot_file = generate_plot_file(model_6, specific=str(num_classes)+'_'+str(total_experts)+'_models.pt')\n",
    "\n",
    "    if os.path.exists(os.path.join(model_path, plot_file)):\n",
    "        n_split_models_3 = torch.load(open(os.path.join(model_path, plot_file),'rb'))\n",
    "\n",
    "    n_split_models_3.append(models_gate_pretrained_rand_wts)\n",
    "    torch.save(n_split_models_3,open(os.path.join(model_path, plot_file),'wb'))\n",
    "    n_split_models_3 = []\n",
    "    "
   ]
  },
  {
   "cell_type": "markdown",
   "metadata": {},
   "source": [
    "### Jump to [Results](#Results) if you just want to run pre-trained models and see the results"
   ]
  },
  {
   "cell_type": "code",
   "execution_count": 69,
   "metadata": {},
   "outputs": [],
   "source": [
    "total_experts = 5"
   ]
  },
  {
   "cell_type": "code",
   "execution_count": 70,
   "metadata": {},
   "outputs": [],
   "source": [
    "num_epochs = 20"
   ]
  },
  {
   "cell_type": "code",
   "execution_count": 71,
   "metadata": {},
   "outputs": [],
   "source": [
    "model_7 = 'mnist_with_reg'"
   ]
  },
  {
   "cell_type": "code",
   "execution_count": null,
   "metadata": {
    "tags": []
   },
   "outputs": [],
   "source": [
    "# Train the MoE model with gate coefficient of variation regularization\n",
    "\n",
    "# Enable regularization\n",
    "w_importance = 1.0\n",
    "\n",
    "print('w_importance', w_importance)\n",
    "models = {\n",
    "    'moe_expectation_model':{'model':moe_expectation_model,'loss':cross_entropy_loss,'experts':{}},\n",
    "    }\n",
    "\n",
    "for key, val in models.items():\n",
    "    print('Model:', key, total_experts, 'Experts')\n",
    "    expert_models = experts(total_experts, [None]*total_experts, num_classes, \n",
    "                            [num_classes]*total_experts).to(device)\n",
    "\n",
    "    gate_model = gate_layers(total_experts, num_classes).to(device)\n",
    "\n",
    "    moe_model = val['model'](total_experts, num_classes, augment=0, attention_flag=0,\n",
    "                             experts=expert_models, gate=gate_model)\n",
    "\n",
    "    params = [p.numel() for p in moe_model.parameters() if p.requires_grad]\n",
    "    print('model params:', sum(params))\n",
    "\n",
    "    optimizer_moe = optim.RMSprop(moe_model.parameters(),\n",
    "                              lr=0.001, momentum=0.9)\n",
    "    hist = moe_model.train(trainloader, testloader,  val['loss'], optimizer_moe, \n",
    "                           w_importance=w_importance, accuracy=accuracy, epochs=num_epochs)\n",
    "    val['experts'][total_experts] = {'model':moe_model, 'history':hist}\n",
    "\n",
    "plot_file = generate_plot_file(model_7, str(num_classes)+'_'+str(total_experts)+'_models.pt')\n",
    "torch.save(models, open(os.path.join(model_path, plot_file),'wb'))\n",
    "w_importance = 0.0"
   ]
  },
  {
   "cell_type": "markdown",
   "metadata": {},
   "source": [
    "## Results"
   ]
  },
  {
   "cell_type": "markdown",
   "metadata": {},
   "source": [
    "### Collect the test error, train loss, mutual information $I(E;Y)$, sample entropy $H_s$ and expert usage entropy $H_u$ for all the models trained with MNIST dataset. Store the reuslts in the '../results/mnist_pretrained_results.csv' file."
   ]
  },
  {
   "cell_type": "code",
   "execution_count": 50,
   "metadata": {},
   "outputs": [],
   "source": [
    "def expert_usage_entropy(history, total_experts=5, num_epochs=20):\n",
    "    gate_probability = torch.vstack(history['gate_probabilities']).view(num_epochs, -1, total_experts)\n",
    "    gate_probabilities_sum = torch.mean(gate_probability[-1,:,:].view(-1, total_experts), dim=0)\n",
    "    return entropy(gate_probabilities_sum).item()"
   ]
  },
  {
   "cell_type": "code",
   "execution_count": 54,
   "metadata": {},
   "outputs": [],
   "source": [
    "import csv\n",
    "from helper import moe_models\n",
    "\n",
    "def collect_results(m, temps=[1.0], w_importance_range=[0.0], w_ortho_range=[0.0], \n",
    "                    w_sample_sim_same_range=[0.0], w_sample_sim_diff_range=[0.0],\n",
    "                    total_experts=5, num_classes=10, num_epochs=20, \n",
    "                    testloader=None, model_path=None, results_path=None, filename='mnist_pretrained_results.csv'):\n",
    "    \n",
    "    filename = os.path.join(results_path, filename)\n",
    "    \n",
    "    if os.path.exists(filename):\n",
    "        p = 'a'\n",
    "    else:\n",
    "        p = 'w'\n",
    "        \n",
    "    header = ['filename', 'test error','training loss', 'mutual information', 'sample entropy', 'experts usage']\n",
    "    \n",
    "    with open(filename, p) as f:\n",
    "                \n",
    "        writer = csv.writer(f)        \n",
    "        \n",
    "        if p == 'w':            \n",
    "            writer.writerow(header)\n",
    "        \n",
    "        for w_importance, w_sample_sim_same, w_sample_sim_diff in product(w_importance_range, w_sample_sim_same_range, w_sample_sim_diff_range):\n",
    "            plot_file = generate_plot_file(m, w_importance=w_importance, w_sample_sim_same=w_sample_sim_same, w_sample_sim_diff=w_sample_sim_diff, \n",
    "                                           specific=str(num_classes)+'_'+str(total_experts)+'_models.pt')\n",
    "\n",
    "            models = torch.load(open(os.path.join(pre_trained_model_path, 'mnist', plot_file),'rb'), map_location=device)\n",
    "            for _ in range(len(models)):\n",
    "                mod = models.pop()\n",
    "                data = [plot_file]    \n",
    "                # model\n",
    "                model = mod['moe_expectation_model']['experts'][total_experts]['model']\n",
    "                # history\n",
    "                history = mod['moe_expectation_model']['experts'][total_experts]['history']\n",
    "                \n",
    "                running_test_accuracy = 0.0\n",
    "                running_entropy = 0.0\n",
    "                num_batches = 0\n",
    "                \n",
    "                # initialise the count matrix C for computing mutual information\n",
    "                ey =  torch.zeros((num_classes, total_experts)).to(device)\n",
    "                for test_inputs, test_labels in testloader:\n",
    "                    test_inputs, test_labels = test_inputs.to(device, non_blocking=True), test_labels.to(device, non_blocking=True)                \n",
    "                    outputs = model(test_inputs)\n",
    "                    running_test_accuracy += accuracy(outputs, test_labels)\n",
    "                    \n",
    "                    selected_experts = torch.argmax(model.gate_outputs, dim=1)\n",
    "                    y = test_labels\n",
    "                    e = selected_experts\n",
    "                    for j in range(y.shape[0]):\n",
    "                        ey[int(torch.argmax(model.expert_outputs[j,e[j],:])), int(e[j])] += 1\n",
    "\n",
    "                    running_entropy += moe_models.entropy(model.gate_outputs)\n",
    "                    \n",
    "                    num_batches+=1\n",
    " \n",
    "                mutual_EY,_,_,_ = moe_models.mutual_information(ey.detach())\n",
    "    \n",
    "                test_error = 1-(running_test_accuracy/num_batches)\n",
    "                training_loss = history['loss'][-1]\n",
    "                data.append(test_error.item())\n",
    "                data.append(training_loss.item())\n",
    "                data.append(mutual_EY.item())\n",
    "                \n",
    "                data.append(running_entropy.item()/num_batches)\n",
    "                gate_probabilities_sum = torch.mean(model.gate_outputs, dim=0)            \n",
    "                data.append(entropy(gate_probabilities_sum).item())\n",
    "                \n",
    "                writer.writerow(data)\n",
    "            \n",
    "            "
   ]
  },
  {
   "cell_type": "markdown",
   "metadata": {},
   "source": [
    "#### Collect results for all the trained models"
   ]
  },
  {
   "cell_type": "code",
   "execution_count": 52,
   "metadata": {},
   "outputs": [],
   "source": [
    "total_experts = 5\n",
    "num_classes = 10\n",
    "num_epochs = 20"
   ]
  },
  {
   "cell_type": "code",
   "execution_count": 55,
   "metadata": {},
   "outputs": [],
   "source": [
    "models = ['mnist_scratch', 'mnist_pretrained_gate_scratch_same_wts', 'mnist_pretrained_gate_scratch_rand_wts',\n",
    "         'mnist_pretrained_gate_prechosen', 'mnist_pretrained_gate_prechosen_same_wts', 'mnist_pretrained_gate_prechosen_rand_wts']\n",
    "for m in models:\n",
    "    collect_results(m, total_experts=total_experts, num_classes=num_classes, num_epochs=num_epochs, \n",
    "                    testloader=testloader, model_path=model_path, results_path=results_path)"
   ]
  },
  {
   "cell_type": "markdown",
   "metadata": {},
   "source": [
    "### Final results"
   ]
  },
  {
   "cell_type": "markdown",
   "metadata": {},
   "source": [
    "#### These are the final average performance for each category of the trained MoE model."
   ]
  },
  {
   "cell_type": "code",
   "execution_count": 64,
   "metadata": {},
   "outputs": [],
   "source": [
    "import pandas as pd\n",
    "filename = os.path.join(results_path, 'mnist_pretrained_results.csv')\n",
    "data = pd.read_csv(filename)"
   ]
  },
  {
   "cell_type": "code",
   "execution_count": 67,
   "metadata": {},
   "outputs": [],
   "source": [
    "models = ['mnist_scratch', 'mnist_pretrained_gate_scratch_same_wts', 'mnist_pretrained_gate_scratch_rand_wts',\n",
    "         'mnist_pretrained_gate_prechosen', 'mnist_pretrained_gate_prechosen_same_wts', 'mnist_pretrained_gate_prechosen_rand_wts']\n",
    "\n",
    "final_results_file =  os.path.join(results_path, 'mnist_final_pretrained_results.csv')\n",
    "\n",
    "for m in models:\n",
    "    row = data[data['filename'].str.startswith(m)].mean(numeric_only=True).to_frame().T\n",
    "    row.insert(0,'filename',m)\n",
    "    row.to_csv(final_results_file, mode='a', index=False, float_format='%.2f')"
   ]
  },
  {
   "cell_type": "code",
   "execution_count": 68,
   "metadata": {},
   "outputs": [
    {
     "data": {
      "text/html": [
       "<div>\n",
       "<style scoped>\n",
       "    .dataframe tbody tr th:only-of-type {\n",
       "        vertical-align: middle;\n",
       "    }\n",
       "\n",
       "    .dataframe tbody tr th {\n",
       "        vertical-align: top;\n",
       "    }\n",
       "\n",
       "    .dataframe thead th {\n",
       "        text-align: right;\n",
       "    }\n",
       "</style>\n",
       "<table border=\"1\" class=\"dataframe\">\n",
       "  <thead>\n",
       "    <tr style=\"text-align: right;\">\n",
       "      <th></th>\n",
       "      <th>filename</th>\n",
       "      <th>test error</th>\n",
       "      <th>training loss</th>\n",
       "      <th>mutual information</th>\n",
       "      <th>sample entropy</th>\n",
       "      <th>experts usage</th>\n",
       "    </tr>\n",
       "  </thead>\n",
       "  <tbody>\n",
       "    <tr>\n",
       "      <th>0</th>\n",
       "      <td>mnist_scratch</td>\n",
       "      <td>0.09</td>\n",
       "      <td>0.13</td>\n",
       "      <td>1.51</td>\n",
       "      <td>0.24</td>\n",
       "      <td>1.91</td>\n",
       "    </tr>\n",
       "    <tr>\n",
       "      <th>1</th>\n",
       "      <td>filename</td>\n",
       "      <td>test error</td>\n",
       "      <td>training loss</td>\n",
       "      <td>mutual information</td>\n",
       "      <td>sample entropy</td>\n",
       "      <td>experts usage</td>\n",
       "    </tr>\n",
       "    <tr>\n",
       "      <th>2</th>\n",
       "      <td>mnist_pretrained_gate_scratch_same_wts</td>\n",
       "      <td>0.09</td>\n",
       "      <td>0.13</td>\n",
       "      <td>1.54</td>\n",
       "      <td>0.24</td>\n",
       "      <td>1.91</td>\n",
       "    </tr>\n",
       "    <tr>\n",
       "      <th>3</th>\n",
       "      <td>filename</td>\n",
       "      <td>test error</td>\n",
       "      <td>training loss</td>\n",
       "      <td>mutual information</td>\n",
       "      <td>sample entropy</td>\n",
       "      <td>experts usage</td>\n",
       "    </tr>\n",
       "    <tr>\n",
       "      <th>4</th>\n",
       "      <td>mnist_pretrained_gate_scratch_rand_wts</td>\n",
       "      <td>0.12</td>\n",
       "      <td>0.19</td>\n",
       "      <td>1.56</td>\n",
       "      <td>0.24</td>\n",
       "      <td>1.91</td>\n",
       "    </tr>\n",
       "    <tr>\n",
       "      <th>5</th>\n",
       "      <td>filename</td>\n",
       "      <td>test error</td>\n",
       "      <td>training loss</td>\n",
       "      <td>mutual information</td>\n",
       "      <td>sample entropy</td>\n",
       "      <td>experts usage</td>\n",
       "    </tr>\n",
       "    <tr>\n",
       "      <th>6</th>\n",
       "      <td>mnist_pretrained_gate_prechosen</td>\n",
       "      <td>0.08</td>\n",
       "      <td>0.05</td>\n",
       "      <td>2.32</td>\n",
       "      <td>0.11</td>\n",
       "      <td>2.32</td>\n",
       "    </tr>\n",
       "    <tr>\n",
       "      <th>7</th>\n",
       "      <td>filename</td>\n",
       "      <td>test error</td>\n",
       "      <td>training loss</td>\n",
       "      <td>mutual information</td>\n",
       "      <td>sample entropy</td>\n",
       "      <td>experts usage</td>\n",
       "    </tr>\n",
       "    <tr>\n",
       "      <th>8</th>\n",
       "      <td>mnist_pretrained_gate_prechosen_same_wts</td>\n",
       "      <td>0.08</td>\n",
       "      <td>0.04</td>\n",
       "      <td>2.32</td>\n",
       "      <td>0.11</td>\n",
       "      <td>2.32</td>\n",
       "    </tr>\n",
       "    <tr>\n",
       "      <th>9</th>\n",
       "      <td>filename</td>\n",
       "      <td>test error</td>\n",
       "      <td>training loss</td>\n",
       "      <td>mutual information</td>\n",
       "      <td>sample entropy</td>\n",
       "      <td>experts usage</td>\n",
       "    </tr>\n",
       "    <tr>\n",
       "      <th>10</th>\n",
       "      <td>mnist_pretrained_gate_prechosen_rand_wts</td>\n",
       "      <td>0.08</td>\n",
       "      <td>0.05</td>\n",
       "      <td>2.32</td>\n",
       "      <td>0.11</td>\n",
       "      <td>2.32</td>\n",
       "    </tr>\n",
       "  </tbody>\n",
       "</table>\n",
       "</div>"
      ],
      "text/plain": [
       "                                    filename  test error  training loss  \\\n",
       "0                              mnist_scratch        0.09           0.13   \n",
       "1                                   filename  test error  training loss   \n",
       "2     mnist_pretrained_gate_scratch_same_wts        0.09           0.13   \n",
       "3                                   filename  test error  training loss   \n",
       "4     mnist_pretrained_gate_scratch_rand_wts        0.12           0.19   \n",
       "5                                   filename  test error  training loss   \n",
       "6            mnist_pretrained_gate_prechosen        0.08           0.05   \n",
       "7                                   filename  test error  training loss   \n",
       "8   mnist_pretrained_gate_prechosen_same_wts        0.08           0.04   \n",
       "9                                   filename  test error  training loss   \n",
       "10  mnist_pretrained_gate_prechosen_rand_wts        0.08           0.05   \n",
       "\n",
       "    mutual information  sample entropy  experts usage  \n",
       "0                 1.51            0.24           1.91  \n",
       "1   mutual information  sample entropy  experts usage  \n",
       "2                 1.54            0.24           1.91  \n",
       "3   mutual information  sample entropy  experts usage  \n",
       "4                 1.56            0.24           1.91  \n",
       "5   mutual information  sample entropy  experts usage  \n",
       "6                 2.32            0.11           2.32  \n",
       "7   mutual information  sample entropy  experts usage  \n",
       "8                 2.32            0.11           2.32  \n",
       "9   mutual information  sample entropy  experts usage  \n",
       "10                2.32            0.11           2.32  "
      ]
     },
     "execution_count": 68,
     "metadata": {},
     "output_type": "execute_result"
    }
   ],
   "source": [
    "data = pd.read_csv(os.path.join(results_path,final_results_file))\n",
    "data"
   ]
  },
  {
   "cell_type": "markdown",
   "metadata": {},
   "source": [
    "### Plot the confusion matrix for the class predictions, for test data, of the MoE model trained with a linear gate and un-trained linear experts. We plot the results for one of the 10 models we trained."
   ]
  },
  {
   "cell_type": "code",
   "execution_count": 69,
   "metadata": {
    "tags": []
   },
   "outputs": [
    {
     "name": "stdout",
     "output_type": "stream",
     "text": [
      "Model: mnist_scratch_10_5_models.pt\n",
      "\n",
      "Confusion matrix of predictions of the MNIST test data by MoE expectation model\n"
     ]
    },
    {
     "data": {
      "image/png": "[encoded data removed]",
      "text/plain": [
       "<Figure size 432x288 with 2 Axes>"
      ]
     },
     "metadata": {
      "needs_background": "light"
     },
     "output_type": "display_data"
    },
    {
     "name": "stdout",
     "output_type": "stream",
     "text": [
      "\n",
      "Experts used by the gate for classification of each digit\n"
     ]
    },
    {
     "data": {
      "image/png": "[encoded data removed]",
      "text/plain": [
       "<Figure size 576x288 with 2 Axes>"
      ]
     },
     "metadata": {
      "needs_background": "light"
     },
     "output_type": "display_data"
    }
   ],
   "source": [
    "from sklearn.metrics import confusion_matrix\n",
    "import seaborn as sns\n",
    "\n",
    "model_1 = 'mnist_scratch'\n",
    "\n",
    "m = model_1\n",
    "n_runs = 5\n",
    "n_run = 1\n",
    "total_experts = 5\n",
    "plot_file = generate_plot_file(m, specific=str(num_classes)+'_'+str(total_experts)+'_models.pt')\n",
    "\n",
    "# Note: Here we are loading the pre-trained model from 'pre_trained_model_path. Change this to 'model_path' to load the \n",
    "# model you build above\n",
    "models_scratch = torch.load(open(os.path.join(pre_trained_model_path, 'mnist', plot_file),'rb'), map_location=device)\n",
    "print('Model:', plot_file)\n",
    "\n",
    "# Plotting for the model of the first run\n",
    "model = models_scratch[0]\n",
    "for e_key, e_val in model.items():\n",
    "    cmap = sns.color_palette(\"ch:s=.25,rot=-.25\", as_cmap=True)\n",
    "\n",
    "    for images, labels in testloader:\n",
    "        fig1,ax1 = plt.subplots(1, 1, sharex=False, sharey=False, figsize=(6,4))\n",
    "        images, labels = images.to(device), labels.to(device)\n",
    "        moe_model = e_val['experts'][total_experts]['model']\n",
    "        \n",
    "        # predict the classes for test data\n",
    "        pred = moe_model(images)\n",
    "        pred_labels = torch.argmax(pred, dim=1)\n",
    "\n",
    "        expert_outputs = moe_model.expert_outputs\n",
    "        gate_outputs = moe_model.gate_outputs\n",
    "\n",
    "        # plot the confusion matrix\n",
    "        print('\\nConfusion matrix of predictions of the MNIST test data by MoE expectation model')\n",
    "        sns.heatmap(confusion_matrix(labels.cpu(), pred_labels.cpu()), annot=True, ax=ax1, cmap=cmap, fmt='d', annot_kws={\"size\": 14})\n",
    "        ax1.set_xticklabels(ax1.get_xticklabels(), fontsize=16)\n",
    "        ax1.set_yticklabels(ax1.get_yticklabels(), fontsize=16)\n",
    "        image_file = generate_plot_file(m, specific='conf_mat_run_'+str(n_run)+'_'+str(num_classes)+'_'+str(total_experts)+'_experts.png')\n",
    "        fig1.savefig(os.path.join(fig_path, image_file))\n",
    "        plt.show()\n",
    "        \n",
    "        fig2,ax2 = plt.subplots(1, 1, sharex=False, sharey=False, figsize=(8,4))\n",
    "\n",
    "        # get the experts selected by the gate for each sample\n",
    "        pred_gate_labels = torch.argmax(gate_outputs, dim=1)\n",
    "\n",
    "        # plot the expert selection table\n",
    "        print('\\nExperts used by the gate for classification of each digit')\n",
    "        class_expert_table = np.asarray([[0] * num_classes]*total_experts)\n",
    "        for label, expert in zip(labels, pred_gate_labels):\n",
    "            class_expert_table[expert,label] += 1\n",
    "        sns.heatmap(class_expert_table, yticklabels=['E'+str(i) for i in range(1,total_experts+1)], annot=True, cmap=cmap, fmt='d',annot_kws={\"size\": 14}, ax=ax2)\n",
    "        ax2.set_xlabel('Classes', fontsize=16)\n",
    "        ax2.set_ylabel('Experts',fontsize=16)\n",
    "        ax2.set_xticklabels(ax2.get_xticklabels(), fontsize=16)\n",
    "        ax2.set_yticklabels(ax2.get_yticklabels(), fontsize=16)\n",
    "        image_file = generate_plot_file(m, specific='class_expert_table_run_'+str(n_run)+'_'+str(num_classes)+'_'+str(total_experts)+'_experts.png')\n",
    "        plt.tight_layout()\n",
    "        fig2.savefig(os.path.join(fig_path, image_file))\n",
    "        plt.show()"
   ]
  },
  {
   "cell_type": "markdown",
   "metadata": {},
   "source": [
    "### Experts selected by the gate for MNIST test data classification, for each digit, by models trained with pre-trained experts trained on 5 different splits of the 10 digits."
   ]
  },
  {
   "cell_type": "code",
   "execution_count": 70,
   "metadata": {
    "tags": []
   },
   "outputs": [],
   "source": [
    "# Pre-defined class split among experts\n",
    "classes_per_expert_list = [[[0, 7], [1, 9], [2, 4], [3, 8], [5, 6]],\n",
    " [[4, 6], [1, 7], [2, 9], [3, 8], [0, 5]],\n",
    " [[4, 7], [0, 6], [3, 8], [1, 2], [5, 9]],\n",
    " [[5, 8], [6, 9], [1, 3], [0, 2], [4, 7]],\n",
    " [[2, 8], [3, 6], [0, 5], [4, 7], [1, 9]]]\n",
    "\n",
    "class_expert_map = []\n",
    "for cpe in classes_per_expert_list:\n",
    "    entry = {c[0]:c[1] for c in cpe}\n",
    "    class_expert_map.append(entry)"
   ]
  },
  {
   "cell_type": "code",
   "execution_count": 74,
   "metadata": {
    "tags": []
   },
   "outputs": [
    {
     "name": "stdout",
     "output_type": "stream",
     "text": [
      "Model: mnist_pretrained_gate_prechosen_10_5_models.pt\n",
      "\n",
      "Split: [[0, 7], [1, 9], [2, 4], [3, 8], [5, 6]]\n"
     ]
    },
    {
     "data": {
      "image/png": "[encoded data removed]",
      "text/plain": [
       "<Figure size 576x288 with 2 Axes>"
      ]
     },
     "metadata": {
      "needs_background": "light"
     },
     "output_type": "display_data"
    },
    {
     "name": "stdout",
     "output_type": "stream",
     "text": [
      "\n",
      "Split: [[4, 6], [1, 7], [2, 9], [3, 8], [0, 5]]\n"
     ]
    },
    {
     "data": {
      "image/png": "[encoded data removed]",
      "text/plain": [
       "<Figure size 576x288 with 2 Axes>"
      ]
     },
     "metadata": {
      "needs_background": "light"
     },
     "output_type": "display_data"
    },
    {
     "name": "stdout",
     "output_type": "stream",
     "text": [
      "\n",
      "Split: [[4, 7], [0, 6], [3, 8], [1, 2], [5, 9]]\n"
     ]
    },
    {
     "data": {
      "image/png": "[encoded data removed]",
      "text/plain": [
       "<Figure size 576x288 with 2 Axes>"
      ]
     },
     "metadata": {
      "needs_background": "light"
     },
     "output_type": "display_data"
    },
    {
     "name": "stdout",
     "output_type": "stream",
     "text": [
      "\n",
      "Split: [[5, 8], [6, 9], [1, 3], [0, 2], [4, 7]]\n"
     ]
    },
    {
     "data": {
      "image/png": "[encoded data removed]",
      "text/plain": [
       "<Figure size 576x288 with 2 Axes>"
      ]
     },
     "metadata": {
      "needs_background": "light"
     },
     "output_type": "display_data"
    },
    {
     "name": "stdout",
     "output_type": "stream",
     "text": [
      "\n",
      "Split: [[2, 8], [3, 6], [0, 5], [4, 7], [1, 9]]\n"
     ]
    },
    {
     "data": {
      "image/png": "[encoded data removed]",
      "text/plain": [
       "<Figure size 576x288 with 2 Axes>"
      ]
     },
     "metadata": {
      "needs_background": "light"
     },
     "output_type": "display_data"
    }
   ],
   "source": [
    "from sklearn.metrics import confusion_matrix\n",
    "import seaborn as sns\n",
    "\n",
    "model_4 = 'mnist_pretrained_gate_prechosen'\n",
    "\n",
    "m = model_4\n",
    "total_experts = 5\n",
    "plot_file = generate_plot_file(m, specific=str(num_classes)+'_'+str(total_experts)+'_models.pt')\n",
    "\n",
    "# Note: Here we are loading the pre-trained model from 'pre_trained_model_path. Change this to 'model_path' to load the \n",
    "# model you build above\n",
    "models_prechosen = torch.load(open(os.path.join(pre_trained_model_path, 'mnist', plot_file),'rb'), map_location=device)\n",
    "print('Model:', plot_file)\n",
    "\n",
    "for classes_per_expert, model in zip(classes_per_expert_list, models_prechosen):\n",
    "    print('\\nSplit:', classes_per_expert)\n",
    "    for e_key, e_val in model.items():\n",
    "        cmap = sns.color_palette(\"ch:s=.25,rot=-.25\", as_cmap=True)\n",
    "\n",
    "        for images, labels in testloader:\n",
    "            fig1,ax1 = plt.subplots(1, 1, sharex=False, sharey=False, figsize=(8,4))\n",
    "            images, labels = images.to(device), labels.to(device)\n",
    "            moe_model = e_val['experts'][total_experts]['model']\n",
    "\n",
    "            pred = moe_model(images)\n",
    "            pred_labels = torch.argmax(pred, dim=1)\n",
    "\n",
    "            expert_outputs = moe_model.expert_outputs\n",
    "            gate_outputs = moe_model.gate_outputs\n",
    "\n",
    "            pred_gate_labels = torch.argmax(gate_outputs, dim=1)\n",
    "\n",
    "            class_expert_table = np.asarray([[0] * num_classes]*total_experts)\n",
    "            for label, expert in zip(labels, pred_gate_labels):\n",
    "                class_expert_table[expert,label] += 1\n",
    "            sns.heatmap(class_expert_table, yticklabels=['E'+str(i) for i in range(1,total_experts+1)], annot=True, cmap=cmap, fmt='d', annot_kws={\"size\": 14}, ax=ax1)\n",
    "            ax1.set_xlabel('Classes', fontsize=16)\n",
    "            ax1.set_ylabel('Experts',fontsize=16)\n",
    "            ax1.set_xticklabels(ax1.get_xticklabels(), fontsize=16)\n",
    "            ax1.set_yticklabels(ax1.get_yticklabels(), fontsize=16)\n",
    "            image_file = generate_plot_file(m, specific='class_expert_table_'+classes_per_expert_str(classes_per_expert)+'_'+str(num_classes)+'_'+str(total_experts)+'_experts.png')\n",
    "            plt.tight_layout()\n",
    "            fig1.savefig(os.path.join(fig_path, image_file))\n",
    "            plt.show()"
   ]
  }
 ],
 "metadata": {
  "@webio": {
   "lastCommId": null,
   "lastKernelId": null
  },
  "kernelspec": {
   "display_name": "mnn",
   "language": "python",
   "name": "mnn"
  },
  "language_info": {
   "codemirror_mode": {
    "name": "ipython",
    "version": 3
   },
   "file_extension": ".py",
   "mimetype": "text/x-python",
   "name": "python",
   "nbconvert_exporter": "python",
   "pygments_lexer": "ipython3",
   "version": "3.9.13"
  },
  "latex_envs": {
   "LaTeX_envs_menu_present": true,
   "autoclose": false,
   "autocomplete": true,
   "bibliofile": "biblio.bib",
   "cite_by": "apalike",
   "current_citInitial": 1,
   "eqLabelWithNumbers": true,
   "eqNumInitial": 1,
   "hotkeys": {
    "equation": "Ctrl-E",
    "itemize": "Ctrl-I"
   },
   "labels_anchors": false,
   "latex_user_defs": false,
   "report_style_numbering": false,
   "user_envs_cfg": false
  }
 },
 "nbformat": 4,
 "nbformat_minor": 4
}
