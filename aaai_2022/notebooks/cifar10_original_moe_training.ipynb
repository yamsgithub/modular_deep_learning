{
 "cells": [
  {
   "cell_type": "markdown",
   "metadata": {},
   "source": [
    "# Experiments with CIFAR-10 Dataset and Original MoE"
   ]
  },
  {
   "cell_type": "markdown",
   "metadata": {},
   "source": [
    "The experiments in this notebook include training the original MoE models as follows:\n",
    "\n",
    "1. original MoE without regularization.\n",
    "2. original MoE with $L_{importance}$ regularization.\n",
    "3. original MoE with $L_s$ regularization.\n",
    "4. train a single model."
   ]
  },
  {
   "cell_type": "code",
   "execution_count": 63,
   "metadata": {},
   "outputs": [],
   "source": [
    "import time\n",
    "import numpy as np\n",
    "import matplotlib.pyplot as plt\n",
    "from matplotlib.ticker import FormatStrFormatter\n",
    "import matplotlib.cm as cm  # colormaps\n",
    "\n",
    "%matplotlib inline"
   ]
  },
  {
   "cell_type": "code",
   "execution_count": 64,
   "metadata": {},
   "outputs": [],
   "source": [
    "import seaborn as sns\n",
    "import numpy as np\n",
    "from statistics import mean\n",
    "from math import ceil, sin, cos, radians\n",
    "from collections import OrderedDict\n",
    "import os\n",
    "import pandas as pd\n",
    "from pprint import pprint\n",
    "from copy import deepcopy"
   ]
  },
  {
   "cell_type": "code",
   "execution_count": 65,
   "metadata": {},
   "outputs": [],
   "source": [
    "import torch\n",
    "import torchvision\n",
    "import torch.nn as nn\n",
    "import torch.nn.functional as F\n",
    "\n",
    "import torch.optim as optim\n",
    "from torch.optim import lr_scheduler\n",
    "\n",
    "from torch.utils.data import TensorDataset\n",
    "import torchvision.transforms.functional as TF\n",
    "import torchvision.transforms as transforms"
   ]
  },
  {
   "cell_type": "code",
   "execution_count": 66,
   "metadata": {},
   "outputs": [
    {
     "name": "stdout",
     "output_type": "stream",
     "text": [
      "device cuda:1\n"
     ]
    }
   ],
   "source": [
    "if torch.cuda.is_available():\n",
    "    device = torch.device(\"cuda:1\")\n",
    "    print('device', device)\n",
    "else:\n",
    "    device = torch.device(\"cpu\")\n",
    "    print('device', device)"
   ]
  },
  {
   "cell_type": "code",
   "execution_count": 67,
   "metadata": {},
   "outputs": [],
   "source": [
    "# import MoE expectation model. All experiments for this dataset are done with the expectation model as it\n",
    "# provides the best guarantee of interpretable task decompositions\n",
    "\n",
    "from helper.moe_models import cross_entropy_loss\n",
    "from moe_models.moe_top_k_model import moe_top_k_model\n",
    "from moe_models.moe_models_base import default_optimizer\n",
    "from helper.visualise_results import *\n",
    "from helper.moe_models import *"
   ]
  },
  {
   "cell_type": "markdown",
   "metadata": {},
   "source": [
    "### NOTE: Pre-trained models are provided to check the results of all the experiments if you do not have the time to train all the models. "
   ]
  },
  {
   "cell_type": "markdown",
   "metadata": {},
   "source": [
    "## Load CIFAR10 dataset"
   ]
  },
  {
   "cell_type": "code",
   "execution_count": 68,
   "metadata": {},
   "outputs": [],
   "source": [
    "# Paths to where the trained models and figures will be stored. You can change this as you see fit.\n",
    "fig_path = '../figures/cifar10'\n",
    "model_path = '../models/cifar10'\n",
    "pre_trained_model_path = '../models/pre_trained/cifar10'\n",
    "results_path = '../results/cifar10'\n",
    "\n",
    "if not os.path.exists(fig_path):\n",
    "    os.mkdir(fig_path)\n",
    "if not os.path.exists(model_path):\n",
    "    os.mkdir(model_path)\n",
    "if not os.path.exists(results_path):\n",
    "    os.mkdir(results_path)    "
   ]
  },
  {
   "cell_type": "code",
   "execution_count": 69,
   "metadata": {},
   "outputs": [],
   "source": [
    "stats = ((0.49,0.48, 0.45),(0.25, 0.24, 0.26))\n",
    "train_transform = transforms.Compose([\n",
    "    transforms.RandomHorizontalFlip(),\n",
    "    transforms.RandomCrop(32,padding=4,padding_mode=\"reflect\"),\n",
    "    transforms.ToTensor(),\n",
    "    transforms.Normalize(*stats)\n",
    "])\n",
    "\n",
    "test_transform = transforms.Compose([\n",
    "    transforms.ToTensor(),\n",
    "    transforms.Normalize(*stats)\n",
    "])"
   ]
  },
  {
   "cell_type": "code",
   "execution_count": 70,
   "metadata": {
    "scrolled": true,
    "tags": []
   },
   "outputs": [
    {
     "name": "stdout",
     "output_type": "stream",
     "text": [
      "Files already downloaded and verified\n",
      "Files already downloaded and verified\n"
     ]
    },
    {
     "data": {
      "text/plain": [
       "(Dataset CIFAR10\n",
       "     Number of datapoints: 10000\n",
       "     Root location: ./data\n",
       "     Split: Test\n",
       "     StandardTransform\n",
       " Transform: Compose(\n",
       "                ToTensor()\n",
       "                Normalize(mean=(0.49, 0.48, 0.45), std=(0.25, 0.24, 0.26))\n",
       "            ),\n",
       " Dataset CIFAR10\n",
       "     Number of datapoints: 50000\n",
       "     Root location: ./data\n",
       "     Split: Train\n",
       "     StandardTransform\n",
       " Transform: Compose(\n",
       "                RandomHorizontalFlip(p=0.5)\n",
       "                RandomCrop(size=(32, 32), padding=4)\n",
       "                ToTensor()\n",
       "                Normalize(mean=(0.49, 0.48, 0.45), std=(0.25, 0.24, 0.26))\n",
       "            ))"
      ]
     },
     "execution_count": 70,
     "metadata": {},
     "output_type": "execute_result"
    }
   ],
   "source": [
    "cifar10_trainset = torchvision.datasets.CIFAR10(root='./data', train=True, download=True, transform=train_transform)\n",
    "cifar10_testset = torchvision.datasets.CIFAR10(root='./data', train=False, download=True, transform=test_transform)\n",
    "cifar10_testset, cifar10_trainset"
   ]
  },
  {
   "cell_type": "code",
   "execution_count": 71,
   "metadata": {},
   "outputs": [],
   "source": [
    "num_classes = 10"
   ]
  },
  {
   "cell_type": "code",
   "execution_count": 72,
   "metadata": {},
   "outputs": [],
   "source": [
    "trainsize = 50000\n",
    "testsize =10000"
   ]
  },
  {
   "cell_type": "code",
   "execution_count": 73,
   "metadata": {},
   "outputs": [],
   "source": [
    "batch_size = 256"
   ]
  },
  {
   "cell_type": "code",
   "execution_count": 74,
   "metadata": {},
   "outputs": [],
   "source": [
    "cifar10_trainloader = torch.utils.data.DataLoader(torch.utils.data.Subset(cifar10_trainset, range(trainsize)), batch_size=batch_size,\n",
    "                                          shuffle=True, num_workers=2, pin_memory=True)\n",
    "cifar10_testloader = torch.utils.data.DataLoader(torch.utils.data.Subset(cifar10_testset, range(testsize)), batch_size=batch_size,\n",
    "                                         shuffle=True, num_workers=2, pin_memory=True)"
   ]
  },
  {
   "cell_type": "code",
   "execution_count": 75,
   "metadata": {},
   "outputs": [],
   "source": [
    "classes_cifar10 = ['airplane', 'automobile', 'bird', 'cat', 'deer', 'dog', 'frog', 'horse', 'ship', 'truck']"
   ]
  },
  {
   "cell_type": "code",
   "execution_count": 76,
   "metadata": {},
   "outputs": [],
   "source": [
    "#Function to display the images\n",
    "def plot_colour_images(images_to_plot, titles=None, nrows=None, ncols=6, thefigsize=(18,18)):\n",
    "    # images_to_plot: list of images to be displayed\n",
    "    # titles: list of titles corresponding to the images\n",
    "    # ncols: The number of images per row to display. The number of rows \n",
    "    #        is computed from the number of images to display and the ncols\n",
    "    # theFigsize: The size of the layour of all the displayed images\n",
    "    \n",
    "    n_images = images_to_plot.shape[0]\n",
    "    \n",
    "    # Compute the number of rows\n",
    "    if nrows is None:\n",
    "        nrows = np.ceil(n_images/ncols).astype(int)\n",
    "    \n",
    "    fig,ax = plt.subplots(nrows, ncols, sharex=True, sharey=True, figsize=thefigsize)\n",
    "    ax = ax.flatten()\n",
    "    \n",
    "    for i in range(n_images):\n",
    "        img = images_to_plot[i,:,:,:]\n",
    "        npimg = np.clip(img.numpy(),0,1)\n",
    "        ax[i].imshow(npimg)\n",
    "        ax[i].axis('off')  \n",
    "        if titles is not None and i<10:\n",
    "            ax[i].set_title(titles[i%10])"
   ]
  },
  {
   "cell_type": "code",
   "execution_count": 77,
   "metadata": {},
   "outputs": [
    {
     "data": {
      "image/png": "[encoded data removed]",
      "text/plain": [
       "<Figure size 1500x800 with 50 Axes>"
      ]
     },
     "metadata": {},
     "output_type": "display_data"
    }
   ],
   "source": [
    "# get some random training images\n",
    "dataiter = iter(cifar10_trainloader)\n",
    "images, labels = dataiter.next()\n",
    "\n",
    "images_to_plot = []\n",
    "for i in range(0, len(classes_cifar10)):\n",
    "    # pick images of each class\n",
    "    index = np.where(labels==i)[0]\n",
    "    if i == 0:\n",
    "        images_to_plot.append(images[index[0:5],:,:])\n",
    "    else:\n",
    "        images_to_plot.append(images[index[0:5],:,:])\n",
    "images_to_plot = torch.transpose(torch.stack(images_to_plot),0,1)\n",
    "new_shape = images_to_plot.shape\n",
    "images_to_plot = images_to_plot.reshape(new_shape[0]*new_shape[1], new_shape[2], new_shape[3], new_shape[4])\n",
    "images_to_plot = images_to_plot.permute(0,2,3,1)\n",
    "\n",
    "plot_colour_images(images_to_plot, nrows=5, ncols=10,thefigsize=(15,8), titles=classes_cifar10)\n",
    "    \n"
   ]
  },
  {
   "cell_type": "markdown",
   "metadata": {},
   "source": [
    "## Define expert and gate networks"
   ]
  },
  {
   "cell_type": "code",
   "execution_count": 78,
   "metadata": {
    "jupyter": {
     "source_hidden": true
    },
    "tags": []
   },
   "outputs": [],
   "source": [
    "# Convolutional network with one convultional layer and 2 hidden layers with ReLU activation\n",
    "class expert_layers(nn.Module):\n",
    "    def __init__(self, num_classes, channels=3):\n",
    "        super(expert_layers, self).__init__()\n",
    "        filter_size = 3\n",
    "        self.filters = 16\n",
    "        self.conv1 = nn.Conv2d(in_channels=3, out_channels=self.filters*2, kernel_size=filter_size, padding=1, bias=False)\n",
    "        self.conv2 = nn.Conv2d(in_channels=self.filters*2, out_channels=self.filters*2, kernel_size=filter_size, stride=1, padding=1, bias=False)\n",
    "        self.bn2 = nn.BatchNorm2d(self.filters*2)\n",
    "        self.mp = nn.MaxPool2d(2,2)\n",
    "\n",
    "        self.conv3 = nn.Conv2d(in_channels= self.filters*2, out_channels=self.filters*4, kernel_size=filter_size, stride=1, padding=1, bias=False)\n",
    "        self.conv4 = nn.Conv2d(in_channels=self.filters*4, out_channels=self.filters*4, kernel_size=filter_size, stride=1, padding=1,bias=False)\n",
    "        self.bn4 = nn.BatchNorm2d(self.filters*4)\n",
    "        \n",
    "        self.conv5 = nn.Conv2d(in_channels= self.filters*4, out_channels=self.filters*8, kernel_size=filter_size, stride=1, padding=1, bias=False)\n",
    "        self.conv6 = nn.Conv2d(in_channels=self.filters*8, out_channels=self.filters*8, kernel_size=filter_size, stride=1, padding=1,bias=False)\n",
    "        self.bn8 = nn.BatchNorm2d(self.filters*8)\n",
    "\n",
    "        self.fc1 = nn.Linear(self.filters*8*4*4,64)\n",
    "        self.fc2 = nn.Linear(64,32)\n",
    "        \n",
    "        self.out = nn.Linear(in_features=32, out_features=num_classes)\n",
    "                        \n",
    "    def forward(self, x):\n",
    "        # conv 1\n",
    "        \n",
    "        x = F.relu(self.bn2(self.conv1(x)))\n",
    "        x = self.mp(F.relu(self.bn2(self.conv2(x))))       \n",
    "    \n",
    "        x = F.relu(self.bn4(self.conv3(x)))\n",
    "        x = self.mp(F.relu(self.bn4(self.conv4(x))))\n",
    "        \n",
    "        x = F.relu(self.bn8(self.conv5(x)))\n",
    "        x = self.mp(F.relu(self.bn8(self.conv6(x))))\n",
    "        \n",
    "        # print(x.shape)\n",
    "        \n",
    "        x = x.reshape(-1, self.filters*8*4*4)\n",
    "        x = F.dropout(x, 0.2)\n",
    "        \n",
    "        x = F.relu(self.fc1(x))\n",
    "        x = F.dropout(x, 0.2)\n",
    "        \n",
    "        x = F.relu(self.fc2(x))\n",
    "        \n",
    "        x = self.out(x)\n",
    "        \n",
    "        # output\n",
    "        x = F.softmax(x, dim=1)    \n",
    "\n",
    "        return x"
   ]
  },
  {
   "cell_type": "code",
   "execution_count": 79,
   "metadata": {
    "jupyter": {
     "source_hidden": true
    },
    "tags": []
   },
   "outputs": [],
   "source": [
    " # Convolutional network with one convultional layer and 2 hidden layers with ReLU activation\n",
    "class expert_layers(nn.Module):\n",
    "    def __init__(self, num_classes, channels=3):\n",
    "        super(expert_layers, self).__init__()\n",
    "        filter_size = 3\n",
    "        self.filters = 16\n",
    "        self.mp = nn.MaxPool2d(2,2)\n",
    "        \n",
    "        self.conv1 = nn.Conv2d(in_channels=3, out_channels=self.filters, kernel_size=filter_size, padding=1, bias=False)\n",
    "        \n",
    "        self.conv2 = nn.Conv2d(in_channels=self.filters, out_channels=self.filters, kernel_size=filter_size, stride=1, padding=1, bias=False)\n",
    "        self.conv3 = nn.Conv2d(in_channels=self.filters, out_channels=self.filters, kernel_size=filter_size, stride=1, padding=1, bias=False)\n",
    "        self.bn = nn.BatchNorm2d(self.filters)\n",
    "        \n",
    "        self.conv4 = nn.Conv2d(in_channels= self.filters, out_channels=self.filters*2, kernel_size=filter_size, stride=1, padding=1, bias=False)\n",
    "        self.conv5 = nn.Conv2d(in_channels=self.filters*2, out_channels=self.filters*2, kernel_size=filter_size, stride=1, padding=1,bias=False)\n",
    "        self.conv6 = nn.Conv2d(in_channels=self.filters, out_channels=self.filters*2, kernel_size=filter_size, stride=1, padding=1,bias=False)        \n",
    "        self.bn2 = nn.BatchNorm2d(self.filters*2)\n",
    "        \n",
    "        self.conv7 = nn.Conv2d(in_channels= self.filters*2, out_channels=self.filters*4, kernel_size=filter_size, stride=1, padding=1, bias=False)\n",
    "        self.conv8 = nn.Conv2d(in_channels=self.filters*4, out_channels=self.filters*4, kernel_size=filter_size, stride=1, padding=1,bias=False)\n",
    "        self.conv9 = nn.Conv2d(in_channels=self.filters*2, out_channels=self.filters*4, kernel_size=filter_size, stride=1, padding=1,bias=False)\n",
    "        self.bn4 = nn.BatchNorm2d(self.filters*4)\n",
    "        \n",
    "        self.fc1 = nn.Linear(self.filters*4*16*16,64)\n",
    "        self.fc2 = nn.Linear(64,32)\n",
    "        \n",
    "        self.out = nn.Linear(in_features=32, out_features=num_classes)\n",
    "                        \n",
    "    def forward(self, x):\n",
    "        # conv 1        \n",
    "        x = F.relu(self.bn(self.conv1(x)))\n",
    "        \n",
    "        y = F.relu(self.bn(self.conv2(x)))  \n",
    "        y = self.bn(self.conv3(y))\n",
    "                \n",
    "        x = F.relu(torch.add(x,y))\n",
    "        \n",
    "        y = F.relu(self.bn2(self.conv4(x)))\n",
    "        y = self.bn2(self.conv5(y))\n",
    "        x = self.conv6(x)\n",
    "        \n",
    "        x = F.relu(torch.add(x,y))\n",
    "        \n",
    "        y = F.relu(self.bn4(self.conv7(x)))\n",
    "        y = self.bn4(self.conv8(y))\n",
    "        x = self.conv9(x)\n",
    "        \n",
    "        x = self.mp(F.relu(torch.add(x,y)))\n",
    "        \n",
    "        # print(x.shape)\n",
    "        \n",
    "        x = x.reshape(-1, self.filters*4*16*16)\n",
    "        x = F.dropout(x, 0.2)\n",
    "        \n",
    "        x = F.relu(self.fc1(x))\n",
    "        x = F.dropout(x, 0.2)\n",
    "        \n",
    "        x = F.relu(self.fc2(x))\n",
    "        \n",
    "        x = self.out(x)\n",
    "        \n",
    "        # output\n",
    "        x = F.softmax(x, dim=1)    \n",
    "\n",
    "        return x"
   ]
  },
  {
   "cell_type": "code",
   "execution_count": null,
   "metadata": {},
   "outputs": [],
   "source": [
    "# Convolutional network with one convultional layer and 2 hidden layers with ReLU activation\n",
    "class expert_layers(nn.Module):\n",
    "    def __init__(self, num_classes, channels=3):\n",
    "        super(expert_layers, self).__init__()\n",
    "        filter_size = 3\n",
    "        self.filters = 4\n",
    "        self.conv1 = nn.Conv2d(in_channels=3, out_channels=self.filters, kernel_size=filter_size, padding=1)\n",
    "        self.conv2 = nn.Conv2d(in_channels=self.filters, out_channels=self.filters*2, kernel_size=filter_size, stride=1, padding=1, bias=False)\n",
    "        self.bn2 = nn.BatchNorm2d(self.filters*2)\n",
    "        self.mp = nn.MaxPool2d(2,2)\n",
    "                \n",
    "        self.conv3 = nn.Conv2d(in_channels= self.filters*2, out_channels=self.filters*4, kernel_size=filter_size, stride=1, padding=1)\n",
    "        self.conv4 = nn.Conv2d(in_channels=self.filters*4, out_channels=self.filters*4, kernel_size=filter_size, stride=1, padding=1,bias=False)\n",
    "        self.bn4 = nn.BatchNorm2d(self.filters*4)\n",
    "\n",
    "        self.fc1 = nn.Linear(self.filters*4*2*2,64)\n",
    "        self.fc2 = nn.Linear(64,32)\n",
    "        \n",
    "        self.out = nn.Linear(in_features=32, out_features=num_classes)\n",
    "                        \n",
    "    def forward(self, x):\n",
    "        # conv 1\n",
    "        \n",
    "        x = self.mp(F.relu(self.conv1(x)))\n",
    "        x = self.mp(F.relu(self.bn2(self.conv2(x))))       \n",
    "\n",
    "        x = self.mp(F.relu(self.conv3(x)))\n",
    "        x = self.mp(F.relu(self.bn4(self.conv4(x))))\n",
    "        \n",
    "        x = x.reshape(-1, self.filters*4*2*2)\n",
    "        x = F.relu(self.fc1(x))\n",
    "        x = F.relu(self.fc2(x))\n",
    "        \n",
    "        self.hidden = x\n",
    "        \n",
    "        x = self.out(x)\n",
    "        \n",
    "        # output\n",
    "        x = F.softmax(x, dim=1)            \n",
    "\n",
    "        return x"
   ]
  },
  {
   "cell_type": "code",
   "execution_count": 80,
   "metadata": {
    "tags": []
   },
   "outputs": [],
   "source": [
    "# Convolutional network with one convultional layer and 2 hidden layers with ReLU activation\n",
    "class expert_layers_conv_2(nn.Module):\n",
    "    def __init__(self, num_classes, channels=3):\n",
    "        super(expert_layers_conv_2, self).__init__()\n",
    "        filter_size = 3\n",
    "        self.filters = 64\n",
    "        self.conv1 = nn.Conv2d(in_channels=3, out_channels=self.filters, kernel_size=filter_size, padding=1, bias=False)\n",
    "        self.conv2 = nn.Conv2d(in_channels=self.filters, out_channels=self.filters*2, kernel_size=filter_size, stride=1, padding=1, bias=False)\n",
    "        self.mp = nn.MaxPool2d(2,2)\n",
    "\n",
    "        self.fc1 = nn.Linear(self.filters*2*16*16,64)\n",
    "        \n",
    "        self.out = nn.Linear(in_features=64, out_features=num_classes)\n",
    "                        \n",
    "    def forward(self, x):\n",
    "        # conv 1\n",
    "        \n",
    "        x = F.relu(self.conv1(x))\n",
    "        x = self.mp(F.relu(self.conv2(x)))\n",
    "            \n",
    "        # print(x.shape)\n",
    "        \n",
    "        x = x.reshape(-1, self.filters*2*16*16)\n",
    "        \n",
    "        x = F.relu(self.fc1(x))\n",
    "        \n",
    "        x = self.out(x)\n",
    "        \n",
    "        # output\n",
    "        x = F.softmax(x, dim=1)    \n",
    "\n",
    "        return x"
   ]
  },
  {
   "cell_type": "code",
   "execution_count": 81,
   "metadata": {
    "jupyter": {
     "source_hidden": true
    },
    "tags": []
   },
   "outputs": [],
   "source": [
    "# Convolutional network with one convolutional layer and 2 hidden layers with ReLU activation\n",
    "class gate_layers(nn.Module):\n",
    "    def __init__(self, num_experts, channels=3):\n",
    "        super(gate_layers, self).__init__()\n",
    "        # define layers\n",
    "        filter_size = 3\n",
    "        self.filters = 64\n",
    "        self.conv1 = nn.Conv2d(in_channels=3, out_channels=self.filters*2, kernel_size=filter_size, padding=1, bias=False)\n",
    "        self.conv2 = nn.Conv2d(in_channels=self.filters*2, out_channels=self.filters*2, kernel_size=filter_size, stride=1, padding=1, bias=False)\n",
    "        self.bn2 = nn.BatchNorm2d(self.filters*2)\n",
    "        self.mp = nn.MaxPool2d(2,2)\n",
    "\n",
    "        self.conv3 = nn.Conv2d(in_channels= self.filters*2, out_channels=self.filters*4, kernel_size=filter_size, stride=1, padding=1, bias=False)\n",
    "        self.conv4 = nn.Conv2d(in_channels=self.filters*4, out_channels=self.filters*4, kernel_size=filter_size, stride=1, padding=1,bias=False)\n",
    "        self.bn4 = nn.BatchNorm2d(self.filters*4)\n",
    "        \n",
    "        self.conv5 = nn.Conv2d(in_channels= self.filters*4, out_channels=self.filters*8, kernel_size=filter_size, stride=1, padding=1, bias=False)\n",
    "        self.conv6 = nn.Conv2d(in_channels=self.filters*8, out_channels=self.filters*8, kernel_size=filter_size, stride=1, padding=1,bias=False)\n",
    "        self.bn8 = nn.BatchNorm2d(self.filters*8)\n",
    "\n",
    "        self.fc1 = nn.Linear(self.filters*8*4*4, 512)\n",
    "        self.fc2 = nn.Linear(512, 32)\n",
    "        \n",
    "        self.out = nn.Linear(in_features=32, out_features=num_experts)\n",
    "        \n",
    "    def forward(self, x, T=1.0, y=None):\n",
    "        # conv 1        \n",
    "        \n",
    "        x = F.relu(self.bn2(self.conv1(x)))\n",
    "        x = self.mp(F.relu(self.bn2(self.conv2(x))))       \n",
    "    \n",
    "        x = F.relu(self.bn4(self.conv3(x)))\n",
    "        x = self.mp(F.relu(self.bn4(self.conv4(x))))\n",
    "        \n",
    "        x = F.relu(self.bn8(self.conv5(x)))\n",
    "        x = self.mp(F.relu(self.bn8(self.conv6(x))))\n",
    "        \n",
    "        # print(x.shape)\n",
    "        \n",
    "        x = x.reshape(-1, self.filters*8*4*4)\n",
    "        x = F.dropout(x, 0.2)\n",
    "        \n",
    "        x = F.relu(self.fc1(x))\n",
    "        x = F.dropout(x, 0.2)\n",
    "        \n",
    "        x = F.relu(self.fc2(x))\n",
    "        \n",
    "        x = self.out(x)\n",
    "        \n",
    "        # output   \n",
    "        x = F.softmax(x/T, dim=1)\n",
    "        \n",
    "        return x\n"
   ]
  },
  {
   "cell_type": "code",
   "execution_count": null,
   "metadata": {},
   "outputs": [],
   "source": [
    "# Convolutional network with one convolutional layer and 2 hidden layers with ReLU activation\n",
    "class gate_layers(nn.Module):\n",
    "    def __init__(self, num_experts, channels=3):\n",
    "        super(gate_layers, self).__init__()\n",
    "        # define layers\n",
    "        filter_size = 3\n",
    "        self.filters = 64\n",
    "        self.conv1 = nn.Conv2d(in_channels=3, out_channels=self.filters, kernel_size=filter_size, padding=1)\n",
    "        self.conv2 = nn.Conv2d(in_channels=self.filters, out_channels=self.filters*2, kernel_size=filter_size, stride=1, padding=1, bias=False)\n",
    "        self.bn2 = nn.BatchNorm2d(self.filters*2)\n",
    "        self.mp = nn.MaxPool2d(2,2)\n",
    "        \n",
    "        self.conv3 = nn.Conv2d(in_channels= self.filters*2, out_channels=self.filters*4, kernel_size=filter_size, stride=1, padding=1)\n",
    "        self.conv4 = nn.Conv2d(in_channels=self.filters*4, out_channels=self.filters*4, kernel_size=filter_size, stride=1, padding=1,bias=False)\n",
    "        self.bn4 = nn.BatchNorm2d(self.filters*4)\n",
    "\n",
    "        self.fc1 = nn.Linear(self.filters*4*2*2, 512)\n",
    "        self.fc2 = nn.Linear(512, 32)\n",
    "        \n",
    "        self.out = nn.Linear(in_features=32, out_features=num_experts)\n",
    "        \n",
    "    def forward(self, x, T=1.0, y=None):\n",
    "        # conv 1        \n",
    "        \n",
    "        x = self.mp(F.relu(self.conv1(x)))\n",
    "        x = self.mp(F.relu(self.bn2(self.conv2(x))))\n",
    "\n",
    "        x = self.mp(F.relu(self.conv3(x)))\n",
    "        x = self.mp(F.relu(self.bn4(self.conv4(x))))\n",
    "        \n",
    "        x = x.reshape(-1, self.filters*4*2*2)\n",
    "        x = F.relu(self.fc1(x))\n",
    "        x = F.relu(self.fc2(x))\n",
    "        \n",
    "        x = self.out(x)\n",
    "        x = F.softmax(x/T, dim=1)\n",
    "        \n",
    "        return x"
   ]
  },
  {
   "cell_type": "code",
   "execution_count": 82,
   "metadata": {},
   "outputs": [],
   "source": [
    "# Convolutional network with one convultional layer and 2 hidden layers with ReLU activation\n",
    "class gate_layers_conv_2(nn.Module):\n",
    "    def __init__(self, num_classes, channels=3):\n",
    "        super(gate_layers_conv_2, self).__init__()\n",
    "        filter_size = 3\n",
    "        self.filters = 64\n",
    "        self.conv1 = nn.Conv2d(in_channels=3, out_channels=self.filters, kernel_size=filter_size, padding=1, bias=False)\n",
    "        self.conv2 = nn.Conv2d(in_channels=self.filters, out_channels=self.filters*2, kernel_size=filter_size, stride=1, padding=1, bias=False)\n",
    "        self.mp = nn.MaxPool2d(2,2)\n",
    "\n",
    "        self.fc1 = nn.Linear(self.filters*2*16*16,64)\n",
    "        \n",
    "        self.out = nn.Linear(in_features=64, out_features=num_classes)\n",
    "                        \n",
    "    def forward(self, x, T=1.0, y=None):\n",
    "        # conv 1\n",
    "        \n",
    "        x = F.relu(self.conv1(x))\n",
    "        x = self.mp(F.relu(self.conv2(x)))\n",
    "            \n",
    "        # print(x.shape)\n",
    "        \n",
    "        x = x.reshape(-1, self.filters*2*16*16)\n",
    "        \n",
    "        x = F.relu(self.fc1(x))\n",
    "        \n",
    "        x = self.out(x)\n",
    "        \n",
    "        # output\n",
    "        x = x/T\n",
    "\n",
    "        return x"
   ]
  },
  {
   "cell_type": "code",
   "execution_count": null,
   "metadata": {},
   "outputs": [],
   "source": [
    "class gate_layers_top_k(nn.Module):\n",
    "    def __init__(self, num_experts, channels=3):\n",
    "        super(gate_layers_top_k, self).__init__()\n",
    "        # define layers\n",
    "        filter_size = 3\n",
    "        self.filters = 64\n",
    "        self.conv1 = nn.Conv2d(in_channels=3, out_channels=self.filters, kernel_size=filter_size, padding=1)\n",
    "        self.conv2 = nn.Conv2d(in_channels=self.filters, out_channels=self.filters*2, kernel_size=filter_size, stride=1, padding=1, bias=False)\n",
    "        self.bn2 = nn.BatchNorm2d(self.filters*2)\n",
    "        self.mp = nn.MaxPool2d(2,2)\n",
    "        \n",
    "        self.conv3 = nn.Conv2d(in_channels= self.filters*2, out_channels=self.filters*4, kernel_size=filter_size, stride=1, padding=1)\n",
    "        self.conv4 = nn.Conv2d(in_channels=self.filters*4, out_channels=self.filters*4, kernel_size=filter_size, stride=1, padding=1,bias=False)\n",
    "        self.bn4 = nn.BatchNorm2d(self.filters*4)\n",
    "\n",
    "        self.fc1 = nn.Linear(self.filters*4*2*2, 512)\n",
    "        self.fc2 = nn.Linear(512, 32)\n",
    "        \n",
    "        self.out = nn.Linear(in_features=32, out_features=num_experts)\n",
    "        \n",
    "    def forward(self, x, T=1.0, y=None):\n",
    "        # conv 1        \n",
    "        \n",
    "        x = self.mp(F.relu(self.conv1(x)))\n",
    "        x = self.mp(F.relu(self.bn2(self.conv2(x))))\n",
    "\n",
    "        x = self.mp(F.relu(self.conv3(x)))\n",
    "        x = self.mp(F.relu(self.bn4(self.conv4(x))))\n",
    "        \n",
    "        x = x.reshape(-1, self.filters*4*2*2)\n",
    "        x = F.relu(self.fc1(x))\n",
    "        x = F.relu(self.fc2(x))\n",
    "        \n",
    "        x = self.out(x)\n",
    "        x = x/T\n",
    "        \n",
    "        return x"
   ]
  },
  {
   "cell_type": "code",
   "execution_count": 83,
   "metadata": {},
   "outputs": [],
   "source": [
    "# create a set of experts\n",
    "def experts(num_experts, num_classes, expert_layers_type=expert_layers):\n",
    "    models = []\n",
    "    for i in range(num_experts):\n",
    "        models.append(expert_layers_type(num_classes))\n",
    "    return nn.ModuleList(models)"
   ]
  },
  {
   "cell_type": "code",
   "execution_count": 84,
   "metadata": {
    "jupyter": {
     "source_hidden": true
    },
    "tags": []
   },
   "outputs": [],
   "source": [
    "# Convolutional network with one convultional layer and 2 hidden layers with ReLU activation\n",
    "class single_model(nn.Module):\n",
    "    def __init__(self, num_classes, channels=3):\n",
    "        super(single_model, self).__init__()\n",
    "        filter_size = 3\n",
    "        self.filters = 16\n",
    "        self.conv1 = nn.Conv2d(in_channels=3, out_channels=self.filters*2, kernel_size=filter_size, padding=1, bias=False)\n",
    "        self.conv2 = nn.Conv2d(in_channels=self.filters*2, out_channels=self.filters*2, kernel_size=filter_size, stride=1, padding=1, bias=False)\n",
    "        self.bn2 = nn.BatchNorm2d(self.filters*2)\n",
    "        self.mp = nn.MaxPool2d(2,2)\n",
    "\n",
    "        self.conv3 = nn.Conv2d(in_channels= self.filters*2, out_channels=self.filters*4, kernel_size=filter_size, stride=1, padding=1, bias=False)\n",
    "        self.conv4 = nn.Conv2d(in_channels=self.filters*4, out_channels=self.filters*4, kernel_size=filter_size, stride=1, padding=1,bias=False)\n",
    "        self.bn4 = nn.BatchNorm2d(self.filters*4)\n",
    "        \n",
    "        self.conv6 = nn.Conv2d(in_channels= self.filters*4, out_channels=self.filters*8, kernel_size=filter_size, stride=1, padding=1, bias=False)\n",
    "        self.conv7 = nn.Conv2d(in_channels=self.filters*8, out_channels=self.filters*8, kernel_size=filter_size, stride=1, padding=1,bias=False)\n",
    "        self.conv8 = nn.Conv2d(in_channels=self.filters*8, out_channels=self.filters*8, kernel_size=1, stride=2, padding=1,bias=False)\n",
    "        self.bn8 = nn.BatchNorm2d(self.filters*8)\n",
    "\n",
    "        self.fc1 = nn.Linear(self.filters*8*4*4,64)\n",
    "        self.fc2 = nn.Linear(64,32)\n",
    "        \n",
    "        self.out = nn.Linear(in_features=32, out_features=num_classes)\n",
    "                        \n",
    "    def forward(self, x):\n",
    "        # conv 1        \n",
    "        x = F.relu(self.bn2(self.conv1(x)))\n",
    "        x = self.mp(F.relu(self.bn2(self.conv2(x))))       \n",
    "    \n",
    "        x = F.relu(self.bn4(self.conv3(x)))\n",
    "        x = self.mp(F.relu(self.bn4(self.conv4(x))))\n",
    "        \n",
    "        x = F.relu(self.bn8(self.conv5(x)))\n",
    "        x = self.mp(F.relu(self.bn8(self.conv6(x))))\n",
    "        \n",
    "        # print(x.shape)\n",
    "        \n",
    "        x = x.reshape(-1, self.filters*8*4*4)\n",
    "        x = F.dropout(x, 0.2)\n",
    "        \n",
    "        x = F.relu(self.fc1(x))\n",
    "        x = F.dropout(x, 0.2)\n",
    "        \n",
    "        x = F.relu(self.fc2(x))\n",
    "        \n",
    "        x = self.out(x)\n",
    "        \n",
    "        # output\n",
    "        x = F.softmax(x, dim=1)\n",
    "                \n",
    "        return x"
   ]
  },
  {
   "cell_type": "code",
   "execution_count": 85,
   "metadata": {
    "jupyter": {
     "source_hidden": true
    },
    "tags": []
   },
   "outputs": [],
   "source": [
    "# Convolutional network with one convultional layer and 2 hidden layers with ReLU activation\n",
    "class single_model(nn.Module):\n",
    "    def __init__(self, num_classes):\n",
    "        super(single_model, self).__init__()\n",
    "        filter_size = 3\n",
    "        self.filters = 16\n",
    "        self.conv1 = nn.Conv2d(in_channels=3, out_channels=self.filters, kernel_size=filter_size, padding=1)\n",
    "        self.conv2 = nn.Conv2d(in_channels=self.filters, out_channels=self.filters*2, kernel_size=filter_size, stride=1, padding=1, bias=False)\n",
    "        self.bn2 = nn.BatchNorm2d(self.filters*2)\n",
    "        self.mp = nn.MaxPool2d(2,2)\n",
    "        \n",
    "        self.conv3 = nn.Conv2d(in_channels= self.filters*2, out_channels=self.filters*4, kernel_size=filter_size, stride=1, padding=1)\n",
    "        self.conv4 = nn.Conv2d(in_channels=self.filters*4, out_channels=self.filters*4, kernel_size=filter_size, stride=1, padding=1,bias=False)\n",
    "        self.bn4 = nn.BatchNorm2d(self.filters*4)\n",
    "\n",
    "        self.fc1 = nn.Linear(self.filters*4*2*2,64)\n",
    "        self.fc2 = nn.Linear(64,32)\n",
    "        \n",
    "        self.out = nn.Linear(in_features=32, out_features=num_classes)\n",
    "                \n",
    "    def forward(self, x):\n",
    "        # conv 1\n",
    "        x = self.mp(F.relu(self.conv1(x)))\n",
    "        x = self.mp(F.relu(self.bn2(self.conv2(x))))\n",
    "\n",
    "        x = self.mp(F.relu(self.conv3(x)))\n",
    "        x = self.mp(F.relu(self.bn4(self.conv4(x))))\n",
    "        \n",
    "        x = x.reshape(-1, self.filters*4*2*2)\n",
    "        x = F.dropout(x, 0.2)\n",
    "        \n",
    "        x = F.relu(self.fc1(x))\n",
    "        x = F.dropout(x, 0.2)\n",
    "        \n",
    "        x = self.fc2(x)\n",
    "                      \n",
    "        self.hidden = x\n",
    "            \n",
    "        x = F.relu(x)\n",
    "                \n",
    "        # output\n",
    "        x = F.softmax(self.out(x), dim=1)\n",
    "        \n",
    "        return x"
   ]
  },
  {
   "cell_type": "code",
   "execution_count": 86,
   "metadata": {
    "jupyter": {
     "source_hidden": true
    },
    "tags": []
   },
   "outputs": [],
   "source": [
    "#  # Convolutional network with one convultional layer and 2 hidden layers with ReLU activation\n",
    "# class single_model(nn.Module):\n",
    "#     def __init__(self, num_classes, channels=3):\n",
    "#         super(single_model, self).__init__()\n",
    "#         filter_size = 3\n",
    "#         self.filters = 16\n",
    "#         self.mp = nn.MaxPool2d(2,2)\n",
    "        \n",
    "#         self.conv1 = nn.Conv2d(in_channels=3, out_channels=self.filters, kernel_size=filter_size, padding=1, bias=False)\n",
    "        \n",
    "#         self.conv2 = nn.Conv2d(in_channels=self.filters, out_channels=self.filters, kernel_size=filter_size, stride=1, padding=1, bias=False)\n",
    "#         self.conv3 = nn.Conv2d(in_channels=self.filters, out_channels=self.filters, kernel_size=filter_size, stride=1, padding=1, bias=False)\n",
    "#         self.bn = nn.BatchNorm2d(self.filters)\n",
    "        \n",
    "#         self.conv4 = nn.Conv2d(in_channels= self.filters, out_channels=self.filters*2, kernel_size=filter_size, stride=1, padding=1, bias=False)\n",
    "#         self.conv5 = nn.Conv2d(in_channels=self.filters*2, out_channels=self.filters*2, kernel_size=filter_size, stride=1, padding=1,bias=False)\n",
    "#         self.conv6 = nn.Conv2d(in_channels=self.filters, out_channels=self.filters*2, kernel_size=filter_size, stride=1, padding=1,bias=False)        \n",
    "#         self.bn2 = nn.BatchNorm2d(self.filters*2)\n",
    "        \n",
    "#         self.conv7 = nn.Conv2d(in_channels= self.filters*2, out_channels=self.filters*4, kernel_size=filter_size, stride=1, padding=1, bias=False)\n",
    "#         self.conv8 = nn.Conv2d(in_channels=self.filters*4, out_channels=self.filters*4, kernel_size=filter_size, stride=1, padding=1,bias=False)\n",
    "#         self.conv9 = nn.Conv2d(in_channels=self.filters*2, out_channels=self.filters*4, kernel_size=filter_size, stride=1, padding=1,bias=False)\n",
    "#         self.bn4 = nn.BatchNorm2d(self.filters*4)\n",
    "        \n",
    "#         self.fc1 = nn.Linear(self.filters*4*16*16,64)\n",
    "#         self.fc2 = nn.Linear(64,32)\n",
    "        \n",
    "#         self.out = nn.Linear(in_features=32, out_features=num_classes)\n",
    "                        \n",
    "#     def forward(self, x):\n",
    "#         # conv 1        \n",
    "#         x = F.relu(self.bn(self.conv1(x)))\n",
    "        \n",
    "#         y = F.relu(self.bn(self.conv2(x)))  \n",
    "#         y = self.bn(self.conv3(y))\n",
    "                \n",
    "#         x = F.relu(torch.add(x,y))\n",
    "        \n",
    "#         y = F.relu(self.bn2(self.conv4(x)))\n",
    "#         y = self.bn2(self.conv5(y))\n",
    "#         x = self.conv6(x)\n",
    "        \n",
    "#         x = F.relu(torch.add(x,y))\n",
    "        \n",
    "#         y = F.relu(self.bn4(self.conv7(x)))\n",
    "#         y = self.bn4(self.conv8(y))\n",
    "#         x = self.conv9(x)\n",
    "        \n",
    "#         x = self.mp(F.relu(torch.add(x,y)))\n",
    "        \n",
    "#         # print(x.shape)\n",
    "        \n",
    "#         x = x.reshape(-1, self.filters*4*16*16)\n",
    "#         x = F.dropout(x, 0.2)\n",
    "        \n",
    "#         x = F.relu(self.fc1(x))\n",
    "#         x = F.dropout(x, 0.2)\n",
    "        \n",
    "#         x = F.relu(self.fc2(x))\n",
    "        \n",
    "#         x = self.out(x)\n",
    "        \n",
    "#         # output\n",
    "#         x = F.softmax(x, dim=1)    \n",
    "\n",
    "#         return x"
   ]
  },
  {
   "cell_type": "markdown",
   "metadata": {},
   "source": [
    "## Initialize configurations and helper functions"
   ]
  },
  {
   "cell_type": "code",
   "execution_count": 87,
   "metadata": {},
   "outputs": [],
   "source": [
    "# Compute accuracy of the model\n",
    "def accuracy(out, yb, mean=True):\n",
    "    preds = torch.argmax(out, dim=1).to(device, non_blocking=True)\n",
    "    if mean:\n",
    "        return (preds == yb).float().mean()\n",
    "    else:\n",
    "        return (preds == yb).float()"
   ]
  },
  {
   "cell_type": "markdown",
   "metadata": {},
   "source": [
    "## Functions to train models"
   ]
  },
  {
   "cell_type": "markdown",
   "metadata": {},
   "source": [
    "### Function to train original model with and without regularization\n",
    "\n",
    "* w_importance_range is the range of values for the $w_{importance}$ hyperparameter of the $L_{importance}$ regularization.\n",
    "* w_sample_sim_same_range is the range of values for $\\beta_s$ hyperparameter of the $L_s$ regularization.\n",
    "* w_sample_sim_diff_range is the range of values for $\\beta_d$ hyperparameter of the $L_s$ regularization."
   ]
  },
  {
   "cell_type": "code",
   "execution_count": 88,
   "metadata": {
    "tags": []
   },
   "outputs": [],
   "source": [
    "from itertools import product\n",
    "\n",
    "def train_original_model(model_1, model_name, k=1, trainloader=None, testloader=None, runs=10, temps=[[1.0]*20], \n",
    "                         w_importance_range=[0.0], w_sample_sim_same_range=[0.0], \n",
    "                         w_sample_sim_diff_range=[0.0],\n",
    "                         num_classes=10, total_experts=5, num_epochs=20):\n",
    "\n",
    "    moe_model_types = {'moe_top_1_model':(moe_top_k_model, stochastic_loss(cross_entropy_loss).to(device)),\n",
    "                       'moe_top_k_model':(moe_top_k_model, cross_entropy_loss().to(device))\n",
    "                      }\n",
    "\n",
    "    for T, w_importance, w_sample_sim_same, w_sample_sim_diff in product(temps, w_importance_range, \n",
    "                                                                         w_sample_sim_same_range,  w_sample_sim_diff_range):\n",
    "        \n",
    "        print('w_importance','{:.1f}'.format(w_importance))\n",
    "        if w_sample_sim_same < 1:\n",
    "            print('w_sample_sim_same',str(w_sample_sim_same))\n",
    "        else:\n",
    "            print('w_sample_sim_same','{:.1f}'.format(w_sample_sim_same))\n",
    "        \n",
    "        if w_sample_sim_diff < 1:\n",
    "            print('w_sample_sim_diff',str(w_sample_sim_diff))\n",
    "        else:\n",
    "            print('w_sample_sim_diff','{:.1f}'.format(w_sample_sim_diff))\n",
    "\n",
    "        \n",
    "        for run in range(1, runs+1):\n",
    "            \n",
    "            print('Run:', run)\n",
    "            \n",
    "            n_run_models_1 = []\n",
    "            \n",
    "            models = {model_name:{'model':moe_model_types[model_name][0],'loss':moe_model_types[model_name][1],\n",
    "                                               'experts':{}},}\n",
    "            for key, val in models.items():\n",
    "\n",
    "                expert_models = experts(total_experts, num_classes).to(device)\n",
    "\n",
    "                gate_model = gate_layers(total_experts).to(device)\n",
    "\n",
    "                if k > 0:\n",
    "                    moe_model = val['model'](k, total_experts, num_classes,\n",
    "                                             experts=expert_models, gate=gate_model, device=device).to(device)\n",
    "                else:\n",
    "                    moe_model = val['model'](total_experts, num_classes,\n",
    "                                         experts=expert_models, gate=gate_model, device=device).to(device)\n",
    "                \n",
    "                optimizer_moe = optim.Adam(moe_model.parameters(), lr=0.001, amsgrad=False, weight_decay=1e-3)\n",
    "                \n",
    "                optimizer = default_optimizer(optimizer_moe=optimizer_moe)\n",
    "\n",
    "               \n",
    "                hist = moe_model.train(trainloader, testloader,  val['loss'], optimizer = optimizer,\n",
    "                                       T = T, w_importance=w_importance, w_sample_sim_same = w_sample_sim_same, \n",
    "                                       w_sample_sim_diff = w_sample_sim_diff, \n",
    "                                       accuracy=accuracy, epochs=num_epochs)\n",
    "                val['experts'][total_experts] = {'model':moe_model, 'history':hist}                \n",
    "\n",
    "\n",
    "            # Save all the trained models\n",
    "            plot_file = generate_plot_file(model_1, T[0], w_importance=w_importance, w_sample_sim_same=w_sample_sim_same,w_sample_sim_diff=w_sample_sim_diff,\n",
    "                                           specific=str(num_classes)+'_'+str(total_experts)+'_models.pt')\n",
    "            \n",
    "            if os.path.exists(os.path.join(model_path, plot_file)):\n",
    "                n_run_models_1 = torch.load(open(os.path.join(model_path, plot_file),'rb'))\n",
    "            n_run_models_1.append(models)\n",
    "            torch.save(n_run_models_1,open(os.path.join(model_path, plot_file),'wb'))\n",
    "            n_run_models_1 = []\n"
   ]
  },
  {
   "cell_type": "markdown",
   "metadata": {
    "tags": []
   },
   "source": [
    "### Function to train the single model"
   ]
  },
  {
   "cell_type": "code",
   "execution_count": 89,
   "metadata": {
    "jupyter": {
     "source_hidden": true
    },
    "tags": []
   },
   "outputs": [],
   "source": [
    "def train_single_model(model_name, trainloader, testloader, num_classes, num_epochs, runs):\n",
    "    \n",
    "    loss_criterion = cross_entropy_loss()\n",
    "    \n",
    "    n_runs = {'models':[], 'history':[]}\n",
    "    \n",
    "    for run in range(1, runs+1):\n",
    "        \n",
    "        print('Run', run)\n",
    "        \n",
    "        model = single_model(num_classes).to(device)\n",
    "        history = {'loss':[], 'accuracy':[], 'val_accuracy':[]}\n",
    "        optimizer = optim.Adam(model.parameters(), lr=0.001, amsgrad=False, weight_decay=1e-3)\n",
    "        \n",
    "        for epoch in range(num_epochs):\n",
    "            running_loss = 0.0\n",
    "            train_running_accuracy = 0.0\n",
    "            num_batches = 0\n",
    "\n",
    "            for inputs, labels in trainloader:\n",
    "                inputs, labels = inputs.to(device, non_blocking=True), labels.to(device, non_blocking=True)\n",
    "                outputs = model(inputs)\n",
    "\n",
    "                optimizer.zero_grad()\n",
    "                loss = loss_criterion(outputs, None, None, labels)\n",
    "\n",
    "                loss.backward()\n",
    "\n",
    "                optimizer.step()\n",
    "\n",
    "                running_loss += loss.item()\n",
    "\n",
    "                outputs = model(inputs)\n",
    "\n",
    "                acc = accuracy(outputs, labels)\n",
    "                train_running_accuracy += acc\n",
    "\n",
    "                num_batches += 1\n",
    "\n",
    "            test_running_accuracy = 0.0\n",
    "            test_num_batches = 0\n",
    "            \n",
    "            for test_inputs, test_labels in testloader:\n",
    "                test_inputs, test_labels = test_inputs.to(device, non_blocking=True), test_labels.to(device, non_blocking=True)\n",
    "                test_outputs = model(test_inputs)              \n",
    "                test_running_accuracy += accuracy(test_outputs, test_labels)\n",
    "                test_num_batches += 1\n",
    "                \n",
    "            loss = (running_loss/num_batches)\n",
    "            train_accuracy = (train_running_accuracy/num_batches)\n",
    "            test_accuracy = (test_running_accuracy/test_num_batches)\n",
    "            \n",
    "            history['loss'].append(loss)\n",
    "            history['accuracy'].append(train_accuracy.item())\n",
    "            history['val_accuracy'].append(test_accuracy.item())\n",
    "            \n",
    "            print('epoch %d' % epoch,\n",
    "                  'training loss %.2f' % loss,\n",
    "                   ', training accuracy %.2f' % train_accuracy,\n",
    "                   ', test accuracy %.2f' % test_accuracy\n",
    "                   )\n",
    "            \n",
    "        plot_file = generate_plot_file(model_name, specific=str(num_classes)+'_models.pt')\n",
    "        if os.path.exists(os.path.join(model_path, plot_file)):\n",
    "            n_runs = torch.load(open(os.path.join(model_path, plot_file),'rb'))\n",
    "        n_runs['models'].append(model)\n",
    "        n_runs['history'].append(history)        \n",
    "        torch.save(n_runs, open(os.path.join(model_path, plot_file),'wb'))\n",
    "        \n",
    "        n_runs = {'models':[], 'history':[]}"
   ]
  },
  {
   "cell_type": "markdown",
   "metadata": {
    "jp-MarkdownHeadingCollapsed": true,
    "tags": []
   },
   "source": [
    "## Experiments"
   ]
  },
  {
   "cell_type": "markdown",
   "metadata": {
    "jp-MarkdownHeadingCollapsed": true,
    "tags": []
   },
   "source": [
    "### Experiment 1: Original MoE model trained without gate regularization"
   ]
  },
  {
   "cell_type": "code",
   "execution_count": 90,
   "metadata": {},
   "outputs": [],
   "source": [
    "# Model with gate and expert parameters initialized to default values\n",
    "model_1 = 'cifar10_without_reg_test'"
   ]
  },
  {
   "cell_type": "code",
   "execution_count": 91,
   "metadata": {},
   "outputs": [],
   "source": [
    "total_experts = 10"
   ]
  },
  {
   "cell_type": "code",
   "execution_count": 92,
   "metadata": {},
   "outputs": [],
   "source": [
    "num_epochs = 40"
   ]
  },
  {
   "cell_type": "code",
   "execution_count": 93,
   "metadata": {},
   "outputs": [],
   "source": [
    "temps = [[1.0]*num_epochs]"
   ]
  },
  {
   "cell_type": "code",
   "execution_count": 94,
   "metadata": {},
   "outputs": [],
   "source": [
    "runs = 1"
   ]
  },
  {
   "cell_type": "code",
   "execution_count": 95,
   "metadata": {
    "scrolled": true,
    "tags": []
   },
   "outputs": [
    {
     "name": "stdout",
     "output_type": "stream",
     "text": [
      "w_importance 0.0\n",
      "w_sample_sim_same 0.0\n",
      "w_sample_sim_diff 0.0\n",
      "Run: 1\n",
      "epoch 0 training loss 0.77 , training accuracy 0.47 , test accuracy 0.57\n",
      "epoch 1 training loss 0.61 , training accuracy 0.60 , test accuracy 0.63\n",
      "epoch 2 training loss 0.56 , training accuracy 0.63 , test accuracy 0.67\n",
      "epoch 3 training loss 0.54 , training accuracy 0.65 , test accuracy 0.66\n",
      "epoch 4 training loss 0.52 , training accuracy 0.66 , test accuracy 0.68\n",
      "epoch 5 training loss 0.51 , training accuracy 0.67 , test accuracy 0.69\n",
      "epoch 6 training loss 0.50 , training accuracy 0.68 , test accuracy 0.70\n",
      "epoch 7 training loss 0.49 , training accuracy 0.68 , test accuracy 0.70\n",
      "epoch 8 training loss 0.48 , training accuracy 0.69 , test accuracy 0.71\n",
      "epoch 9 training loss 0.47 , training accuracy 0.70 , test accuracy 0.71\n",
      "epoch 10 training loss 0.46 , training accuracy 0.71 , test accuracy 0.72\n",
      "epoch 11 training loss 0.46 , training accuracy 0.71 , test accuracy 0.72\n",
      "epoch 12 training loss 0.45 , training accuracy 0.71 , test accuracy 0.72\n",
      "epoch 13 training loss 0.45 , training accuracy 0.72 , test accuracy 0.72\n",
      "epoch 14 training loss 0.45 , training accuracy 0.71 , test accuracy 0.73\n",
      "epoch 15 training loss 0.44 , training accuracy 0.72 , test accuracy 0.73\n",
      "epoch 16 training loss 0.43 , training accuracy 0.72 , test accuracy 0.73\n",
      "epoch 17 training loss 0.43 , training accuracy 0.73 , test accuracy 0.73\n",
      "epoch 18 training loss 0.43 , training accuracy 0.73 , test accuracy 0.73\n",
      "epoch 19 training loss 0.42 , training accuracy 0.73 , test accuracy 0.74\n",
      "epoch 20 training loss 0.42 , training accuracy 0.73 , test accuracy 0.74\n",
      "epoch 21 training loss 0.42 , training accuracy 0.74 , test accuracy 0.71\n",
      "epoch 22 training loss 0.42 , training accuracy 0.74 , test accuracy 0.73\n",
      "epoch 23 training loss 0.42 , training accuracy 0.74 , test accuracy 0.74\n",
      "epoch 24 training loss 0.41 , training accuracy 0.74 , test accuracy 0.75\n",
      "epoch 25 training loss 0.41 , training accuracy 0.75 , test accuracy 0.73\n",
      "epoch 26 training loss 0.41 , training accuracy 0.75 , test accuracy 0.73\n",
      "epoch 27 training loss 0.41 , training accuracy 0.75 , test accuracy 0.72\n",
      "epoch 28 training loss 0.41 , training accuracy 0.74 , test accuracy 0.73\n",
      "epoch 29 training loss 0.41 , training accuracy 0.75 , test accuracy 0.74\n",
      "epoch 30 training loss 0.40 , training accuracy 0.75 , test accuracy 0.73\n",
      "epoch 31 training loss 0.40 , training accuracy 0.75 , test accuracy 0.73\n",
      "epoch 32 training loss 0.40 , training accuracy 0.75 , test accuracy 0.74\n",
      "epoch 33 training loss 0.40 , training accuracy 0.75 , test accuracy 0.76\n",
      "epoch 34 training loss 0.40 , training accuracy 0.75 , test accuracy 0.74\n",
      "epoch 35 training loss 0.39 , training accuracy 0.76 , test accuracy 0.75\n",
      "epoch 36 training loss 0.39 , training accuracy 0.76 , test accuracy 0.74\n",
      "epoch 37 training loss 0.39 , training accuracy 0.76 , test accuracy 0.75\n",
      "epoch 38 training loss 0.39 , training accuracy 0.76 , test accuracy 0.76\n",
      "epoch 39 training loss 0.39 , training accuracy 0.76 , test accuracy 0.75\n"
     ]
    }
   ],
   "source": [
    "train_original_model(model_1, 'moe_top_1_model', 1, cifar10_trainloader, cifar10_testloader, runs, temps=temps,\n",
    "                     num_classes=num_classes, total_experts=total_experts, num_epochs=num_epochs)"
   ]
  },
  {
   "cell_type": "markdown",
   "metadata": {
    "tags": []
   },
   "source": [
    "### Experiment 2: Original MoE model trained with $L_{importance}$ regularization"
   ]
  },
  {
   "cell_type": "code",
   "execution_count": null,
   "metadata": {},
   "outputs": [],
   "source": [
    "# Model with gate and expert parameters initialized to default values\n",
    "model_2 = 'cifar10_with_reg_test'"
   ]
  },
  {
   "cell_type": "code",
   "execution_count": null,
   "metadata": {},
   "outputs": [],
   "source": [
    "total_experts = 5"
   ]
  },
  {
   "cell_type": "code",
   "execution_count": null,
   "metadata": {},
   "outputs": [],
   "source": [
    "num_epochs = 20"
   ]
  },
  {
   "cell_type": "code",
   "execution_count": null,
   "metadata": {
    "tags": []
   },
   "outputs": [],
   "source": [
    "w_importance_range = [i * 0.2 for i in range(1, 6)]\n",
    "w_importance_range = [0.2,0.6,0.8,1.0]\n",
    "print('w_importance_range = ', ['{:.1f}'.format(w) for w in w_importance_range])"
   ]
  },
  {
   "cell_type": "code",
   "execution_count": null,
   "metadata": {},
   "outputs": [],
   "source": [
    "runs = 1"
   ]
  },
  {
   "cell_type": "code",
   "execution_count": null,
   "metadata": {
    "scrolled": true,
    "tags": []
   },
   "outputs": [],
   "source": [
    "train_original_model(model_2, cifar10_trainloader, cifar10_testloader, runs, w_importance_range=w_importance_range, num_classes=num_classes, \n",
    "                                     total_experts=total_experts, num_epochs=num_epochs)"
   ]
  },
  {
   "cell_type": "markdown",
   "metadata": {
    "jp-MarkdownHeadingCollapsed": true,
    "tags": []
   },
   "source": [
    "### Experiment 3: Original MoE model trained with sample similarity regularization, $L_s$"
   ]
  },
  {
   "cell_type": "code",
   "execution_count": null,
   "metadata": {},
   "outputs": [],
   "source": [
    "model_3 = 'cifar10_with_reg'"
   ]
  },
  {
   "cell_type": "code",
   "execution_count": null,
   "metadata": {},
   "outputs": [],
   "source": [
    "total_experts = 5"
   ]
  },
  {
   "cell_type": "code",
   "execution_count": null,
   "metadata": {},
   "outputs": [],
   "source": [
    "num_epochs = 20"
   ]
  },
  {
   "cell_type": "code",
   "execution_count": null,
   "metadata": {},
   "outputs": [],
   "source": [
    "w_sample_sim_same_range = [1e-7, 1e-6, 1e-5, 1e-4]\n",
    "w_sample_sim_same_range = [1e-3]\n",
    "w_sample_sim_diff_range = [1e-7, 1e-6,1e-5,1e-4,1e-3,1e-2,1e-1]\n",
    "print('w_sample_sim_same_range = ', w_sample_sim_same_range)\n",
    "print('w_sample_sim_diff_range = ', w_sample_sim_diff_range)"
   ]
  },
  {
   "cell_type": "code",
   "execution_count": null,
   "metadata": {},
   "outputs": [],
   "source": [
    "runs = 10"
   ]
  },
  {
   "cell_type": "code",
   "execution_count": null,
   "metadata": {
    "scrolled": true,
    "tags": []
   },
   "outputs": [],
   "source": [
    "train_original_model(model_3, cifar10_trainloader, cifar10_testloader, runs, \n",
    "                                     w_sample_sim_same_range=w_sample_sim_same_range, w_sample_sim_diff_range=w_sample_sim_diff_range, \n",
    "                                     num_classes=num_classes, total_experts=total_experts, num_epochs=num_epochs)"
   ]
  },
  {
   "cell_type": "markdown",
   "metadata": {
    "jp-MarkdownHeadingCollapsed": true,
    "tags": []
   },
   "source": [
    "### Experiment 4: Training the single model"
   ]
  },
  {
   "cell_type": "code",
   "execution_count": 365,
   "metadata": {},
   "outputs": [],
   "source": [
    "model_4 = 'cifar10_single_model_test'"
   ]
  },
  {
   "cell_type": "code",
   "execution_count": 366,
   "metadata": {},
   "outputs": [],
   "source": [
    "num_epochs = 20"
   ]
  },
  {
   "cell_type": "code",
   "execution_count": 367,
   "metadata": {},
   "outputs": [],
   "source": [
    "runs = 1"
   ]
  },
  {
   "cell_type": "code",
   "execution_count": 368,
   "metadata": {
    "scrolled": true,
    "tags": []
   },
   "outputs": [
    {
     "name": "stdout",
     "output_type": "stream",
     "text": [
      "Run 1\n",
      "epoch 0 training loss 1.77 , training accuracy 0.35 , test accuracy 0.48\n",
      "epoch 1 training loss 1.39 , training accuracy 0.50 , test accuracy 0.55\n",
      "epoch 2 training loss 1.23 , training accuracy 0.57 , test accuracy 0.61\n",
      "epoch 3 training loss 1.11 , training accuracy 0.61 , test accuracy 0.64\n",
      "epoch 4 training loss 1.04 , training accuracy 0.64 , test accuracy 0.67\n",
      "epoch 5 training loss 0.97 , training accuracy 0.67 , test accuracy 0.68\n",
      "epoch 6 training loss 0.92 , training accuracy 0.68 , test accuracy 0.69\n",
      "epoch 7 training loss 0.89 , training accuracy 0.70 , test accuracy 0.72\n",
      "epoch 8 training loss 0.87 , training accuracy 0.71 , test accuracy 0.73\n",
      "epoch 9 training loss 0.83 , training accuracy 0.72 , test accuracy 0.72\n",
      "epoch 10 training loss 0.81 , training accuracy 0.73 , test accuracy 0.74\n",
      "epoch 11 training loss 0.80 , training accuracy 0.73 , test accuracy 0.75\n",
      "epoch 12 training loss 0.78 , training accuracy 0.74 , test accuracy 0.74\n",
      "epoch 13 training loss 0.77 , training accuracy 0.74 , test accuracy 0.74\n"
     ]
    },
    {
     "ename": "KeyboardInterrupt",
     "evalue": "",
     "output_type": "error",
     "traceback": [
      "\u001b[0;31m---------------------------------------------------------------------------\u001b[0m",
      "\u001b[0;31mKeyboardInterrupt\u001b[0m                         Traceback (most recent call last)",
      "Input \u001b[0;32mIn [368]\u001b[0m, in \u001b[0;36m<cell line: 1>\u001b[0;34m()\u001b[0m\n\u001b[0;32m----> 1\u001b[0m \u001b[43mtrain_single_model\u001b[49m\u001b[43m(\u001b[49m\u001b[43mmodel_4\u001b[49m\u001b[43m,\u001b[49m\u001b[43m \u001b[49m\u001b[43mcifar10_trainloader\u001b[49m\u001b[43m,\u001b[49m\u001b[43m \u001b[49m\u001b[43mcifar10_testloader\u001b[49m\u001b[43m,\u001b[49m\u001b[43m \u001b[49m\u001b[43mnum_classes\u001b[49m\u001b[43m,\u001b[49m\u001b[43m \u001b[49m\u001b[43mnum_epochs\u001b[49m\u001b[43m,\u001b[49m\u001b[43m \u001b[49m\u001b[43mruns\u001b[49m\u001b[43m)\u001b[49m\n",
      "Input \u001b[0;32mIn [357]\u001b[0m, in \u001b[0;36mtrain_single_model\u001b[0;34m(model_name, trainloader, testloader, num_classes, num_epochs, runs)\u001b[0m\n\u001b[1;32m     27\u001b[0m loss\u001b[38;5;241m.\u001b[39mbackward()\n\u001b[1;32m     29\u001b[0m optimizer\u001b[38;5;241m.\u001b[39mstep()\n\u001b[0;32m---> 31\u001b[0m running_loss \u001b[38;5;241m+\u001b[39m\u001b[38;5;241m=\u001b[39m \u001b[43mloss\u001b[49m\u001b[38;5;241;43m.\u001b[39;49m\u001b[43mitem\u001b[49m\u001b[43m(\u001b[49m\u001b[43m)\u001b[49m\n\u001b[1;32m     33\u001b[0m outputs \u001b[38;5;241m=\u001b[39m model(inputs)\n\u001b[1;32m     35\u001b[0m acc \u001b[38;5;241m=\u001b[39m accuracy(outputs, labels)\n",
      "\u001b[0;31mKeyboardInterrupt\u001b[0m: "
     ]
    }
   ],
   "source": [
    "train_single_model(model_4, cifar10_trainloader, cifar10_testloader, num_classes, num_epochs, runs)"
   ]
  },
  {
   "cell_type": "markdown",
   "metadata": {
    "tags": []
   },
   "source": [
    "## Results"
   ]
  },
  {
   "cell_type": "markdown",
   "metadata": {},
   "source": [
    "### Collect the train error, test error for the trained single models and store in the '../results/cifar10_results.csv' file."
   ]
  },
  {
   "cell_type": "code",
   "execution_count": 4,
   "metadata": {},
   "outputs": [],
   "source": [
    "import sys\n",
    "sys.path.append('../src/cifar10')"
   ]
  },
  {
   "cell_type": "code",
   "execution_count": 27,
   "metadata": {},
   "outputs": [
    {
     "name": "stdout",
     "output_type": "stream",
     "text": [
      "cifar10_single_model_10_models.pt\n",
      "device cuda:0\n",
      "Files already downloaded and verified\n",
      "Files already downloaded and verified\n",
      "../results/cifar10/cifar10_results.csv\n"
     ]
    }
   ],
   "source": [
    "import csv\n",
    "\n",
    "m = 'cifar10_single_model'\n",
    "plot_file = generate_plot_file(m, specific=str(num_classes)+'_models.pt')\n",
    "print(plot_file)\n",
    "models = torch.load(open(os.path.join(model_path, plot_file),'rb'), map_location=device)\n",
    "filename = os.path.join(results_path, 'cifar10_results.csv')\n",
    "print(filename)\n",
    "if os.path.exists(filename):\n",
    "    p = 'a'\n",
    "else:\n",
    "    p = 'w'\n",
    "        \n",
    "header = ['filename', 'train error', 'test error','mutual information', 'sample entropy', 'experts usage']\n",
    "    \n",
    "with open(filename, p) as f:\n",
    "    writer = csv.writer(f)        \n",
    "\n",
    "    if p == 'w':            \n",
    "        writer.writerow(header)\n",
    "    for i, model in enumerate(models['models']):\n",
    "        data = ['']*5\n",
    "        data[0] = m+'_'+str(i)\n",
    "        running_test_accuracy = 0.0\n",
    "        num_batches = 0\n",
    "        train_error = 1-models['history'][i]['accuracy'][-1]\n",
    "        data[1] = train_error\n",
    "        for test_inputs, test_labels in cifar10_testloader:\n",
    "            test_inputs, test_labels = test_inputs.to(device, non_blocking=True), test_labels.to(device, non_blocking=True)    \n",
    "            outputs = model(test_inputs)\n",
    "            running_test_accuracy += accuracy(outputs, test_labels)\n",
    "            num_batches += 1\n",
    "        test_error = 1-(running_test_accuracy/num_batches)\n",
    "        data[2] = test_error.item()\n",
    "        \n",
    "        writer.writerow(data)\n"
   ]
  },
  {
   "cell_type": "code",
   "execution_count": 2,
   "metadata": {},
   "outputs": [],
   "source": [
    "total_experts = 5\n",
    "num_classes = 10\n",
    "num_epochs = 40"
   ]
  },
  {
   "cell_type": "code",
   "execution_count": 3,
   "metadata": {},
   "outputs": [
    {
     "name": "stderr",
     "output_type": "stream",
     "text": [
      "/nobackup/projects/bdrap03/yamuna/miniconda/envs/mnn/lib/python3.9/site-packages/tqdm/auto.py:22: TqdmWarning: IProgress not found. Please update jupyter and ipywidgets. See https://ipywidgets.readthedocs.io/en/stable/user_install.html\n",
      "  from .autonotebook import tqdm as notebook_tqdm\n"
     ]
    }
   ],
   "source": [
    "import csv\n",
    "from helper import moe_models\n",
    "\n",
    "def collect_results(m, temps=[1.0], w_importance_range=[0.0], \n",
    "                    w_sample_sim_same_range=[0.0], w_sample_sim_diff_range=[0.0],\n",
    "                    total_experts=5, num_classes=10, num_epochs=20, \n",
    "                    testloader=None, model_path=None, results_path=None, filename = 'cifar10_results.csv'):\n",
    "    \n",
    "    filename = os.path.join(results_path, filename)\n",
    "    \n",
    "    if os.path.exists(filename):\n",
    "        p = 'a'\n",
    "    else:\n",
    "        p = 'w'\n",
    "        \n",
    "    header = ['filename', 'train error', 'test error','mutual information', 'sample entropy', 'experts usage']\n",
    "    \n",
    "    with open(filename, p) as f:\n",
    "                \n",
    "        writer = csv.writer(f)        \n",
    "        \n",
    "        if p == 'w':            \n",
    "            writer.writerow(header)\n",
    "        \n",
    "        for w_importance, w_sample_sim_same, w_sample_sim_diff in product(w_importance_range, w_sample_sim_same_range, w_sample_sim_diff_range):\n",
    "            plot_file = generate_plot_file(m, w_importance=w_importance, w_sample_sim_same=w_sample_sim_same, w_sample_sim_diff=w_sample_sim_diff, \n",
    "                                           specific=str(num_classes)+'_'+str(total_experts)+'_models.pt')\n",
    "\n",
    "            models = torch.load(open(os.path.join(model_path, plot_file),'rb'), map_location=device)\n",
    "            for _ in range(len(models)):\n",
    "                mod = models.pop()\n",
    "                data = [plot_file]\n",
    "                # model\n",
    "                model = mod['moe_expectation_model']['experts'][total_experts]['model']\n",
    "                # history\n",
    "                history = mod['moe_expectation_model']['experts'][total_experts]['history']\n",
    "                # train error\n",
    "                data.append(1-history['accuracy'][-1].item())\n",
    "                running_test_accuracy = 0.0\n",
    "                running_entropy = 0.0\n",
    "                num_batches = 0\n",
    "                ey =  torch.zeros((num_classes, total_experts)).to(device)\n",
    "                for test_inputs, test_labels in testloader:\n",
    "                    test_inputs, test_labels = test_inputs.to(device, non_blocking=True), test_labels.to(device, non_blocking=True)                \n",
    "                    outputs = model(test_inputs)\n",
    "                    running_test_accuracy += accuracy(outputs, test_labels)\n",
    "                    \n",
    "                    selected_experts = torch.argmax(model.gate_outputs, dim=1)\n",
    "                    y = test_labels\n",
    "                    e = selected_experts\n",
    "                    for j in range(y.shape[0]):\n",
    "                        ey[int(torch.argmax(model.expert_outputs[j,e[j],:])), int(e[j])] += 1\n",
    "\n",
    "                    running_entropy += moe_models.entropy(model.gate_outputs)\n",
    "                    \n",
    "                    num_batches+=1\n",
    " \n",
    "                mutual_EY,_,_,_ = moe_models.mutual_information(ey.detach())\n",
    "    \n",
    "                test_error = 1-(running_test_accuracy/num_batches)\n",
    "                data.append(test_error.item())\n",
    "                data.append(mutual_EY.item())\n",
    "                \n",
    "                data.append(running_entropy.item()/num_batches)  \n",
    "                gate_probabilities_sum = torch.mean(model.gate_outputs, dim=0)            \n",
    "                data.append(entropy(gate_probabilities_sum).item())\n",
    "                \n",
    "                writer.writerow(data)\n",
    "            \n",
    "            "
   ]
  },
  {
   "cell_type": "code",
   "execution_count": null,
   "metadata": {},
   "outputs": [],
   "source": []
  }
 ],
 "metadata": {
  "@webio": {
   "lastCommId": null,
   "lastKernelId": null
  },
  "kernelspec": {
   "display_name": "mnn",
   "language": "python",
   "name": "mnn"
  },
  "language_info": {
   "codemirror_mode": {
    "name": "ipython",
    "version": 3
   },
   "file_extension": ".py",
   "mimetype": "text/x-python",
   "name": "python",
   "nbconvert_exporter": "python",
   "pygments_lexer": "ipython3",
   "version": "3.9.13"
  },
  "latex_envs": {
   "LaTeX_envs_menu_present": true,
   "autoclose": false,
   "autocomplete": true,
   "bibliofile": "biblio.bib",
   "cite_by": "apalike",
   "current_citInitial": 1,
   "eqLabelWithNumbers": true,
   "eqNumInitial": 1,
   "hotkeys": {
    "equation": "Ctrl-E",
    "itemize": "Ctrl-I"
   },
   "labels_anchors": false,
   "latex_user_defs": false,
   "report_style_numbering": false,
   "user_envs_cfg": false
  }
 },
 "nbformat": 4,
 "nbformat_minor": 4
}
