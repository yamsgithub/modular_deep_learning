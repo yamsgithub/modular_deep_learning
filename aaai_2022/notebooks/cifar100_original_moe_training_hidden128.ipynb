{
 "cells": [
  {
   "cell_type": "markdown",
   "metadata": {},
   "source": [
    "# Experiments with CIFAR10 Dataset and Original MoE"
   ]
  },
  {
   "cell_type": "markdown",
   "metadata": {},
   "source": [
    "The experiments in this notebook include training the original MoE models as follows:\n",
    "\n",
    "1. original MoE without regularization.\n",
    "2. original MoE with $L_{importance}$ regularization.\n",
    "3. original MoE with $L_s$ regularization.\n",
    "4. train a single model."
   ]
  },
  {
   "cell_type": "code",
   "execution_count": 21,
   "metadata": {},
   "outputs": [],
   "source": [
    "import time\n",
    "import numpy as np\n",
    "import matplotlib.pyplot as plt\n",
    "from matplotlib.ticker import FormatStrFormatter\n",
    "import matplotlib.cm as cm  # colormaps\n",
    "\n",
    "%matplotlib inline"
   ]
  },
  {
   "cell_type": "code",
   "execution_count": 22,
   "metadata": {},
   "outputs": [],
   "source": [
    "import seaborn as sns\n",
    "import numpy as np\n",
    "from statistics import mean\n",
    "from math import ceil, sin, cos, radians\n",
    "from collections import OrderedDict\n",
    "import os\n",
    "import pandas as pd\n",
    "from pprint import pprint\n",
    "from copy import deepcopy"
   ]
  },
  {
   "cell_type": "code",
   "execution_count": 23,
   "metadata": {},
   "outputs": [
    {
     "name": "stderr",
     "output_type": "stream",
     "text": [
      "/nobackup/projects/bdrap03/yamuna/miniconda/envs/mnn/lib/python3.9/site-packages/tqdm/auto.py:22: TqdmWarning: IProgress not found. Please update jupyter and ipywidgets. See https://ipywidgets.readthedocs.io/en/stable/user_install.html\n",
      "  from .autonotebook import tqdm as notebook_tqdm\n"
     ]
    }
   ],
   "source": [
    "import torch\n",
    "import torchvision\n",
    "import torch.nn as nn\n",
    "import torch.nn.functional as F\n",
    "\n",
    "import torch.optim as optim\n",
    "from torch.optim import lr_scheduler\n",
    "\n",
    "from torch.utils.data import TensorDataset\n",
    "import torchvision.transforms.functional as TF\n",
    "import torchvision.transforms as transforms\n",
    "from torchvision.models import resnet18, resnet50, resnet101"
   ]
  },
  {
   "cell_type": "code",
   "execution_count": 24,
   "metadata": {},
   "outputs": [
    {
     "name": "stdout",
     "output_type": "stream",
     "text": [
      "device cuda:0\n"
     ]
    }
   ],
   "source": [
    "if torch.cuda.is_available():\n",
    "    device = torch.device(\"cuda:0\")\n",
    "    print('device', device)\n",
    "else:\n",
    "    device = torch.device(\"cpu\")\n",
    "    print('device', device)"
   ]
  },
  {
   "cell_type": "code",
   "execution_count": 25,
   "metadata": {},
   "outputs": [],
   "source": [
    "# import MoE expectation model. All experiments for this dataset are done with the expectation model as it\n",
    "# provides the best guarantee of interpretable task decompositions\n",
    "from moe_models.moe_expectation_model import moe_expectation_model\n",
    "from helper.moe_models import cross_entropy_loss\n",
    "from helper.visualise_results import *"
   ]
  },
  {
   "cell_type": "markdown",
   "metadata": {},
   "source": [
    "### NOTE: Pre-trained models are provided to check the results of all the experiments if you do not have the time to train all the models. "
   ]
  },
  {
   "cell_type": "markdown",
   "metadata": {},
   "source": [
    "## Load CIFAR10 dataset"
   ]
  },
  {
   "cell_type": "code",
   "execution_count": 26,
   "metadata": {},
   "outputs": [],
   "source": [
    "# Paths to where the trained models and figures will be stored. You can change this as you see fit.\n",
    "fig_path = '../figures/hidden_128'\n",
    "model_path = '../models/hidden_128'\n",
    "pre_trained_model_path = '../models/pre_trained'\n",
    "results_path = '../results'\n",
    "\n",
    "if not os.path.exists(fig_path):\n",
    "    os.mkdir(fig_path)\n",
    "if not os.path.exists(model_path):\n",
    "    os.mkdir(model_path)\n",
    "if not os.path.exists(results_path):\n",
    "    os.mkdir(results_path)    "
   ]
  },
  {
   "cell_type": "code",
   "execution_count": 27,
   "metadata": {},
   "outputs": [],
   "source": [
    "stats = ((0.5074,0.4867,0.4411),(0.2011,0.1987,0.2025))\n",
    "train_transform = transforms.Compose([\n",
    "    transforms.RandomHorizontalFlip(),\n",
    "    transforms.RandomCrop(32,padding=4,padding_mode=\"reflect\"),\n",
    "    transforms.ToTensor(),\n",
    "    transforms.Normalize(*stats)\n",
    "])\n",
    "\n",
    "test_transform = transforms.Compose([\n",
    "    transforms.ToTensor(),\n",
    "    transforms.Normalize(*stats)\n",
    "])"
   ]
  },
  {
   "cell_type": "code",
   "execution_count": 28,
   "metadata": {
    "scrolled": true,
    "tags": []
   },
   "outputs": [
    {
     "name": "stdout",
     "output_type": "stream",
     "text": [
      "Files already downloaded and verified\n",
      "Files already downloaded and verified\n"
     ]
    },
    {
     "data": {
      "text/plain": [
       "(Dataset CIFAR100\n",
       "     Number of datapoints: 10000\n",
       "     Root location: ./data\n",
       "     Split: Test\n",
       "     StandardTransform\n",
       " Transform: Compose(\n",
       "                ToTensor()\n",
       "                Normalize(mean=(0.5074, 0.4867, 0.4411), std=(0.2011, 0.1987, 0.2025))\n",
       "            ),\n",
       " Dataset CIFAR100\n",
       "     Number of datapoints: 50000\n",
       "     Root location: ./data\n",
       "     Split: Train\n",
       "     StandardTransform\n",
       " Transform: Compose(\n",
       "                RandomHorizontalFlip(p=0.5)\n",
       "                RandomCrop(size=(32, 32), padding=4)\n",
       "                ToTensor()\n",
       "                Normalize(mean=(0.5074, 0.4867, 0.4411), std=(0.2011, 0.1987, 0.2025))\n",
       "            ))"
      ]
     },
     "execution_count": 28,
     "metadata": {},
     "output_type": "execute_result"
    }
   ],
   "source": [
    "cifar100_trainset = torchvision.datasets.CIFAR100(root='./data', train=True, download=True, transform=train_transform)\n",
    "cifar100_testset = torchvision.datasets.CIFAR100(root='./data', train=False, download=True, transform=test_transform)\n",
    "cifar100_testset, cifar100_trainset"
   ]
  },
  {
   "cell_type": "code",
   "execution_count": 29,
   "metadata": {},
   "outputs": [],
   "source": [
    "num_classes = 100"
   ]
  },
  {
   "cell_type": "code",
   "execution_count": 30,
   "metadata": {},
   "outputs": [],
   "source": [
    "trainsize = 50000\n",
    "testsize = 10000"
   ]
  },
  {
   "cell_type": "code",
   "execution_count": 31,
   "metadata": {},
   "outputs": [],
   "source": [
    "batch_size = 256"
   ]
  },
  {
   "cell_type": "code",
   "execution_count": 32,
   "metadata": {},
   "outputs": [],
   "source": [
    "cifar100_trainloader = torch.utils.data.DataLoader(torch.utils.data.Subset(cifar100_trainset, range(trainsize)), batch_size=batch_size,\n",
    "                                          shuffle=True, num_workers=2, pin_memory=True)\n",
    "cifar100_testloader = torch.utils.data.DataLoader(torch.utils.data.Subset(cifar100_testset, range(testsize)), batch_size=batch_size,\n",
    "                                         shuffle=True, num_workers=2, pin_memory=True)"
   ]
  },
  {
   "cell_type": "code",
   "execution_count": 40,
   "metadata": {
    "scrolled": true,
    "tags": []
   },
   "outputs": [
    {
     "data": {
      "text/plain": [
       "['apple',\n",
       " 'aquarium_fish',\n",
       " 'baby',\n",
       " 'bear',\n",
       " 'beaver',\n",
       " 'bed',\n",
       " 'bee',\n",
       " 'beetle',\n",
       " 'bicycle',\n",
       " 'bottle',\n",
       " 'bowl',\n",
       " 'boy',\n",
       " 'bridge',\n",
       " 'bus',\n",
       " 'butterfly',\n",
       " 'camel',\n",
       " 'can',\n",
       " 'castle',\n",
       " 'caterpillar',\n",
       " 'cattle',\n",
       " 'chair',\n",
       " 'chimpanzee',\n",
       " 'clock',\n",
       " 'cloud',\n",
       " 'cockroach',\n",
       " 'couch',\n",
       " 'crab',\n",
       " 'crocodile',\n",
       " 'cup',\n",
       " 'dinosaur',\n",
       " 'dolphin',\n",
       " 'elephant',\n",
       " 'flatfish',\n",
       " 'forest',\n",
       " 'fox',\n",
       " 'girl',\n",
       " 'hamster',\n",
       " 'house',\n",
       " 'kangaroo',\n",
       " 'keyboard',\n",
       " 'lamp',\n",
       " 'lawn_mower',\n",
       " 'leopard',\n",
       " 'lion',\n",
       " 'lizard',\n",
       " 'lobster',\n",
       " 'man',\n",
       " 'maple_tree',\n",
       " 'motorcycle',\n",
       " 'mountain',\n",
       " 'mouse',\n",
       " 'mushroom',\n",
       " 'oak_tree',\n",
       " 'orange',\n",
       " 'orchid',\n",
       " 'otter',\n",
       " 'palm_tree',\n",
       " 'pear',\n",
       " 'pickup_truck',\n",
       " 'pine_tree',\n",
       " 'plain',\n",
       " 'plate',\n",
       " 'poppy',\n",
       " 'porcupine',\n",
       " 'possum',\n",
       " 'rabbit',\n",
       " 'raccoon',\n",
       " 'ray',\n",
       " 'road',\n",
       " 'rocket',\n",
       " 'rose',\n",
       " 'sea',\n",
       " 'seal',\n",
       " 'shark',\n",
       " 'shrew',\n",
       " 'skunk',\n",
       " 'skyscraper',\n",
       " 'snail',\n",
       " 'snake',\n",
       " 'spider',\n",
       " 'squirrel',\n",
       " 'streetcar',\n",
       " 'sunflower',\n",
       " 'sweet_pepper',\n",
       " 'table',\n",
       " 'tank',\n",
       " 'telephone',\n",
       " 'television',\n",
       " 'tiger',\n",
       " 'tractor',\n",
       " 'train',\n",
       " 'trout',\n",
       " 'tulip',\n",
       " 'turtle',\n",
       " 'wardrobe',\n",
       " 'whale',\n",
       " 'willow_tree',\n",
       " 'wolf',\n",
       " 'woman',\n",
       " 'worm']"
      ]
     },
     "execution_count": 40,
     "metadata": {},
     "output_type": "execute_result"
    }
   ],
   "source": [
    "import csv\n",
    "with open('data/cifar100_class_names.txt','r') as csvfile:\n",
    "    csvreader = csv.reader(csvfile, delimiter=' ')\n",
    "    classes_cifar100 = []\n",
    "    for row in csvreader:\n",
    "        if row:\n",
    "            classes_cifar100.append(row[1])\n",
    "\n",
    "classes_cifar100     "
   ]
  },
  {
   "cell_type": "code",
   "execution_count": 65,
   "metadata": {
    "scrolled": true,
    "tags": []
   },
   "outputs": [
    {
     "data": {
      "text/plain": [
       "{'beaver': 'aquatic mammals',\n",
       " 'dolphin': 'aquatic mammals',\n",
       " 'otter': 'aquatic mammals',\n",
       " 'seal': 'aquatic mammals',\n",
       " 'whale': 'aquatic mammals',\n",
       " 'aquarium_fish': 'fish',\n",
       " 'flatfish': 'fish',\n",
       " 'ray': 'fish',\n",
       " 'shark': 'fish',\n",
       " 'trout': 'fish',\n",
       " 'orchid': 'flowers',\n",
       " 'poppy': 'flowers',\n",
       " 'rose': 'flowers',\n",
       " 'sunflower': 'flowers',\n",
       " 'tulip': 'flowers',\n",
       " 'bottle': 'food container',\n",
       " 'bowl': 'food container',\n",
       " 'can': 'food container',\n",
       " 'cup': 'food container',\n",
       " 'plate': 'food container',\n",
       " 'apple': 'fruit and vegetables',\n",
       " 'mushroom': 'fruit and vegetables',\n",
       " 'orange': 'fruit and vegetables',\n",
       " 'pear': 'fruit and vegetables',\n",
       " 'sweet_pepper': 'fruit and vegetables',\n",
       " 'clock': 'household electrical devices',\n",
       " 'keyboard': 'household electrical devices',\n",
       " 'lamp': 'household electrical devices',\n",
       " 'telephone': 'household electrical devices',\n",
       " 'television': 'household electrical devices',\n",
       " 'bed': 'household furniture',\n",
       " 'chair': 'household furniture',\n",
       " 'couch': 'household furniture',\n",
       " 'table': 'household furniture',\n",
       " 'wardrobe': 'household furniture',\n",
       " 'bee': 'insects',\n",
       " 'beetle': 'insects',\n",
       " 'butterfly': 'insects',\n",
       " 'caterpillar': 'insects',\n",
       " 'cockroach': 'insects',\n",
       " 'bear': 'large carnivores',\n",
       " 'leopard': 'large carnivores',\n",
       " 'lion': 'large carnivores',\n",
       " 'tiger': 'large carnivores',\n",
       " 'wolf': 'large carnivores',\n",
       " 'bridge': 'large man-made outdoor things',\n",
       " 'castle': 'large man-made outdoor things',\n",
       " 'house': 'large man-made outdoor things',\n",
       " 'road': 'large man-made outdoor things',\n",
       " 'skyscraper': 'large man-made outdoor things',\n",
       " 'cloud': 'large natural outdoor scenes',\n",
       " 'forest': 'large natural outdoor scenes',\n",
       " 'mountain': 'large natural outdoor scenes',\n",
       " 'plain': 'large natural outdoor scenes',\n",
       " 'sea': 'large natural outdoor scenes',\n",
       " 'camel': 'large omnivores and herbivores',\n",
       " 'cattle': 'large omnivores and herbivores',\n",
       " 'chimpanzee': 'large omnivores and herbivores',\n",
       " 'elephant': 'large omnivores and herbivores',\n",
       " 'kangaroo': 'large omnivores and herbivores',\n",
       " 'fox': 'medium-sized mammals',\n",
       " 'porcupine': 'medium-sized mammals',\n",
       " 'possum': 'medium-sized mammals',\n",
       " 'raccoon': 'medium-sized mammals',\n",
       " 'skunk': 'medium-sized mammals',\n",
       " 'crab': 'non-insect invertebrates',\n",
       " 'lobster': 'non-insect invertebrates',\n",
       " 'snail': 'non-insect invertebrates',\n",
       " 'spider': 'non-insect invertebrates',\n",
       " 'worm': 'non-insect invertebrates',\n",
       " 'baby': 'people',\n",
       " 'boy': 'people',\n",
       " 'girl': 'people',\n",
       " 'man': 'people',\n",
       " 'woman': 'people',\n",
       " 'crocodile': 'reptiles',\n",
       " 'dinosaur': 'reptiles',\n",
       " 'lizard': 'reptiles',\n",
       " 'snake': 'reptiles',\n",
       " 'turtle': 'reptiles',\n",
       " 'hamster': 'small mammals',\n",
       " 'mouse': 'small mammals',\n",
       " 'rabbit': 'small mammals',\n",
       " 'shrew': 'small mammals',\n",
       " 'squirrel': 'small mammals',\n",
       " 'maple_tree': 'trees',\n",
       " 'oak_tree': 'trees',\n",
       " 'palm_tree': 'trees',\n",
       " 'pine_tree': 'trees',\n",
       " 'willow_tree': 'trees',\n",
       " 'bicycle': 'vehicles 1',\n",
       " 'bus': 'vehicles 1',\n",
       " 'motorcycle': 'vehicles 1',\n",
       " 'pickup_truck': 'vehicles 1',\n",
       " 'train': 'vehicles 1',\n",
       " 'lawn_mower': 'vehicles 2',\n",
       " 'rocket': 'vehicles 2',\n",
       " 'streetcar': 'vehicles 2',\n",
       " 'tank': 'vehicles 2',\n",
       " 'tractor': 'vehicles 2'}"
      ]
     },
     "execution_count": 65,
     "metadata": {},
     "output_type": "execute_result"
    }
   ],
   "source": [
    "coarse_labels_cifar100 = OrderedDict()\n",
    "reverse_coarse_labels_cifar100 = {}\n",
    "with open('data/cifar100_coarse_labels.txt','r') as fp:\n",
    "    for line in fp:\n",
    "        items = line.strip().split('\\t')\n",
    "        coarse_labels_cifar100[items[0]] = items[1]\n",
    "        for item in items[1].split(','):\n",
    "            reverse_coarse_labels_cifar100[item.strip()] = items[0]\n",
    "coarse_labels_cifar100.keys()\n",
    "reverse_coarse_labels_cifar100"
   ]
  },
  {
   "cell_type": "code",
   "execution_count": 14,
   "metadata": {},
   "outputs": [],
   "source": [
    "#Function to display the images\n",
    "def plot_colour_images(images_to_plot, titles=None, nrows=None, ncols=6, thefigsize=(18,18)):\n",
    "    # images_to_plot: list of images to be displayed\n",
    "    # titles: list of titles corresponding to the images\n",
    "    # ncols: The number of images per row to display. The number of rows \n",
    "    #        is computed from the number of images to display and the ncols\n",
    "    # theFigsize: The size of the layour of all the displayed images\n",
    "    \n",
    "    n_images = images_to_plot.shape[0]\n",
    "    \n",
    "    # Compute the number of rows\n",
    "    if nrows is None:\n",
    "        nrows = np.ceil(n_images/ncols).astype(int)\n",
    "    \n",
    "    fig,ax = plt.subplots(nrows, ncols, sharex=True, sharey=True, figsize=thefigsize)\n",
    "    ax = ax.flatten()\n",
    "    \n",
    "    for i in range(n_images):\n",
    "        img = images_to_plot[i,:,:,:]\n",
    "        npimg = np.clip(img.numpy(),0,1)\n",
    "        ax[i].imshow(npimg)\n",
    "        ax[i].axis('off')  \n",
    "        if titles is not None and i<10:\n",
    "            ax[i].set_title(titles[i%10])"
   ]
  },
  {
   "cell_type": "code",
   "execution_count": 15,
   "metadata": {},
   "outputs": [],
   "source": [
    "# # get some random training images\n",
    "# dataiter = iter(cifar100_trainloader)\n",
    "# images, labels = dataiter.next()\n",
    "\n",
    "# images_to_plot = []\n",
    "# count = 0\n",
    "# selected_labels = []\n",
    "# for i in range(100):\n",
    "#     if count == 10:\n",
    "#         break\n",
    "#     index = np.where(labels==i)[0]\n",
    "#     if len(index) >= 3:\n",
    "#         selected_labels.append(i)\n",
    "#         images_to_plot.append(images[index[0:3],:,:])\n",
    "#         count += 1\n",
    "    \n",
    "# selected_labels = [classes_cifar100[i] for i in selected_labels]\n",
    "# images_to_plot = torch.transpose(torch.stack(images_to_plot),0,1)\n",
    "# new_shape = images_to_plot.shape\n",
    "# images_to_plot = images_to_plot.reshape(new_shape[0]*new_shape[1], new_shape[2], new_shape[3], new_shape[4])\n",
    "# images_to_plot = images_to_plot.permute(0,2,3,1)\n",
    "# plot_colour_images(images_to_plot, nrows=3, ncols=10,thefigsize=(20,6), titles=selected_labels)"
   ]
  },
  {
   "cell_type": "markdown",
   "metadata": {},
   "source": [
    "## Define expert and gate networks"
   ]
  },
  {
   "cell_type": "code",
   "execution_count": 16,
   "metadata": {},
   "outputs": [],
   "source": [
    "# Convolutional network with one convultional layer and 2 hidden layers with ReLU activation\n",
    "class expert_layers(nn.Module):\n",
    "    def __init__(self, num_classes, channels=3):\n",
    "        super(expert_layers, self).__init__()\n",
    "        filter_size = 3\n",
    "        self.filters = 8\n",
    "        self.conv1 = nn.Conv2d(in_channels=3, out_channels=self.filters, kernel_size=filter_size, padding=1)\n",
    "        self.conv2 = nn.Conv2d(in_channels=self.filters, out_channels=self.filters*2, kernel_size=filter_size, stride=1, padding=1, bias=False)\n",
    "        self.bn2 = nn.BatchNorm2d(self.filters*2)\n",
    "        self.mp = nn.MaxPool2d(2,2)\n",
    "\n",
    "        self.conv3 = nn.Conv2d(in_channels= self.filters*2, out_channels=self.filters*4, kernel_size=filter_size, stride=1, padding=1)\n",
    "        self.conv4 = nn.Conv2d(in_channels=self.filters*4, out_channels=self.filters*4, kernel_size=filter_size, stride=1, padding=1,bias=False)\n",
    "        self.bn4 = nn.BatchNorm2d(self.filters*4)\n",
    "\n",
    "        self.conv5 = nn.Conv2d(in_channels= self.filters*4, out_channels=self.filters*8, kernel_size=filter_size, stride=1, padding=1)\n",
    "        self.conv6 = nn.Conv2d(in_channels=self.filters*8, out_channels=self.filters*8, kernel_size=filter_size, stride=1, padding=1,bias=False)\n",
    "        self.bn8 = nn.BatchNorm2d(self.filters*8)\n",
    "\n",
    "        self.fc1 = nn.Linear(self.filters*8*2*2,512)\n",
    "        self.fc2 = nn.Linear(512, 128)\n",
    "        \n",
    "        self.out = nn.Linear(in_features=128, out_features=num_classes)\n",
    "                        \n",
    "    def forward(self, t):\n",
    "        # conv 1        \n",
    "        x = F.relu(self.conv1(t))\n",
    "        x = self.mp(F.relu(self.conv2(x)))\n",
    "                \n",
    "        x = self.mp(F.relu(self.bn4(self.conv3(x))))\n",
    "        \n",
    "        x = F.relu(self.conv4(x))\n",
    "        x = self.mp(F.relu(self.conv5(x)))\n",
    "        \n",
    "        x = self.mp(F.relu(self.bn8(self.conv6(x))))\n",
    "        \n",
    "        \n",
    "                    \n",
    "        x = x.reshape(-1, self.filters*8*2*2)\n",
    "        \n",
    "        x = F.relu(self.fc1(x))\n",
    "        x = F.relu(self.fc2(x))\n",
    "        \n",
    "        x = self.out(x)\n",
    "        \n",
    "        # print('E', x.shape)\n",
    "        \n",
    "        # output\n",
    "        x = F.softmax(x, dim=1)\n",
    "        \n",
    "        return x"
   ]
  },
  {
   "cell_type": "code",
   "execution_count": 17,
   "metadata": {},
   "outputs": [],
   "source": [
    "# Convolutional network with one convultional layer and 2 hidden layers with ReLU activation\n",
    "class gate_layers(nn.Module):\n",
    "    def __init__(self, num_experts):\n",
    "        super(gate_layers, self).__init__()\n",
    "        # define layers\n",
    "        filter_size = 3\n",
    "        self.filters = 64\n",
    "        self.conv1 = nn.Conv2d(in_channels=3, out_channels=self.filters, kernel_size=filter_size, padding=1)\n",
    "        self.conv2 = nn.Conv2d(in_channels=self.filters, out_channels=self.filters*2, kernel_size=filter_size, stride=1, padding=1, bias=False)\n",
    "        self.bn2 = nn.BatchNorm2d(self.filters*2)\n",
    "        self.mp = nn.MaxPool2d(2,2)\n",
    "\n",
    "        self.conv3 = nn.Conv2d(in_channels= self.filters*2, out_channels=self.filters*4, kernel_size=filter_size, stride=1, padding=1)\n",
    "        self.conv4 = nn.Conv2d(in_channels=self.filters*4, out_channels=self.filters*4, kernel_size=filter_size, stride=1, padding=1,bias=False)\n",
    "        self.bn4 = nn.BatchNorm2d(self.filters*4)\n",
    "\n",
    "        self.conv5 = nn.Conv2d(in_channels= self.filters*4, out_channels=self.filters*8, kernel_size=filter_size, stride=1, padding=1)\n",
    "        self.conv6 = nn.Conv2d(in_channels=self.filters*8, out_channels=self.filters*8, kernel_size=filter_size, stride=1, padding=1,bias=False)\n",
    "        self.bn8 = nn.BatchNorm2d(self.filters*8)\n",
    "\n",
    "        self.fc1 = nn.Linear(self.filters*8*2*2,1024)\n",
    "        self.fc2 = nn.Linear(1024, 128)\n",
    "        \n",
    "        self.out = nn.Linear(in_features=128, out_features=num_experts)\n",
    "                        \n",
    "    def forward(self,t , T=1.0, y=None):\n",
    "        # conv 1        \n",
    "        x = F.relu(self.conv1(t))\n",
    "        x = self.mp(F.relu(self.conv2(x)))\n",
    "                \n",
    "        x = self.mp(F.relu(self.bn4(self.conv3(x))))\n",
    "        \n",
    "        x = F.relu(self.conv4(x))\n",
    "        x = self.mp(F.relu(self.conv5(x)))\n",
    "        \n",
    "        x = self.mp(F.relu(self.bn8(self.conv6(x))))\n",
    "        \n",
    "        \n",
    "                    \n",
    "        x = x.reshape(-1, self.filters*8*2*2)\n",
    "        \n",
    "        x = F.relu(self.fc1(x))\n",
    "        x = F.relu(self.fc2(x))\n",
    "        \n",
    "        x = self.out(x)\n",
    "        \n",
    "        # print('G', x.shape)\n",
    "        \n",
    "        # output\n",
    "        x = F.softmax(x/T, dim=1)        \n",
    "        return x\n"
   ]
  },
  {
   "cell_type": "code",
   "execution_count": 18,
   "metadata": {},
   "outputs": [],
   "source": [
    "# create a set of experts\n",
    "def experts(num_experts, num_classes, expert_layers_type=expert_layers):\n",
    "    models = []\n",
    "    for i in range(num_experts):\n",
    "        models.append(expert_layers_type(num_classes))\n",
    "    return nn.ModuleList(models)"
   ]
  },
  {
   "cell_type": "code",
   "execution_count": 19,
   "metadata": {
    "tags": []
   },
   "outputs": [],
   "source": [
    "# Convolutional network with one convultional layer and 2 hidden layers with ReLU activation\n",
    "class single_model(nn.Module):\n",
    "    def __init__(self, num_classes, channels=3):\n",
    "        super(single_model, self).__init__()\n",
    "        filter_size = 3\n",
    "        self.filters = 8\n",
    "        self.conv1 = nn.Conv2d(in_channels=3, out_channels=self.filters, kernel_size=filter_size, padding=1)\n",
    "        self.conv2 = nn.Conv2d(in_channels=self.filters, out_channels=self.filters*2, kernel_size=filter_size, stride=1, padding=1, bias=False)\n",
    "        self.bn2 = nn.BatchNorm2d(self.filters*2)\n",
    "        self.mp = nn.MaxPool2d(2,2)\n",
    "\n",
    "        self.conv3 = nn.Conv2d(in_channels= self.filters*2, out_channels=self.filters*4, kernel_size=filter_size, stride=1, padding=1)\n",
    "        self.conv4 = nn.Conv2d(in_channels=self.filters*4, out_channels=self.filters*4, kernel_size=filter_size, stride=1, padding=1,bias=False)\n",
    "        self.bn4 = nn.BatchNorm2d(self.filters*4)\n",
    "\n",
    "        self.conv5 = nn.Conv2d(in_channels= self.filters*4, out_channels=self.filters*8, kernel_size=filter_size, stride=1, padding=1)\n",
    "        self.conv6 = nn.Conv2d(in_channels=self.filters*8, out_channels=self.filters*8, kernel_size=filter_size, stride=1, padding=1,bias=False)\n",
    "        self.bn8 = nn.BatchNorm2d(self.filters*8)\n",
    "\n",
    "        self.fc1 = nn.Linear(self.filters*8*2*2,512)\n",
    "        self.fc2 = nn.Linear(512, 128)\n",
    "        \n",
    "        self.out = nn.Linear(in_features=128, out_features=num_classes)\n",
    "                        \n",
    "    def forward(self, t):\n",
    "        # conv 1        \n",
    "        x = F.relu(self.conv1(t))\n",
    "        x = self.mp(F.relu(self.conv2(x)))\n",
    "                \n",
    "        x = self.mp(F.relu(self.bn4(self.conv3(x))))\n",
    "        \n",
    "        x = F.relu(self.conv4(x))\n",
    "        x = self.mp(F.relu(self.conv5(x)))\n",
    "        \n",
    "        x = self.mp(F.relu(self.bn8(self.conv6(x))))\n",
    "                            \n",
    "        x = x.reshape(-1, self.filters*8*2*2)\n",
    "        \n",
    "        x = F.relu(self.fc1(x))\n",
    "        x = F.relu(self.fc2(x))\n",
    "        \n",
    "        x = self.out(x)\n",
    "        \n",
    "        # output\n",
    "        x = F.softmax(x, dim=1)\n",
    "                \n",
    "        return x"
   ]
  },
  {
   "cell_type": "markdown",
   "metadata": {},
   "source": [
    "## Initialize configurations and helper functions"
   ]
  },
  {
   "cell_type": "code",
   "execution_count": 20,
   "metadata": {},
   "outputs": [],
   "source": [
    "# Compute accuracy of the model\n",
    "def accuracy(out, yb, mean=True):\n",
    "    preds = torch.argmax(out, dim=1).to(device, non_blocking=True)\n",
    "    if mean:\n",
    "        return (preds == yb).float().mean()\n",
    "    else:\n",
    "        return (preds == yb).float()"
   ]
  },
  {
   "cell_type": "markdown",
   "metadata": {},
   "source": [
    "## Functions to train models"
   ]
  },
  {
   "cell_type": "markdown",
   "metadata": {},
   "source": [
    "### Function to train original model with and without regularization\n",
    "\n",
    "* w_importance_range is the range of values for the $w_{importance}$ hyperparameter of the $L_{importance}$ regularization.\n",
    "* w_sample_sim_same_range is the range of values for $\\beta_s$ hyperparameter of the $L_s$ regularization.\n",
    "* w_sample_sim_diff_range is the range of values for $\\beta_d$ hyperparameter of the $L_s$ regularization."
   ]
  },
  {
   "cell_type": "code",
   "execution_count": 21,
   "metadata": {
    "tags": []
   },
   "outputs": [],
   "source": [
    "from itertools import product\n",
    "\n",
    "def train_original_model(model_1, trainloader, testloader, runs, temps=[[1.0]*20], \n",
    "                         w_importance_range=[0.0], w_sample_sim_same_range=[0.0], \n",
    "                         w_sample_sim_diff_range=[0.0],\n",
    "                         num_classes=10, total_experts=5, num_epochs=20):\n",
    "\n",
    "    for T, w_importance, w_sample_sim_same, w_sample_sim_diff in product(temps, w_importance_range, \n",
    "                                                                         w_sample_sim_same_range,  w_sample_sim_diff_range):\n",
    "        \n",
    "        print('w_importance','{:.1f}'.format(w_importance))\n",
    "        if w_sample_sim_same < 1:\n",
    "            print('w_sample_sim_same',str(w_sample_sim_same))\n",
    "        else:\n",
    "            print('w_sample_sim_same','{:.1f}'.format(w_sample_sim_same))\n",
    "        \n",
    "        if w_sample_sim_diff < 1:\n",
    "            print('w_sample_sim_diff',str(w_sample_sim_diff))\n",
    "        else:\n",
    "            print('w_sample_sim_diff','{:.1f}'.format(w_sample_sim_diff))\n",
    "\n",
    "        \n",
    "        for run in range(1, runs+1):\n",
    "            \n",
    "            print('Run:', run)\n",
    "            \n",
    "            n_run_models_1 = []\n",
    "            \n",
    "            models = {'moe_expectation_model':{'model':moe_expectation_model,'loss':cross_entropy_loss().to(device),\n",
    "                                               'experts':{}},}\n",
    "            for key, val in models.items():\n",
    "\n",
    "                expert_models = experts(total_experts, num_classes).to(device)\n",
    "\n",
    "                gate_model = gate_layers(total_experts).to(device)\n",
    "\n",
    "                moe_model = val['model'](total_experts, num_classes,\n",
    "                                         experts=expert_models, gate=gate_model,device=device).to(device)\n",
    "                \n",
    "                optimizer_moe = optim.Adam(moe_model.parameters(), lr=0.001, amsgrad=False, weight_decay=1e-3)\n",
    "                \n",
    "               \n",
    "                hist = moe_model.train(trainloader, testloader,  val['loss'], optimizer_moe = optimizer_moe,\n",
    "                                       T = T, w_importance=w_importance, w_sample_sim_same = w_sample_sim_same, \n",
    "                                       w_sample_sim_diff = w_sample_sim_diff, \n",
    "                                       accuracy=accuracy, epochs=num_epochs)\n",
    "                val['experts'][total_experts] = {'model':moe_model, 'history':hist}                \n",
    "\n",
    "\n",
    "            # Save all the trained models\n",
    "            plot_file = generate_plot_file(model_1, T[0], w_importance=w_importance, w_sample_sim_same=w_sample_sim_same,w_sample_sim_diff=w_sample_sim_diff,\n",
    "                                           specific=str(num_classes)+'_'+str(total_experts)+'_models.pt')\n",
    "            \n",
    "            if os.path.exists(os.path.join(model_path, plot_file)):\n",
    "                n_run_models_1 = torch.load(open(os.path.join(model_path, plot_file),'rb'))\n",
    "            n_run_models_1.append(models)\n",
    "            torch.save(n_run_models_1,open(os.path.join(model_path, plot_file),'wb'))\n",
    "            n_run_models_1 = []\n"
   ]
  },
  {
   "cell_type": "markdown",
   "metadata": {},
   "source": [
    "### Function to train the single model"
   ]
  },
  {
   "cell_type": "code",
   "execution_count": 22,
   "metadata": {
    "tags": []
   },
   "outputs": [],
   "source": [
    "def train_single_model(model_name, trainloader, testloader, num_classes, num_epochs, runs):\n",
    "    \n",
    "    loss_criterion = cross_entropy_loss()\n",
    "    \n",
    "    n_runs = {'models':[], 'history':[]}\n",
    "    \n",
    "    for run in range(1, runs+1):\n",
    "        \n",
    "        print('Run', run)\n",
    "        \n",
    "        model = single_model(num_classes).to(device)\n",
    "        history = {'loss':[], 'accuracy':[], 'val_accuracy':[]}\n",
    "        optimizer = optim.Adam(model.parameters(), lr=0.001, amsgrad=False, weight_decay=1e-3)\n",
    "        \n",
    "        for epoch in range(num_epochs):\n",
    "            running_loss = 0.0\n",
    "            train_running_accuracy = 0.0\n",
    "            num_batches = 0\n",
    "\n",
    "            for inputs, labels in trainloader:\n",
    "                inputs, labels = inputs.to(device, non_blocking=True), labels.to(device, non_blocking=True)\n",
    "                outputs = model(inputs)\n",
    "\n",
    "                optimizer.zero_grad()\n",
    "                loss = loss_criterion(outputs, None, None, labels)\n",
    "\n",
    "                loss.backward()\n",
    "\n",
    "                optimizer.step()\n",
    "\n",
    "                running_loss += loss.item()\n",
    "\n",
    "                outputs = model(inputs)\n",
    "\n",
    "                acc = accuracy(outputs, labels)\n",
    "                train_running_accuracy += acc\n",
    "\n",
    "                num_batches += 1\n",
    "\n",
    "            test_running_accuracy = 0.0\n",
    "            test_num_batches = 0\n",
    "            \n",
    "            for test_inputs, test_labels in testloader:\n",
    "                test_inputs, test_labels = test_inputs.to(device, non_blocking=True), test_labels.to(device, non_blocking=True)\n",
    "                test_outputs = model(test_inputs)              \n",
    "                test_running_accuracy += accuracy(test_outputs, test_labels)\n",
    "                test_num_batches += 1\n",
    "                \n",
    "            loss = (running_loss/num_batches)\n",
    "            train_accuracy = (train_running_accuracy/num_batches)\n",
    "            test_accuracy = (test_running_accuracy/test_num_batches)\n",
    "            \n",
    "            history['loss'].append(loss)\n",
    "            history['accuracy'].append(train_accuracy.item())\n",
    "            history['val_accuracy'].append(test_accuracy.item())\n",
    "            \n",
    "            print('epoch %d' % epoch,\n",
    "                  'training loss %.2f' % loss,\n",
    "                   ', training accuracy %.2f' % train_accuracy,\n",
    "                   ', test accuracy %.2f' % test_accuracy\n",
    "                   )\n",
    "            \n",
    "        plot_file = generate_plot_file(model_name, specific=str(num_classes)+'_models.pt')\n",
    "        if os.path.exists(os.path.join(model_path, plot_file)):\n",
    "            n_runs = torch.load(open(os.path.join(model_path, plot_file),'rb'))\n",
    "        n_runs['models'].append(model)\n",
    "        n_runs['history'].append(history)        \n",
    "        torch.save(n_runs, open(os.path.join(model_path, plot_file),'wb'))\n",
    "        \n",
    "        n_runs = {'models':[], 'history':[]}"
   ]
  },
  {
   "cell_type": "markdown",
   "metadata": {},
   "source": [
    "## Experiments"
   ]
  },
  {
   "cell_type": "markdown",
   "metadata": {
    "jp-MarkdownHeadingCollapsed": true,
    "tags": []
   },
   "source": [
    "### Experiment 1: Original MoE model trained without gate regularization"
   ]
  },
  {
   "cell_type": "code",
   "execution_count": 95,
   "metadata": {},
   "outputs": [],
   "source": [
    "# Model with gate and expert parameters initialized to default values\n",
    "model_1 = 'cifar100_without_reg'"
   ]
  },
  {
   "cell_type": "code",
   "execution_count": 96,
   "metadata": {},
   "outputs": [],
   "source": [
    "total_experts = 20"
   ]
  },
  {
   "cell_type": "code",
   "execution_count": 97,
   "metadata": {},
   "outputs": [],
   "source": [
    "num_epochs = 80"
   ]
  },
  {
   "cell_type": "code",
   "execution_count": 98,
   "metadata": {},
   "outputs": [],
   "source": [
    "runs = 1"
   ]
  },
  {
   "cell_type": "code",
   "execution_count": 99,
   "metadata": {},
   "outputs": [],
   "source": [
    "temps = [[1.0]*num_epochs]"
   ]
  },
  {
   "cell_type": "code",
   "execution_count": 100,
   "metadata": {
    "scrolled": true,
    "tags": []
   },
   "outputs": [
    {
     "name": "stdout",
     "output_type": "stream",
     "text": [
      "w_importance 0.0\n",
      "w_sample_sim_same 0.0\n",
      "w_sample_sim_diff 0.0\n",
      "Run: 1\n",
      "epoch 0 training loss 4.05 , training accuracy 0.09 , test accuracy 0.10\n",
      "epoch 1 training loss 3.68 , training accuracy 0.14 , test accuracy 0.15\n",
      "epoch 2 training loss 3.45 , training accuracy 0.18 , test accuracy 0.19\n",
      "epoch 3 training loss 3.25 , training accuracy 0.22 , test accuracy 0.22\n",
      "epoch 4 training loss 3.06 , training accuracy 0.25 , test accuracy 0.25\n",
      "epoch 5 training loss 2.87 , training accuracy 0.29 , test accuracy 0.29\n",
      "epoch 6 training loss 2.72 , training accuracy 0.33 , test accuracy 0.31\n",
      "epoch 7 training loss 2.58 , training accuracy 0.36 , test accuracy 0.33\n",
      "epoch 8 training loss 2.45 , training accuracy 0.38 , test accuracy 0.38\n",
      "epoch 9 training loss 2.35 , training accuracy 0.41 , test accuracy 0.39\n",
      "epoch 10 training loss 2.26 , training accuracy 0.43 , test accuracy 0.40\n",
      "epoch 11 training loss 2.18 , training accuracy 0.44 , test accuracy 0.42\n",
      "epoch 12 training loss 2.10 , training accuracy 0.46 , test accuracy 0.43\n",
      "epoch 13 training loss 2.04 , training accuracy 0.48 , test accuracy 0.45\n",
      "epoch 14 training loss 1.98 , training accuracy 0.49 , test accuracy 0.47\n",
      "epoch 15 training loss 1.93 , training accuracy 0.50 , test accuracy 0.46\n",
      "epoch 16 training loss 1.88 , training accuracy 0.52 , test accuracy 0.48\n",
      "epoch 17 training loss 1.84 , training accuracy 0.53 , test accuracy 0.48\n",
      "epoch 18 training loss 1.80 , training accuracy 0.54 , test accuracy 0.49\n",
      "epoch 19 training loss 1.77 , training accuracy 0.54 , test accuracy 0.50\n",
      "epoch 20 training loss 1.58 , training accuracy 0.57 , test accuracy 0.54\n",
      "epoch 21 training loss 1.52 , training accuracy 0.58 , test accuracy 0.54\n",
      "epoch 22 training loss 1.50 , training accuracy 0.59 , test accuracy 0.54\n",
      "epoch 23 training loss 1.47 , training accuracy 0.60 , test accuracy 0.56\n",
      "epoch 24 training loss 1.46 , training accuracy 0.60 , test accuracy 0.54\n",
      "epoch 25 training loss 1.43 , training accuracy 0.61 , test accuracy 0.55\n",
      "epoch 26 training loss 1.42 , training accuracy 0.61 , test accuracy 0.55\n",
      "epoch 27 training loss 1.41 , training accuracy 0.61 , test accuracy 0.56\n",
      "epoch 28 training loss 1.39 , training accuracy 0.62 , test accuracy 0.57\n",
      "epoch 29 training loss 1.38 , training accuracy 0.62 , test accuracy 0.56\n",
      "epoch 30 training loss 1.36 , training accuracy 0.63 , test accuracy 0.57\n",
      "epoch 31 training loss 1.35 , training accuracy 0.63 , test accuracy 0.57\n",
      "epoch 32 training loss 1.34 , training accuracy 0.64 , test accuracy 0.57\n",
      "epoch 33 training loss 1.32 , training accuracy 0.64 , test accuracy 0.57\n",
      "epoch 34 training loss 1.31 , training accuracy 0.64 , test accuracy 0.57\n",
      "epoch 35 training loss 1.30 , training accuracy 0.64 , test accuracy 0.57\n",
      "epoch 36 training loss 1.29 , training accuracy 0.65 , test accuracy 0.58\n",
      "epoch 37 training loss 1.27 , training accuracy 0.65 , test accuracy 0.57\n",
      "epoch 38 training loss 1.27 , training accuracy 0.65 , test accuracy 0.58\n",
      "epoch 39 training loss 1.26 , training accuracy 0.66 , test accuracy 0.58\n",
      "epoch 40 training loss 1.17 , training accuracy 0.67 , test accuracy 0.60\n",
      "epoch 41 training loss 1.15 , training accuracy 0.67 , test accuracy 0.59\n",
      "epoch 42 training loss 1.13 , training accuracy 0.68 , test accuracy 0.59\n",
      "epoch 43 training loss 1.13 , training accuracy 0.68 , test accuracy 0.59\n",
      "epoch 44 training loss 1.12 , training accuracy 0.68 , test accuracy 0.59\n",
      "epoch 45 training loss 1.11 , training accuracy 0.68 , test accuracy 0.59\n",
      "epoch 46 training loss 1.11 , training accuracy 0.68 , test accuracy 0.59\n",
      "epoch 47 training loss 1.10 , training accuracy 0.68 , test accuracy 0.60\n",
      "epoch 48 training loss 1.09 , training accuracy 0.69 , test accuracy 0.60\n",
      "epoch 49 training loss 1.08 , training accuracy 0.69 , test accuracy 0.60\n",
      "epoch 50 training loss 1.08 , training accuracy 0.69 , test accuracy 0.59\n",
      "epoch 51 training loss 1.07 , training accuracy 0.69 , test accuracy 0.60\n",
      "epoch 52 training loss 1.07 , training accuracy 0.70 , test accuracy 0.60\n",
      "epoch 53 training loss 1.07 , training accuracy 0.70 , test accuracy 0.60\n",
      "epoch 54 training loss 1.06 , training accuracy 0.70 , test accuracy 0.60\n",
      "epoch 55 training loss 1.05 , training accuracy 0.70 , test accuracy 0.60\n",
      "epoch 56 training loss 1.05 , training accuracy 0.70 , test accuracy 0.60\n",
      "epoch 57 training loss 1.05 , training accuracy 0.70 , test accuracy 0.60\n",
      "epoch 58 training loss 1.05 , training accuracy 0.70 , test accuracy 0.59\n",
      "epoch 59 training loss 1.04 , training accuracy 0.70 , test accuracy 0.60\n",
      "epoch 60 training loss 1.00 , training accuracy 0.71 , test accuracy 0.61\n",
      "epoch 61 training loss 0.99 , training accuracy 0.71 , test accuracy 0.61\n",
      "epoch 62 training loss 0.99 , training accuracy 0.71 , test accuracy 0.61\n",
      "epoch 63 training loss 0.99 , training accuracy 0.71 , test accuracy 0.60\n",
      "epoch 64 training loss 0.98 , training accuracy 0.71 , test accuracy 0.60\n",
      "epoch 65 training loss 0.98 , training accuracy 0.71 , test accuracy 0.61\n",
      "epoch 66 training loss 0.98 , training accuracy 0.71 , test accuracy 0.61\n",
      "epoch 67 training loss 0.98 , training accuracy 0.71 , test accuracy 0.61\n",
      "epoch 68 training loss 0.97 , training accuracy 0.72 , test accuracy 0.61\n",
      "epoch 69 training loss 0.97 , training accuracy 0.72 , test accuracy 0.61\n",
      "epoch 70 training loss 0.97 , training accuracy 0.72 , test accuracy 0.61\n",
      "epoch 71 training loss 0.96 , training accuracy 0.72 , test accuracy 0.61\n",
      "epoch 72 training loss 0.96 , training accuracy 0.72 , test accuracy 0.60\n",
      "epoch 73 training loss 0.96 , training accuracy 0.72 , test accuracy 0.61\n",
      "epoch 74 training loss 0.95 , training accuracy 0.72 , test accuracy 0.60\n",
      "epoch 75 training loss 0.96 , training accuracy 0.72 , test accuracy 0.61\n",
      "epoch 76 training loss 0.96 , training accuracy 0.72 , test accuracy 0.60\n",
      "epoch 77 training loss 0.95 , training accuracy 0.72 , test accuracy 0.61\n",
      "epoch 78 training loss 0.95 , training accuracy 0.72 , test accuracy 0.60\n",
      "epoch 79 training loss 0.95 , training accuracy 0.72 , test accuracy 0.60\n"
     ]
    }
   ],
   "source": [
    "train_original_model(model_1, cifar100_trainloader, cifar100_testloader, runs, temps=temps,\n",
    "                     num_classes=num_classes, total_experts=total_experts, num_epochs=num_epochs)"
   ]
  },
  {
   "cell_type": "markdown",
   "metadata": {
    "jp-MarkdownHeadingCollapsed": true,
    "tags": []
   },
   "source": [
    "### Experiment 2: Original MoE model trained with $L_{importance}$ regularization"
   ]
  },
  {
   "cell_type": "code",
   "execution_count": null,
   "metadata": {},
   "outputs": [],
   "source": [
    "# Model with gate and expert parameters initialized to default values\n",
    "model_2 = 'cifar_with_reg'"
   ]
  },
  {
   "cell_type": "code",
   "execution_count": null,
   "metadata": {},
   "outputs": [],
   "source": [
    "total_experts = 20"
   ]
  },
  {
   "cell_type": "code",
   "execution_count": null,
   "metadata": {},
   "outputs": [],
   "source": [
    "num_epochs = 20"
   ]
  },
  {
   "cell_type": "code",
   "execution_count": null,
   "metadata": {
    "tags": []
   },
   "outputs": [],
   "source": [
    "w_importance_range = [i * 0.2 for i in range(1, 6)]\n",
    "w_importance_range = [0.6]\n",
    "print('w_importance_range = ', ['{:.1f}'.format(w) for w in w_importance_range])"
   ]
  },
  {
   "cell_type": "code",
   "execution_count": null,
   "metadata": {},
   "outputs": [],
   "source": [
    "temps = [[1]*num_epochs]"
   ]
  },
  {
   "cell_type": "code",
   "execution_count": null,
   "metadata": {},
   "outputs": [],
   "source": [
    "runs = 1"
   ]
  },
  {
   "cell_type": "code",
   "execution_count": null,
   "metadata": {
    "scrolled": true,
    "tags": []
   },
   "outputs": [],
   "source": [
    "train_original_model(model_2, cifar100_trainloader, cifar100_testloader, runs, temps=temps,\n",
    "                     w_importance_range=w_importance_range, num_classes=num_classes, \n",
    "                     total_experts=total_experts, num_epochs=num_epochs)"
   ]
  },
  {
   "cell_type": "markdown",
   "metadata": {
    "jp-MarkdownHeadingCollapsed": true,
    "tags": []
   },
   "source": [
    "### Experiment 3: Original MoE model trained with sample similarity regularization, $L_s$"
   ]
  },
  {
   "cell_type": "code",
   "execution_count": null,
   "metadata": {},
   "outputs": [],
   "source": [
    "model_3 = 'cifar_with_reg'"
   ]
  },
  {
   "cell_type": "code",
   "execution_count": null,
   "metadata": {},
   "outputs": [],
   "source": [
    "total_experts = 20"
   ]
  },
  {
   "cell_type": "code",
   "execution_count": null,
   "metadata": {},
   "outputs": [],
   "source": [
    "num_epochs = 40"
   ]
  },
  {
   "cell_type": "code",
   "execution_count": null,
   "metadata": {},
   "outputs": [],
   "source": [
    "temps = [[1]*num_epochs]"
   ]
  },
  {
   "cell_type": "code",
   "execution_count": null,
   "metadata": {},
   "outputs": [],
   "source": [
    "w_sample_sim_same_range = [1e-4]\n",
    "w_sample_sim_diff_range = [1e-7]\n",
    "print('w_sample_sim_same_range = ', w_sample_sim_same_range)\n",
    "print('w_sample_sim_diff_range = ', w_sample_sim_diff_range)"
   ]
  },
  {
   "cell_type": "code",
   "execution_count": null,
   "metadata": {},
   "outputs": [],
   "source": [
    "runs = 1"
   ]
  },
  {
   "cell_type": "code",
   "execution_count": null,
   "metadata": {
    "scrolled": true,
    "tags": []
   },
   "outputs": [],
   "source": [
    "train_original_model(model_3, cifar100_trainloader, cifar100_testloader, runs, temps=temps,\n",
    "                                     w_sample_sim_same_range=w_sample_sim_same_range, w_sample_sim_diff_range=w_sample_sim_diff_range, \n",
    "                                     num_classes=num_classes, total_experts=total_experts, num_epochs=num_epochs)"
   ]
  },
  {
   "cell_type": "markdown",
   "metadata": {
    "jp-MarkdownHeadingCollapsed": true,
    "tags": []
   },
   "source": [
    "### Experiment 4: Training the single model"
   ]
  },
  {
   "cell_type": "code",
   "execution_count": 91,
   "metadata": {},
   "outputs": [],
   "source": [
    "model_4 = 'cifar100_single_model'"
   ]
  },
  {
   "cell_type": "code",
   "execution_count": 92,
   "metadata": {},
   "outputs": [],
   "source": [
    "num_epochs = 80"
   ]
  },
  {
   "cell_type": "code",
   "execution_count": 93,
   "metadata": {},
   "outputs": [],
   "source": [
    "runs = 1"
   ]
  },
  {
   "cell_type": "code",
   "execution_count": 94,
   "metadata": {
    "scrolled": true,
    "tags": []
   },
   "outputs": [
    {
     "name": "stdout",
     "output_type": "stream",
     "text": [
      "Run 1\n",
      "epoch 0 training loss 4.01 , training accuracy 0.08 , test accuracy 0.12\n",
      "epoch 1 training loss 3.43 , training accuracy 0.17 , test accuracy 0.20\n",
      "epoch 2 training loss 3.01 , training accuracy 0.25 , test accuracy 0.26\n",
      "epoch 3 training loss 2.69 , training accuracy 0.32 , test accuracy 0.35\n",
      "epoch 4 training loss 2.45 , training accuracy 0.37 , test accuracy 0.38\n",
      "epoch 5 training loss 2.28 , training accuracy 0.41 , test accuracy 0.42\n",
      "epoch 6 training loss 2.12 , training accuracy 0.46 , test accuracy 0.45\n",
      "epoch 7 training loss 2.00 , training accuracy 0.49 , test accuracy 0.46\n",
      "epoch 8 training loss 1.91 , training accuracy 0.50 , test accuracy 0.47\n",
      "epoch 9 training loss 1.84 , training accuracy 0.53 , test accuracy 0.48\n",
      "epoch 10 training loss 1.76 , training accuracy 0.55 , test accuracy 0.52\n",
      "epoch 11 training loss 1.71 , training accuracy 0.56 , test accuracy 0.53\n",
      "epoch 12 training loss 1.65 , training accuracy 0.58 , test accuracy 0.53\n",
      "epoch 13 training loss 1.61 , training accuracy 0.59 , test accuracy 0.54\n",
      "epoch 14 training loss 1.57 , training accuracy 0.60 , test accuracy 0.54\n",
      "epoch 15 training loss 1.54 , training accuracy 0.61 , test accuracy 0.53\n",
      "epoch 16 training loss 1.50 , training accuracy 0.62 , test accuracy 0.54\n",
      "epoch 17 training loss 1.47 , training accuracy 0.63 , test accuracy 0.56\n",
      "epoch 18 training loss 1.44 , training accuracy 0.63 , test accuracy 0.57\n",
      "epoch 19 training loss 1.42 , training accuracy 0.64 , test accuracy 0.56\n",
      "epoch 20 training loss 1.40 , training accuracy 0.64 , test accuracy 0.56\n",
      "epoch 21 training loss 1.37 , training accuracy 0.65 , test accuracy 0.57\n",
      "epoch 22 training loss 1.35 , training accuracy 0.66 , test accuracy 0.58\n",
      "epoch 23 training loss 1.33 , training accuracy 0.66 , test accuracy 0.57\n",
      "epoch 24 training loss 1.31 , training accuracy 0.67 , test accuracy 0.57\n",
      "epoch 25 training loss 1.30 , training accuracy 0.67 , test accuracy 0.59\n",
      "epoch 26 training loss 1.28 , training accuracy 0.68 , test accuracy 0.58\n",
      "epoch 27 training loss 1.26 , training accuracy 0.68 , test accuracy 0.58\n",
      "epoch 28 training loss 1.26 , training accuracy 0.68 , test accuracy 0.59\n",
      "epoch 29 training loss 1.23 , training accuracy 0.69 , test accuracy 0.59\n",
      "epoch 30 training loss 1.22 , training accuracy 0.70 , test accuracy 0.59\n",
      "epoch 31 training loss 1.21 , training accuracy 0.70 , test accuracy 0.60\n",
      "epoch 32 training loss 1.20 , training accuracy 0.70 , test accuracy 0.60\n",
      "epoch 33 training loss 1.20 , training accuracy 0.70 , test accuracy 0.60\n",
      "epoch 34 training loss 1.18 , training accuracy 0.70 , test accuracy 0.60\n",
      "epoch 35 training loss 1.18 , training accuracy 0.71 , test accuracy 0.61\n",
      "epoch 36 training loss 1.16 , training accuracy 0.71 , test accuracy 0.60\n",
      "epoch 37 training loss 1.15 , training accuracy 0.72 , test accuracy 0.59\n",
      "epoch 38 training loss 1.14 , training accuracy 0.72 , test accuracy 0.61\n",
      "epoch 39 training loss 1.12 , training accuracy 0.72 , test accuracy 0.60\n",
      "epoch 40 training loss 1.13 , training accuracy 0.72 , test accuracy 0.60\n",
      "epoch 41 training loss 1.12 , training accuracy 0.72 , test accuracy 0.61\n",
      "epoch 42 training loss 1.11 , training accuracy 0.73 , test accuracy 0.60\n",
      "epoch 43 training loss 1.10 , training accuracy 0.73 , test accuracy 0.61\n",
      "epoch 44 training loss 1.09 , training accuracy 0.73 , test accuracy 0.62\n",
      "epoch 45 training loss 1.08 , training accuracy 0.73 , test accuracy 0.60\n",
      "epoch 46 training loss 1.08 , training accuracy 0.74 , test accuracy 0.61\n",
      "epoch 47 training loss 1.07 , training accuracy 0.74 , test accuracy 0.60\n",
      "epoch 48 training loss 1.07 , training accuracy 0.74 , test accuracy 0.61\n",
      "epoch 49 training loss 1.06 , training accuracy 0.74 , test accuracy 0.60\n",
      "epoch 50 training loss 1.05 , training accuracy 0.74 , test accuracy 0.63\n",
      "epoch 51 training loss 1.05 , training accuracy 0.74 , test accuracy 0.61\n",
      "epoch 52 training loss 1.04 , training accuracy 0.75 , test accuracy 0.61\n",
      "epoch 53 training loss 1.04 , training accuracy 0.75 , test accuracy 0.62\n",
      "epoch 54 training loss 1.04 , training accuracy 0.75 , test accuracy 0.61\n",
      "epoch 55 training loss 1.03 , training accuracy 0.75 , test accuracy 0.63\n",
      "epoch 56 training loss 1.03 , training accuracy 0.75 , test accuracy 0.61\n",
      "epoch 57 training loss 1.02 , training accuracy 0.75 , test accuracy 0.62\n",
      "epoch 58 training loss 1.02 , training accuracy 0.76 , test accuracy 0.62\n",
      "epoch 59 training loss 1.01 , training accuracy 0.76 , test accuracy 0.63\n",
      "epoch 60 training loss 1.00 , training accuracy 0.76 , test accuracy 0.62\n",
      "epoch 61 training loss 1.00 , training accuracy 0.76 , test accuracy 0.61\n",
      "epoch 62 training loss 1.00 , training accuracy 0.76 , test accuracy 0.61\n",
      "epoch 63 training loss 1.00 , training accuracy 0.76 , test accuracy 0.63\n",
      "epoch 64 training loss 0.99 , training accuracy 0.76 , test accuracy 0.62\n",
      "epoch 65 training loss 0.99 , training accuracy 0.76 , test accuracy 0.62\n",
      "epoch 66 training loss 0.98 , training accuracy 0.76 , test accuracy 0.61\n",
      "epoch 67 training loss 0.99 , training accuracy 0.76 , test accuracy 0.62\n",
      "epoch 68 training loss 0.98 , training accuracy 0.77 , test accuracy 0.62\n",
      "epoch 69 training loss 0.98 , training accuracy 0.76 , test accuracy 0.61\n",
      "epoch 70 training loss 0.98 , training accuracy 0.76 , test accuracy 0.62\n",
      "epoch 71 training loss 0.96 , training accuracy 0.77 , test accuracy 0.62\n",
      "epoch 72 training loss 0.96 , training accuracy 0.77 , test accuracy 0.62\n",
      "epoch 73 training loss 0.96 , training accuracy 0.77 , test accuracy 0.61\n",
      "epoch 74 training loss 0.97 , training accuracy 0.77 , test accuracy 0.62\n",
      "epoch 75 training loss 0.96 , training accuracy 0.77 , test accuracy 0.62\n",
      "epoch 76 training loss 0.95 , training accuracy 0.77 , test accuracy 0.63\n",
      "epoch 77 training loss 0.95 , training accuracy 0.77 , test accuracy 0.62\n",
      "epoch 78 training loss 0.95 , training accuracy 0.77 , test accuracy 0.62\n",
      "epoch 79 training loss 0.95 , training accuracy 0.77 , test accuracy 0.62\n"
     ]
    }
   ],
   "source": [
    "train_single_model(model_4, cifar100_trainloader, cifar100_testloader, num_classes, num_epochs, runs)"
   ]
  },
  {
   "cell_type": "markdown",
   "metadata": {
    "tags": []
   },
   "source": [
    "## Results"
   ]
  },
  {
   "cell_type": "markdown",
   "metadata": {},
   "source": [
    "### Collect the train error, test error for the trained single models and store in the '../results/cifar_results.csv' file."
   ]
  },
  {
   "cell_type": "code",
   "execution_count": 41,
   "metadata": {},
   "outputs": [],
   "source": [
    "pre_trained_model_path = '../models/hidden_128'"
   ]
  },
  {
   "cell_type": "code",
   "execution_count": 42,
   "metadata": {},
   "outputs": [],
   "source": [
    "import sys\n",
    "sys.path.append('../src')"
   ]
  },
  {
   "cell_type": "code",
   "execution_count": 30,
   "metadata": {},
   "outputs": [],
   "source": [
    "# Compute accuracy of the model\n",
    "def accuracy_top5(out, yb):\n",
    "    preds = torch.argsort(out, dim=1,descending=True).to(device, non_blocking=True)\n",
    "    N = preds.shape[0]\n",
    "    correct = 0\n",
    "    for i in range(N):\n",
    "        # print(yb[i], preds[i,0:5], out[i, preds[i,0:5]])\n",
    "        # print(out[i, preds[i,:]])\n",
    "        if yb[i] in preds[i,0:5]:\n",
    "            correct += 1\n",
    "    return correct/N\n",
    "    "
   ]
  },
  {
   "cell_type": "code",
   "execution_count": 31,
   "metadata": {},
   "outputs": [],
   "source": [
    "import csv\n",
    "\n",
    "m = 'cifar100_single_model'\n",
    "plot_file = generate_plot_file(m, specific=str(num_classes)+'_models.pt')\n",
    "models = torch.load(open(os.path.join(pre_trained_model_path, plot_file),'rb'), map_location=device)\n",
    "filename = os.path.join(results_path, 'cifar100_results_hidden_128.csv')\n",
    "if os.path.exists(filename):\n",
    "    p = 'a'\n",
    "else:\n",
    "    p = 'w'\n",
    "        \n",
    "header = ['filename', 'train error', 'top-1 error', 'top-5 error', 'mutual information', 'sample entropy', 'experts usage']\n",
    "    \n",
    "with open(filename, p) as f:\n",
    "    writer = csv.writer(f)        \n",
    "\n",
    "    if p == 'w':            \n",
    "        writer.writerow(header)\n",
    "    for i, model in enumerate(models['models']):\n",
    "        data = ['']*5\n",
    "        data[0] = m+'_'+str(i)\n",
    "        running_top1_accuracy = 0.0\n",
    "        running_top5_accuracy = 0.0\n",
    "        num_batches = 0\n",
    "        train_error = 1-models['history'][i]['accuracy'][-1]\n",
    "        data[1] = train_error\n",
    "        for test_inputs, test_labels in cifar100_testloader:\n",
    "            test_inputs, test_labels = test_inputs.to(device, non_blocking=True), test_labels.to(device, non_blocking=True)                \n",
    "            outputs = model(test_inputs)\n",
    "            running_top1_accuracy += accuracy(outputs, test_labels)\n",
    "            running_top5_accuracy += accuracy_top5(outputs, test_labels)\n",
    "            num_batches += 1\n",
    "        top1_error = 1-(running_top1_accuracy/num_batches)\n",
    "        top5_error = 1-(running_top5_accuracy/num_batches)\n",
    "        data[2] = top1_error.item()\n",
    "        data[3] = top5_error\n",
    "        \n",
    "        writer.writerow(data)\n"
   ]
  },
  {
   "cell_type": "code",
   "execution_count": 76,
   "metadata": {},
   "outputs": [
    {
     "name": "stdout",
     "output_type": "stream",
     "text": [
      "torch.Size([10000])\n"
     ]
    },
    {
     "data": {
      "image/png": "[encoded data removed]",
      "text/plain": [
       "<Figure size 1600x1200 with 2 Axes>"
      ]
     },
     "metadata": {},
     "output_type": "display_data"
    }
   ],
   "source": [
    "m = 'cifar100_single_model'\n",
    "\n",
    "plot_file = generate_plot_file(m, specific=str(num_classes)+'_models.pt')\n",
    "models = torch.load(open(os.path.join(pre_trained_model_path, plot_file),'rb'), map_location=device)\n",
    "min_train_error = float('inf')\n",
    "best_model = models['models'][0]\n",
    "for i, model in enumerate(models['models']):\n",
    "    train_error = 1-models['history'][i]['accuracy'][-1]\n",
    "    if train_error < min_train_error:\n",
    "        min_train_error = train_error\n",
    "        best_model = model\n",
    "true_labels = []\n",
    "pred_labels = []\n",
    "for test_inputs, test_labels in cifar100_testloader:\n",
    "    test_inputs, test_labels = test_inputs.to(device, non_blocking=True), test_labels.to(device, non_blocking=True)                \n",
    "    outputs = model(test_inputs)\n",
    "    true_labels += test_labels\n",
    "    pred_labels += torch.argmax(outputs, dim=1)\n",
    "\n",
    "true_labels = torch.stack(true_labels)\n",
    "pred_labels = torch.stack(pred_labels)\n",
    "\n",
    "print(true_labels.shape)\n",
    "\n",
    "true_coarse_labels = []\n",
    "pred_coarse_labels = []\n",
    "for true_label, pred_label in zip(true_labels,pred_labels):\n",
    "    coarse_label_name = reverse_coarse_labels_cifar100[classes_cifar100[true_label]]\n",
    "    coarse_label = list(coarse_labels_cifar100.keys()).index(coarse_label_name)\n",
    "    true_coarse_labels.append(coarse_label)\n",
    "    \n",
    "    coarse_label_name = reverse_coarse_labels_cifar100[classes_cifar100[pred_label]]\n",
    "    coarse_label = list(coarse_labels_cifar100.keys()).index(coarse_label_name)\n",
    "    pred_coarse_labels.append(coarse_label)\n",
    "\n",
    "fig1,ax = plt.subplots(1, 1, sharex=False, sharey=False, figsize=(16, 12))\n",
    "conf_mat = confusion_matrix(true_coarse_labels, pred_coarse_labels)\n",
    "sns.heatmap(conf_mat, \n",
    "            xticklabels=[list(coarse_labels_cifar100.keys())[i] for i in range(0, 20)],\n",
    "            yticklabels=[list(coarse_labels_cifar100.keys())[i] for i in range(0, 20)], \n",
    "            cmap=cmap, ax=ax)\n",
    "plt.title('Expert %d predictions'%(i+1))\n",
    "plt.savefig(os.path.join(fig_path, 'single_model_conf_tab.png'))\n",
    "plt.show()\n"
   ]
  },
  {
   "cell_type": "code",
   "execution_count": 64,
   "metadata": {},
   "outputs": [
    {
     "name": "stdout",
     "output_type": "stream",
     "text": [
      "\u001b[1m Best and worst classified \u001b[0m\n",
      "[('otter', 5), ('girl', 8), ('bear', 11), ('snake', 14), ('seal', 14), ('kangaroo', 14), ('tulip', 18), ('beaver', 19), ('snail', 19), ('possum', 19), ('butterfly', 20), ('boy', 22), ('clock', 22), ('ray', 22), ('rabbit', 22), ('lobster', 22), ('bed', 22), ('baby', 22), ('lamp', 23), ('man', 23), ('crocodile', 23), ('woman', 24), ('mouse', 24), ('shrew', 25), ('lizard', 26), ('squirrel', 27), ('wolf', 27), ('couch', 28), ('table', 28), ('bowl', 29), ('pine_tree', 29), ('flatfish', 30), ('camel', 30), ('crab', 30), ('dolphin', 32), ('bus', 32), ('caterpillar', 34), ('shark', 34), ('dinosaur', 35), ('cattle', 36), ('turtle', 36), ('train', 36), ('raccoon', 36), ('spider', 38), ('bridge', 38), ('elephant', 39), ('sweet_pepper', 39), ('telephone', 40), ('whale', 40), ('worm', 40), ('tiger', 41), ('rose', 41), ('aquarium_fish', 42), ('pickup_truck', 42), ('hamster', 43), ('willow_tree', 43), ('keyboard', 43), ('leopard', 43), ('porcupine', 43), ('can', 45), ('mountain', 46), ('fox', 46), ('mushroom', 47), ('streetcar', 48), ('forest', 49), ('trout', 50), ('rocket', 50), ('beetle', 50), ('maple_tree', 51), ('pear', 51), ('bee', 52), ('palm_tree', 53), ('tractor', 56), ('poppy', 57), ('orange', 57), ('house', 58), ('cloud', 59), ('lion', 59), ('bottle', 59), ('chimpanzee', 59), ('sea', 60), ('bicycle', 61), ('plain', 62), ('lawn_mower', 62), ('tank', 63), ('cup', 64), ('television', 64), ('cockroach', 67), ('plate', 67), ('apple', 70), ('chair', 73), ('skunk', 73), ('skyscraper', 74), ('orchid', 74), ('sunflower', 75), ('road', 76), ('castle', 77), ('motorcycle', 82), ('oak_tree', 83), ('wardrobe', 84)]\n",
      "\u001b[1m Common misclassifications for each class \u001b[0m\n",
      "Actual class: apple\n",
      "[('apple', 70), ('sweet_pepper', 10), ('pear', 8)] \n",
      "\n",
      "Actual class: aquarium_fish\n",
      "[('aquarium_fish', 42), ('motorcycle', 6), ('orange', 5), ('poppy', 5)] \n",
      "\n",
      "Actual class: baby\n",
      "[('baby', 22), ('woman', 11), ('hamster', 11), ('orchid', 5)] \n",
      "\n",
      "Actual class: bear\n",
      "[('chimpanzee', 14), ('bear', 11), ('lion', 8), ('elephant', 8), ('beaver', 6), ('possum', 6)] \n",
      "\n",
      "Actual class: beaver\n",
      "[('beaver', 19), ('porcupine', 9), ('shrew', 9), ('mouse', 7)] \n",
      "\n",
      "Actual class: bed\n",
      "[('bed', 22), ('couch', 14), ('chair', 13), ('television', 6), ('table', 6)] \n",
      "\n",
      "Actual class: bee\n",
      "[('bee', 52), ('lion', 6), ('sunflower', 6)] \n",
      "\n",
      "Actual class: beetle\n",
      "[('beetle', 50), ('cockroach', 7)] \n",
      "\n",
      "Actual class: bicycle\n",
      "[('bicycle', 61), ('motorcycle', 9), ('tractor', 6)] \n",
      "\n",
      "Actual class: bottle\n",
      "[('bottle', 59)] \n",
      "\n",
      "Actual class: bowl\n",
      "[('bowl', 29), ('plate', 14), ('apple', 5)] \n",
      "\n",
      "Actual class: boy\n",
      "[('boy', 22), ('woman', 12), ('man', 8), ('baby', 5)] \n",
      "\n",
      "Actual class: bridge\n",
      "[('bridge', 38), ('train', 7), ('streetcar', 6), ('house', 6), ('forest', 5)] \n",
      "\n",
      "Actual class: bus\n",
      "[('bus', 32), ('pickup_truck', 19), ('streetcar', 11), ('tractor', 8), ('house', 7), ('train', 5)] \n",
      "\n",
      "Actual class: butterfly\n",
      "[('butterfly', 20), ('beetle', 10), ('poppy', 6), ('orchid', 5)] \n",
      "\n",
      "Actual class: camel\n",
      "[('camel', 30), ('lion', 11), ('castle', 5), ('cattle', 5)] \n",
      "\n",
      "Actual class: can\n",
      "[('can', 45), ('bottle', 10), ('television', 5)] \n",
      "\n",
      "Actual class: castle\n",
      "[('castle', 77), ('house', 15)] \n",
      "\n",
      "Actual class: caterpillar\n",
      "[('caterpillar', 34), ('sweet_pepper', 6), ('squirrel', 6)] \n",
      "\n",
      "Actual class: cattle\n",
      "[('cattle', 36), ('camel', 10), ('elephant', 6), ('tractor', 6), ('raccoon', 6), ('lion', 5)] \n",
      "\n",
      "Actual class: chair\n",
      "[('chair', 73)] \n",
      "\n",
      "Actual class: chimpanzee\n",
      "[('chimpanzee', 59)] \n",
      "\n",
      "Actual class: clock\n",
      "[('clock', 22), ('plate', 19), ('television', 6)] \n",
      "\n",
      "Actual class: cloud\n",
      "[('cloud', 59), ('sea', 10), ('mountain', 5)] \n",
      "\n",
      "Actual class: cockroach\n",
      "[('cockroach', 67), ('beetle', 6)] \n",
      "\n",
      "Actual class: couch\n",
      "[('couch', 28), ('television', 11), ('bed', 8), ('wardrobe', 7), ('chair', 7)] \n",
      "\n",
      "Actual class: crab\n",
      "[('crab', 30), ('lobster', 10)] \n",
      "\n",
      "Actual class: crocodile\n",
      "[('crocodile', 23), ('lizard', 7), ('possum', 5), ('tank', 5)] \n",
      "\n",
      "Actual class: cup\n",
      "[('cup', 64), ('television', 6), ('can', 6), ('bowl', 5)] \n",
      "\n",
      "Actual class: dinosaur\n",
      "[('dinosaur', 35), ('bicycle', 5)] \n",
      "\n",
      "Actual class: dolphin\n",
      "[('dolphin', 32), ('shark', 18), ('whale', 13), ('turtle', 11)] \n",
      "\n",
      "Actual class: elephant\n",
      "[('elephant', 39), ('camel', 9), ('bear', 7), ('dinosaur', 5)] \n",
      "\n",
      "Actual class: flatfish\n",
      "[('flatfish', 30), ('porcupine', 5)] \n",
      "\n",
      "Actual class: forest\n",
      "[('forest', 49), ('willow_tree', 19)] \n",
      "\n",
      "Actual class: fox\n",
      "[('fox', 46), ('lion', 9)] \n",
      "\n",
      "Actual class: girl\n",
      "[('woman', 24), ('girl', 8), ('hamster', 8), ('baby', 5), ('man', 5), ('mouse', 5), ('boy', 5)] \n",
      "\n",
      "Actual class: hamster\n",
      "[('hamster', 43), ('mouse', 11), ('lion', 8), ('possum', 5)] \n",
      "\n",
      "Actual class: house\n",
      "[('house', 58), ('castle', 6)] \n",
      "\n",
      "Actual class: kangaroo\n",
      "[('kangaroo', 14), ('squirrel', 8), ('fox', 8), ('lion', 7), ('raccoon', 6), ('mouse', 6), ('elephant', 5), ('rabbit', 5)] \n",
      "\n",
      "Actual class: keyboard\n",
      "[('keyboard', 43), ('table', 5)] \n",
      "\n",
      "Actual class: lamp\n",
      "[('lamp', 23), ('bottle', 9), ('rocket', 6), ('cup', 6), ('television', 5)] \n",
      "\n",
      "Actual class: lawn_mower\n",
      "[('lawn_mower', 62)] \n",
      "\n",
      "Actual class: leopard\n",
      "[('leopard', 43), ('lion', 9), ('possum', 8), ('forest', 5), ('mouse', 5)] \n",
      "\n",
      "Actual class: lion\n",
      "[('lion', 59), ('camel', 5)] \n",
      "\n",
      "Actual class: lizard\n",
      "[('lizard', 26), ('beetle', 6)] \n",
      "\n",
      "Actual class: lobster\n",
      "[('lobster', 22), ('crab', 7), ('tiger', 5), ('poppy', 5)] \n",
      "\n",
      "Actual class: man\n",
      "[('man', 23), ('woman', 14), ('boy', 6)] \n",
      "\n",
      "Actual class: maple_tree\n",
      "[('maple_tree', 51), ('oak_tree', 29), ('willow_tree', 10)] \n",
      "\n",
      "Actual class: motorcycle\n",
      "[('motorcycle', 82), ('bicycle', 5)] \n",
      "\n",
      "Actual class: mountain\n",
      "[('mountain', 46), ('skyscraper', 5), ('castle', 5)] \n",
      "\n",
      "Actual class: mouse\n",
      "[('mouse', 24), ('porcupine', 6), ('lizard', 5), ('shrew', 5)] \n",
      "\n",
      "Actual class: mushroom\n",
      "[('mushroom', 47)] \n",
      "\n",
      "Actual class: oak_tree\n",
      "[('oak_tree', 83), ('willow_tree', 6), ('maple_tree', 5)] \n",
      "\n",
      "Actual class: orange\n",
      "[('orange', 57), ('pear', 9), ('sweet_pepper', 9), ('apple', 7)] \n",
      "\n",
      "Actual class: orchid\n",
      "[('orchid', 74)] \n",
      "\n",
      "Actual class: otter\n",
      "[('crocodile', 6), ('squirrel', 6), ('beaver', 5), ('seal', 5), ('otter', 5)] \n",
      "\n",
      "Actual class: palm_tree\n",
      "[('palm_tree', 53), ('oak_tree', 8), ('willow_tree', 7)] \n",
      "\n",
      "Actual class: pear\n",
      "[('pear', 51), ('sweet_pepper', 7), ('apple', 5)] \n",
      "\n",
      "Actual class: pickup_truck\n",
      "[('pickup_truck', 42), ('bus', 12), ('tank', 9), ('tractor', 6)] \n",
      "\n",
      "Actual class: pine_tree\n",
      "[('pine_tree', 29), ('oak_tree', 27), ('willow_tree', 9), ('palm_tree', 7)] \n",
      "\n",
      "Actual class: plain\n",
      "[('plain', 62), ('sea', 15), ('road', 7), ('cloud', 5)] \n",
      "\n",
      "Actual class: plate\n",
      "[('plate', 67), ('bowl', 11), ('clock', 7)] \n",
      "\n",
      "Actual class: poppy\n",
      "[('poppy', 57), ('sweet_pepper', 8), ('orchid', 7), ('sunflower', 7), ('rose', 5)] \n",
      "\n",
      "Actual class: porcupine\n",
      "[('porcupine', 43), ('beaver', 8), ('possum', 7), ('shrew', 6)] \n",
      "\n",
      "Actual class: possum\n",
      "[('possum', 19), ('lion', 8), ('porcupine', 7), ('squirrel', 6), ('wolf', 5)] \n",
      "\n",
      "Actual class: rabbit\n",
      "[('rabbit', 22), ('squirrel', 5), ('snail', 5), ('possum', 5)] \n",
      "\n",
      "Actual class: raccoon\n",
      "[('raccoon', 36), ('wolf', 9), ('possum', 7)] \n",
      "\n",
      "Actual class: ray\n",
      "[('ray', 22), ('shark', 15), ('turtle', 12)] \n",
      "\n",
      "Actual class: road\n",
      "[('road', 76)] \n",
      "\n",
      "Actual class: rocket\n",
      "[('rocket', 50), ('bridge', 9), ('skyscraper', 7), ('bottle', 6)] \n",
      "\n",
      "Actual class: rose\n",
      "[('rose', 41), ('poppy', 18), ('orchid', 10), ('sweet_pepper', 7)] \n",
      "\n",
      "Actual class: sea\n",
      "[('sea', 60), ('cloud', 8), ('plain', 5), ('road', 5)] \n",
      "\n",
      "Actual class: seal\n",
      "[('seal', 14), ('turtle', 6)] \n",
      "\n",
      "Actual class: shark\n",
      "[('shark', 34), ('turtle', 16), ('ray', 9), ('whale', 6)] \n",
      "\n",
      "Actual class: shrew\n",
      "[('shrew', 25), ('mouse', 11), ('possum', 8), ('porcupine', 7)] \n",
      "\n",
      "Actual class: skunk\n",
      "[('skunk', 73)] \n",
      "\n",
      "Actual class: skyscraper\n",
      "[('skyscraper', 74), ('bottle', 5)] \n",
      "\n",
      "Actual class: snail\n",
      "[('snail', 19), ('squirrel', 8), ('beetle', 5), ('fox', 5), ('mouse', 5), ('mushroom', 5)] \n",
      "\n",
      "Actual class: snake\n",
      "[('snake', 14), ('mouse', 7), ('worm', 6), ('plate', 5), ('beetle', 5), ('lizard', 5), ('skunk', 5)] \n",
      "\n",
      "Actual class: spider\n",
      "[('spider', 38), ('lizard', 9)] \n",
      "\n",
      "Actual class: squirrel\n",
      "[('squirrel', 27), ('possum', 8), ('mouse', 6), ('lion', 5)] \n",
      "\n",
      "Actual class: streetcar\n",
      "[('streetcar', 48), ('train', 12), ('house', 10), ('bus', 9)] \n",
      "\n",
      "Actual class: sunflower\n",
      "[('sunflower', 75)] \n",
      "\n",
      "Actual class: sweet_pepper\n",
      "[('sweet_pepper', 39), ('apple', 11), ('orange', 9), ('pear', 9), ('poppy', 7)] \n",
      "\n",
      "Actual class: table\n",
      "[('table', 28), ('chair', 9), ('bed', 6), ('can', 6), ('couch', 5), ('television', 5), ('tractor', 5)] \n",
      "\n",
      "Actual class: tank\n",
      "[('tank', 63)] \n",
      "\n",
      "Actual class: telephone\n",
      "[('telephone', 40), ('television', 13), ('can', 5)] \n",
      "\n",
      "Actual class: television\n",
      "[('television', 64), ('wardrobe', 9)] \n",
      "\n",
      "Actual class: tiger\n",
      "[('tiger', 41), ('lion', 14), ('fox', 8), ('leopard', 8)] \n",
      "\n",
      "Actual class: tractor\n",
      "[('tractor', 56), ('motorcycle', 8), ('train', 5)] \n",
      "\n",
      "Actual class: train\n",
      "[('train', 36), ('tractor', 12), ('tank', 9), ('streetcar', 6)] \n",
      "\n",
      "Actual class: trout\n",
      "[('trout', 50), ('aquarium_fish', 5)] \n",
      "\n",
      "Actual class: tulip\n",
      "[('orchid', 21), ('poppy', 20), ('tulip', 18), ('rose', 8), ('sweet_pepper', 7)] \n",
      "\n",
      "Actual class: turtle\n",
      "[('turtle', 36), ('skunk', 5)] \n",
      "\n",
      "Actual class: wardrobe\n",
      "[('wardrobe', 84), ('television', 5)] \n",
      "\n",
      "Actual class: whale\n",
      "[('whale', 40), ('dolphin', 15), ('shark', 9)] \n",
      "\n",
      "Actual class: willow_tree\n",
      "[('willow_tree', 43), ('maple_tree', 19), ('oak_tree', 16), ('forest', 6)] \n",
      "\n",
      "Actual class: wolf\n",
      "[('wolf', 27), ('raccoon', 15), ('possum', 14), ('lion', 5), ('squirrel', 5)] \n",
      "\n",
      "Actual class: woman\n",
      "[('woman', 24), ('boy', 10), ('baby', 5), ('raccoon', 5)] \n",
      "\n",
      "Actual class: worm\n",
      "[('worm', 40), ('plate', 9), ('snake', 5)] \n",
      "\n"
     ]
    }
   ],
   "source": [
    "correct = [conf_mat[i,i] for i in range(num_classes)]\n",
    "correct_sorted = torch.argsort(torch.tensor(correct))\n",
    "print('\\u001b[1m Best and worst classified \\u001b[0m')\n",
    "print([(classes_cifar100[c], correct[c]) for c in correct_sorted])\n",
    "\n",
    "classification = torch.argsort(torch.tensor(conf_mat), dim=1, descending=True)\n",
    "\n",
    "print('\\u001b[1m Common misclassifications for each class \\u001b[0m')\n",
    "for i in range(num_classes):\n",
    "    print('Actual class:', classes_cifar100[i])\n",
    "    row = conf_mat[i,:]\n",
    "    print([(classes_cifar100[c], row[c].item()) for c in classification[i,:] if row[c].item() >= 5 ],'\\n')\n",
    "    "
   ]
  },
  {
   "cell_type": "code",
   "execution_count": null,
   "metadata": {},
   "outputs": [],
   "source": []
  }
 ],
 "metadata": {
  "@webio": {
   "lastCommId": null,
   "lastKernelId": null
  },
  "kernelspec": {
   "display_name": "mnn",
   "language": "python",
   "name": "mnn"
  },
  "language_info": {
   "codemirror_mode": {
    "name": "ipython",
    "version": 3
   },
   "file_extension": ".py",
   "mimetype": "text/x-python",
   "name": "python",
   "nbconvert_exporter": "python",
   "pygments_lexer": "ipython3",
   "version": "3.9.13"
  },
  "latex_envs": {
   "LaTeX_envs_menu_present": true,
   "autoclose": false,
   "autocomplete": true,
   "bibliofile": "biblio.bib",
   "cite_by": "apalike",
   "current_citInitial": 1,
   "eqLabelWithNumbers": true,
   "eqNumInitial": 1,
   "hotkeys": {
    "equation": "Ctrl-E",
    "itemize": "Ctrl-I"
   },
   "labels_anchors": false,
   "latex_user_defs": false,
   "report_style_numbering": false,
   "user_envs_cfg": false
  }
 },
 "nbformat": 4,
 "nbformat_minor": 4
}
