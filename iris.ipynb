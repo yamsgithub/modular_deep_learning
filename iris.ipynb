{
 "cells": [
  {
   "cell_type": "code",
   "execution_count": null,
   "metadata": {},
   "outputs": [],
   "source": [
    "import matplotlib.pyplot as plt\n",
    "import matplotlib.cm as cm  # colormaps\n",
    "                                        \n",
    "%matplotlib inline"
   ]
  },
  {
   "cell_type": "code",
   "execution_count": null,
   "metadata": {},
   "outputs": [],
   "source": [
    "from sklearn import datasets\n",
    "import numpy as np\n",
    "from statistics import mean"
   ]
  },
  {
   "cell_type": "code",
   "execution_count": 3,
   "metadata": {},
   "outputs": [],
   "source": [
    "import tensorflow as tf\n",
    "from tensorflow.keras import layers\n",
    "from tensorflow.keras import models, Model \n",
    "from tensorflow.keras.models import load_model\n",
    "from tensorflow.keras.layers import BatchNormalization, Layer\n",
    "from tensorflow.keras.utils import to_categorical\n",
    "from tensorflow.keras import initializers\n",
    "from tensorflow.keras.callbacks import Callback\n",
    "from tensorflow.keras.losses import categorical_crossentropy, mse\n",
    "from tensorflow.keras.metrics import categorical_accuracy\n",
    "from tensorflow.keras import backend as K"
   ]
  },
  {
   "cell_type": "markdown",
   "metadata": {},
   "source": [
    "### Create train and test sets from  Iris dataset"
   ]
  },
  {
   "cell_type": "code",
   "execution_count": 4,
   "metadata": {},
   "outputs": [],
   "source": [
    "iris = datasets.load_iris()\n",
    "X = iris.data[:, :].astype('float32') \n",
    "y = iris.target.astype('float32')\n",
    "y_onehot = to_categorical(y)"
   ]
  },
  {
   "cell_type": "code",
   "execution_count": 5,
   "metadata": {},
   "outputs": [
    {
     "data": {
      "text/plain": [
       "(150, 4)"
      ]
     },
     "execution_count": 5,
     "metadata": {},
     "output_type": "execute_result"
    }
   ],
   "source": [
    "X.shape"
   ]
  },
  {
   "cell_type": "code",
   "execution_count": 6,
   "metadata": {},
   "outputs": [
    {
     "data": {
      "text/plain": [
       "array([0., 0., 0., 0., 0.], dtype=float32)"
      ]
     },
     "execution_count": 6,
     "metadata": {},
     "output_type": "execute_result"
    }
   ],
   "source": [
    "y[0:5]"
   ]
  },
  {
   "cell_type": "code",
   "execution_count": 7,
   "metadata": {},
   "outputs": [
    {
     "data": {
      "text/plain": [
       "array([[1., 0., 0.],\n",
       "       [1., 0., 0.],\n",
       "       [1., 0., 0.],\n",
       "       [1., 0., 0.],\n",
       "       [1., 0., 0.]], dtype=float32)"
      ]
     },
     "execution_count": 7,
     "metadata": {},
     "output_type": "execute_result"
    }
   ],
   "source": [
    "y_onehot[0:5]"
   ]
  },
  {
   "cell_type": "code",
   "execution_count": 8,
   "metadata": {},
   "outputs": [
    {
     "name": "stdout",
     "output_type": "stream",
     "text": [
      "(120, 4) (120, 3)\n"
     ]
    }
   ],
   "source": [
    "x_train = X[:40]\n",
    "y_train = list(y[:40])\n",
    "y_train_onehot = y_onehot[:40]\n",
    "\n",
    "for i in range(1,3):\n",
    "    x_train = np.vstack((x_train, X[i*50:(i*50)+40]))\n",
    "    y_train = y_train + list(y[i*50:(i*50)+40])\n",
    "    y_train_onehot = np.vstack((y_train_onehot, y_onehot[i*50:(i*50)+40]))\n",
    "print(x_train.shape, y_train_onehot.shape)"
   ]
  },
  {
   "cell_type": "code",
   "execution_count": 9,
   "metadata": {},
   "outputs": [
    {
     "name": "stdout",
     "output_type": "stream",
     "text": [
      "(30, 4) (30,) (30, 3)\n"
     ]
    }
   ],
   "source": [
    "x_test = X[40:50]\n",
    "y_test = list(y[40:50])\n",
    "y_test_onehot = y_onehot[40:50]\n",
    "\n",
    "for i in range(1,3):\n",
    "    x_test = np.vstack((x_test, X[(i*50)+40:(i*50)+40+10]))\n",
    "    y_test = y_test + list(y[(i*50)+40:(i*50)+40+10])\n",
    "    y_test_onehot = np.vstack((y_test_onehot, y_onehot[(i*50)+40:(i*50)+40+10]))\n",
    "y_test = np.asarray(y_test)\n",
    "print(x_test.shape, y_test.shape, y_test_onehot.shape)"
   ]
  },
  {
   "cell_type": "markdown",
   "metadata": {},
   "source": [
    "### Networks and callbacks"
   ]
  },
  {
   "cell_type": "code",
   "execution_count": 10,
   "metadata": {},
   "outputs": [],
   "source": [
    "input = layers.Input(shape=(4,), name='myInput')"
   ]
  },
  {
   "cell_type": "code",
   "execution_count": 11,
   "metadata": {},
   "outputs": [],
   "source": [
    "batch_size = 15"
   ]
  },
  {
   "cell_type": "code",
   "execution_count": 12,
   "metadata": {},
   "outputs": [],
   "source": [
    "#The selector layer that combines the expert and gate outputs. It is a non trainable layer\n",
    "class selector_expectation(Layer):\n",
    "    def __init__(self,num_experts, **kwargs):\n",
    "        self.num_experts = num_experts\n",
    "        super(selector_expectation,self).__init__(**kwargs)\n",
    "\n",
    "    def build(self,input_shape):\n",
    "        super(selector_expectation, self).build(input_shape)\n",
    "        \n",
    "    def call(self,input):\n",
    "\n",
    "        x = input[0]\n",
    "        p = input[1]\n",
    "#         tf.print(K.shape(p))\n",
    "        x = K.reshape(x,(batch_size, self.num_experts, 3))\n",
    "#         tf.print('x:',x)\n",
    "#         tf.print('p:',p)\n",
    "        #Expected sum of the outputs of the experts\n",
    "        output = K.sum(K.repeat_elements(K.reshape(p,(batch_size,self.num_experts,1)), rep=3,axis=2) * x, axis=1) \n",
    "#         tf.print('o:', output)\n",
    "        return output\n",
    "        \n",
    "    def compute_output_shape(self,input_shape):\n",
    "        return (input_shape[0],1,input_shape[-1])\n",
    "\n",
    "    def get_config(self):\n",
    "        return super(selector_expectation,self).get_config()\n"
   ]
  },
  {
   "cell_type": "code",
   "execution_count": 13,
   "metadata": {},
   "outputs": [],
   "source": [
    "#Expert network\n",
    "def expert_layers(input, output, name):\n",
    "    x = layers.Dense(1000, activation='relu')(input)\n",
    "    x = layers.Dense(500, activation='relu')(x)\n",
    "    x = layers.Dense(300,activation='relu')(x)\n",
    "    x = layers.Dense(output, activation='softmax',name=name)(x)\n",
    "    return x"
   ]
  },
  {
   "cell_type": "code",
   "execution_count": 14,
   "metadata": {},
   "outputs": [],
   "source": [
    "#Gate network (Similar to the expert layer)\n",
    "def gate_layers(input, output, name):\n",
    "    x = layers.Dense(1000, activation='relu')(input)\n",
    "    x = layers.Dense(500, activation='relu')(x)\n",
    "    x = layers.Dense(300,activation='relu')(x)\n",
    "    x = layers.Dense(output, activation='softmax',name=name)(x)\n",
    "    return x"
   ]
  },
  {
   "cell_type": "code",
   "execution_count": 15,
   "metadata": {},
   "outputs": [],
   "source": [
    "# Custom Model to intercept training to analyze the gradients during training\n",
    "class CustomModel(Model):\n",
    "    def train_step(self, data):\n",
    "        x, y = data\n",
    "        with tf.GradientTape() as tape:\n",
    "            y_pred = self(x, training=True)  # Forward pass\n",
    "            loss = self.compiled_loss(y, y_pred)\n",
    "            \n",
    "        # Get the trainable weights\n",
    "        trainable_gate_wts = [self.get_layer('dense').trainable_weights[0]]\n",
    "        for i in range(1, 3):           \n",
    "            trainable_gate_wts.append(self.get_layer('dense_'+str(i)).trainable_weights[0])\n",
    "        trainable_gate_wts.append(self.get_layer('gate_layer').trainable_weights[0])\n",
    "        \n",
    "        gate_gradients = tape.gradient(loss, trainable_gate_wts)\n",
    "        mean_abs_gradients = [ K.mean(K.abs(x)) for x in gate_gradients ]\n",
    "        \n",
    "        tf.print('\\n', 'gate gradients:', mean_abs_gradients)\n",
    "                   \n",
    "        return super(CustomModel, self).train_step(data)"
   ]
  },
  {
   "cell_type": "code",
   "execution_count": 16,
   "metadata": {},
   "outputs": [],
   "source": [
    "#Callback to track the loss and mean absolute activations of each expert during training\n",
    "# and track the mean absolute activations of the gate network during training\n",
    "class AnalysisCallback(Callback):\n",
    "    expert_loss_0 = []\n",
    "    expert_loss_1 = []\n",
    "    expert_loss_2 = []\n",
    "    expert_mean_abs_act_0 = []\n",
    "    expert_mean_abs_act_1 = []\n",
    "    expert_mean_abs_act_2 = []\n",
    "    gate_mean_abs_act = []\n",
    "    \n",
    "    def __init__(self, num_experts):\n",
    "        self.num_experts = num_experts\n",
    "    \n",
    "    # This function is called at the end of each epoch\n",
    "    def on_epoch_end(self, epoch, logs={}):\n",
    "        if self.num_experts >= 1:\n",
    "            pred = self.model.get_layer('dense_3')(x_test[:15])\n",
    "            pred = self.model.get_layer('dense_4')(pred)\n",
    "            pred = self.model.get_layer('dense_5')(pred)\n",
    "            pred = self.model.get_layer('expert_0')(pred)\n",
    "            loss = K.mean(categorical_crossentropy(y_test_onehot[:15], pred))\n",
    "            self.expert_loss_0.append(loss)\n",
    "            self.expert_mean_abs_act_0.append(K.mean(K.abs(self.model.get_layer('dense_5').trainable_weights[0])))\n",
    "       \n",
    "        if self.num_experts >= 2:\n",
    "            pred = self.model.get_layer('dense_6')(x_test[:15])\n",
    "            pred = self.model.get_layer('dense_7')(pred)\n",
    "            pred = self.model.get_layer('dense_8')(pred)\n",
    "            pred = self.model.get_layer('expert_1')(pred)\n",
    "            loss = K.mean(categorical_crossentropy(y_test_onehot[:15], pred))\n",
    "            self.expert_loss_1.append(loss)\n",
    "            self.expert_mean_abs_act_1.append(K.mean(K.abs(self.model.get_layer('dense_8').trainable_weights[0])))\n",
    "\n",
    "        if self.num_experts >= 3:\n",
    "            pred = self.model.get_layer('dense_9')(x_test[:15])\n",
    "            pred = self.model.get_layer('dense_10')(pred)\n",
    "            pred = self.model.get_layer('dense_11')(pred)\n",
    "            pred = self.model.get_layer('expert_2')(pred)\n",
    "            loss = K.mean(categorical_crossentropy(y_test_onehot[:15], pred))\n",
    "            self.expert_loss_2.append(loss)\n",
    "            self.expert_mean_abs_act_2.append(K.mean(K.abs(self.model.get_layer('dense_11').trainable_weights[0])))\n",
    "\n",
    "        self.gate_mean_abs_act.append(K.mean(K.abs(self.model.get_layer('dense_2').trainable_weights[0])))\n",
    "\n",
    "    def on_train_end(self, logs=None):\n",
    "        labels = []\n",
    "        if self.num_experts >= 1:\n",
    "            plt.plot(range(len(self.expert_loss_0)), self.expert_loss_0, label='expert 0')\n",
    "            labels.append('expert 0')\n",
    "        if self.num_experts >= 2:\n",
    "            plt.plot(range(len(self.expert_loss_1)), self.expert_loss_1, label='expert 1')\n",
    "            labels.append('expert 1')\n",
    "        if self.num_experts >= 3:\n",
    "            plt.plot(range(len(self.expert_loss_2)), self.expert_loss_2, label='expert 2')\n",
    "            labels.append('expert 2')\n",
    "\n",
    "        plt.legend(labels)\n",
    "        plt.xlabel('epochs')\n",
    "        plt.ylabel('loss')\n",
    "        plt.show()\n",
    "        \n",
    "        labels = []\n",
    "        if self.num_experts >= 1:\n",
    "            plt.plot(range(len( self.expert_mean_abs_act_0)), self.expert_mean_abs_act_0, label='expert 0')\n",
    "            labels.append('expert 0')\n",
    "        if self.num_experts >= 2:\n",
    "            plt.plot(range(len( self.expert_mean_abs_act_1)), self.expert_mean_abs_act_1, label='expert 1')\n",
    "            labels.append('expert 1')\n",
    "        if self.num_experts >= 3:\n",
    "            plt.plot(range(len( self.expert_mean_abs_act_2)), self.expert_mean_abs_act_2, label='expert 2')\n",
    "            labels.append('expert 2')\n",
    "            \n",
    "        plt.plot(range(len( self.gate_mean_abs_act)), self.gate_mean_abs_act, label='gate')\n",
    "        labels.append('gate')\n",
    "        plt.legend(labels)\n",
    "        plt.xlabel('epochs')\n",
    "        plt.ylabel('mean absolute activation')\n",
    "        plt.show()\n",
    "            "
   ]
  },
  {
   "cell_type": "code",
   "execution_count": 17,
   "metadata": {},
   "outputs": [],
   "source": [
    "#Callback for analysis a simple model to test the standalone expert model.\n",
    "class SimpleModelCallback(Callback):\n",
    "    simple_model_loss = []\n",
    "    simple_model_mean_abs_act = []\n",
    "    \n",
    "    # This function is called at the end of each epoch\n",
    "    def on_epoch_end(self, epoch, logs={}):\n",
    "        pred = self.model.get_layer('dense')(x_test[:15])\n",
    "        pred = self.model.get_layer('dense_1')(pred)\n",
    "        pred = self.model.get_layer('dense_2')(pred)\n",
    "        pred = self.model.get_layer('simple_model')(pred)\n",
    "        loss = K.mean(categorical_crossentropy(y_test_onehot[:15], pred))\n",
    "        self.simple_model_loss.append(loss)\n",
    "        \n",
    "#         print(self.model.get_layer('dense_5').get_weights()[0].shape)\n",
    "        self.simple_model_mean_abs_act.append(K.mean(K.abs(self.model.get_layer('dense_2').trainable_weights[0])))\n",
    "\n",
    "    def on_train_end(self, logs=None):\n",
    "        plt.plot(range(len(self.simple_model_loss)), self.simple_model_loss)\n",
    "        plt.xlabel('epochs')\n",
    "        plt.ylabel('loss')\n",
    "        plt.show()\n",
    "        \n",
    "        plt.plot(range(len( self.simple_model_mean_abs_act)), self.simple_model_mean_abs_act)\n",
    "        plt.xlabel('epochs')\n",
    "        plt.ylabel('mean absolute activation')\n",
    "        plt.show()\n",
    "            "
   ]
  },
  {
   "cell_type": "code",
   "execution_count": 18,
   "metadata": {},
   "outputs": [],
   "source": [
    "#Callback for analysis a simple model to test the standalone expert model.\n",
    "class SimpleGateCallback(Callback):\n",
    "    simple_model_loss = []\n",
    "    simple_model_mean_abs_act = []\n",
    "    \n",
    "    # This function is called at the end of each epoch\n",
    "    def on_epoch_end(self, epoch, logs={}):\n",
    "        pred = self.model.get_layer('dense')(x_test[:15])\n",
    "        pred = self.model.get_layer('dense_1')(pred)\n",
    "        pred = self.model.get_layer('dense_2')(pred)\n",
    "        pred = self.model.get_layer('simple_gate_output')(pred)\n",
    "        loss = K.mean(categorical_crossentropy(y_test_onehot[:15], pred))\n",
    "        self.simple_model_loss.append(loss)\n",
    "        \n",
    "        self.simple_model_mean_abs_act.append(K.mean(K.abs(self.model.get_layer('dense_2').trainable_weights[0])))\n",
    "\n",
    "    def on_train_end(self, logs=None):\n",
    "        plt.plot(range(len(self.simple_model_loss)), self.simple_model_loss)\n",
    "        plt.xlabel('epochs')\n",
    "        plt.ylabel('loss')\n",
    "        plt.show()\n",
    "        \n",
    "        plt.plot(range(len( self.simple_model_mean_abs_act)), self.simple_model_mean_abs_act)\n",
    "        plt.xlabel('epochs')\n",
    "        plt.ylabel('mean absolute activation')\n",
    "        plt.show()\n",
    "            "
   ]
  },
  {
   "cell_type": "markdown",
   "metadata": {},
   "source": [
    "### Test the standalone expert model"
   ]
  },
  {
   "cell_type": "code",
   "execution_count": 19,
   "metadata": {},
   "outputs": [],
   "source": [
    "K.clear_session()"
   ]
  },
  {
   "cell_type": "code",
   "execution_count": 20,
   "metadata": {},
   "outputs": [],
   "source": [
    "simple_model_cb = SimpleModelCallback()"
   ]
  },
  {
   "cell_type": "code",
   "execution_count": 21,
   "metadata": {},
   "outputs": [],
   "source": [
    "simple_model = Model(input, expert_layers(input, 3,'simple_model'))"
   ]
  },
  {
   "cell_type": "code",
   "execution_count": 22,
   "metadata": {},
   "outputs": [
    {
     "name": "stdout",
     "output_type": "stream",
     "text": [
      "Model: \"model\"\n",
      "_________________________________________________________________\n",
      "Layer (type)                 Output Shape              Param #   \n",
      "=================================================================\n",
      "myInput (InputLayer)         [(None, 4)]               0         \n",
      "_________________________________________________________________\n",
      "dense (Dense)                (None, 1000)              5000      \n",
      "_________________________________________________________________\n",
      "dense_1 (Dense)              (None, 500)               500500    \n",
      "_________________________________________________________________\n",
      "dense_2 (Dense)              (None, 300)               150300    \n",
      "_________________________________________________________________\n",
      "simple_model (Dense)         (None, 3)                 903       \n",
      "=================================================================\n",
      "Total params: 656,703\n",
      "Trainable params: 656,703\n",
      "Non-trainable params: 0\n",
      "_________________________________________________________________\n"
     ]
    }
   ],
   "source": [
    "simple_model.summary()"
   ]
  },
  {
   "cell_type": "code",
   "execution_count": 23,
   "metadata": {},
   "outputs": [
    {
     "name": "stdout",
     "output_type": "stream",
     "text": [
      "Epoch 1/30\n",
      "8/8 [==============================] - 0s 3ms/step - loss: 0.8781 - accuracy: 0.5333\n",
      "Epoch 2/30\n",
      "8/8 [==============================] - 0s 4ms/step - loss: 0.4347 - accuracy: 0.8750\n",
      "Epoch 3/30\n",
      "8/8 [==============================] - 0s 4ms/step - loss: 0.2584 - accuracy: 0.9333\n",
      "Epoch 4/30\n",
      "8/8 [==============================] - 0s 3ms/step - loss: 0.1580 - accuracy: 0.9500\n",
      "Epoch 5/30\n",
      "8/8 [==============================] - 0s 4ms/step - loss: 0.3170 - accuracy: 0.8583\n",
      "Epoch 6/30\n",
      "8/8 [==============================] - 0s 3ms/step - loss: 0.2479 - accuracy: 0.8833\n",
      "Epoch 7/30\n",
      "8/8 [==============================] - 0s 4ms/step - loss: 0.1165 - accuracy: 0.9333\n",
      "Epoch 8/30\n",
      "8/8 [==============================] - 0s 4ms/step - loss: 0.1098 - accuracy: 0.9583\n",
      "Epoch 9/30\n",
      "8/8 [==============================] - 0s 4ms/step - loss: 0.1224 - accuracy: 0.9417\n",
      "Epoch 10/30\n",
      "8/8 [==============================] - 0s 3ms/step - loss: 0.1353 - accuracy: 0.9500\n",
      "Epoch 11/30\n",
      "8/8 [==============================] - 0s 3ms/step - loss: 0.0957 - accuracy: 0.9667\n",
      "Epoch 12/30\n",
      "8/8 [==============================] - 0s 3ms/step - loss: 0.1280 - accuracy: 0.9500\n",
      "Epoch 13/30\n",
      "8/8 [==============================] - 0s 5ms/step - loss: 0.1278 - accuracy: 0.9500\n",
      "Epoch 14/30\n",
      "8/8 [==============================] - 0s 3ms/step - loss: 0.1232 - accuracy: 0.9333\n",
      "Epoch 15/30\n",
      "8/8 [==============================] - 0s 4ms/step - loss: 0.1438 - accuracy: 0.9333\n",
      "Epoch 16/30\n",
      "8/8 [==============================] - 0s 4ms/step - loss: 0.1012 - accuracy: 0.9500\n",
      "Epoch 17/30\n",
      "8/8 [==============================] - 0s 3ms/step - loss: 0.0922 - accuracy: 0.9500\n",
      "Epoch 18/30\n",
      "8/8 [==============================] - 0s 4ms/step - loss: 0.1043 - accuracy: 0.9667\n",
      "Epoch 19/30\n",
      "8/8 [==============================] - 0s 4ms/step - loss: 0.0853 - accuracy: 0.9583\n",
      "Epoch 20/30\n",
      "8/8 [==============================] - 0s 3ms/step - loss: 0.1317 - accuracy: 0.9583\n",
      "Epoch 21/30\n",
      "8/8 [==============================] - 0s 3ms/step - loss: 0.1061 - accuracy: 0.9583\n",
      "Epoch 22/30\n",
      "8/8 [==============================] - 0s 3ms/step - loss: 0.1396 - accuracy: 0.9417\n",
      "Epoch 23/30\n",
      "8/8 [==============================] - 0s 3ms/step - loss: 0.1059 - accuracy: 0.9583\n",
      "Epoch 24/30\n",
      "8/8 [==============================] - 0s 3ms/step - loss: 0.1023 - accuracy: 0.9500\n",
      "Epoch 25/30\n",
      "8/8 [==============================] - 0s 3ms/step - loss: 0.0819 - accuracy: 0.9833\n",
      "Epoch 26/30\n",
      "8/8 [==============================] - 0s 3ms/step - loss: 0.0855 - accuracy: 0.9583\n",
      "Epoch 27/30\n",
      "8/8 [==============================] - 0s 4ms/step - loss: 0.1029 - accuracy: 0.9583\n",
      "Epoch 28/30\n",
      "8/8 [==============================] - 0s 4ms/step - loss: 0.0880 - accuracy: 0.9750\n",
      "Epoch 29/30\n",
      "8/8 [==============================] - 0s 4ms/step - loss: 0.1425 - accuracy: 0.9417\n",
      "Epoch 30/30\n",
      "8/8 [==============================] - 0s 4ms/step - loss: 0.1263 - accuracy: 0.9500\n"
     ]
    },
    {
     "data": {
      "image/png": "[encoded data removed]",
      "text/plain": [
       "<Figure size 432x288 with 1 Axes>"
      ]
     },
     "metadata": {
      "needs_background": "light"
     },
     "output_type": "display_data"
    },
    {
     "data": {
      "image/png": "[encoded data removed]",
      "text/plain": [
       "<Figure size 432x288 with 1 Axes>"
      ]
     },
     "metadata": {
      "needs_background": "light"
     },
     "output_type": "display_data"
    },
    {
     "data": {
      "text/plain": [
       "<tensorflow.python.keras.callbacks.History at 0x138094ad0>"
      ]
     },
     "execution_count": 23,
     "metadata": {},
     "output_type": "execute_result"
    }
   ],
   "source": [
    "simple_model.compile(optimizer='adam', loss=\"categorical_crossentropy\", metrics=\"accuracy\")\n",
    "simple_model.fit(x_train, y_train_onehot, epochs=30, batch_size=batch_size, shuffle=True, callbacks=[simple_model_cb])"
   ]
  },
  {
   "cell_type": "markdown",
   "metadata": {},
   "source": [
    "### Test the standalone gate network model"
   ]
  },
  {
   "cell_type": "code",
   "execution_count": 24,
   "metadata": {},
   "outputs": [],
   "source": [
    "K.clear_session()"
   ]
  },
  {
   "cell_type": "code",
   "execution_count": 25,
   "metadata": {},
   "outputs": [],
   "source": [
    "simple_gate_cb = SimpleGateCallback()"
   ]
  },
  {
   "cell_type": "code",
   "execution_count": 26,
   "metadata": {},
   "outputs": [],
   "source": [
    "gate = gate_layers(input, 3, 'simple_gate_output')\n",
    "gate_model = Model(input, gate, name='simple_gate_model' )"
   ]
  },
  {
   "cell_type": "code",
   "execution_count": 27,
   "metadata": {},
   "outputs": [
    {
     "name": "stdout",
     "output_type": "stream",
     "text": [
      "Model: \"simple_gate_model\"\n",
      "_________________________________________________________________\n",
      "Layer (type)                 Output Shape              Param #   \n",
      "=================================================================\n",
      "myInput (InputLayer)         [(None, 4)]               0         \n",
      "_________________________________________________________________\n",
      "dense (Dense)                (None, 1000)              5000      \n",
      "_________________________________________________________________\n",
      "dense_1 (Dense)              (None, 500)               500500    \n",
      "_________________________________________________________________\n",
      "dense_2 (Dense)              (None, 300)               150300    \n",
      "_________________________________________________________________\n",
      "simple_gate_output (Dense)   (None, 3)                 903       \n",
      "=================================================================\n",
      "Total params: 656,703\n",
      "Trainable params: 656,703\n",
      "Non-trainable params: 0\n",
      "_________________________________________________________________\n"
     ]
    }
   ],
   "source": [
    "gate_model.summary()"
   ]
  },
  {
   "cell_type": "code",
   "execution_count": 28,
   "metadata": {},
   "outputs": [
    {
     "name": "stdout",
     "output_type": "stream",
     "text": [
      "Epoch 1/30\n",
      "8/8 [==============================] - 0s 3ms/step - loss: 0.9265 - categorical_accuracy: 0.5750\n",
      "Epoch 2/30\n",
      "8/8 [==============================] - 0s 3ms/step - loss: 0.4695 - categorical_accuracy: 0.8583\n",
      "Epoch 3/30\n",
      "8/8 [==============================] - 0s 3ms/step - loss: 0.3009 - categorical_accuracy: 0.9000\n",
      "Epoch 4/30\n",
      "8/8 [==============================] - 0s 4ms/step - loss: 0.2260 - categorical_accuracy: 0.9250\n",
      "Epoch 5/30\n",
      "8/8 [==============================] - 0s 4ms/step - loss: 0.1495 - categorical_accuracy: 0.9667\n",
      "Epoch 6/30\n",
      "8/8 [==============================] - 0s 4ms/step - loss: 0.1418 - categorical_accuracy: 0.9583\n",
      "Epoch 7/30\n",
      "8/8 [==============================] - 0s 4ms/step - loss: 0.1974 - categorical_accuracy: 0.9083\n",
      "Epoch 8/30\n",
      "8/8 [==============================] - 0s 3ms/step - loss: 0.1320 - categorical_accuracy: 0.9500\n",
      "Epoch 9/30\n",
      "8/8 [==============================] - 0s 4ms/step - loss: 0.1496 - categorical_accuracy: 0.9333\n",
      "Epoch 10/30\n",
      "8/8 [==============================] - 0s 4ms/step - loss: 0.1807 - categorical_accuracy: 0.9417\n",
      "Epoch 11/30\n",
      "8/8 [==============================] - 0s 3ms/step - loss: 0.1564 - categorical_accuracy: 0.9417\n",
      "Epoch 12/30\n",
      "8/8 [==============================] - 0s 3ms/step - loss: 0.1162 - categorical_accuracy: 0.9583\n",
      "Epoch 13/30\n",
      "8/8 [==============================] - 0s 3ms/step - loss: 0.1605 - categorical_accuracy: 0.9250\n",
      "Epoch 14/30\n",
      "8/8 [==============================] - 0s 3ms/step - loss: 0.1515 - categorical_accuracy: 0.9417\n",
      "Epoch 15/30\n",
      "8/8 [==============================] - 0s 3ms/step - loss: 0.1665 - categorical_accuracy: 0.9083\n",
      "Epoch 16/30\n",
      "8/8 [==============================] - 0s 4ms/step - loss: 0.1043 - categorical_accuracy: 0.9583\n",
      "Epoch 17/30\n",
      "8/8 [==============================] - 0s 4ms/step - loss: 0.1005 - categorical_accuracy: 0.9583\n",
      "Epoch 18/30\n",
      "8/8 [==============================] - 0s 4ms/step - loss: 0.1073 - categorical_accuracy: 0.9417\n",
      "Epoch 19/30\n",
      "8/8 [==============================] - 0s 4ms/step - loss: 0.1315 - categorical_accuracy: 0.9333\n",
      "Epoch 20/30\n",
      "8/8 [==============================] - 0s 4ms/step - loss: 0.0894 - categorical_accuracy: 0.9667\n",
      "Epoch 21/30\n",
      "8/8 [==============================] - 0s 3ms/step - loss: 0.1043 - categorical_accuracy: 0.9583\n",
      "Epoch 22/30\n",
      "8/8 [==============================] - 0s 4ms/step - loss: 0.0960 - categorical_accuracy: 0.9667\n",
      "Epoch 23/30\n",
      "8/8 [==============================] - 0s 4ms/step - loss: 0.0947 - categorical_accuracy: 0.9500\n",
      "Epoch 24/30\n",
      "8/8 [==============================] - 0s 4ms/step - loss: 0.0913 - categorical_accuracy: 0.9667\n",
      "Epoch 25/30\n",
      "8/8 [==============================] - 0s 4ms/step - loss: 0.0949 - categorical_accuracy: 0.9667\n",
      "Epoch 26/30\n",
      "8/8 [==============================] - 0s 4ms/step - loss: 0.1229 - categorical_accuracy: 0.9333\n",
      "Epoch 27/30\n",
      "8/8 [==============================] - 0s 4ms/step - loss: 0.1418 - categorical_accuracy: 0.9250\n",
      "Epoch 28/30\n",
      "8/8 [==============================] - 0s 4ms/step - loss: 0.1123 - categorical_accuracy: 0.9417\n",
      "Epoch 29/30\n",
      "8/8 [==============================] - 0s 4ms/step - loss: 0.1822 - categorical_accuracy: 0.9500\n",
      "Epoch 30/30\n",
      "8/8 [==============================] - 0s 3ms/step - loss: 0.1782 - categorical_accuracy: 0.9250\n"
     ]
    },
    {
     "data": {
      "image/png": "[encoded data removed]",
      "text/plain": [
       "<Figure size 432x288 with 1 Axes>"
      ]
     },
     "metadata": {
      "needs_background": "light"
     },
     "output_type": "display_data"
    },
    {
     "data": {
      "image/png": "[encoded data removed]",
      "text/plain": [
       "<Figure size 432x288 with 1 Axes>"
      ]
     },
     "metadata": {
      "needs_background": "light"
     },
     "output_type": "display_data"
    },
    {
     "data": {
      "text/plain": [
       "<tensorflow.python.keras.callbacks.History at 0x13b227fd0>"
      ]
     },
     "execution_count": 28,
     "metadata": {},
     "output_type": "execute_result"
    }
   ],
   "source": [
    "gate_model.compile(optimizer='adam', loss='categorical_crossentropy', metrics=[\"categorical_accuracy\"])\n",
    "gate_model.fit(x_train, y_train_onehot, epochs=30, batch_size=batch_size, shuffle=True, callbacks=[simple_gate_cb])"
   ]
  },
  {
   "cell_type": "markdown",
   "metadata": {},
   "source": [
    "### Mixture of experts model"
   ]
  },
  {
   "cell_type": "code",
   "execution_count": 29,
   "metadata": {},
   "outputs": [],
   "source": [
    "K.clear_session()"
   ]
  },
  {
   "cell_type": "code",
   "execution_count": 30,
   "metadata": {},
   "outputs": [],
   "source": [
    "num_experts = 3"
   ]
  },
  {
   "cell_type": "code",
   "execution_count": 31,
   "metadata": {},
   "outputs": [],
   "source": [
    "#Initialize gate network\n",
    "gate = gate_layers(input, num_experts, 'gate_layer')"
   ]
  },
  {
   "cell_type": "code",
   "execution_count": 32,
   "metadata": {},
   "outputs": [],
   "source": [
    "#Initialize expert networks\n",
    "experts = []\n",
    "for i in range(num_experts):\n",
    "    experts.append(expert_layers(input, 3, 'expert_'+str(i)))"
   ]
  },
  {
   "cell_type": "code",
   "execution_count": 33,
   "metadata": {},
   "outputs": [],
   "source": [
    "# Initialize the selector network\n",
    "expert_output = experts[0]\n",
    "if num_experts > 1:\n",
    "    expert_output = tf.keras.layers.Concatenate(axis=0)(experts)\n",
    "selector_output = selector_expectation(num_experts=num_experts, trainable=False)([expert_output, gate])"
   ]
  },
  {
   "cell_type": "code",
   "execution_count": 34,
   "metadata": {},
   "outputs": [],
   "source": [
    "selector_model = CustomModel(input, selector_output,name='selector')"
   ]
  },
  {
   "cell_type": "code",
   "execution_count": 35,
   "metadata": {},
   "outputs": [
    {
     "name": "stdout",
     "output_type": "stream",
     "text": [
      "Model: \"selector\"\n",
      "__________________________________________________________________________________________________\n",
      "Layer (type)                    Output Shape         Param #     Connected to                     \n",
      "==================================================================================================\n",
      "myInput (InputLayer)            [(None, 4)]          0                                            \n",
      "__________________________________________________________________________________________________\n",
      "dense_3 (Dense)                 (None, 1000)         5000        myInput[0][0]                    \n",
      "__________________________________________________________________________________________________\n",
      "dense_6 (Dense)                 (None, 1000)         5000        myInput[0][0]                    \n",
      "__________________________________________________________________________________________________\n",
      "dense_9 (Dense)                 (None, 1000)         5000        myInput[0][0]                    \n",
      "__________________________________________________________________________________________________\n",
      "dense_4 (Dense)                 (None, 500)          500500      dense_3[0][0]                    \n",
      "__________________________________________________________________________________________________\n",
      "dense_7 (Dense)                 (None, 500)          500500      dense_6[0][0]                    \n",
      "__________________________________________________________________________________________________\n",
      "dense_10 (Dense)                (None, 500)          500500      dense_9[0][0]                    \n",
      "__________________________________________________________________________________________________\n",
      "dense (Dense)                   (None, 1000)         5000        myInput[0][0]                    \n",
      "__________________________________________________________________________________________________\n",
      "dense_5 (Dense)                 (None, 300)          150300      dense_4[0][0]                    \n",
      "__________________________________________________________________________________________________\n",
      "dense_8 (Dense)                 (None, 300)          150300      dense_7[0][0]                    \n",
      "__________________________________________________________________________________________________\n",
      "dense_11 (Dense)                (None, 300)          150300      dense_10[0][0]                   \n",
      "__________________________________________________________________________________________________\n",
      "dense_1 (Dense)                 (None, 500)          500500      dense[0][0]                      \n",
      "__________________________________________________________________________________________________\n",
      "expert_0 (Dense)                (None, 3)            903         dense_5[0][0]                    \n",
      "__________________________________________________________________________________________________\n",
      "expert_1 (Dense)                (None, 3)            903         dense_8[0][0]                    \n",
      "__________________________________________________________________________________________________\n",
      "expert_2 (Dense)                (None, 3)            903         dense_11[0][0]                   \n",
      "__________________________________________________________________________________________________\n",
      "dense_2 (Dense)                 (None, 300)          150300      dense_1[0][0]                    \n",
      "__________________________________________________________________________________________________\n",
      "concatenate (Concatenate)       (None, 3)            0           expert_0[0][0]                   \n",
      "                                                                 expert_1[0][0]                   \n",
      "                                                                 expert_2[0][0]                   \n",
      "__________________________________________________________________________________________________\n",
      "gate_layer (Dense)              (None, 3)            903         dense_2[0][0]                    \n",
      "__________________________________________________________________________________________________\n",
      "selector_expectation (selector_ (15, 3)              0           concatenate[0][0]                \n",
      "                                                                 gate_layer[0][0]                 \n",
      "==================================================================================================\n",
      "Total params: 2,626,812\n",
      "Trainable params: 2,626,812\n",
      "Non-trainable params: 0\n",
      "__________________________________________________________________________________________________\n"
     ]
    }
   ],
   "source": [
    "selector_model.summary()"
   ]
  },
  {
   "cell_type": "code",
   "execution_count": 36,
   "metadata": {},
   "outputs": [],
   "source": [
    "selector_model.compile(optimizer='adam', loss=\"categorical_crossentropy\", metrics=\"accuracy\")"
   ]
  },
  {
   "cell_type": "code",
   "execution_count": 37,
   "metadata": {},
   "outputs": [],
   "source": [
    "analysis_cb = AnalysisCallback(num_experts)"
   ]
  },
  {
   "cell_type": "code",
   "execution_count": 38,
   "metadata": {},
   "outputs": [
    {
     "name": "stdout",
     "output_type": "stream",
     "text": [
      "Epoch 1/30\n",
      "\n",
      " gate gradients: [0.000188274251, 1.44935821e-05, 2.06604891e-05, 0.000236141583]\n",
      "1/8 [==>...........................] - ETA: 0s - loss: 1.1502 - accuracy: 0.2000\n",
      " gate gradients: [0.00076461985, 4.3455555e-05, 6.67999702e-05, 0.000734059431]\n",
      "\n",
      " gate gradients: [0.000897470221, 5.35560102e-05, 9.43176783e-05, 0.00137406052]\n",
      "\n",
      " gate gradients: [0.00290902704, 0.000178492468, 0.000317076046, 0.00465571973]\n",
      "\n",
      " gate gradients: [0.000637849502, 3.51153467e-05, 5.163065e-05, 0.000712020381]\n",
      "5/8 [=================>............] - ETA: 0s - loss: 1.1949 - accuracy: 0.4400\n",
      " gate gradients: [0.000672278868, 3.78015757e-05, 6.8494177e-05, 0.00128402503]\n",
      "\n",
      " gate gradients: [0.00041846704, 2.28466615e-05, 4.41419033e-05, 0.000719000644]\n",
      "\n",
      " gate gradients: [0.000511210063, 2.6403115e-05, 4.56394118e-05, 0.00104286836]\n",
      "8/8 [==============================] - 0s 16ms/step - loss: 1.2160 - accuracy: 0.4000\n",
      "Epoch 2/30\n",
      "\n",
      " gate gradients: [0.000250262121, 1.31618481e-05, 2.39338406e-05, 0.000509877282]\n",
      "1/8 [==>...........................] - ETA: 0s - loss: 1.0116 - accuracy: 0.6000\n",
      " gate gradients: [0.00036102836, 1.7181932e-05, 4.0440329e-05, 0.000793512736]\n",
      "\n",
      " gate gradients: [3.80319107e-05, 1.59137846e-06, 2.80039421e-06, 6.31555886e-05]\n",
      "\n",
      " gate gradients: [0.000114600349, 4.99673e-06, 1.18491071e-05, 0.000248881406]\n",
      "\n",
      " gate gradients: [5.05273747e-05, 1.93246501e-06, 4.29136435e-06, 0.000108064793]\n",
      "5/8 [=================>............] - ETA: 0s - loss: 1.2137 - accuracy: 0.3333\n",
      " gate gradients: [9.96663221e-06, 4.66402554e-07, 1.32978892e-06, 3.40681509e-05]\n",
      "\n",
      " gate gradients: [1.51419435e-05, 7.10565871e-07, 2.10413464e-06, 5.52209967e-05]\n",
      "\n",
      " gate gradients: [6.17253045e-06, 2.18530658e-07, 4.3617e-07, 1.11540985e-05]\n",
      "8/8 [==============================] - 0s 14ms/step - loss: 1.1916 - accuracy: 0.3083\n",
      "Epoch 3/30\n",
      "\n",
      " gate gradients: [1.04172468e-05, 3.54963e-07, 9.39836298e-07, 2.12916293e-05]\n",
      "1/8 [==>...........................] - ETA: 0s - loss: 1.0946 - accuracy: 0.2667\n",
      " gate gradients: [1.65450583e-05, 5.74007629e-07, 1.33402943e-06, 3.59003752e-05]\n",
      "\n",
      " gate gradients: [7.29627845e-06, 2.39245765e-07, 5.7764106e-07, 1.54222798e-05]\n",
      "\n",
      " gate gradients: [3.52915492e-07, 1.02704476e-08, 2.27047696e-08, 6.05264745e-07]\n",
      "\n",
      " gate gradients: [5.2056339e-06, 1.62379152e-07, 4.02972802e-07, 1.06595435e-05]\n",
      "5/8 [=================>............] - ETA: 0s - loss: 1.1511 - accuracy: 0.2267\n",
      " gate gradients: [6.48152536e-06, 2.13741231e-07, 5.07384129e-07, 1.43120496e-05]\n",
      "\n",
      " gate gradients: [1.17595937e-06, 3.61613921e-08, 9.43161496e-08, 3.26254735e-06]\n",
      "\n",
      " gate gradients: [1.12969985e-06, 3.09343946e-08, 3.77336882e-08, 6.07233858e-07]\n",
      "8/8 [==============================] - 0s 14ms/step - loss: 1.1580 - accuracy: 0.2333\n",
      "Epoch 4/30\n",
      "\n",
      " gate gradients: [2.32535035e-06, 7.25239602e-08, 1.62261856e-07, 5.0175463e-06]\n",
      "1/8 [==>...........................] - ETA: 0s - loss: 1.0585 - accuracy: 0.4000\n",
      " gate gradients: [6.48060632e-06, 2.01834681e-07, 4.47728326e-07, 1.41717946e-05]\n",
      "\n",
      " gate gradients: [5.08064295e-06, 1.57939908e-07, 3.48050577e-07, 1.10690216e-05]\n",
      "\n",
      " gate gradients: [4.32229086e-07, 1.22599157e-08, 2.89360553e-08, 8.53088295e-07]\n",
      "\n",
      " gate gradients: [3.10134055e-07, 8.92371332e-09, 1.89963725e-08, 5.11906933e-07]\n",
      "5/8 [=================>............] - ETA: 0s - loss: 1.1204 - accuracy: 0.4000\n",
      " gate gradients: [4.37099089e-07, 1.50575801e-08, 4.41397212e-08, 1.60549678e-06]\n",
      "\n",
      " gate gradients: [1.02715376e-06, 3.07259107e-08, 7.03517955e-08, 2.21254936e-06]\n",
      "\n",
      " gate gradients: [7.40127746e-07, 2.34626949e-08, 7.06499463e-08, 2.35317066e-06]\n",
      "8/8 [==============================] - 0s 14ms/step - loss: 1.1214 - accuracy: 0.3750\n",
      "Epoch 5/30\n",
      "\n",
      " gate gradients: [8.66335256e-07, 2.55253649e-08, 5.70362566e-08, 1.85443605e-06]\n",
      "1/8 [==>...........................] - ETA: 0s - loss: 1.0785 - accuracy: 0.4667\n",
      " gate gradients: [2.49811052e-07, 7.16769311e-09, 1.76767685e-08, 5.24134691e-07]\n",
      "\n",
      " gate gradients: [1.36072643e-07, 4.69613948e-09, 1.57456341e-08, 5.43681949e-07]\n",
      "\n",
      " gate gradients: [3.15700981e-06, 9.38073725e-08, 2.13351072e-07, 6.95824565e-06]\n",
      "\n",
      " gate gradients: [4.07253054e-07, 1.19213146e-08, 2.65653e-08, 8.72440239e-07]\n",
      "5/8 [=================>............] - ETA: 0s - loss: 1.0981 - accuracy: 0.3867\n",
      " gate gradients: [1.10274505e-06, 3.27492167e-08, 7.31424876e-08, 2.37156382e-06]\n",
      "\n",
      " gate gradients: [8.75795138e-07, 2.45367e-08, 5.33364606e-08, 1.74024115e-06]\n",
      "\n",
      " gate gradients: [3.0740523e-06, 8.7386546e-08, 2.06646234e-07, 6.5263248e-06]\n",
      "8/8 [==============================] - 0s 13ms/step - loss: 1.1167 - accuracy: 0.4000\n",
      "Epoch 6/30\n",
      "\n",
      " gate gradients: [2.95402515e-07, 9.31672606e-09, 2.42578064e-08, 8.81369544e-07]\n",
      "1/8 [==>...........................] - ETA: 0s - loss: 1.0570 - accuracy: 0.4667\n",
      " gate gradients: [1.23459085e-06, 3.72424509e-08, 9.66703624e-08, 3.4239e-06]\n",
      "\n",
      " gate gradients: [3.01464547e-06, 8.58392681e-08, 2.00849357e-07, 6.44913689e-06]\n",
      "\n",
      " gate gradients: [7.64372885e-07, 2.23912053e-08, 4.86425762e-08, 1.61891433e-06]\n",
      "\n",
      " gate gradients: [3.43195637e-07, 9.79567094e-09, 2.21536176e-08, 7.48683476e-07]\n",
      "5/8 [=================>............] - ETA: 0s - loss: 1.0846 - accuracy: 0.4267\n",
      " gate gradients: [3.10625728e-06, 8.86696583e-08, 2.01523306e-07, 6.74803141e-06]\n",
      "\n",
      " gate gradients: [1.47344826e-06, 4.19105959e-08, 9.70258327e-08, 3.13447117e-06]\n",
      "\n",
      " gate gradients: [3.03282576e-07, 8.75101414e-09, 2.65219242e-08, 8.67588e-07]\n",
      "8/8 [==============================] - 0s 14ms/step - loss: 1.1054 - accuracy: 0.3750\n",
      "Epoch 7/30\n",
      "\n",
      " gate gradients: [1.47328456e-06, 4.12029877e-08, 9.59673869e-08, 3.11400959e-06]\n",
      "1/8 [==>...........................] - ETA: 0s - loss: 1.2419 - accuracy: 0.1333\n",
      " gate gradients: [1.17220345e-07, 2.95345259e-09, 4.83119145e-09, 1.52829699e-07]\n",
      "\n",
      " gate gradients: [2.81561626e-07, 8.47676862e-09, 2.65116427e-08, 8.971395e-07]\n",
      "\n",
      " gate gradients: [1.5165765e-06, 4.23136939e-08, 9.97668153e-08, 3.22935421e-06]\n",
      "\n",
      " gate gradients: [1.89544735e-07, 5.45930101e-09, 1.84210833e-08, 6.41390727e-07]\n",
      "5/8 [=================>............] - ETA: 0s - loss: 1.1225 - accuracy: 0.2933\n",
      " gate gradients: [1.43911194e-07, 4.22959046e-09, 1.20580754e-08, 4.50716612e-07]\n",
      "\n",
      " gate gradients: [1.41607666e-06, 3.99693292e-08, 1.00760928e-07, 3.00146735e-06]\n",
      "\n",
      " gate gradients: [1.61788307e-08, 4.31042285e-10, 9.41180467e-10, 3.08203347e-08]\n",
      "8/8 [==============================] - 0s 14ms/step - loss: 1.1237 - accuracy: 0.3000\n",
      "Epoch 8/30\n",
      "\n",
      " gate gradients: [2.15057923e-07, 5.88131899e-09, 1.34271696e-08, 4.50694415e-07]\n",
      "1/8 [==>...........................] - ETA: 0s - loss: 1.0774 - accuracy: 0.4000\n",
      " gate gradients: [1.54433019e-06, 4.30659277e-08, 1.01089114e-07, 3.34362562e-06]\n",
      "\n",
      " gate gradients: [3.28867372e-07, 1.4931846e-08, 6.59439294e-08, 2.36414712e-06]\n",
      "\n",
      " gate gradients: [6.76152865e-07, 1.9681595e-08, 4.53861659e-08, 1.47864489e-06]\n",
      "\n",
      " gate gradients: [6.55092549e-07, 1.86470857e-08, 4.28972093e-08, 1.44452758e-06]\n",
      "5/8 [=================>............] - ETA: 0s - loss: 1.0988 - accuracy: 0.4000\n",
      " gate gradients: [6.65099947e-07, 2.3592202e-08, 8.93680223e-08, 3.4914051e-06]\n",
      "\n",
      " gate gradients: [8.6113522e-07, 2.402051e-08, 7.1987337e-08, 2.32094476e-06]\n",
      "\n",
      " gate gradients: [9.804304e-07, 2.70152096e-08, 7.08344245e-08, 2.05927518e-06]\n",
      "8/8 [==============================] - 0s 14ms/step - loss: 1.1029 - accuracy: 0.4000\n",
      "Epoch 9/30\n",
      "\n",
      " gate gradients: [6.97212272e-07, 1.96014227e-08, 4.50362059e-08, 1.52421751e-06]\n",
      "1/8 [==>...........................] - ETA: 0s - loss: 1.0572 - accuracy: 0.3333\n",
      " gate gradients: [3.59806654e-06, 1.00407185e-07, 2.36756932e-07, 7.81662311e-06]\n",
      "\n",
      " gate gradients: [3.55176695e-07, 9.99558125e-09, 2.2919675e-08, 7.67645815e-07]\n",
      "\n",
      " gate gradients: [5.75074466e-07, 1.8164318e-08, 5.79699702e-08, 2.27634018e-06]\n",
      "\n",
      " gate gradients: [9.96673634e-07, 2.83087012e-08, 6.48792806e-08, 2.20995639e-06]\n",
      "5/8 [=================>............] - ETA: 0s - loss: 1.1324 - accuracy: 0.3200\n",
      " gate gradients: [4.43148065e-06, 1.24440632e-07, 2.87329584e-07, 9.80797904e-06]\n",
      "\n",
      " gate gradients: [3.37200709e-06, 9.46113445e-08, 2.22262884e-07, 7.41157282e-06]\n",
      "\n",
      " gate gradients: [8.97971631e-07, 2.49693919e-08, 5.70224401e-08, 1.94428026e-06]\n",
      "8/8 [==============================] - 0s 14ms/step - loss: 1.1299 - accuracy: 0.3250\n",
      "Epoch 10/30\n",
      "\n",
      " gate gradients: [4.4935544e-07, 1.35995153e-08, 4.3154234e-08, 1.6803067e-06]\n",
      "1/8 [==>...........................] - ETA: 0s - loss: 1.0863 - accuracy: 0.5333\n",
      " gate gradients: [1.67008852e-06, 4.61842369e-08, 1.064776e-07, 3.64867083e-06]\n",
      "\n",
      " gate gradients: [2.67947303e-06, 7.69998465e-08, 1.75111026e-07, 5.97621056e-06]\n",
      "\n",
      " gate gradients: [1.80705925e-07, 5.13394e-09, 1.57967683e-08, 6.14959788e-07]\n",
      "\n",
      " gate gradients: [2.14912646e-07, 7.18684134e-09, 2.79621091e-08, 1.08561869e-06]\n",
      "5/8 [=================>............] - ETA: 0s - loss: 1.0774 - accuracy: 0.4800\n",
      " gate gradients: [1.53267467e-06, 4.29079776e-08, 9.80129826e-08, 3.32798163e-06]\n",
      "\n",
      " gate gradients: [1.38573307e-06, 3.81733471e-08, 9.29035835e-08, 2.93781204e-06]\n",
      "\n",
      " gate gradients: [1.68836536e-07, 6.13103346e-09, 2.35816469e-08, 8.46511853e-07]\n",
      "8/8 [==============================] - 0s 13ms/step - loss: 1.0823 - accuracy: 0.4250\n",
      "Epoch 11/30\n",
      "\n",
      " gate gradients: [4.93820153e-07, 1.39303173e-08, 3.16572368e-08, 1.07153039e-06]\n",
      "1/8 [==>...........................] - ETA: 0s - loss: 1.1036 - accuracy: 0.4667\n",
      " gate gradients: [3.51076551e-06, 9.82158497e-08, 2.22192156e-07, 7.61045e-06]\n",
      "\n",
      " gate gradients: [9.59024646e-07, 2.54516479e-08, 5.71103591e-08, 1.95471307e-06]\n",
      "\n",
      " gate gradients: [1.54410213e-06, 4.42413253e-08, 9.95853568e-08, 3.3230142e-06]\n",
      "\n",
      " gate gradients: [1.33010943e-07, 3.61504204e-09, 9.04918629e-09, 3.34484128e-07]\n",
      "5/8 [=================>............] - ETA: 0s - loss: 1.1070 - accuracy: 0.3333\n",
      " gate gradients: [5.28297448e-07, 1.42696379e-08, 3.16511084e-08, 1.0927904e-06]\n",
      "\n",
      " gate gradients: [5.42660518e-06, 1.51451871e-07, 3.44485329e-07, 1.17530872e-05]\n",
      "\n",
      " gate gradients: [3.97241138e-08, 1.01144582e-09, 1.99072803e-09, 5.97449912e-08]\n",
      "8/8 [==============================] - 0s 13ms/step - loss: 1.1090 - accuracy: 0.3167\n",
      "Epoch 12/30\n",
      "\n",
      " gate gradients: [1.18663445e-06, 3.4986666e-08, 8.24434494e-08, 2.75579828e-06]\n",
      "1/8 [==>...........................] - ETA: 0s - loss: 1.0397 - accuracy: 0.6667\n",
      " gate gradients: [1.26492489e-06, 3.57880445e-08, 8.09427334e-08, 2.76557512e-06]\n",
      "\n",
      " gate gradients: [2.63884147e-07, 9.67432889e-09, 3.7525048e-08, 1.33051174e-06]\n",
      "\n",
      " gate gradients: [6.40429448e-07, 1.80301853e-08, 4.66511594e-08, 1.33281719e-06]\n",
      "\n",
      " gate gradients: [8.24416077e-07, 2.33672228e-08, 5.30635873e-08, 1.80911252e-06]\n",
      "5/8 [=================>............] - ETA: 0s - loss: 1.1064 - accuracy: 0.4400\n",
      " gate gradients: [1.06235132e-06, 3.00242711e-08, 7.08154246e-08, 2.36901838e-06]\n",
      "\n",
      " gate gradients: [1.99704857e-07, 5.88527715e-09, 1.34652574e-08, 4.54192445e-07]\n",
      "\n",
      " gate gradients: [3.36848348e-06, 9.3895423e-08, 2.17077258e-07, 7.42906377e-06]\n",
      "8/8 [==============================] - 0s 13ms/step - loss: 1.1145 - accuracy: 0.3833\n",
      "Epoch 13/30\n",
      "\n",
      " gate gradients: [1.4653516e-06, 4.14183212e-08, 9.80826371e-08, 3.2799685e-06]\n",
      "1/8 [==>...........................] - ETA: 0s - loss: 1.1007 - accuracy: 0.3333\n",
      " gate gradients: [3.36499198e-07, 1.04303801e-08, 2.58646704e-08, 9.1477466e-07]\n",
      "\n",
      " gate gradients: [7.31063153e-07, 2.11334097e-08, 6.51562502e-08, 2.20055813e-06]\n",
      "\n",
      " gate gradients: [4.00290475e-07, 1.13846026e-08, 2.67759237e-08, 8.93534036e-07]\n",
      "\n",
      " gate gradients: [2.37391774e-07, 6.78635415e-09, 2.08168576e-08, 7.30480963e-07]\n",
      "5/8 [=================>............] - ETA: 0s - loss: 1.0864 - accuracy: 0.4000\n",
      " gate gradients: [5.69858912e-07, 1.57318265e-08, 4.17496508e-08, 1.22411802e-06]\n",
      "\n",
      " gate gradients: [2.92347096e-07, 1.11746088e-08, 4.30145981e-08, 1.65671338e-06]\n",
      "\n",
      " gate gradients: [4.23862957e-07, 1.18118475e-08, 2.82372064e-08, 9.26638393e-07]\n",
      "8/8 [==============================] - 0s 14ms/step - loss: 1.0927 - accuracy: 0.3833\n",
      "Epoch 14/30\n",
      "\n",
      " gate gradients: [5.2550638e-07, 1.53908122e-08, 4.03535e-08, 1.48400238e-06]\n",
      "1/8 [==>...........................] - ETA: 0s - loss: 1.0974 - accuracy: 0.4000\n",
      " gate gradients: [1.5066648e-07, 4.36534053e-09, 9.82014647e-09, 3.37527155e-07]\n",
      "\n",
      " gate gradients: [2.63693465e-07, 1.06376499e-08, 4.35054375e-08, 1.55316138e-06]\n",
      "\n",
      " gate gradients: [1.48374761e-06, 4.17984651e-08, 9.68179137e-08, 3.3222027e-06]\n",
      "\n",
      " gate gradients: [2.29432686e-07, 8.96217855e-09, 3.43792301e-08, 1.25871816e-06]\n",
      "5/8 [=================>............] - ETA: 0s - loss: 1.0593 - accuracy: 0.4667\n",
      " gate gradients: [1.8441682e-06, 5.12913694e-08, 1.20901163e-07, 4.1094404e-06]\n",
      "\n",
      " gate gradients: [1.89786988e-06, 5.41204379e-08, 1.29934108e-07, 4.33912464e-06]\n",
      "\n",
      " gate gradients: [1.11987674e-06, 3.17329203e-08, 8.59048086e-08, 2.51972779e-06]\n",
      "8/8 [==============================] - 0s 14ms/step - loss: 1.0759 - accuracy: 0.4250\n",
      "Epoch 15/30\n",
      "\n",
      " gate gradients: [8.12260907e-07, 2.18626788e-08, 5.05000237e-08, 1.74727836e-06]\n",
      "1/8 [==>...........................] - ETA: 0s - loss: 1.0751 - accuracy: 0.4000\n",
      " gate gradients: [1.60349578e-06, 4.5178389e-08, 1.04425155e-07, 3.56765713e-06]\n",
      "\n",
      " gate gradients: [5.90489492e-07, 1.66872347e-08, 3.75382712e-08, 1.25776455e-06]\n",
      "\n",
      " gate gradients: [3.45306012e-06, 9.47939256e-08, 2.21134869e-07, 7.59969453e-06]\n",
      "\n",
      " gate gradients: [2.64222223e-07, 7.95057176e-09, 2.63655799e-08, 9.16263502e-07]\n",
      "5/8 [=================>............] - ETA: 0s - loss: 1.1645 - accuracy: 0.2667\n",
      " gate gradients: [3.86030109e-07, 9.21080279e-09, 1.23967707e-08, 3.64010731e-07]\n",
      "\n",
      " gate gradients: [6.69700853e-07, 1.92503968e-08, 4.37710632e-08, 1.48779804e-06]\n",
      "\n",
      " gate gradients: [3.42077698e-07, 9.78020243e-09, 2.35746711e-08, 8.01216288e-07]\n",
      "8/8 [==============================] - 0s 13ms/step - loss: 1.1505 - accuracy: 0.2917\n",
      "Epoch 16/30\n",
      "\n",
      " gate gradients: [1.27479427e-06, 3.64451473e-08, 9.23137549e-08, 2.77778145e-06]\n",
      "1/8 [==>...........................] - ETA: 0s - loss: 1.0942 - accuracy: 0.4000\n",
      " gate gradients: [1.08332813e-07, 4.94816188e-09, 2.22756054e-08, 8.02074737e-07]\n",
      "\n",
      " gate gradients: [1.01482487e-06, 2.85296018e-08, 6.53387247e-08, 2.25102212e-06]\n",
      "\n",
      " gate gradients: [1.27366275e-06, 3.61999213e-08, 8.24429804e-08, 2.84467728e-06]\n",
      "\n",
      " gate gradients: [1.25189089e-07, 3.37423356e-09, 7.94115174e-09, 2.67176063e-07]\n",
      "5/8 [=================>............] - ETA: 0s - loss: 1.1283 - accuracy: 0.2933\n",
      " gate gradients: [1.92079915e-06, 5.46782601e-08, 1.26380726e-07, 4.34062804e-06]\n",
      "\n",
      " gate gradients: [5.32519842e-08, 1.48039458e-09, 3.10249582e-09, 9.79728156e-08]\n",
      "\n",
      " gate gradients: [7.30136549e-07, 1.97896401e-08, 4.75849724e-08, 1.5604511e-06]\n",
      "8/8 [==============================] - 0s 13ms/step - loss: 1.1301 - accuracy: 0.2833\n",
      "Epoch 17/30\n",
      "\n",
      " gate gradients: [2.51134882e-08, 9.24437304e-10, 3.58173935e-09, 1.19275796e-07]\n",
      "1/8 [==>...........................] - ETA: 0s - loss: 1.0802 - accuracy: 0.4667\n",
      " gate gradients: [6.62955586e-07, 1.85060784e-08, 5.07472464e-08, 1.4949461e-06]\n",
      "\n",
      " gate gradients: [4.18571346e-07, 1.07348503e-08, 2.50495962e-08, 8.51742755e-07]\n",
      "\n",
      " gate gradients: [1.61914454e-06, 4.50147866e-08, 1.21569187e-07, 3.58387638e-06]\n",
      "\n",
      " gate gradients: [5.76007437e-07, 1.6947995e-08, 4.18438795e-08, 1.46675097e-06]\n",
      "5/8 [=================>............] - ETA: 0s - loss: 1.0891 - accuracy: 0.4000\n",
      " gate gradients: [2.88254e-07, 7.84953702e-09, 1.98658086e-08, 6.14275336e-07]\n",
      "\n",
      " gate gradients: [9.72070438e-07, 2.82385493e-08, 6.87351687e-08, 2.33501692e-06]\n",
      "\n",
      " gate gradients: [4.45350139e-07, 1.26693847e-08, 2.92172651e-08, 9.94940478e-07]\n",
      "8/8 [==============================] - 0s 13ms/step - loss: 1.1072 - accuracy: 0.3333\n",
      "Epoch 18/30\n",
      "\n",
      " gate gradients: [3.55678367e-07, 1.01706421e-08, 2.16687397e-08, 6.92581e-07]\n",
      "1/8 [==>...........................] - ETA: 0s - loss: 1.0744 - accuracy: 0.4667\n",
      " gate gradients: [5.62289301e-07, 1.64616889e-08, 3.95855508e-08, 1.31324032e-06]\n",
      "\n",
      " gate gradients: [3.44767415e-07, 9.53198409e-09, 2.18801333e-08, 6.70541056e-07]\n",
      "\n",
      " gate gradients: [3.58083696e-07, 1.0186878e-08, 2.57338488e-08, 9.05322906e-07]\n",
      "\n",
      " gate gradients: [1.01253988e-06, 2.86691169e-08, 6.6053e-08, 2.27124951e-06]\n",
      "5/8 [=================>............] - ETA: 0s - loss: 1.1001 - accuracy: 0.3467\n",
      " gate gradients: [7.92198e-07, 2.20944649e-08, 5.17980645e-08, 1.73927185e-06]\n",
      "\n",
      " gate gradients: [7.87772933e-07, 2.19802274e-08, 5.11648821e-08, 1.73620708e-06]\n",
      "\n",
      " gate gradients: [1.3705818e-06, 3.79548375e-08, 8.68855e-08, 2.97698512e-06]\n",
      "8/8 [==============================] - 0s 14ms/step - loss: 1.1005 - accuracy: 0.3333\n",
      "Epoch 19/30\n",
      "\n",
      " gate gradients: [2.09733e-06, 5.89643498e-08, 1.35163333e-07, 4.64339746e-06]\n",
      "1/8 [==>...........................] - ETA: 0s - loss: 1.0986 - accuracy: 0.2667\n",
      " gate gradients: [3.19164519e-06, 8.92329055e-08, 2.05550563e-07, 7.06370838e-06]\n",
      "\n",
      " gate gradients: [1.52834e-06, 4.26067217e-08, 1.18458232e-07, 3.59759406e-06]\n",
      "\n",
      " gate gradients: [1.60931302e-06, 4.55005633e-08, 1.04068413e-07, 3.53069845e-06]\n",
      "\n",
      " gate gradients: [5.00164049e-07, 1.38288163e-08, 3.22405889e-08, 1.06068012e-06]\n",
      "5/8 [=================>............] - ETA: 0s - loss: 1.1019 - accuracy: 0.2933\n",
      " gate gradients: [1.3745624e-07, 5.48825918e-09, 2.22876277e-08, 7.9326e-07]\n",
      "\n",
      " gate gradients: [1.69881764e-06, 4.74954369e-08, 1.13842376e-07, 3.69452323e-06]\n",
      "\n",
      " gate gradients: [5.63240917e-07, 1.92035525e-08, 7.19504e-08, 2.63973607e-06]\n",
      "8/8 [==============================] - 0s 13ms/step - loss: 1.0930 - accuracy: 0.3417\n",
      "Epoch 20/30\n",
      "\n",
      " gate gradients: [1.03821492e-06, 2.75888379e-08, 6.37757296e-08, 2.13040835e-06]\n",
      "1/8 [==>...........................] - ETA: 0s - loss: 1.1132 - accuracy: 0.4667\n",
      " gate gradients: [1.42576164e-06, 3.72120681e-08, 9.92658613e-08, 2.86812178e-06]\n",
      "\n",
      " gate gradients: [1.57879458e-06, 4.50178597e-08, 1.06489658e-07, 3.35943764e-06]\n",
      "\n",
      " gate gradients: [9.41664609e-07, 2.72891612e-08, 6.06653359e-08, 2.06460618e-06]\n",
      "\n",
      " gate gradients: [2.63269339e-06, 7.53646319e-08, 1.6897306e-07, 5.69093754e-06]\n",
      "5/8 [=================>............] - ETA: 0s - loss: 1.0994 - accuracy: 0.4000\n",
      " gate gradients: [2.81797071e-07, 8.22805202e-09, 1.8076511e-08, 5.99796749e-07]\n",
      "\n",
      " gate gradients: [1.52737186e-07, 4.03051814e-09, 9.52175228e-09, 3.12325824e-07]\n",
      "\n",
      " gate gradients: [1.71607644e-06, 4.80414037e-08, 1.12690131e-07, 3.56145438e-06]\n",
      "8/8 [==============================] - 0s 13ms/step - loss: 1.0952 - accuracy: 0.3750\n",
      "Epoch 21/30\n",
      "\n",
      " gate gradients: [9.32559715e-07, 2.58466706e-08, 6.20225e-08, 1.96517931e-06]\n",
      "1/8 [==>...........................] - ETA: 0s - loss: 1.1243 - accuracy: 0.2000\n",
      " gate gradients: [1.32606101e-06, 3.68608077e-08, 8.34801668e-08, 2.85410943e-06]\n",
      "\n",
      " gate gradients: [3.13085131e-08, 7.97158228e-10, 1.64526182e-09, 5.54514834e-08]\n",
      "\n",
      " gate gradients: [1.0485852e-06, 2.91864417e-08, 6.59033e-08, 2.25827671e-06]\n",
      "\n",
      " gate gradients: [2.9553874e-07, 8.73595329e-09, 2.58646047e-08, 8.58301689e-07]\n",
      "5/8 [=================>............] - ETA: 0s - loss: 1.0837 - accuracy: 0.4400\n",
      " gate gradients: [1.97140665e-07, 5.65544456e-09, 1.4901012e-08, 5.2391033e-07]\n",
      "\n",
      " gate gradients: [1.46456875e-06, 4.02813853e-08, 1.30595794e-07, 4.48107812e-06]\n",
      "\n",
      " gate gradients: [1.3919564e-06, 3.93684729e-08, 1.12126024e-07, 3.63809841e-06]\n",
      "8/8 [==============================] - 0s 15ms/step - loss: 1.1125 - accuracy: 0.4000\n",
      "Epoch 22/30\n",
      "\n",
      " gate gradients: [9.23424182e-07, 2.75918595e-08, 7.22571585e-08, 2.67480414e-06]\n",
      "1/8 [==>...........................] - ETA: 0s - loss: 1.0780 - accuracy: 0.4667\n",
      " gate gradients: [5.78622874e-08, 1.90819072e-09, 6.10098683e-09, 2.19780304e-07]\n",
      "\n",
      " gate gradients: [1.87404794e-06, 5.22029389e-08, 1.16795e-07, 4.03061722e-06]\n",
      "\n",
      " gate gradients: [2.5860669e-07, 7.15616233e-09, 1.66050445e-08, 5.47712432e-07]\n",
      "\n",
      " gate gradients: [3.07310552e-06, 8.48692494e-08, 1.90043195e-07, 6.57752162e-06]\n",
      "5/8 [=================>............] - ETA: 0s - loss: 1.0969 - accuracy: 0.3733\n",
      " gate gradients: [1.73669173e-06, 4.97576664e-08, 1.16124724e-07, 3.87867385e-06]\n",
      "\n",
      " gate gradients: [2.22132826e-07, 6.28102326e-09, 1.20941595e-08, 3.5089181e-07]\n",
      "\n",
      " gate gradients: [1.30569072e-06, 3.59282346e-08, 9.38392901e-08, 2.86505315e-06]\n",
      "8/8 [==============================] - 0s 14ms/step - loss: 1.0921 - accuracy: 0.3667\n",
      "Epoch 23/30\n",
      "\n",
      " gate gradients: [1.03486684e-07, 2.7688587e-09, 6.71111344e-09, 2.09483304e-07]\n",
      "1/8 [==>...........................] - ETA: 0s - loss: 1.1408 - accuracy: 0.3333\n",
      " gate gradients: [1.97000099e-06, 5.41962386e-08, 1.37222585e-07, 4.09275299e-06]\n",
      "\n",
      " gate gradients: [7.46727e-07, 2.05845385e-08, 5.20073193e-08, 1.88936099e-06]\n",
      "\n",
      " gate gradients: [5.54048484e-06, 1.52776636e-07, 3.43258364e-07, 1.18109683e-05]\n",
      "\n",
      " gate gradients: [2.53371286e-06, 7.0253229e-08, 1.59739585e-07, 5.3713452e-06]\n",
      "5/8 [=================>............] - ETA: 0s - loss: 1.0855 - accuracy: 0.3333\n",
      " gate gradients: [9.68667564e-08, 2.60314681e-09, 5.93589222e-09, 1.9823554e-07]\n",
      "\n",
      " gate gradients: [1.87236282e-07, 5.57271873e-09, 1.7238774e-08, 6.84400447e-07]\n",
      "\n",
      " gate gradients: [1.49800849e-06, 4.11454479e-08, 9.18208087e-08, 3.19383e-06]\n",
      "8/8 [==============================] - 0s 14ms/step - loss: 1.1133 - accuracy: 0.3083\n",
      "Epoch 24/30\n",
      "\n",
      " gate gradients: [5.28681198e-07, 1.53428559e-08, 3.33507373e-08, 1.13101078e-06]\n",
      "1/8 [==>...........................] - ETA: 0s - loss: 1.0698 - accuracy: 0.4667\n",
      " gate gradients: [8.64871822e-07, 2.52379699e-08, 6.901967e-08, 2.65834456e-06]\n",
      "\n",
      " gate gradients: [4.00420447e-07, 1.15226699e-08, 2.54345132e-08, 8.40077746e-07]\n",
      "\n",
      " gate gradients: [1.84280987e-06, 5.19760377e-08, 1.16291154e-07, 4.02959631e-06]\n",
      "4/8 [==============>...............] - ETA: 0s - loss: 1.1032 - accuracy: 0.3833\n",
      " gate gradients: [1.02231741e-06, 2.8414048e-08, 7.39271044e-08, 2.23708139e-06]\n",
      "\n",
      " gate gradients: [2.31222839e-06, 6.48407124e-08, 1.45957046e-07, 4.98216286e-06]\n",
      "\n",
      " gate gradients: [1.58709634e-06, 4.47940387e-08, 1.01141893e-07, 3.40122e-06]\n",
      "\n",
      " gate gradients: [5.86609659e-08, 1.62348357e-09, 3.50160723e-09, 1.15333691e-07]\n",
      "8/8 [==============================] - 0s 15ms/step - loss: 1.0935 - accuracy: 0.3917\n",
      "Epoch 25/30\n",
      "\n",
      " gate gradients: [1.85104466e-06, 5.14707637e-08, 1.14976352e-07, 3.98614839e-06]\n",
      "1/8 [==>...........................] - ETA: 0s - loss: 1.1205 - accuracy: 0.2667\n",
      " gate gradients: [4.45171281e-06, 1.25245535e-07, 2.80085e-07, 9.68219319e-06]\n",
      "\n",
      " gate gradients: [8.25401514e-07, 2.31137864e-08, 5.14260599e-08, 1.76710466e-06]\n",
      "\n",
      " gate gradients: [2.85416206e-07, 7.41159356e-09, 1.73614119e-08, 5.48811215e-07]\n",
      "\n",
      " gate gradients: [3.61701211e-07, 1.0538928e-08, 3.15091384e-08, 1.08364384e-06]\n",
      "5/8 [=================>............] - ETA: 0s - loss: 1.0882 - accuracy: 0.3867\n",
      " gate gradients: [5.61442903e-07, 1.53872133e-08, 3.45528868e-08, 1.18810692e-06]\n",
      "\n",
      " gate gradients: [1.19555364e-06, 3.31136754e-08, 7.38156558e-08, 2.54173642e-06]\n",
      "\n",
      " gate gradients: [1.43178352e-06, 4.36872902e-08, 1.26809923e-07, 5.03969e-06]\n",
      "8/8 [==============================] - 0s 13ms/step - loss: 1.1014 - accuracy: 0.3500\n",
      "Epoch 26/30\n",
      "\n",
      " gate gradients: [2.72050306e-06, 7.49744942e-08, 1.64555431e-07, 5.79474545e-06]\n",
      "1/8 [==>...........................] - ETA: 0s - loss: 1.0696 - accuracy: 0.4000\n",
      " gate gradients: [3.56702367e-06, 9.69687051e-08, 2.25186525e-07, 7.51035805e-06]\n",
      "\n",
      " gate gradients: [5.38642871e-06, 1.4965174e-07, 3.29838514e-07, 1.15334697e-05]\n",
      "\n",
      " gate gradients: [8.749047e-08, 2.47504e-09, 5.74813219e-09, 1.94290763e-07]\n",
      "\n",
      " gate gradients: [1.79472664e-07, 4.97032415e-09, 1.29838051e-08, 3.92138872e-07]\n",
      "5/8 [=================>............] - ETA: 0s - loss: 1.0845 - accuracy: 0.4133\n",
      " gate gradients: [6.98253587e-07, 1.59711249e-08, 2.48236578e-08, 7.87410215e-07]\n",
      "\n",
      " gate gradients: [5.79001437e-07, 1.56736419e-08, 4.52594264e-08, 1.44877265e-06]\n",
      "\n",
      " gate gradients: [2.19042499e-06, 6.02474941e-08, 1.31321897e-07, 4.58512659e-06]\n",
      "8/8 [==============================] - 0s 14ms/step - loss: 1.1015 - accuracy: 0.3833\n",
      "Epoch 27/30\n",
      "\n",
      " gate gradients: [2.54707493e-06, 7.0128813e-08, 1.54167495e-07, 5.44124305e-06]\n",
      "1/8 [==>...........................] - ETA: 0s - loss: 1.0050 - accuracy: 0.6667\n",
      " gate gradients: [3.96270252e-06, 1.09060693e-07, 2.36247558e-07, 8.32643127e-06]\n",
      "\n",
      " gate gradients: [2.48601797e-08, 7.60354446e-10, 2.38806752e-09, 8.3537131e-08]\n",
      "\n",
      " gate gradients: [3.66339077e-06, 1.02848361e-07, 2.22943029e-07, 7.8455505e-06]\n",
      "\n",
      " gate gradients: [2.55925073e-07, 6.82823931e-09, 1.49027208e-08, 5.23092808e-07]\n",
      "5/8 [=================>............] - ETA: 0s - loss: 1.0994 - accuracy: 0.3600\n",
      " gate gradients: [8.52645e-06, 2.42769318e-07, 5.29829549e-07, 1.86894649e-05]\n",
      "\n",
      " gate gradients: [2.80870125e-07, 1.02295861e-08, 3.94147079e-08, 1.55530506e-06]\n",
      "\n",
      " gate gradients: [3.67893932e-07, 1.00186641e-08, 2.20997389e-08, 7.73559123e-07]\n",
      "8/8 [==============================] - 0s 14ms/step - loss: 1.1053 - accuracy: 0.3667\n",
      "Epoch 28/30\n",
      "\n",
      " gate gradients: [8.41610301e-08, 1.87578775e-09, 1.72532477e-09, 2.97323197e-08]\n",
      "1/8 [==>...........................] - ETA: 0s - loss: 1.1305 - accuracy: 0.2667\n",
      " gate gradients: [1.49122138e-06, 4.07347294e-08, 8.98314809e-08, 3.15043553e-06]\n",
      "\n",
      " gate gradients: [1.44719809e-06, 4.01883e-08, 8.94433896e-08, 3.12705379e-06]\n",
      "\n",
      " gate gradients: [3.82523297e-07, 1.1372939e-08, 3.58168215e-08, 1.24342944e-06]\n",
      "4/8 [==============>...............] - ETA: 0s - loss: 1.0876 - accuracy: 0.4167\n",
      " gate gradients: [2.69066868e-06, 7.49393081e-08, 1.66226897e-07, 5.82406483e-06]\n",
      "\n",
      " gate gradients: [3.02909712e-07, 8.53271409e-09, 2.28574937e-08, 8.61998842e-07]\n",
      "\n",
      " gate gradients: [1.10511019e-06, 3.11807185e-08, 6.84181387e-08, 2.40991562e-06]\n",
      "\n",
      " gate gradients: [1.5780374e-07, 4.02676026e-09, 7.44005968e-09, 2.42870016e-07]\n",
      "8/8 [==============================] - 0s 14ms/step - loss: 1.0902 - accuracy: 0.4167\n",
      "Epoch 29/30\n",
      "\n",
      " gate gradients: [3.73177897e-07, 1.04089404e-08, 2.30937331e-08, 8.12567748e-07]\n",
      "1/8 [==>...........................] - ETA: 0s - loss: 1.0908 - accuracy: 0.4000\n",
      " gate gradients: [5.6557684e-07, 1.64828684e-08, 3.60216745e-08, 1.24907046e-06]\n",
      "\n",
      " gate gradients: [5.92905394e-07, 1.74206409e-08, 5.05149274e-08, 1.96916199e-06]\n",
      "\n",
      " gate gradients: [2.55788279e-07, 7.12116455e-09, 1.59658615e-08, 5.44749128e-07]\n",
      "4/8 [==============>...............] - ETA: 0s - loss: 1.1229 - accuracy: 0.3333\n",
      " gate gradients: [1.17129969e-06, 3.11999777e-08, 6.901994e-08, 2.43230875e-06]\n",
      "\n",
      " gate gradients: [2.85754368e-07, 1.21036896e-08, 5.32588622e-08, 2.04543198e-06]\n",
      "\n",
      " gate gradients: [8.70668089e-07, 2.38794975e-08, 5.40474545e-08, 1.86253135e-06]\n",
      "\n",
      " gate gradients: [1.73125932e-06, 5.02748954e-08, 1.09120592e-07, 3.81405289e-06]\n",
      "8/8 [==============================] - 0s 15ms/step - loss: 1.1147 - accuracy: 0.3417\n",
      "Epoch 30/30\n",
      "\n",
      " gate gradients: [8.43301606e-08, 2.18513274e-09, 4.3801065e-09, 1.42156594e-07]\n",
      "1/8 [==>...........................] - ETA: 0s - loss: 1.1575 - accuracy: 0.2667\n",
      " gate gradients: [1.12144242e-07, 5.4049214e-09, 2.46989611e-08, 8.71364307e-07]\n",
      "\n",
      " gate gradients: [1.75874234e-07, 4.92031971e-09, 1.27588979e-08, 3.79506133e-07]\n",
      "\n",
      " gate gradients: [5.3647949e-07, 1.48629731e-08, 3.28302647e-08, 1.14940724e-06]\n",
      "\n",
      " gate gradients: [1.54576526e-07, 4.17563228e-09, 1.00858539e-08, 3.19412919e-07]\n",
      "5/8 [=================>............] - ETA: 0s - loss: 1.1168 - accuracy: 0.2933\n",
      " gate gradients: [8.58584883e-07, 2.33038584e-08, 5.29662323e-08, 1.80573772e-06]\n",
      "\n",
      " gate gradients: [6.33805044e-08, 1.7470273e-09, 4.55929e-09, 1.33463047e-07]\n",
      "\n",
      " gate gradients: [6.45019753e-08, 1.79145165e-09, 4.04362499e-09, 1.36250904e-07]\n",
      "8/8 [==============================] - 0s 14ms/step - loss: 1.1088 - accuracy: 0.3417\n"
     ]
    },
    {
     "data": {
      "image/png": "[encoded data removed]",
      "text/plain": [
       "<Figure size 432x288 with 1 Axes>"
      ]
     },
     "metadata": {
      "needs_background": "light"
     },
     "output_type": "display_data"
    },
    {
     "data": {
      "image/png": "[encoded data removed]",
      "text/plain": [
       "<Figure size 432x288 with 1 Axes>"
      ]
     },
     "metadata": {
      "needs_background": "light"
     },
     "output_type": "display_data"
    },
    {
     "data": {
      "text/plain": [
       "<tensorflow.python.keras.callbacks.History at 0x13bfd3d90>"
      ]
     },
     "execution_count": 38,
     "metadata": {},
     "output_type": "execute_result"
    }
   ],
   "source": [
    "selector_model.fit(x_train, y_train_onehot, epochs=30, batch_size=batch_size, shuffle=True, callbacks=[analysis_cb])"
   ]
  },
  {
   "cell_type": "markdown",
   "metadata": {},
   "source": [
    "### Comparing activations of standalone expert network to an expert of MOE"
   ]
  },
  {
   "cell_type": "code",
   "execution_count": 39,
   "metadata": {},
   "outputs": [
    {
     "data": {
      "image/png": "[encoded data removed]",
      "text/plain": [
       "<Figure size 432x288 with 1 Axes>"
      ]
     },
     "metadata": {
      "needs_background": "light"
     },
     "output_type": "display_data"
    }
   ],
   "source": [
    "plt.plot(range(len( simple_model_cb.simple_model_mean_abs_act)), simple_model_cb.simple_model_mean_abs_act,color='g')\n",
    "plt.plot(range(len( analysis_cb.expert_mean_abs_act_0)), analysis_cb.expert_mean_abs_act_0, color='tab:orange')\n",
    "plt.show()"
   ]
  },
  {
   "cell_type": "markdown",
   "metadata": {},
   "source": [
    "### Comparing predictions of standalone expert network with the predictions of the MOE network"
   ]
  },
  {
   "cell_type": "code",
   "execution_count": 40,
   "metadata": {},
   "outputs": [
    {
     "data": {
      "text/plain": [
       "array([[9.99997020e-01, 3.03512616e-06, 1.94109817e-09],\n",
       "       [9.99599636e-01, 3.99664044e-04, 6.69898441e-07],\n",
       "       [9.99988198e-01, 1.18233911e-05, 1.64533702e-08],\n",
       "       [9.99972939e-01, 2.70762212e-05, 2.31700650e-08],\n",
       "       [9.99983430e-01, 1.65885613e-05, 1.11336389e-08],\n",
       "       [9.99968767e-01, 3.12487246e-05, 3.10381587e-08],\n",
       "       [9.99997497e-01, 2.50431822e-06, 1.32650479e-09],\n",
       "       [9.99985933e-01, 1.40824177e-05, 1.58600280e-08],\n",
       "       [9.99998093e-01, 1.85432918e-06, 7.69715180e-10],\n",
       "       [9.99993443e-01, 6.58564568e-06, 4.36493197e-09],\n",
       "       [5.22133196e-04, 5.95585287e-01, 4.03892606e-01],\n",
       "       [4.60675306e-04, 8.92861903e-01, 1.06677406e-01],\n",
       "       [1.21866760e-03, 9.88120675e-01, 1.06606307e-02],\n",
       "       [4.90281451e-03, 9.89575386e-01, 5.52182132e-03],\n",
       "       [8.62961693e-04, 8.89406741e-01, 1.09730303e-01],\n",
       "       [1.24778948e-03, 9.87509847e-01, 1.12423114e-02],\n",
       "       [9.85250343e-04, 9.71183956e-01, 2.78308820e-02],\n",
       "       [7.70124141e-04, 9.91179287e-01, 8.05051066e-03],\n",
       "       [1.36888288e-02, 9.84747827e-01, 1.56331563e-03],\n",
       "       [1.07257836e-03, 9.76640880e-01, 2.22864822e-02],\n",
       "       [7.08163441e-07, 4.72389115e-03, 9.95275378e-01],\n",
       "       [1.50700653e-05, 8.19130838e-02, 9.18071866e-01],\n",
       "       [3.96141877e-06, 9.23877489e-03, 9.90757287e-01],\n",
       "       [4.04639508e-07, 3.56288836e-03, 9.96436715e-01],\n",
       "       [5.26953386e-07, 3.83339380e-03, 9.96166110e-01],\n",
       "       [4.54806377e-06, 2.12256014e-02, 9.78769898e-01],\n",
       "       [8.36605341e-06, 2.54718829e-02, 9.74519789e-01],\n",
       "       [1.01840760e-05, 3.94971818e-02, 9.60492611e-01],\n",
       "       [2.12053692e-06, 7.61176180e-03, 9.92386103e-01],\n",
       "       [1.20702589e-05, 2.62147281e-02, 9.73773181e-01]], dtype=float32)"
      ]
     },
     "execution_count": 40,
     "metadata": {},
     "output_type": "execute_result"
    }
   ],
   "source": [
    "pred = simple_model.predict(x_test, batch_size=batch_size)\n",
    "pred"
   ]
  },
  {
   "cell_type": "code",
   "execution_count": 41,
   "metadata": {},
   "outputs": [
    {
     "data": {
      "text/plain": [
       "array([0, 0, 0, 0, 0, 0, 0, 0, 0, 0, 1, 1, 1, 1, 1, 1, 1, 1, 1, 1, 2, 2,\n",
       "       2, 2, 2, 2, 2, 2, 2, 2])"
      ]
     },
     "execution_count": 41,
     "metadata": {},
     "output_type": "execute_result"
    }
   ],
   "source": [
    "pred = np.asarray([np.argmax(pred[i]) for i in range(len(pred))])\n",
    "pred"
   ]
  },
  {
   "cell_type": "code",
   "execution_count": 42,
   "metadata": {},
   "outputs": [
    {
     "data": {
      "text/plain": [
       "array([0., 0., 0., 0., 0., 0., 0., 0., 0., 0., 1., 1., 1., 1., 1., 1., 1.,\n",
       "       1., 1., 1., 2., 2., 2., 2., 2., 2., 2., 2., 2., 2.], dtype=float32)"
      ]
     },
     "execution_count": 42,
     "metadata": {},
     "output_type": "execute_result"
    }
   ],
   "source": [
    "y_test"
   ]
  },
  {
   "cell_type": "code",
   "execution_count": 43,
   "metadata": {},
   "outputs": [
    {
     "data": {
      "image/png": "[encoded data removed]",
      "text/plain": [
       "<Figure size 432x288 with 1 Axes>"
      ]
     },
     "metadata": {
      "needs_background": "light"
     },
     "output_type": "display_data"
    },
    {
     "data": {
      "image/png": "[encoded data removed]",
      "text/plain": [
       "<Figure size 432x288 with 1 Axes>"
      ]
     },
     "metadata": {
      "needs_background": "light"
     },
     "output_type": "display_data"
    }
   ],
   "source": [
    "# PCA projection of actual and predicted targets with standalone expert\n",
    "from mpl_toolkits.mplot3d import Axes3D\n",
    "from sklearn import decomposition\n",
    "\n",
    "pca = decomposition.PCA(n_components=2)\n",
    "coord = pca.fit_transform(x_test)\n",
    "\n",
    "markers = ['o','*','+']\n",
    "colors0 = ['g', 'r', 'b']\n",
    "colors1 = ['tab:cyan', 'tab:brown', 'tab:orange']\n",
    "for i in range(3):\n",
    "    plt.scatter(coord[y_test == i,0], coord[y_test == i, 1],color=colors0[i], marker=markers[i])\n",
    "plt.title('Desired Output')\n",
    "plt.show()\n",
    "for i in range(3):\n",
    "    plt.scatter(coord[pred == i,0], coord[pred == i, 1],color=colors1[i], marker=markers[i])\n",
    "plt.title('Predicted Output')\n",
    "plt.show()"
   ]
  },
  {
   "cell_type": "code",
   "execution_count": 44,
   "metadata": {},
   "outputs": [
    {
     "data": {
      "text/plain": [
       "array([[0.34102064, 0.32951123, 0.3294682 ],\n",
       "       [0.34205532, 0.32929146, 0.3286533 ],\n",
       "       [0.34162807, 0.32930097, 0.32907093],\n",
       "       [0.34155193, 0.3306425 , 0.32780558],\n",
       "       [0.34062675, 0.33045086, 0.32892242],\n",
       "       [0.35182264, 0.31013185, 0.33804554],\n",
       "       [0.3661965 , 0.29838836, 0.33541518],\n",
       "       [0.37048587, 0.29826945, 0.33124474],\n",
       "       [0.2846838 , 0.30638275, 0.40893346],\n",
       "       [0.29510745, 0.31160933, 0.39328316],\n",
       "       [0.34231597, 0.32941473, 0.3282694 ],\n",
       "       [0.34618017, 0.32736936, 0.32645047],\n",
       "       [0.3423619 , 0.3271942 , 0.33044383],\n",
       "       [0.34646487, 0.3323909 , 0.3211444 ],\n",
       "       [0.34377456, 0.3327093 , 0.3235162 ],\n",
       "       [0.3416194 , 0.33071724, 0.3276634 ],\n",
       "       [0.34154513, 0.33075443, 0.3277005 ],\n",
       "       [0.34246358, 0.33111745, 0.32641888],\n",
       "       [0.34297365, 0.33163688, 0.32538947],\n",
       "       [0.34312257, 0.33129492, 0.3255824 ],\n",
       "       [0.28640294, 0.30564207, 0.40795502],\n",
       "       [0.28704822, 0.30602518, 0.4069267 ],\n",
       "       [0.2756413 , 0.30444574, 0.41991296],\n",
       "       [0.27268845, 0.2993347 , 0.42797688],\n",
       "       [0.27295846, 0.30102065, 0.42602095],\n",
       "       [0.34662747, 0.33236858, 0.32100397],\n",
       "       [0.34651902, 0.3323658 , 0.32111531],\n",
       "       [0.3485089 , 0.3321499 , 0.31934124],\n",
       "       [0.35086283, 0.3317818 , 0.31735545],\n",
       "       [0.34987733, 0.33207518, 0.3180475 ]], dtype=float32)"
      ]
     },
     "execution_count": 44,
     "metadata": {},
     "output_type": "execute_result"
    }
   ],
   "source": [
    "pred = selector_model.predict(x_test, batch_size=batch_size)\n",
    "pred"
   ]
  },
  {
   "cell_type": "code",
   "execution_count": 45,
   "metadata": {},
   "outputs": [
    {
     "data": {
      "text/plain": [
       "array([0, 0, 0, 0, 0, 0, 0, 0, 2, 2, 0, 0, 0, 0, 0, 0, 0, 0, 0, 0, 2, 2,\n",
       "       2, 2, 2, 0, 0, 0, 0, 0])"
      ]
     },
     "execution_count": 45,
     "metadata": {},
     "output_type": "execute_result"
    }
   ],
   "source": [
    "pred = np.asarray([np.argmax(pred[i]) for i in range(len(pred))])\n",
    "pred"
   ]
  },
  {
   "cell_type": "code",
   "execution_count": 46,
   "metadata": {},
   "outputs": [
    {
     "data": {
      "image/png": "[encoded data removed]",
      "text/plain": [
       "<Figure size 432x288 with 1 Axes>"
      ]
     },
     "metadata": {
      "needs_background": "light"
     },
     "output_type": "display_data"
    },
    {
     "data": {
      "image/png": "[encoded data removed]",
      "text/plain": [
       "<Figure size 432x288 with 1 Axes>"
      ]
     },
     "metadata": {
      "needs_background": "light"
     },
     "output_type": "display_data"
    }
   ],
   "source": [
    "# PCA projection of actual and predicted targets with MOE\n",
    "from mpl_toolkits.mplot3d import Axes3D\n",
    "from sklearn import decomposition\n",
    "\n",
    "pca = decomposition.PCA(n_components=2)\n",
    "coord = pca.fit_transform(x_test)\n",
    "\n",
    "markers = ['o','*','+']\n",
    "colors0 = ['g', 'r', 'b']\n",
    "colors1 = ['tab:cyan', 'tab:brown', 'tab:orange']\n",
    "for i in range(3):\n",
    "    plt.scatter(coord[y_test == i,0], coord[y_test == i, 1],color=colors0[i], marker=markers[i])\n",
    "plt.title('Desired Output')\n",
    "plt.show()\n",
    "for i in range(3):\n",
    "    plt.scatter(coord[pred == i,0], coord[pred == i, 1],color=colors1[i], marker=markers[i])\n",
    "plt.title('Predicted Output')\n",
    "plt.show()"
   ]
  },
  {
   "cell_type": "markdown",
   "metadata": {},
   "source": [
    "### Mixture of Experts model with the gate output fixed at [1,0,0]"
   ]
  },
  {
   "cell_type": "code",
   "execution_count": 79,
   "metadata": {},
   "outputs": [],
   "source": [
    "K.clear_session()"
   ]
  },
  {
   "cell_type": "code",
   "execution_count": 80,
   "metadata": {},
   "outputs": [],
   "source": [
    "#Gate network (Similar to the expert layer) with a fixed output of [1, 0, 0]\n",
    "def gate_layers_fixed(input, output, name):\n",
    "    x = layers.Dense(1000, activation='relu', kernel_initializer=initializers.Zeros(), \n",
    "                     bias_initializer=initializers.Zeros())(input)\n",
    "    x = layers.Dense(500, activation='relu', kernel_initializer=initializers.Zeros(), \n",
    "                     bias_initializer=initializers.Zeros())(x)\n",
    "    x = layers.Dense(300,activation='relu', kernel_initializer=initializers.Zeros(), \n",
    "                     bias_initializer=initializers.Zeros())(x)\n",
    "    x = layers.Dense(output, activation='softmax',name=name, kernel_initializer=initializers.Zeros(), \n",
    "                     bias_initializer=tf.constant_initializer([3.]+[0.]*(output-1)))(x)\n",
    "    return x"
   ]
  },
  {
   "cell_type": "code",
   "execution_count": 81,
   "metadata": {},
   "outputs": [],
   "source": [
    "num_experts = 3"
   ]
  },
  {
   "cell_type": "code",
   "execution_count": 82,
   "metadata": {},
   "outputs": [],
   "source": [
    "#Initialize gate network\n",
    "gate = gate_layers_fixed(input, num_experts, 'gate_layer')"
   ]
  },
  {
   "cell_type": "code",
   "execution_count": 83,
   "metadata": {},
   "outputs": [],
   "source": [
    "#Initialize expert networks\n",
    "experts = []\n",
    "for i in range(num_experts):\n",
    "    experts.append(expert_layers(input, 3, 'expert_'+str(i)))"
   ]
  },
  {
   "cell_type": "code",
   "execution_count": 84,
   "metadata": {},
   "outputs": [],
   "source": [
    "# Initialize the selector network\n",
    "expert_output = experts[0]\n",
    "if num_experts > 1:\n",
    "    expert_output = tf.keras.layers.Concatenate(axis=0)(experts)\n",
    "selector_output = selector_expectation(num_experts=num_experts, trainable=False)([expert_output, gate])"
   ]
  },
  {
   "cell_type": "code",
   "execution_count": 85,
   "metadata": {},
   "outputs": [],
   "source": [
    "selector_model = CustomModel(input, selector_output,name='selector')"
   ]
  },
  {
   "cell_type": "code",
   "execution_count": 86,
   "metadata": {},
   "outputs": [
    {
     "name": "stdout",
     "output_type": "stream",
     "text": [
      "Model: \"selector\"\n",
      "__________________________________________________________________________________________________\n",
      "Layer (type)                    Output Shape         Param #     Connected to                     \n",
      "==================================================================================================\n",
      "myInput (InputLayer)            [(None, 4)]          0                                            \n",
      "__________________________________________________________________________________________________\n",
      "dense_3 (Dense)                 (None, 1000)         5000        myInput[0][0]                    \n",
      "__________________________________________________________________________________________________\n",
      "dense_6 (Dense)                 (None, 1000)         5000        myInput[0][0]                    \n",
      "__________________________________________________________________________________________________\n",
      "dense_9 (Dense)                 (None, 1000)         5000        myInput[0][0]                    \n",
      "__________________________________________________________________________________________________\n",
      "dense_4 (Dense)                 (None, 500)          500500      dense_3[0][0]                    \n",
      "__________________________________________________________________________________________________\n",
      "dense_7 (Dense)                 (None, 500)          500500      dense_6[0][0]                    \n",
      "__________________________________________________________________________________________________\n",
      "dense_10 (Dense)                (None, 500)          500500      dense_9[0][0]                    \n",
      "__________________________________________________________________________________________________\n",
      "dense (Dense)                   (None, 1000)         5000        myInput[0][0]                    \n",
      "__________________________________________________________________________________________________\n",
      "dense_5 (Dense)                 (None, 300)          150300      dense_4[0][0]                    \n",
      "__________________________________________________________________________________________________\n",
      "dense_8 (Dense)                 (None, 300)          150300      dense_7[0][0]                    \n",
      "__________________________________________________________________________________________________\n",
      "dense_11 (Dense)                (None, 300)          150300      dense_10[0][0]                   \n",
      "__________________________________________________________________________________________________\n",
      "dense_1 (Dense)                 (None, 500)          500500      dense[0][0]                      \n",
      "__________________________________________________________________________________________________\n",
      "expert_0 (Dense)                (None, 3)            903         dense_5[0][0]                    \n",
      "__________________________________________________________________________________________________\n",
      "expert_1 (Dense)                (None, 3)            903         dense_8[0][0]                    \n",
      "__________________________________________________________________________________________________\n",
      "expert_2 (Dense)                (None, 3)            903         dense_11[0][0]                   \n",
      "__________________________________________________________________________________________________\n",
      "dense_2 (Dense)                 (None, 300)          150300      dense_1[0][0]                    \n",
      "__________________________________________________________________________________________________\n",
      "concatenate (Concatenate)       (None, 3)            0           expert_0[0][0]                   \n",
      "                                                                 expert_1[0][0]                   \n",
      "                                                                 expert_2[0][0]                   \n",
      "__________________________________________________________________________________________________\n",
      "gate_layer (Dense)              (None, 3)            903         dense_2[0][0]                    \n",
      "__________________________________________________________________________________________________\n",
      "selector_expectation (selector_ (15, 3)              0           concatenate[0][0]                \n",
      "                                                                 gate_layer[0][0]                 \n",
      "==================================================================================================\n",
      "Total params: 2,626,812\n",
      "Trainable params: 2,626,812\n",
      "Non-trainable params: 0\n",
      "__________________________________________________________________________________________________\n"
     ]
    }
   ],
   "source": [
    "selector_model.summary()"
   ]
  },
  {
   "cell_type": "code",
   "execution_count": 87,
   "metadata": {},
   "outputs": [],
   "source": [
    "selector_model.compile(optimizer='adam', loss=\"categorical_crossentropy\", metrics=\"accuracy\")"
   ]
  },
  {
   "cell_type": "code",
   "execution_count": 88,
   "metadata": {},
   "outputs": [],
   "source": [
    "analysis_cb = AnalysisCallback(num_experts)"
   ]
  },
  {
   "cell_type": "code",
   "execution_count": 89,
   "metadata": {},
   "outputs": [
    {
     "name": "stdout",
     "output_type": "stream",
     "text": [
      "Epoch 1/30\n",
      "\n",
      " gate gradients: [0, 0, 0, 0]\n",
      "1/8 [==>...........................] - ETA: 0s - loss: 1.1979 - accuracy: 0.1333\n",
      " gate gradients: [0, 0, 0, 0]\n",
      "\n",
      " gate gradients: [0, 0, 0, 0]\n",
      "\n",
      " gate gradients: [0, 0, 0, 0]\n",
      "4/8 [==============>...............] - ETA: 0s - loss: 1.2535 - accuracy: 0.2500\n",
      " gate gradients: [0, 0, 0, 0]\n",
      "\n",
      " gate gradients: [0, 0, 0, 0]\n",
      "\n",
      " gate gradients: [0, 0, 0, 0]\n",
      "\n",
      " gate gradients: [0, 0, 0, 0]\n",
      "8/8 [==============================] - 0s 16ms/step - loss: 1.2731 - accuracy: 0.2917\n",
      "Epoch 2/30\n",
      "\n",
      " gate gradients: [0, 0, 0, 0]\n",
      "1/8 [==>...........................] - ETA: 0s - loss: 1.2847 - accuracy: 0.2000\n",
      " gate gradients: [0, 0, 0, 0]\n",
      "\n",
      " gate gradients: [0, 0, 0, 0]\n",
      "\n",
      " gate gradients: [0, 0, 0, 0]\n",
      "\n",
      " gate gradients: [0, 0, 0, 0]\n",
      "5/8 [=================>............] - ETA: 0s - loss: 1.1441 - accuracy: 0.3600\n",
      " gate gradients: [0, 0, 0, 0]\n",
      "\n",
      " gate gradients: [0, 0, 0, 0]\n",
      "\n",
      " gate gradients: [0, 0, 0, 0]\n",
      "8/8 [==============================] - 0s 13ms/step - loss: 1.1594 - accuracy: 0.3833\n",
      "Epoch 3/30\n",
      "\n",
      " gate gradients: [0, 0, 0, 0]\n",
      "1/8 [==>...........................] - ETA: 0s - loss: 1.1723 - accuracy: 0.2667\n",
      " gate gradients: [0, 0, 0, 0]\n",
      "\n",
      " gate gradients: [0, 0, 0, 0]\n",
      "\n",
      " gate gradients: [0, 0, 0, 0]\n",
      "\n",
      " gate gradients: [0, 0, 0, 0]\n",
      "5/8 [=================>............] - ETA: 0s - loss: 1.1143 - accuracy: 0.3733\n",
      " gate gradients: [0, 0, 0, 0]\n",
      "\n",
      " gate gradients: [0, 0, 0, 0]\n",
      "\n",
      " gate gradients: [0, 0, 0, 0]\n",
      "8/8 [==============================] - 0s 14ms/step - loss: 1.1101 - accuracy: 0.3417\n",
      "Epoch 4/30\n",
      "\n",
      " gate gradients: [0, 0, 0, 0]\n",
      "1/8 [==>...........................] - ETA: 0s - loss: 1.1774 - accuracy: 0.2667\n",
      " gate gradients: [0, 0, 0, 0]\n",
      "\n",
      " gate gradients: [0, 0, 0, 0]\n",
      "\n",
      " gate gradients: [0, 0, 0, 0]\n",
      "\n",
      " gate gradients: [0, 0, 0, 0]\n",
      "5/8 [=================>............] - ETA: 0s - loss: 1.1856 - accuracy: 0.2667\n",
      " gate gradients: [0, 0, 0, 0]\n",
      "\n",
      " gate gradients: [0, 0, 0, 0]\n",
      "\n",
      " gate gradients: [0, 0, 0, 0]\n",
      "8/8 [==============================] - 0s 13ms/step - loss: 1.1652 - accuracy: 0.2917\n",
      "Epoch 5/30\n",
      "\n",
      " gate gradients: [0, 0, 0, 0]\n",
      "1/8 [==>...........................] - ETA: 0s - loss: 1.1153 - accuracy: 0.3333\n",
      " gate gradients: [0, 0, 0, 0]\n",
      "\n",
      " gate gradients: [0, 0, 0, 0]\n",
      "\n",
      " gate gradients: [0, 0, 0, 0]\n",
      "\n",
      " gate gradients: [0, 0, 0, 0]\n",
      "5/8 [=================>............] - ETA: 0s - loss: 1.1106 - accuracy: 0.3333\n",
      " gate gradients: [0, 0, 0, 0]\n",
      "\n",
      " gate gradients: [0, 0, 0, 0]\n",
      "\n",
      " gate gradients: [0, 0, 0, 0]\n",
      "8/8 [==============================] - 0s 13ms/step - loss: 1.1165 - accuracy: 0.3333\n",
      "Epoch 6/30\n",
      "\n",
      " gate gradients: [0, 0, 0, 0]\n",
      "1/8 [==>...........................] - ETA: 0s - loss: 1.1223 - accuracy: 0.4000\n",
      " gate gradients: [0, 0, 0, 0]\n",
      "\n",
      " gate gradients: [0, 0, 0, 0]\n",
      "\n",
      " gate gradients: [0, 0, 0, 0]\n",
      "4/8 [==============>...............] - ETA: 0s - loss: 1.1242 - accuracy: 0.2833\n",
      " gate gradients: [0, 0, 0, 0]\n",
      "\n",
      " gate gradients: [0, 0, 0, 0]\n",
      "\n",
      " gate gradients: [0, 0, 0, 0]\n",
      "\n",
      " gate gradients: [0, 0, 0, 0]\n",
      "8/8 [==============================] - 0s 16ms/step - loss: 1.1201 - accuracy: 0.2500\n",
      "Epoch 7/30\n",
      "\n",
      " gate gradients: [0, 0, 0, 0]\n",
      "1/8 [==>...........................] - ETA: 0s - loss: 1.1186 - accuracy: 0.2000\n",
      " gate gradients: [0, 0, 0, 0]\n",
      "\n",
      " gate gradients: [0, 0, 0, 0]\n",
      "\n",
      " gate gradients: [0, 0, 0, 0]\n",
      "4/8 [==============>...............] - ETA: 0s - loss: 1.1196 - accuracy: 0.3500\n",
      " gate gradients: [0, 0, 0, 0]\n",
      "\n",
      " gate gradients: [0, 0, 0, 0]\n",
      "\n",
      " gate gradients: [0, 0, 0, 0]\n",
      "7/8 [=========================>....] - ETA: 0s - loss: 1.1078 - accuracy: 0.3333\n",
      " gate gradients: [0, 0, 0, 0]\n",
      "8/8 [==============================] - 0s 16ms/step - loss: 1.1140 - accuracy: 0.3333\n",
      "Epoch 8/30\n",
      "\n",
      " gate gradients: [0, 0, 0, 0]\n",
      "1/8 [==>...........................] - ETA: 0s - loss: 1.0989 - accuracy: 0.2667\n",
      " gate gradients: [0, 0, 0, 0]\n",
      "\n",
      " gate gradients: [0, 0, 0, 0]\n",
      "\n",
      " gate gradients: [0, 0, 0, 0]\n",
      "4/8 [==============>...............] - ETA: 0s - loss: 1.1120 - accuracy: 0.2500\n",
      " gate gradients: [0, 0, 0, 0]\n",
      "\n",
      " gate gradients: [0, 0, 0, 0]\n",
      "\n",
      " gate gradients: [0, 0, 0, 0]\n",
      "\n",
      " gate gradients: [0, 0, 0, 0]\n",
      "8/8 [==============================] - 0s 16ms/step - loss: 1.1130 - accuracy: 0.2917\n",
      "Epoch 9/30\n",
      "\n",
      " gate gradients: [0, 0, 0, 0]\n",
      "1/8 [==>...........................] - ETA: 0s - loss: 1.1089 - accuracy: 0.4000\n",
      " gate gradients: [0, 0, 0, 0]\n",
      "\n",
      " gate gradients: [0, 0, 0, 0]\n",
      "\n",
      " gate gradients: [0, 0, 0, 0]\n",
      "4/8 [==============>...............] - ETA: 0s - loss: 1.1231 - accuracy: 0.3500\n",
      " gate gradients: [0, 0, 0, 0]\n",
      "\n",
      " gate gradients: [0, 0, 0, 0]\n",
      "\n",
      " gate gradients: [0, 0, 0, 0]\n",
      "\n",
      " gate gradients: [0, 0, 0, 0]\n",
      "8/8 [==============================] - 0s 15ms/step - loss: 1.1275 - accuracy: 0.2917\n",
      "Epoch 10/30\n",
      "\n",
      " gate gradients: [0, 0, 0, 0]\n",
      "1/8 [==>...........................] - ETA: 0s - loss: 1.1412 - accuracy: 0.2000\n",
      " gate gradients: [0, 0, 0, 0]\n",
      "\n",
      " gate gradients: [0, 0, 0, 0]\n",
      "\n",
      " gate gradients: [0, 0, 0, 0]\n",
      "\n",
      " gate gradients: [0, 0, 0, 0]\n",
      "5/8 [=================>............] - ETA: 0s - loss: 1.1087 - accuracy: 0.3467\n",
      " gate gradients: [0, 0, 0, 0]\n",
      "\n",
      " gate gradients: [0, 0, 0, 0]\n",
      "\n",
      " gate gradients: [0, 0, 0, 0]\n",
      "8/8 [==============================] - 0s 15ms/step - loss: 1.1194 - accuracy: 0.3333\n",
      "Epoch 11/30\n",
      "\n",
      " gate gradients: [0, 0, 0, 0]\n",
      "1/8 [==>...........................] - ETA: 0s - loss: 1.1036 - accuracy: 0.2667\n",
      " gate gradients: [0, 0, 0, 0]\n",
      "\n",
      " gate gradients: [0, 0, 0, 0]\n",
      "\n",
      " gate gradients: [0, 0, 0, 0]\n",
      "\n",
      " gate gradients: [0, 0, 0, 0]\n",
      "\n",
      " gate gradients: [0, 0, 0, 0]\n",
      "6/8 [=====================>........] - ETA: 0s - loss: 1.1057 - accuracy: 0.3111\n",
      " gate gradients: [0, 0, 0, 0]\n",
      "\n",
      " gate gradients: [0, 0, 0, 0]\n",
      "8/8 [==============================] - 0s 12ms/step - loss: 1.1087 - accuracy: 0.3250\n",
      "Epoch 12/30\n",
      "\n",
      " gate gradients: [0, 0, 0, 0]\n",
      "1/8 [==>...........................] - ETA: 0s - loss: 1.1252 - accuracy: 0.2667\n",
      " gate gradients: [0, 0, 0, 0]\n",
      "\n",
      " gate gradients: [0, 0, 0, 0]\n",
      "\n",
      " gate gradients: [0, 0, 0, 0]\n",
      "\n",
      " gate gradients: [0, 0, 0, 0]\n",
      "5/8 [=================>............] - ETA: 0s - loss: 1.1145 - accuracy: 0.3333\n",
      " gate gradients: [0, 0, 0, 0]\n",
      "\n",
      " gate gradients: [0, 0, 0, 0]\n",
      "\n",
      " gate gradients: [0, 0, 0, 0]\n",
      "8/8 [==============================] - 0s 13ms/step - loss: 1.1125 - accuracy: 0.3167\n",
      "Epoch 13/30\n",
      "\n",
      " gate gradients: [0, 0, 0, 0]\n",
      "1/8 [==>...........................] - ETA: 0s - loss: 1.1223 - accuracy: 0.2667\n",
      " gate gradients: [0, 0, 0, 0]\n",
      "\n",
      " gate gradients: [0, 0, 0, 0]\n",
      "\n",
      " gate gradients: [0, 0, 0, 0]\n",
      "\n",
      " gate gradients: [0, 0, 0, 0]\n",
      "5/8 [=================>............] - ETA: 0s - loss: 1.1127 - accuracy: 0.3333\n",
      " gate gradients: [0, 0, 0, 0]\n",
      "\n",
      " gate gradients: [0, 0, 0, 0]\n",
      "\n",
      " gate gradients: [0, 0, 0, 0]\n",
      "8/8 [==============================] - 0s 13ms/step - loss: 1.1102 - accuracy: 0.3500\n",
      "Epoch 14/30\n",
      "\n",
      " gate gradients: [0, 0, 0, 0]\n",
      "1/8 [==>...........................] - ETA: 0s - loss: 1.1135 - accuracy: 0.2667\n",
      " gate gradients: [0, 0, 0, 0]\n",
      "\n",
      " gate gradients: [0, 0, 0, 0]\n",
      "\n",
      " gate gradients: [0, 0, 0, 0]\n",
      "\n",
      " gate gradients: [0, 0, 0, 0]\n",
      "5/8 [=================>............] - ETA: 0s - loss: 1.1078 - accuracy: 0.2800\n",
      " gate gradients: [0, 0, 0, 0]\n",
      "\n",
      " gate gradients: [0, 0, 0, 0]\n",
      "\n",
      " gate gradients: [0, 0, 0, 0]\n",
      "8/8 [==============================] - 0s 13ms/step - loss: 1.1067 - accuracy: 0.2917\n",
      "Epoch 15/30\n",
      "\n",
      " gate gradients: [0, 0, 0, 0]\n",
      "1/8 [==>...........................] - ETA: 0s - loss: 1.1281 - accuracy: 0.3333\n",
      " gate gradients: [0, 0, 0, 0]\n",
      "\n",
      " gate gradients: [0, 0, 0, 0]\n",
      "\n",
      " gate gradients: [0, 0, 0, 0]\n",
      "\n",
      " gate gradients: [0, 0, 0, 0]\n",
      "5/8 [=================>............] - ETA: 0s - loss: 1.1190 - accuracy: 0.2933\n",
      " gate gradients: [0, 0, 0, 0]\n",
      "\n",
      " gate gradients: [0, 0, 0, 0]\n",
      "\n",
      " gate gradients: [0, 0, 0, 0]\n",
      "8/8 [==============================] - 0s 13ms/step - loss: 1.1064 - accuracy: 0.3167\n",
      "Epoch 16/30\n",
      "\n",
      " gate gradients: [0, 0, 0, 0]\n",
      "1/8 [==>...........................] - ETA: 0s - loss: 1.0755 - accuracy: 0.3333\n",
      " gate gradients: [0, 0, 0, 0]\n",
      "\n",
      " gate gradients: [0, 0, 0, 0]\n",
      "\n",
      " gate gradients: [0, 0, 0, 0]\n",
      "\n",
      " gate gradients: [0, 0, 0, 0]\n",
      "5/8 [=================>............] - ETA: 0s - loss: 1.1057 - accuracy: 0.3067\n",
      " gate gradients: [0, 0, 0, 0]\n",
      "\n",
      " gate gradients: [0, 0, 0, 0]\n",
      "\n",
      " gate gradients: [0, 0, 0, 0]\n",
      "8/8 [==============================] - 0s 15ms/step - loss: 1.1041 - accuracy: 0.3083\n",
      "Epoch 17/30\n",
      "\n",
      " gate gradients: [0, 0, 0, 0]\n",
      "1/8 [==>...........................] - ETA: 0s - loss: 1.0213 - accuracy: 0.5333\n",
      " gate gradients: [0, 0, 0, 0]\n",
      "\n",
      " gate gradients: [0, 0, 0, 0]\n",
      "\n",
      " gate gradients: [0, 0, 0, 0]\n",
      "\n",
      " gate gradients: [0, 0, 0, 0]\n",
      "5/8 [=================>............] - ETA: 0s - loss: 1.0822 - accuracy: 0.4267\n",
      " gate gradients: [0, 0, 0, 0]\n",
      "\n",
      " gate gradients: [0, 0, 0, 0]\n",
      "\n",
      " gate gradients: [0, 0, 0, 0]\n",
      "8/8 [==============================] - 0s 16ms/step - loss: 1.0952 - accuracy: 0.3917\n",
      "Epoch 18/30\n",
      "\n",
      " gate gradients: [0, 0, 0, 0]\n",
      "1/8 [==>...........................] - ETA: 0s - loss: 1.0481 - accuracy: 0.4667\n",
      " gate gradients: [0, 0, 0, 0]\n",
      "\n",
      " gate gradients: [0, 0, 0, 0]\n",
      "\n",
      " gate gradients: [0, 0, 0, 0]\n",
      "\n",
      " gate gradients: [0, 0, 0, 0]\n",
      "5/8 [=================>............] - ETA: 0s - loss: 1.1177 - accuracy: 0.2933\n",
      " gate gradients: [0, 0, 0, 0]\n",
      "\n",
      " gate gradients: [0, 0, 0, 0]\n",
      "\n",
      " gate gradients: [0, 0, 0, 0]\n",
      "8/8 [==============================] - 0s 15ms/step - loss: 1.1100 - accuracy: 0.3250\n",
      "Epoch 19/30\n",
      "\n",
      " gate gradients: [0, 0, 0, 0]\n",
      "1/8 [==>...........................] - ETA: 0s - loss: 1.1028 - accuracy: 0.4000\n",
      " gate gradients: [0, 0, 0, 0]\n",
      "\n",
      " gate gradients: [0, 0, 0, 0]\n",
      "\n",
      " gate gradients: [0, 0, 0, 0]\n",
      "\n",
      " gate gradients: [0, 0, 0, 0]\n",
      "5/8 [=================>............] - ETA: 0s - loss: 1.1081 - accuracy: 0.3733\n",
      " gate gradients: [0, 0, 0, 0]\n",
      "\n",
      " gate gradients: [0, 0, 0, 0]\n",
      "\n",
      " gate gradients: [0, 0, 0, 0]\n",
      "8/8 [==============================] - 0s 13ms/step - loss: 1.1222 - accuracy: 0.3083\n",
      "Epoch 20/30\n",
      "\n",
      " gate gradients: [0, 0, 0, 0]\n",
      "1/8 [==>...........................] - ETA: 0s - loss: 1.0873 - accuracy: 0.2667\n",
      " gate gradients: [0, 0, 0, 0]\n",
      "\n",
      " gate gradients: [0, 0, 0, 0]\n",
      "\n",
      " gate gradients: [0, 0, 0, 0]\n",
      "\n",
      " gate gradients: [0, 0, 0, 0]\n",
      "5/8 [=================>............] - ETA: 0s - loss: 1.0985 - accuracy: 0.3467\n",
      " gate gradients: [0, 0, 0, 0]\n",
      "\n",
      " gate gradients: [0, 0, 0, 0]\n",
      "\n",
      " gate gradients: [0, 0, 0, 0]\n",
      "8/8 [==============================] - 0s 13ms/step - loss: 1.0999 - accuracy: 0.3417\n",
      "Epoch 21/30\n",
      "\n",
      " gate gradients: [0, 0, 0, 0]\n",
      "1/8 [==>...........................] - ETA: 0s - loss: 1.1029 - accuracy: 0.3333\n",
      " gate gradients: [0, 0, 0, 0]\n",
      "\n",
      " gate gradients: [0, 0, 0, 0]\n",
      "\n",
      " gate gradients: [0, 0, 0, 0]\n",
      "\n",
      " gate gradients: [0, 0, 0, 0]\n",
      "5/8 [=================>............] - ETA: 0s - loss: 1.0993 - accuracy: 0.3733\n",
      " gate gradients: [0, 0, 0, 0]\n",
      "\n",
      " gate gradients: [0, 0, 0, 0]\n",
      "\n",
      " gate gradients: [0, 0, 0, 0]\n",
      "8/8 [==============================] - 0s 13ms/step - loss: 1.0917 - accuracy: 0.3917\n",
      "Epoch 22/30\n",
      "\n",
      " gate gradients: [0, 0, 0, 0]\n",
      "1/8 [==>...........................] - ETA: 0s - loss: 1.0944 - accuracy: 0.3333\n",
      " gate gradients: [0, 0, 0, 0]\n",
      "\n",
      " gate gradients: [0, 0, 0, 0]\n",
      "\n",
      " gate gradients: [0, 0, 0, 0]\n",
      "\n",
      " gate gradients: [0, 0, 0, 0]\n",
      "5/8 [=================>............] - ETA: 0s - loss: 1.0905 - accuracy: 0.3200\n",
      " gate gradients: [0, 0, 0, 0]\n",
      "\n",
      " gate gradients: [0, 0, 0, 0]\n",
      "\n",
      " gate gradients: [0, 0, 0, 0]\n",
      "8/8 [==============================] - 0s 13ms/step - loss: 1.0848 - accuracy: 0.3417\n",
      "Epoch 23/30\n",
      "\n",
      " gate gradients: [0, 0, 0, 0]\n",
      "1/8 [==>...........................] - ETA: 0s - loss: 1.0995 - accuracy: 0.3333\n",
      " gate gradients: [0, 0, 0, 0]\n",
      "\n",
      " gate gradients: [0, 0, 0, 0]\n",
      "\n",
      " gate gradients: [0, 0, 0, 0]\n",
      "\n",
      " gate gradients: [0, 0, 0, 0]\n",
      "5/8 [=================>............] - ETA: 0s - loss: 1.1079 - accuracy: 0.3200\n",
      " gate gradients: [0, 0, 0, 0]\n",
      "\n",
      " gate gradients: [0, 0, 0, 0]\n",
      "\n",
      " gate gradients: [0, 0, 0, 0]\n",
      "8/8 [==============================] - 0s 14ms/step - loss: 1.0981 - accuracy: 0.2917\n",
      "Epoch 24/30\n",
      "\n",
      " gate gradients: [0, 0, 0, 0]\n",
      "1/8 [==>...........................] - ETA: 0s - loss: 1.0884 - accuracy: 0.4000\n",
      " gate gradients: [0, 0, 0, 0]\n",
      "\n",
      " gate gradients: [0, 0, 0, 0]\n",
      "\n",
      " gate gradients: [0, 0, 0, 0]\n",
      "\n",
      " gate gradients: [0, 0, 0, 0]\n",
      "5/8 [=================>............] - ETA: 0s - loss: 1.0812 - accuracy: 0.3467\n",
      " gate gradients: [0, 0, 0, 0]\n",
      "\n",
      " gate gradients: [0, 0, 0, 0]\n",
      "\n",
      " gate gradients: [0, 0, 0, 0]\n",
      "8/8 [==============================] - 0s 14ms/step - loss: 1.0718 - accuracy: 0.3333\n",
      "Epoch 25/30\n",
      "\n",
      " gate gradients: [0, 0, 0, 0]\n",
      "1/8 [==>...........................] - ETA: 0s - loss: 1.0125 - accuracy: 0.6000\n",
      " gate gradients: [0, 0, 0, 0]\n",
      "\n",
      " gate gradients: [0, 0, 0, 0]\n",
      "\n",
      " gate gradients: [0, 0, 0, 0]\n",
      "\n",
      " gate gradients: [0, 0, 0, 0]\n",
      "5/8 [=================>............] - ETA: 0s - loss: 1.0963 - accuracy: 0.3733\n",
      " gate gradients: [0, 0, 0, 0]\n",
      "\n",
      " gate gradients: [0, 0, 0, 0]\n",
      "\n",
      " gate gradients: [0, 0, 0, 0]\n",
      "8/8 [==============================] - 0s 14ms/step - loss: 1.0927 - accuracy: 0.3333\n",
      "Epoch 26/30\n",
      "\n",
      " gate gradients: [0, 0, 0, 0]\n",
      "1/8 [==>...........................] - ETA: 0s - loss: 1.0423 - accuracy: 0.4000\n",
      " gate gradients: [0, 0, 0, 0]\n",
      "\n",
      " gate gradients: [0, 0, 0, 0]\n",
      "\n",
      " gate gradients: [0, 0, 0, 0]\n",
      "4/8 [==============>...............] - ETA: 0s - loss: 1.0804 - accuracy: 0.3000\n",
      " gate gradients: [0, 0, 0, 0]\n",
      "\n",
      " gate gradients: [0, 0, 0, 0]\n",
      "\n",
      " gate gradients: [0, 0, 0, 0]\n",
      "\n",
      " gate gradients: [0, 0, 0, 0]\n",
      "8/8 [==============================] - 0s 15ms/step - loss: 1.1224 - accuracy: 0.2667\n",
      "Epoch 27/30\n",
      "\n",
      " gate gradients: [0, 0, 0, 0]\n",
      "1/8 [==>...........................] - ETA: 0s - loss: 1.0930 - accuracy: 0.1333\n",
      " gate gradients: [0, 0, 0, 0]\n",
      "\n",
      " gate gradients: [0, 0, 0, 0]\n",
      "\n",
      " gate gradients: [0, 0, 0, 0]\n",
      "\n",
      " gate gradients: [0, 0, 0, 0]\n",
      "5/8 [=================>............] - ETA: 0s - loss: 1.0864 - accuracy: 0.3333\n",
      " gate gradients: [0, 0, 0, 0]\n",
      "\n",
      " gate gradients: [0, 0, 0, 0]\n",
      "\n",
      " gate gradients: [0, 0, 0, 0]\n",
      "8/8 [==============================] - 0s 15ms/step - loss: 1.1045 - accuracy: 0.2917\n",
      "Epoch 28/30\n",
      "\n",
      " gate gradients: [0, 0, 0, 0]\n",
      "1/8 [==>...........................] - ETA: 0s - loss: 1.0936 - accuracy: 0.4667\n",
      " gate gradients: [0, 0, 0, 0]\n",
      "\n",
      " gate gradients: [0, 0, 0, 0]\n",
      "\n",
      " gate gradients: [0, 0, 0, 0]\n",
      "4/8 [==============>...............] - ETA: 0s - loss: 1.1107 - accuracy: 0.3333\n",
      " gate gradients: [0, 0, 0, 0]\n",
      "\n",
      " gate gradients: [0, 0, 0, 0]\n",
      "\n",
      " gate gradients: [0, 0, 0, 0]\n",
      "\n",
      " gate gradients: [0, 0, 0, 0]\n",
      "8/8 [==============================] - 0s 16ms/step - loss: 1.1090 - accuracy: 0.3000\n",
      "Epoch 29/30\n",
      "\n",
      " gate gradients: [0, 0, 0, 0]\n",
      "1/8 [==>...........................] - ETA: 0s - loss: 1.0895 - accuracy: 0.4000\n",
      " gate gradients: [0, 0, 0, 0]\n",
      "\n",
      " gate gradients: [0, 0, 0, 0]\n",
      "\n",
      " gate gradients: [0, 0, 0, 0]\n",
      "4/8 [==============>...............] - ETA: 0s - loss: 1.1053 - accuracy: 0.3167\n",
      " gate gradients: [0, 0, 0, 0]\n",
      "\n",
      " gate gradients: [0, 0, 0, 0]\n",
      "\n",
      " gate gradients: [0, 0, 0, 0]\n",
      "\n",
      " gate gradients: [0, 0, 0, 0]\n",
      "8/8 [==============================] - 0s 15ms/step - loss: 1.1049 - accuracy: 0.3167\n",
      "Epoch 30/30\n",
      "\n",
      " gate gradients: [0, 0, 0, 0]\n",
      "1/8 [==>...........................] - ETA: 0s - loss: 1.1003 - accuracy: 0.4000\n",
      " gate gradients: [0, 0, 0, 0]\n",
      "\n",
      " gate gradients: [0, 0, 0, 0]\n",
      "\n",
      " gate gradients: [0, 0, 0, 0]\n",
      "\n",
      " gate gradients: [0, 0, 0, 0]\n",
      "5/8 [=================>............] - ETA: 0s - loss: 1.0936 - accuracy: 0.3600\n",
      " gate gradients: [0, 0, 0, 0]\n",
      "\n",
      " gate gradients: [0, 0, 0, 0]\n",
      "\n",
      " gate gradients: [0, 0, 0, 0]\n",
      "8/8 [==============================] - 0s 14ms/step - loss: 1.0977 - accuracy: 0.3500\n"
     ]
    },
    {
     "data": {
      "image/png": "[encoded data removed]",
      "text/plain": [
       "<Figure size 432x288 with 1 Axes>"
      ]
     },
     "metadata": {
      "needs_background": "light"
     },
     "output_type": "display_data"
    },
    {
     "data": {
      "image/png": "[encoded data removed]",
      "text/plain": [
       "<Figure size 432x288 with 1 Axes>"
      ]
     },
     "metadata": {
      "needs_background": "light"
     },
     "output_type": "display_data"
    },
    {
     "data": {
      "text/plain": [
       "<tensorflow.python.keras.callbacks.History at 0x1426118d0>"
      ]
     },
     "execution_count": 89,
     "metadata": {},
     "output_type": "execute_result"
    }
   ],
   "source": [
    "selector_model.fit(x_train, y_train_onehot, epochs=30, batch_size=batch_size, shuffle=True, callbacks=[analysis_cb])"
   ]
  },
  {
   "cell_type": "code",
   "execution_count": 90,
   "metadata": {},
   "outputs": [
    {
     "data": {
      "text/plain": [
       "array([[0.4553249 , 0.27840206, 0.266273  ],\n",
       "       [0.4472153 , 0.28327906, 0.26950556],\n",
       "       [0.45905435, 0.27722865, 0.26371694],\n",
       "       [0.44567987, 0.2819446 , 0.27237555],\n",
       "       [0.36940053, 0.309105  , 0.32149434],\n",
       "       [0.33618373, 0.33792207, 0.3258941 ],\n",
       "       [0.33644146, 0.33794904, 0.32560945],\n",
       "       [0.33640164, 0.33786625, 0.32573196],\n",
       "       [0.33629075, 0.33791882, 0.32579038],\n",
       "       [0.3368479 , 0.33788076, 0.3252713 ],\n",
       "       [0.31841072, 0.32915884, 0.35243034],\n",
       "       [0.31803787, 0.32816845, 0.35379362],\n",
       "       [0.3174948 , 0.32868946, 0.35381562],\n",
       "       [0.31790552, 0.32821986, 0.3538745 ],\n",
       "       [0.3135901 , 0.32217172, 0.36423802],\n",
       "       [0.3696612 , 0.30884305, 0.32149562],\n",
       "       [0.3750176 , 0.30846578, 0.3165165 ],\n",
       "       [0.35625792, 0.30574405, 0.33799794],\n",
       "       [0.3469077 , 0.30607724, 0.347015  ],\n",
       "       [0.35350114, 0.30734304, 0.33915576],\n",
       "       [0.33681518, 0.33786628, 0.32531846],\n",
       "       [0.3365052 , 0.33777162, 0.32572305],\n",
       "       [0.3374418 , 0.33811796, 0.32444018],\n",
       "       [0.33739898, 0.33810312, 0.32449788],\n",
       "       [0.33726302, 0.3380495 , 0.32468742],\n",
       "       [0.31261557, 0.3218262 , 0.3655582 ],\n",
       "       [0.31651232, 0.3236433 , 0.35984433],\n",
       "       [0.30753282, 0.3197418 , 0.37272528],\n",
       "       [0.30648878, 0.3189451 , 0.37456605],\n",
       "       [0.30832025, 0.3197333 , 0.37194645]], dtype=float32)"
      ]
     },
     "execution_count": 90,
     "metadata": {},
     "output_type": "execute_result"
    }
   ],
   "source": [
    "pred = selector_model.predict(x_test, batch_size=batch_size)\n",
    "pred"
   ]
  },
  {
   "cell_type": "code",
   "execution_count": 91,
   "metadata": {},
   "outputs": [
    {
     "data": {
      "text/plain": [
       "array([0, 0, 0, 0, 0, 1, 1, 1, 1, 1, 2, 2, 2, 2, 2, 0, 0, 0, 2, 0, 1, 1,\n",
       "       1, 1, 1, 2, 2, 2, 2, 2])"
      ]
     },
     "execution_count": 91,
     "metadata": {},
     "output_type": "execute_result"
    }
   ],
   "source": [
    "pred = np.asarray([np.argmax(pred[i]) for i in range(len(pred))])\n",
    "pred"
   ]
  },
  {
   "cell_type": "code",
   "execution_count": 92,
   "metadata": {},
   "outputs": [
    {
     "data": {
      "image/png": "[encoded data removed]",
      "text/plain": [
       "<Figure size 432x288 with 1 Axes>"
      ]
     },
     "metadata": {
      "needs_background": "light"
     },
     "output_type": "display_data"
    },
    {
     "data": {
      "image/png": "[encoded data removed]",
      "text/plain": [
       "<Figure size 432x288 with 1 Axes>"
      ]
     },
     "metadata": {
      "needs_background": "light"
     },
     "output_type": "display_data"
    }
   ],
   "source": [
    "# PCA projection of actual and predicted targets with MOE\n",
    "from mpl_toolkits.mplot3d import Axes3D\n",
    "from sklearn import decomposition\n",
    "\n",
    "pca = decomposition.PCA(n_components=2)\n",
    "coord = pca.fit_transform(x_test)\n",
    "\n",
    "markers = ['o','*','+']\n",
    "colors0 = ['g', 'r', 'b']\n",
    "colors1 = ['tab:cyan', 'tab:brown', 'tab:orange']\n",
    "for i in range(3):\n",
    "    plt.scatter(coord[y_test == i,0], coord[y_test == i, 1],color=colors0[i], marker=markers[i])\n",
    "plt.title('Desired Output')\n",
    "plt.show()\n",
    "for i in range(3):\n",
    "    plt.scatter(coord[pred == i,0], coord[pred == i, 1],color=colors1[i], marker=markers[i])\n",
    "plt.title('Predicted Output')\n",
    "plt.show()"
   ]
  },
  {
   "cell_type": "code",
   "execution_count": null,
   "metadata": {},
   "outputs": [],
   "source": []
  }
 ],
 "metadata": {
  "kernelspec": {
   "display_name": "Python (tf_latest)",
   "language": "python",
   "name": "tf_latest"
  },
  "language_info": {
   "codemirror_mode": {
    "name": "ipython",
    "version": 3
   },
   "file_extension": ".py",
   "mimetype": "text/x-python",
   "name": "python",
   "nbconvert_exporter": "python",
   "pygments_lexer": "ipython3",
   "version": "3.7.6"
  }
 },
 "nbformat": 4,
 "nbformat_minor": 4
}
