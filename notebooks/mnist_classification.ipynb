{
 "cells": [
  {
   "cell_type": "markdown",
   "metadata": {},
   "source": [
    "# Experiments for MNIST Dataset"
   ]
  },
  {
   "cell_type": "code",
   "execution_count": 1,
   "metadata": {},
   "outputs": [],
   "source": [
    "import time\n",
    "import numpy as np\n",
    "import matplotlib.pyplot as plt\n",
    "from matplotlib.ticker import FormatStrFormatter\n",
    "import matplotlib.cm as cm  # colormaps\n",
    "\n",
    "%matplotlib inline"
   ]
  },
  {
   "cell_type": "code",
   "execution_count": 2,
   "metadata": {},
   "outputs": [],
   "source": [
    "import seaborn as sns\n",
    "import numpy as np\n",
    "from statistics import mean\n",
    "from math import ceil, sin, cos, radians\n",
    "from collections import OrderedDict\n",
    "import os\n",
    "import pandas as pd\n",
    "from pprint import pprint\n",
    "from copy import deepcopy"
   ]
  },
  {
   "cell_type": "code",
   "execution_count": 3,
   "metadata": {},
   "outputs": [],
   "source": [
    "import torch\n",
    "import torchvision\n",
    "import torch.nn as nn\n",
    "import torch.nn.functional as F\n",
    "import torch.optim as optim"
   ]
  },
  {
   "cell_type": "code",
   "execution_count": 4,
   "metadata": {},
   "outputs": [
    {
     "name": "stdout",
     "output_type": "stream",
     "text": [
      "device cuda:0\n"
     ]
    }
   ],
   "source": [
    "if torch.cuda.is_available():\n",
    "    device = torch.device(\"cuda:0\")\n",
    "    print('device', device)\n",
    "else:\n",
    "    device = torch.device(\"cpu\")\n",
    "    print('device', device)"
   ]
  },
  {
   "cell_type": "code",
   "execution_count": 6,
   "metadata": {},
   "outputs": [
    {
     "name": "stdout",
     "output_type": "stream",
     "text": [
      "device cuda:0\n",
      "device cuda:0\n"
     ]
    }
   ],
   "source": [
    "# import MoE expectation model. All experiments for this dataset are done with the expectation model as it\n",
    "# provides the best guarantee of interpretable task decompositions\n",
    "from moe_models.moe_expectation_model import moe_expectation_model\n",
    "from helper.moe_models import cross_entropy_loss"
   ]
  },
  {
   "cell_type": "markdown",
   "metadata": {},
   "source": [
    "### NOTE: Pre-trained models are provided to check the results of all the experiments if you do not have the time to train all the models. "
   ]
  },
  {
   "cell_type": "markdown",
   "metadata": {},
   "source": [
    "## Load MNIST dataset"
   ]
  },
  {
   "cell_type": "code",
   "execution_count": 7,
   "metadata": {},
   "outputs": [],
   "source": [
    "# Paths to where the trained models and figures will be stored. You can change this as you see fit.\n",
    "fig_path = '../figures/test'\n",
    "model_path = '../models/test'\n",
    "pre_trained_model_path = 'nips2021/models/pre_trained'\n",
    "\n",
    "if not os.path.exists(fig_path):\n",
    "    os.mkdir(fig_path)\n",
    "if not os.path.exists(model_path):\n",
    "    os.mkdir(model_path)"
   ]
  },
  {
   "cell_type": "code",
   "execution_count": 8,
   "metadata": {},
   "outputs": [],
   "source": [
    "import torchvision.transforms as transforms\n",
    "\n",
    "# transforms: Convert PIL image to tensors and normalize\n",
    "transform = transforms.Compose(\n",
    "    [transforms.ToTensor(),\n",
    "    transforms.Normalize((0.5,), (0.5,))])"
   ]
  },
  {
   "cell_type": "code",
   "execution_count": 9,
   "metadata": {},
   "outputs": [],
   "source": [
    "# Set train and test size\n",
    "trainsize = 10048\n",
    "testsize = 2000"
   ]
  },
  {
   "cell_type": "code",
   "execution_count": 10,
   "metadata": {},
   "outputs": [
    {
     "name": "stdout",
     "output_type": "stream",
     "text": [
      "Downloading http://yann.lecun.com/exdb/mnist/train-images-idx3-ubyte.gz to ./data/MNIST/raw/train-images-idx3-ubyte.gz\n"
     ]
    },
    {
     "name": "stderr",
     "output_type": "stream",
     "text": [
      "100.1%"
     ]
    },
    {
     "name": "stdout",
     "output_type": "stream",
     "text": [
      "Extracting ./data/MNIST/raw/train-images-idx3-ubyte.gz to ./data/MNIST/raw\n"
     ]
    },
    {
     "name": "stderr",
     "output_type": "stream",
     "text": [
      "113.5%"
     ]
    },
    {
     "name": "stdout",
     "output_type": "stream",
     "text": [
      "Downloading http://yann.lecun.com/exdb/mnist/train-labels-idx1-ubyte.gz to ./data/MNIST/raw/train-labels-idx1-ubyte.gz\n"
     ]
    },
    {
     "name": "stderr",
     "output_type": "stream",
     "text": [
      "85.5%"
     ]
    },
    {
     "name": "stdout",
     "output_type": "stream",
     "text": [
      "Extracting ./data/MNIST/raw/train-labels-idx1-ubyte.gz to ./data/MNIST/raw\n",
      "Downloading http://yann.lecun.com/exdb/mnist/t10k-images-idx3-ubyte.gz to ./data/MNIST/raw/t10k-images-idx3-ubyte.gz\n"
     ]
    },
    {
     "name": "stderr",
     "output_type": "stream",
     "text": [
      "100.4%"
     ]
    },
    {
     "name": "stdout",
     "output_type": "stream",
     "text": [
      "Extracting ./data/MNIST/raw/t10k-images-idx3-ubyte.gz to ./data/MNIST/raw\n",
      "Downloading http://yann.lecun.com/exdb/mnist/t10k-labels-idx1-ubyte.gz to ./data/MNIST/raw/t10k-labels-idx1-ubyte.gz\n"
     ]
    },
    {
     "name": "stderr",
     "output_type": "stream",
     "text": [
      "180.4%"
     ]
    },
    {
     "name": "stdout",
     "output_type": "stream",
     "text": [
      "Extracting ./data/MNIST/raw/t10k-labels-idx1-ubyte.gz to ./data/MNIST/raw\n",
      "Processing...\n",
      "Done!\n",
      "Image shape torch.Size([1, 28, 28])\n",
      "Train samples  60000\n",
      "Test samples  10000\n"
     ]
    },
    {
     "name": "stderr",
     "output_type": "stream",
     "text": [
      "/home/local/peac004/modular_deep_learning/mnn/lib/python3.7/site-packages/torchvision/datasets/mnist.py:469: UserWarning: The given NumPy array is not writeable, and PyTorch does not support non-writeable tensors. This means you can write to the underlying (supposedly non-writeable) NumPy array using the tensor. You may want to copy the array to protect its data or make it writeable before converting it to a tensor. This type of warning will be suppressed for the rest of this program. (Triggered internally at  /pytorch/torch/csrc/utils/tensor_numpy.cpp:141.)\n",
      "  return torch.from_numpy(parsed.astype(m[2], copy=False)).view(*s)\n"
     ]
    }
   ],
   "source": [
    "# Load and split data as train and test\n",
    "trainset = torchvision.datasets.MNIST('./data',\n",
    "    download=True,\n",
    "    train=True,\n",
    "    transform=transform)\n",
    "testset = torchvision.datasets.MNIST('./data',\n",
    "    download=True,\n",
    "    train=False,\n",
    "    transform=transform)\n",
    "\n",
    "batch_size = 64\n",
    "# dataloaders\n",
    "trainloader = torch.utils.data.DataLoader(torch.utils.data.Subset(trainset, range(0,trainsize)), \n",
    "                                          batch_size=batch_size,\n",
    "                                          shuffle=True)\n",
    "testloader = torch.utils.data.DataLoader(torch.utils.data.Subset(testset, range(0,testsize)),\n",
    "                                         batch_size=2000,\n",
    "                                         shuffle=False)\n",
    "num_classes = 10\n",
    "\n",
    "image, label = trainset.__getitem__(0)\n",
    "print('Image shape', image.shape)\n",
    "print('Train samples ', len(trainset))\n",
    "print('Test samples ', len(testset))"
   ]
  },
  {
   "cell_type": "code",
   "execution_count": 11,
   "metadata": {},
   "outputs": [],
   "source": [
    "# helper function to show an image\n",
    "# (used in the `plot_classes_preds` function below)\n",
    "def imshow(img, one_channel=False):\n",
    "    if one_channel:\n",
    "        img = img.mean(dim=0)\n",
    "    img = img / 2 + 0.5     # unnormalize\n",
    "    npimg = img.cpu().numpy()\n",
    "    if one_channel:\n",
    "        plt.imshow(npimg, cmap=\"Greys\")\n",
    "    else:\n",
    "        plt.imshow(np.transpose(npimg, (1, 2, 0)))"
   ]
  },
  {
   "cell_type": "code",
   "execution_count": 12,
   "metadata": {},
   "outputs": [
    {
     "name": "stdout",
     "output_type": "stream",
     "text": [
      "Data samples\n"
     ]
    },
    {
     "data": {
      "image/png": "[encoded data removed]",
      "text/plain": [
       "<Figure size 432x288 with 1 Axes>"
      ]
     },
     "metadata": {
      "needs_background": "light"
     },
     "output_type": "display_data"
    }
   ],
   "source": [
    "# get some random training images\n",
    "dataiter = iter(trainloader)\n",
    "images, labels = dataiter.next()\n",
    "# create grid of images\n",
    "img_grid = torchvision.utils.make_grid(images)\n",
    "\n",
    "print('Data samples')\n",
    "# show images\n",
    "imshow(img_grid, one_channel=True)\n"
   ]
  },
  {
   "cell_type": "markdown",
   "metadata": {},
   "source": [
    "## Define expert and gate networks"
   ]
  },
  {
   "cell_type": "code",
   "execution_count": 13,
   "metadata": {},
   "outputs": [],
   "source": [
    "# Convolutional network with one convultional layer and 2 hidden layers with ReLU activation\n",
    "class expert_layers(nn.Module):\n",
    "    def __init__(self, masks, num_classes, output):\n",
    "        super(expert_layers, self).__init__()\n",
    "        self.conv1 = nn.Conv2d(in_channels=1, out_channels=1, kernel_size=5)\n",
    "        self.fc1 = nn.Linear(in_features=1*12*12, out_features=5) # this is a pure linear transform\n",
    "        self.fc2 = nn.Linear(in_features=5, out_features=10) # this is a pure linear transform\n",
    "        \n",
    "        self.out = nn.Linear(in_features=10, out_features=num_classes)\n",
    "        \n",
    "        self.num_classes = num_classes\n",
    "        self.masks = masks\n",
    "        self.output = output\n",
    "        \n",
    "    def forward(self, t):\n",
    "        # conv 1\n",
    "        t = self.conv1(t)\n",
    "        \n",
    "        t = F.relu(t)\n",
    "        t = F.max_pool2d(t, kernel_size=2, stride=2)\n",
    "        # fc1\n",
    "        t = t.reshape(-1, 1*12*12)\n",
    "        t = self.fc1(t)\n",
    "        t = F.relu(t)\n",
    "\n",
    "        # fc2\n",
    "        t = self.fc2(t)\n",
    "        t = F.relu(t)\n",
    "\n",
    "        # output\n",
    "        t = F.softmax(self.out(t), dim=1)\n",
    "        \n",
    "        if not self.masks is None:\n",
    "            mask = torch.zeros(t.shape[0],self.num_classes)\n",
    "            for m, i in zip(self.masks, range(self.output)):\n",
    "                mask[:,m] = t[:,i] \n",
    "            return mask\n",
    "        \n",
    "        return t"
   ]
  },
  {
   "cell_type": "code",
   "execution_count": 14,
   "metadata": {},
   "outputs": [],
   "source": [
    "# Convolutional network with one convultional layer and 2 hidden layers with ReLU activation\n",
    "class gate_layers(nn.Module):\n",
    "    def __init__(self, num_experts, num_classes):\n",
    "        super(gate_layers, self).__init__()\n",
    "        # define layers\n",
    "        self.conv1 = nn.Conv2d(in_channels=1, out_channels=1, kernel_size=5)\n",
    "\n",
    "        self.fc1 = nn.Linear(in_features=1*12*12, out_features=128)\n",
    "        self.fc2 = nn.Linear(in_features=128, out_features=64)\n",
    "        self.out = nn.Linear(in_features=64, out_features=num_experts)\n",
    "        self.num_experts = num_experts\n",
    "        self.num_classes = num_classes\n",
    "        self.count = 0\n",
    "\n",
    "    def forward(self, t, T=1.0, y=None):\n",
    "        # conv 1\n",
    "        t = self.conv1(t)\n",
    "        t = F.relu(t)\n",
    "        t = F.max_pool2d(t, kernel_size=2, stride=2)\n",
    "        # fc1\n",
    "        t = t.reshape(-1, 1*12*12)\n",
    "        if not y is None:\n",
    "            t = torch.cat((t, torch.flatten(y, start_dim=1)), dim=1)\n",
    "            self.fc1 = nn.Linear(in_features=1*12*12+(self.num_experts* self.num_classes), out_features=15)\n",
    "            \n",
    "        t = self.fc1(t)\n",
    "        t = F.relu(t)\n",
    "\n",
    "        # fc2\n",
    "        t = self.fc2(t)\n",
    "        t = F.relu(t)\n",
    "\n",
    "        # output\n",
    "        t = self.out(t)\n",
    "        t = F.softmax(t/T, dim=1)\n",
    "        return t\n"
   ]
  },
  {
   "cell_type": "code",
   "execution_count": 15,
   "metadata": {},
   "outputs": [],
   "source": [
    "# create a set of experts\n",
    "def experts(num_experts, masks, total_num_classes, num_classes, expert_layers_type=expert_layers):\n",
    "    models = []\n",
    "    for i in range(num_experts):\n",
    "        models.append(expert_layers_type(masks[i], total_num_classes, num_classes[i]))\n",
    "    return nn.ModuleList(models)"
   ]
  },
  {
   "cell_type": "markdown",
   "metadata": {},
   "source": [
    "## Initialize configurations and helper functions"
   ]
  },
  {
   "cell_type": "code",
   "execution_count": 16,
   "metadata": {},
   "outputs": [],
   "source": [
    "def accuracy(out, yb, mean=True):\n",
    "    preds = torch.argmax(out, dim=1).to(device, non_blocking=True)\n",
    "    if mean:\n",
    "        return (preds == yb).float().mean()\n",
    "    else:\n",
    "        return (preds == yb).float()"
   ]
  },
  {
   "cell_type": "code",
   "execution_count": 17,
   "metadata": {},
   "outputs": [],
   "source": [
    "# gate covariant shift regularization flag \n",
    "w_importance=0.0 \n",
    "\n",
    "def generate_plot_file(dataset, specific):\n",
    "    plot_file = dataset\n",
    "    if w_importance > 0:\n",
    "        plot_file += '_importance_'+str(w_importance)\n",
    "    plot_file += '_'+specific\n",
    "    \n",
    "    return plot_file"
   ]
  },
  {
   "cell_type": "code",
   "execution_count": 18,
   "metadata": {},
   "outputs": [],
   "source": [
    "def classes_per_expert_str(classes_per_expert):\n",
    "    buffer_str = ''\n",
    "    for labels in classes_per_expert:\n",
    "        buffer = \"_\".join(str(labels).replace('[','').replace(']','').replace(',','_').replace(\" \",'')).replace('_','')\n",
    "        buffer_str += buffer+'_'\n",
    "    buffer_str = buffer_str.strip('_')\n",
    "    return buffer_str"
   ]
  },
  {
   "cell_type": "markdown",
   "metadata": {},
   "source": [
    "## Experiment 1: Train MoE expectation model with un-trained experts"
   ]
  },
  {
   "cell_type": "markdown",
   "metadata": {},
   "source": [
    "### The MoE model is first trained with un-trained experts. The gate trained in this model is then used to train a new model with new experts with (a) default parameters and (b) parameters initialized to parameters of the experts that the gate was trained with. "
   ]
  },
  {
   "cell_type": "code",
   "execution_count": 19,
   "metadata": {},
   "outputs": [],
   "source": [
    "# Model with gate and expert parameters initialized to default values\n",
    "model_1 = 'mnist_scratch'\n",
    "# Model with gate parameters fixed to learnt gate parameters from model_1 and experts initialized to \n",
    "# the same initial parameters as experts from model_1 before they were trained\n",
    "model_2 = 'mnist_pretrained_gate_scratch_same_wts'\n",
    "# Model with gate parameters fixed to learnt gate parameters from model_1 and experts initialized to \n",
    "# default parameters\n",
    "model_3 = 'mnist_pretrained_gate_scratch_rand_wts'"
   ]
  },
  {
   "cell_type": "code",
   "execution_count": 20,
   "metadata": {},
   "outputs": [],
   "source": [
    "total_experts = 5"
   ]
  },
  {
   "cell_type": "code",
   "execution_count": 21,
   "metadata": {},
   "outputs": [],
   "source": [
    "num_epochs = 20"
   ]
  },
  {
   "cell_type": "code",
   "execution_count": null,
   "metadata": {},
   "outputs": [
    {
     "name": "stdout",
     "output_type": "stream",
     "text": [
      "RUN 1\n",
      "Model: moe_expectation_model 5 Experts\n",
      "Building model with un-trained experts\n",
      "model params: 31772\n",
      "epoch 0 training loss 0.83 , training accuracy 0.76 , test accuracy 0.84\n",
      "epoch 1 training loss 0.31 , training accuracy 0.92 , test accuracy 0.88\n",
      "epoch 2 training loss 0.23 , training accuracy 0.94 , test accuracy 0.91\n",
      "epoch 3 training loss 0.19 , training accuracy 0.95 , test accuracy 0.90\n",
      "epoch 4 training loss 0.17 , training accuracy 0.96 , test accuracy 0.91\n",
      "epoch 5 training loss 0.15 , training accuracy 0.96 , test accuracy 0.91\n",
      "epoch 6 training loss 0.14 , training accuracy 0.97 , test accuracy 0.90\n",
      "epoch 7 training loss 0.12 , training accuracy 0.97 , test accuracy 0.91\n",
      "epoch 8 training loss 0.12 , training accuracy 0.98 , test accuracy 0.92\n",
      "epoch 9 training loss 0.10 , training accuracy 0.98 , test accuracy 0.91\n",
      "epoch 10 training loss 0.11 , training accuracy 0.98 , test accuracy 0.91\n",
      "epoch 11 training loss 0.10 , training accuracy 0.98 , test accuracy 0.92\n",
      "epoch 12 training loss 0.09 , training accuracy 0.98 , test accuracy 0.90\n",
      "epoch 13 training loss 0.10 , training accuracy 0.98 , test accuracy 0.91\n",
      "epoch 14 training loss 0.08 , training accuracy 0.98 , test accuracy 0.92\n",
      "epoch 15 training loss 0.08 , training accuracy 0.98 , test accuracy 0.92\n",
      "epoch 16 training loss 0.08 , training accuracy 0.99 , test accuracy 0.91\n",
      "epoch 17 training loss 0.08 , training accuracy 0.99 , test accuracy 0.92\n"
     ]
    }
   ],
   "source": [
    "# Train models model_1, model_2 and model_3 for 10 runs\n",
    "n_runs = 1\n",
    "n_run_models_1 = []\n",
    "n_run_models_2 = []\n",
    "n_run_models_3 = []\n",
    "for n_run in range(1, n_runs+1):\n",
    "    print('RUN', n_run)\n",
    "    models = {\n",
    "        'moe_expectation_model':{'model':moe_expectation_model,'loss':cross_entropy_loss,'experts':{}},\n",
    "        }\n",
    "\n",
    "    models_gate_pretrained_same_wts = {\n",
    "        'moe_expectation_model':{'model':moe_expectation_model,'loss':cross_entropy_loss,'experts':{}},\n",
    "        }\n",
    "\n",
    "    models_gate_pretrained_rand_wts = {\n",
    "        'moe_expectation_model':{'model':moe_expectation_model,'loss':cross_entropy_loss,'experts':{}},\n",
    "        }\n",
    "\n",
    "    saved_experts = {}\n",
    "\n",
    "    # Build model with un-trained experts\n",
    "    for key, val in models.items():\n",
    "        print('Model:', key, total_experts, 'Experts')\n",
    "        print('Building model with un-trained experts')\n",
    "        # copy and save the expert models to save the parameters\n",
    "        expert_models_copy = experts(total_experts, [None]*total_experts, num_classes, \n",
    "                                     [num_classes]*total_experts).to(device)\n",
    "\n",
    "        # copy and save the expert models to save the parameters\n",
    "        expert_models = deepcopy(expert_models_copy)\n",
    "        saved_experts[key] = expert_models_copy\n",
    "\n",
    "        gate_model = gate_layers(total_experts, num_classes).to(device)\n",
    "\n",
    "        moe_model = val['model'](total_experts, num_classes, augment=0, attention_flag=0,\n",
    "                                 experts=expert_models, gate=gate_model)\n",
    "\n",
    "        params = [p.numel() for p in moe_model.parameters() if p.requires_grad]\n",
    "        print('model params:', sum(params))\n",
    "\n",
    "        optimizer_moe = optim.RMSprop(moe_model.parameters(),\n",
    "                                  lr=0.001, momentum=0.9)\n",
    "        hist = moe_model.train(trainloader, testloader,  val['loss'], optimizer_moe, \n",
    "                               w_ortho=1.0, accuracy=accuracy, epochs=num_epochs)\n",
    "        val['experts'][total_experts] = {'model':moe_model, 'history':hist}\n",
    "\n",
    "    n_run_models_1.append(models)\n",
    "\n",
    "    # train new experts with pre-trained gate fom model_1 above with same parameters as the \n",
    "    # experts it was trained from\n",
    "#     for key, val in models_gate_pretrained_same_wts.items():\n",
    "#         print('Building model with pre-trained gate and new experts initialized to same parameters as experts used to train the gate')\n",
    "        \n",
    "#         # copy parameters of the experts\n",
    "#         expert_models = deepcopy(saved_experts[key])\n",
    "\n",
    "#         # load the pre-trained gate model\n",
    "#         gate_model = models[key]['experts'][total_experts]['model'].gate\n",
    "\n",
    "#         # Fix the parameters of the gate\n",
    "#         for param in gate_model.parameters():\n",
    "#             param.requires_grad = False\n",
    "\n",
    "#         moe_model = val['model'](total_experts, num_classes, augment=0, attention_flag=0, \n",
    "#                                  experts=expert_models, gate=gate_model)\n",
    "\n",
    "#         optimizer_moe = optim.RMSprop(moe_model.parameters(),\n",
    "#                                   lr=0.001, momentum=0.9)\n",
    "#         hist = moe_model.train(trainloader, testloader,  val['loss'], optimizer_moe, \n",
    "#                                accuracy=accuracy, epochs=num_epochs)\n",
    "#         val['experts'][total_experts] = {'model':moe_model, 'history':hist}\n",
    "\n",
    "#     n_run_models_2.append(models_gate_pretrained_same_wts)\n",
    "\n",
    "#     # Train new experts with pre-trained gate fom model_1 above with default parameters\n",
    "#     for key, val in models_gate_pretrained_rand_wts.items():\n",
    "        \n",
    "#         print('Building model with pre-trained gate and new experts initialized to default parameters')\n",
    "\n",
    "#         # initialize the expert parameters to default parameters\n",
    "#         expert_models = experts(total_experts, [None]*total_experts, num_classes, \n",
    "#                                 [num_classes]*total_experts).to(device)\n",
    "\n",
    "#         # load pre-trained gate\n",
    "#         gate_model = models[key]['experts'][total_experts]['model'].gate\n",
    "\n",
    "#         # Fix the gate parameters\n",
    "#         for param in gate_model.parameters():\n",
    "#             param.requires_grad = False\n",
    "\n",
    "#         moe_model = val['model'](total_experts, num_classes, augment=0, attention_flag=0, \n",
    "#                                  experts=expert_models, gate=gate_model)\n",
    "\n",
    "#         optimizer_moe = optim.RMSprop(moe_model.parameters(),\n",
    "#                                   lr=0.001, momentum=0.9)\n",
    "        \n",
    "#         hist = moe_model.train(trainloader, testloader,  val['loss'], optimizer_moe, \n",
    "#                                accuracy=accuracy, epochs=num_epochs)\n",
    "#         val['experts'][total_experts] = {'model':moe_model, 'history':hist}\n",
    "    \n",
    "#     n_run_models_3.append(models_gate_pretrained_rand_wts)\n",
    "\n",
    "# Save all the trained models\n",
    "plot_file = generate_plot_file(model_1, str(num_classes)+'_'+str(total_experts)+'_'+str(n_runs)+'_models.pt')\n",
    "torch.save(n_run_models_1,open(os.path.join(model_path, plot_file),'wb'))\n",
    "\n",
    "# plot_file = generate_plot_file(model_2, str(num_classes)+'_'+str(total_experts)+'_'+str(n_runs)+'_models.pt')\n",
    "# torch.save(n_run_models_2,open(os.path.join(model_path, plot_file),'wb'))\n",
    "\n",
    "# plot_file = generate_plot_file(model_3, str(num_classes)+'_'+str(total_experts)+'_'+str(n_runs)+'_models.pt')\n",
    "# torch.save(n_run_models_3,open(os.path.join(model_path, plot_file),'wb'))               "
   ]
  },
  {
   "cell_type": "markdown",
   "metadata": {},
   "source": [
    "## Experiment 2: Train MoE expectation model with pre-trained experts"
   ]
  },
  {
   "cell_type": "markdown",
   "metadata": {},
   "source": [
    "### The MoE model is first trained with pre-trained experts trained on pre-defined data splits. The gate trained in this model is then used to train a new model with new experts with (a) default parameters and (b) parameters initialized to parameters of the experts that the gate was trained with. "
   ]
  },
  {
   "cell_type": "markdown",
   "metadata": {},
   "source": [
    "#### Pre-defined data splits are each a set of 5 pairs of digits. Each of the 5 experts is trained on data samples of only one of the 5 pairs of the split. We created 5 splits in all for the experiments."
   ]
  },
  {
   "cell_type": "code",
   "execution_count": 22,
   "metadata": {},
   "outputs": [],
   "source": [
    "# Pre-defined class split among experts\n",
    "classes_per_expert_list = [[[0,1], [2,5], [3,4], [6,9], [7,8]],\n",
    "                      [[0,9], [1,4], [2,7], [3,6], [5,8]],\n",
    "                      [[0,3], [1,2], [4,7], [5,9], [6,8]],\n",
    "                      [[0,5], [1,9], [2,6], [3,7], [4,8]],\n",
    "                      [[0,4],[1,8], [2,9], [3,6], [5,7]]]\n",
    "\n",
    "class_expert_map = []\n",
    "for cpe in classes_per_expert_list:\n",
    "    entry = {c[0]:c[1] for c in cpe}\n",
    "    class_expert_map.append(entry)"
   ]
  },
  {
   "cell_type": "markdown",
   "metadata": {},
   "source": [
    "#### NOTE: We have provided expert models already pre-trained with the above class splits"
   ]
  },
  {
   "cell_type": "code",
   "execution_count": 34,
   "metadata": {},
   "outputs": [],
   "source": [
    "# Model trained with pre-trained experts\n",
    "model_4\n",
    "# Model with gate parameters fixed to learnt gate parameters from model_4 and experts initialized to \n",
    "# the same initial parameters as experts from model_4 before they were trained\n",
    "model_5 = 'mnist_pretrained_gate_prechosen_same_wts'\n",
    "# Model with gate parameters fixed to learnt gate parameters from model_4 and experts initialized to default parameters\n",
    "model_6 = 'mnist_pretrained_gate_prechosen_rand_wts'"
   ]
  },
  {
   "cell_type": "code",
   "execution_count": 35,
   "metadata": {},
   "outputs": [],
   "source": [
    "total_experts = 5"
   ]
  },
  {
   "cell_type": "code",
   "execution_count": 36,
   "metadata": {},
   "outputs": [],
   "source": [
    "num_epochs = 20"
   ]
  },
  {
   "cell_type": "code",
   "execution_count": 22,
   "metadata": {},
   "outputs": [
    {
     "name": "stdout",
     "output_type": "stream",
     "text": [
      "RUN for split: 01_25_34_69_78\n",
      "Model: moe_expectation_model 5 Experts\n",
      "Building model with pre-trained experts\n",
      "model params: 27167\n",
      "epoch 0 training loss 0.83 , training accuracy 0.77 , test accuracy 0.83\n",
      "epoch 1 training loss 0.42 , training accuracy 0.91 , test accuracy 0.86\n",
      "epoch 2 training loss 0.35 , training accuracy 0.93 , test accuracy 0.88\n",
      "epoch 3 training loss 0.32 , training accuracy 0.94 , test accuracy 0.88\n",
      "epoch 4 training loss 0.28 , training accuracy 0.95 , test accuracy 0.87\n",
      "epoch 5 training loss 0.28 , training accuracy 0.95 , test accuracy 0.88\n",
      "epoch 6 training loss 0.25 , training accuracy 0.96 , test accuracy 0.87\n",
      "epoch 7 training loss 0.24 , training accuracy 0.96 , test accuracy 0.89\n",
      "epoch 8 training loss 0.23 , training accuracy 0.96 , test accuracy 0.89\n",
      "epoch 9 training loss 0.24 , training accuracy 0.96 , test accuracy 0.88\n",
      "epoch 10 training loss 0.22 , training accuracy 0.97 , test accuracy 0.88\n",
      "epoch 11 training loss 0.23 , training accuracy 0.97 , test accuracy 0.89\n",
      "epoch 12 training loss 0.22 , training accuracy 0.97 , test accuracy 0.90\n",
      "epoch 13 training loss 0.22 , training accuracy 0.97 , test accuracy 0.88\n",
      "epoch 14 training loss 0.21 , training accuracy 0.97 , test accuracy 0.89\n",
      "epoch 15 training loss 0.21 , training accuracy 0.97 , test accuracy 0.88\n",
      "epoch 16 training loss 0.22 , training accuracy 0.97 , test accuracy 0.89\n",
      "epoch 17 training loss 0.21 , training accuracy 0.97 , test accuracy 0.89\n",
      "epoch 18 training loss 0.21 , training accuracy 0.97 , test accuracy 0.88\n",
      "epoch 19 training loss 0.22 , training accuracy 0.97 , test accuracy 0.89\n",
      "Building model with pre-trained gate and new experts initialized to same parameters as experts used to train the gate\n",
      "epoch 0 training loss 0.46 , training accuracy 0.81 , test accuracy 0.85\n",
      "epoch 1 training loss 0.13 , training accuracy 0.97 , test accuracy 0.91\n",
      "epoch 2 training loss 0.10 , training accuracy 0.98 , test accuracy 0.91\n",
      "epoch 3 training loss 0.09 , training accuracy 0.98 , test accuracy 0.92\n",
      "epoch 4 training loss 0.07 , training accuracy 0.98 , test accuracy 0.92\n",
      "epoch 5 training loss 0.07 , training accuracy 0.98 , test accuracy 0.91\n",
      "epoch 6 training loss 0.07 , training accuracy 0.98 , test accuracy 0.92\n",
      "epoch 7 training loss 0.07 , training accuracy 0.98 , test accuracy 0.92\n",
      "epoch 8 training loss 0.06 , training accuracy 0.98 , test accuracy 0.92\n",
      "epoch 9 training loss 0.07 , training accuracy 0.98 , test accuracy 0.92\n",
      "epoch 10 training loss 0.06 , training accuracy 0.98 , test accuracy 0.91\n",
      "epoch 11 training loss 0.06 , training accuracy 0.98 , test accuracy 0.92\n",
      "epoch 12 training loss 0.06 , training accuracy 0.98 , test accuracy 0.92\n",
      "epoch 13 training loss 0.06 , training accuracy 0.98 , test accuracy 0.92\n",
      "epoch 14 training loss 0.06 , training accuracy 0.98 , test accuracy 0.92\n",
      "epoch 15 training loss 0.06 , training accuracy 0.98 , test accuracy 0.92\n",
      "epoch 16 training loss 0.06 , training accuracy 0.98 , test accuracy 0.92\n",
      "epoch 17 training loss 0.06 , training accuracy 0.98 , test accuracy 0.92\n",
      "epoch 18 training loss 0.06 , training accuracy 0.98 , test accuracy 0.92\n",
      "epoch 19 training loss 0.06 , training accuracy 0.98 , test accuracy 0.92\n",
      "Building model with pre-trained gate and new experts initialized to default parameters\n",
      "epoch 0 training loss 0.45 , training accuracy 0.80 , test accuracy 0.84\n",
      "epoch 1 training loss 0.21 , training accuracy 0.89 , test accuracy 0.84\n",
      "epoch 2 training loss 0.20 , training accuracy 0.90 , test accuracy 0.82\n",
      "epoch 3 training loss 0.20 , training accuracy 0.90 , test accuracy 0.84\n",
      "epoch 4 training loss 0.20 , training accuracy 0.90 , test accuracy 0.84\n",
      "epoch 5 training loss 0.20 , training accuracy 0.90 , test accuracy 0.84\n",
      "epoch 6 training loss 0.19 , training accuracy 0.90 , test accuracy 0.84\n",
      "epoch 7 training loss 0.20 , training accuracy 0.89 , test accuracy 0.84\n",
      "epoch 8 training loss 0.19 , training accuracy 0.90 , test accuracy 0.82\n",
      "epoch 9 training loss 0.19 , training accuracy 0.90 , test accuracy 0.84\n",
      "epoch 10 training loss 0.19 , training accuracy 0.90 , test accuracy 0.84\n",
      "epoch 11 training loss 0.18 , training accuracy 0.90 , test accuracy 0.84\n",
      "epoch 12 training loss 0.18 , training accuracy 0.90 , test accuracy 0.82\n",
      "epoch 13 training loss 0.19 , training accuracy 0.90 , test accuracy 0.82\n",
      "epoch 14 training loss 0.19 , training accuracy 0.90 , test accuracy 0.84\n",
      "epoch 15 training loss 0.19 , training accuracy 0.90 , test accuracy 0.84\n",
      "epoch 16 training loss 0.18 , training accuracy 0.90 , test accuracy 0.84\n",
      "epoch 17 training loss 0.18 , training accuracy 0.90 , test accuracy 0.84\n",
      "epoch 18 training loss 0.18 , training accuracy 0.90 , test accuracy 0.84\n",
      "epoch 19 training loss 0.19 , training accuracy 0.90 , test accuracy 0.84\n",
      "RUN for split: 09_14_27_36_58\n",
      "Model: moe_expectation_model 5 Experts\n",
      "Building model with pre-trained experts\n",
      "model params: 27167\n",
      "epoch 0 training loss 0.79 , training accuracy 0.79 , test accuracy 0.87\n",
      "epoch 1 training loss 0.41 , training accuracy 0.93 , test accuracy 0.88\n",
      "epoch 2 training loss 0.36 , training accuracy 0.94 , test accuracy 0.88\n",
      "epoch 3 training loss 0.33 , training accuracy 0.95 , test accuracy 0.89\n",
      "epoch 4 training loss 0.31 , training accuracy 0.96 , test accuracy 0.89\n",
      "epoch 5 training loss 0.29 , training accuracy 0.96 , test accuracy 0.89\n",
      "epoch 6 training loss 0.28 , training accuracy 0.97 , test accuracy 0.90\n",
      "epoch 7 training loss 0.28 , training accuracy 0.97 , test accuracy 0.89\n",
      "epoch 8 training loss 0.28 , training accuracy 0.97 , test accuracy 0.90\n",
      "epoch 9 training loss 0.27 , training accuracy 0.97 , test accuracy 0.90\n",
      "epoch 10 training loss 0.27 , training accuracy 0.97 , test accuracy 0.89\n",
      "epoch 11 training loss 0.25 , training accuracy 0.98 , test accuracy 0.88\n",
      "epoch 12 training loss 0.26 , training accuracy 0.97 , test accuracy 0.88\n",
      "epoch 13 training loss 0.26 , training accuracy 0.98 , test accuracy 0.90\n",
      "epoch 14 training loss 0.26 , training accuracy 0.97 , test accuracy 0.89\n",
      "epoch 15 training loss 0.24 , training accuracy 0.98 , test accuracy 0.90\n",
      "epoch 16 training loss 0.26 , training accuracy 0.98 , test accuracy 0.89\n",
      "epoch 17 training loss 0.25 , training accuracy 0.98 , test accuracy 0.90\n",
      "epoch 18 training loss 0.25 , training accuracy 0.98 , test accuracy 0.89\n",
      "epoch 19 training loss 0.25 , training accuracy 0.98 , test accuracy 0.90\n",
      "Building model with pre-trained gate and new experts initialized to same parameters as experts used to train the gate\n",
      "epoch 0 training loss 0.39 , training accuracy 0.87 , test accuracy 0.91\n",
      "epoch 1 training loss 0.11 , training accuracy 0.97 , test accuracy 0.91\n",
      "epoch 2 training loss 0.09 , training accuracy 0.98 , test accuracy 0.92\n",
      "epoch 3 training loss 0.09 , training accuracy 0.98 , test accuracy 0.91\n",
      "epoch 4 training loss 0.08 , training accuracy 0.98 , test accuracy 0.92\n",
      "epoch 5 training loss 0.07 , training accuracy 0.98 , test accuracy 0.92\n",
      "epoch 6 training loss 0.07 , training accuracy 0.98 , test accuracy 0.92\n",
      "epoch 7 training loss 0.06 , training accuracy 0.99 , test accuracy 0.92\n",
      "epoch 8 training loss 0.07 , training accuracy 0.99 , test accuracy 0.92\n",
      "epoch 9 training loss 0.06 , training accuracy 0.99 , test accuracy 0.92\n",
      "epoch 10 training loss 0.07 , training accuracy 0.99 , test accuracy 0.92\n",
      "epoch 11 training loss 0.06 , training accuracy 0.99 , test accuracy 0.92\n",
      "epoch 12 training loss 0.06 , training accuracy 0.99 , test accuracy 0.92\n",
      "epoch 13 training loss 0.06 , training accuracy 0.99 , test accuracy 0.92\n",
      "epoch 14 training loss 0.06 , training accuracy 0.99 , test accuracy 0.92\n",
      "epoch 15 training loss 0.06 , training accuracy 0.99 , test accuracy 0.92\n",
      "epoch 16 training loss 0.05 , training accuracy 0.99 , test accuracy 0.92\n",
      "epoch 17 training loss 0.06 , training accuracy 0.99 , test accuracy 0.91\n",
      "epoch 18 training loss 0.06 , training accuracy 0.99 , test accuracy 0.92\n",
      "epoch 19 training loss 0.05 , training accuracy 0.99 , test accuracy 0.92\n",
      "Building model with pre-trained gate and new experts initialized to default parameters\n",
      "epoch 0 training loss 0.35 , training accuracy 0.88 , test accuracy 0.90\n",
      "epoch 1 training loss 0.09 , training accuracy 0.98 , test accuracy 0.92\n",
      "epoch 2 training loss 0.08 , training accuracy 0.98 , test accuracy 0.92\n",
      "epoch 3 training loss 0.07 , training accuracy 0.98 , test accuracy 0.92\n",
      "epoch 4 training loss 0.07 , training accuracy 0.98 , test accuracy 0.92\n",
      "epoch 5 training loss 0.06 , training accuracy 0.99 , test accuracy 0.92\n",
      "epoch 6 training loss 0.06 , training accuracy 0.99 , test accuracy 0.92\n",
      "epoch 7 training loss 0.06 , training accuracy 0.99 , test accuracy 0.92\n",
      "epoch 8 training loss 0.06 , training accuracy 0.99 , test accuracy 0.92\n",
      "epoch 9 training loss 0.06 , training accuracy 0.99 , test accuracy 0.92\n",
      "epoch 10 training loss 0.05 , training accuracy 0.99 , test accuracy 0.92\n",
      "epoch 11 training loss 0.06 , training accuracy 0.99 , test accuracy 0.92\n",
      "epoch 12 training loss 0.05 , training accuracy 0.99 , test accuracy 0.92\n",
      "epoch 13 training loss 0.05 , training accuracy 0.99 , test accuracy 0.92\n",
      "epoch 14 training loss 0.05 , training accuracy 0.99 , test accuracy 0.92\n",
      "epoch 15 training loss 0.05 , training accuracy 0.99 , test accuracy 0.92\n",
      "epoch 16 training loss 0.06 , training accuracy 0.99 , test accuracy 0.92\n",
      "epoch 17 training loss 0.05 , training accuracy 0.99 , test accuracy 0.92\n",
      "epoch 18 training loss 0.05 , training accuracy 0.99 , test accuracy 0.92\n",
      "epoch 19 training loss 0.05 , training accuracy 0.99 , test accuracy 0.92\n",
      "RUN for split: 03_12_47_59_68\n",
      "Model: moe_expectation_model 5 Experts\n",
      "Building model with pre-trained experts\n",
      "model params: 27167\n",
      "epoch 0 training loss 0.70 , training accuracy 0.79 , test accuracy 0.82\n",
      "epoch 1 training loss 0.39 , training accuracy 0.90 , test accuracy 0.85\n",
      "epoch 2 training loss 0.32 , training accuracy 0.92 , test accuracy 0.88\n",
      "epoch 3 training loss 0.29 , training accuracy 0.93 , test accuracy 0.89\n",
      "epoch 4 training loss 0.25 , training accuracy 0.94 , test accuracy 0.88\n",
      "epoch 5 training loss 0.24 , training accuracy 0.94 , test accuracy 0.87\n",
      "epoch 6 training loss 0.23 , training accuracy 0.95 , test accuracy 0.88\n",
      "epoch 7 training loss 0.22 , training accuracy 0.95 , test accuracy 0.89\n",
      "epoch 8 training loss 0.22 , training accuracy 0.95 , test accuracy 0.89\n",
      "epoch 9 training loss 0.21 , training accuracy 0.95 , test accuracy 0.88\n",
      "epoch 10 training loss 0.20 , training accuracy 0.96 , test accuracy 0.89\n",
      "epoch 11 training loss 0.20 , training accuracy 0.96 , test accuracy 0.89\n",
      "epoch 12 training loss 0.19 , training accuracy 0.96 , test accuracy 0.89\n",
      "epoch 13 training loss 0.19 , training accuracy 0.96 , test accuracy 0.90\n",
      "epoch 14 training loss 0.19 , training accuracy 0.96 , test accuracy 0.89\n",
      "epoch 15 training loss 0.18 , training accuracy 0.96 , test accuracy 0.89\n",
      "epoch 16 training loss 0.19 , training accuracy 0.96 , test accuracy 0.89\n",
      "epoch 17 training loss 0.20 , training accuracy 0.96 , test accuracy 0.90\n",
      "epoch 18 training loss 0.16 , training accuracy 0.96 , test accuracy 0.91\n",
      "epoch 19 training loss 0.19 , training accuracy 0.96 , test accuracy 0.90\n",
      "Building model with pre-trained gate and new experts initialized to same parameters as experts used to train the gate\n",
      "epoch 0 training loss 0.46 , training accuracy 0.84 , test accuracy 0.90\n",
      "epoch 1 training loss 0.12 , training accuracy 0.97 , test accuracy 0.92\n",
      "epoch 2 training loss 0.09 , training accuracy 0.98 , test accuracy 0.92\n",
      "epoch 3 training loss 0.07 , training accuracy 0.98 , test accuracy 0.92\n",
      "epoch 4 training loss 0.06 , training accuracy 0.98 , test accuracy 0.92\n",
      "epoch 5 training loss 0.06 , training accuracy 0.98 , test accuracy 0.93\n",
      "epoch 6 training loss 0.06 , training accuracy 0.99 , test accuracy 0.92\n",
      "epoch 7 training loss 0.06 , training accuracy 0.99 , test accuracy 0.92\n",
      "epoch 8 training loss 0.05 , training accuracy 0.99 , test accuracy 0.92\n",
      "epoch 9 training loss 0.05 , training accuracy 0.99 , test accuracy 0.92\n",
      "epoch 10 training loss 0.05 , training accuracy 0.99 , test accuracy 0.92\n",
      "epoch 11 training loss 0.05 , training accuracy 0.99 , test accuracy 0.92\n",
      "epoch 12 training loss 0.05 , training accuracy 0.99 , test accuracy 0.93\n",
      "epoch 13 training loss 0.04 , training accuracy 0.99 , test accuracy 0.92\n",
      "epoch 14 training loss 0.05 , training accuracy 0.99 , test accuracy 0.92\n",
      "epoch 15 training loss 0.05 , training accuracy 0.99 , test accuracy 0.92\n",
      "epoch 16 training loss 0.04 , training accuracy 0.99 , test accuracy 0.93\n",
      "epoch 17 training loss 0.04 , training accuracy 0.99 , test accuracy 0.92\n",
      "epoch 18 training loss 0.04 , training accuracy 0.99 , test accuracy 0.92\n",
      "epoch 19 training loss 0.04 , training accuracy 0.99 , test accuracy 0.92\n",
      "Building model with pre-trained gate and new experts initialized to default parameters\n",
      "epoch 0 training loss 0.35 , training accuracy 0.86 , test accuracy 0.92\n",
      "epoch 1 training loss 0.09 , training accuracy 0.98 , test accuracy 0.92\n",
      "epoch 2 training loss 0.07 , training accuracy 0.98 , test accuracy 0.92\n",
      "epoch 3 training loss 0.07 , training accuracy 0.98 , test accuracy 0.92\n",
      "epoch 4 training loss 0.06 , training accuracy 0.98 , test accuracy 0.92\n",
      "epoch 5 training loss 0.06 , training accuracy 0.98 , test accuracy 0.92\n",
      "epoch 6 training loss 0.05 , training accuracy 0.99 , test accuracy 0.92\n",
      "epoch 7 training loss 0.05 , training accuracy 0.99 , test accuracy 0.92\n",
      "epoch 8 training loss 0.05 , training accuracy 0.99 , test accuracy 0.92\n",
      "epoch 9 training loss 0.05 , training accuracy 0.99 , test accuracy 0.91\n",
      "epoch 10 training loss 0.05 , training accuracy 0.99 , test accuracy 0.92\n",
      "epoch 11 training loss 0.04 , training accuracy 0.99 , test accuracy 0.92\n",
      "epoch 12 training loss 0.05 , training accuracy 0.99 , test accuracy 0.92\n",
      "epoch 13 training loss 0.04 , training accuracy 0.99 , test accuracy 0.92\n",
      "epoch 14 training loss 0.04 , training accuracy 0.99 , test accuracy 0.92\n",
      "epoch 15 training loss 0.04 , training accuracy 0.99 , test accuracy 0.92\n",
      "epoch 16 training loss 0.04 , training accuracy 0.99 , test accuracy 0.92\n",
      "epoch 17 training loss 0.04 , training accuracy 0.99 , test accuracy 0.92\n",
      "epoch 18 training loss 0.04 , training accuracy 0.99 , test accuracy 0.92\n",
      "epoch 19 training loss 0.04 , training accuracy 0.99 , test accuracy 0.92\n",
      "RUN for split: 05_19_26_37_48\n",
      "Model: moe_expectation_model 5 Experts\n",
      "Building model with pre-trained experts\n",
      "model params: 27167\n",
      "epoch 0 training loss 0.86 , training accuracy 0.78 , test accuracy 0.82\n",
      "epoch 1 training loss 0.50 , training accuracy 0.90 , test accuracy 0.86\n",
      "epoch 2 training loss 0.41 , training accuracy 0.93 , test accuracy 0.88\n",
      "epoch 3 training loss 0.37 , training accuracy 0.94 , test accuracy 0.87\n",
      "epoch 4 training loss 0.34 , training accuracy 0.95 , test accuracy 0.88\n",
      "epoch 5 training loss 0.33 , training accuracy 0.96 , test accuracy 0.87\n",
      "epoch 6 training loss 0.32 , training accuracy 0.96 , test accuracy 0.89\n",
      "epoch 7 training loss 0.30 , training accuracy 0.96 , test accuracy 0.88\n",
      "epoch 8 training loss 0.30 , training accuracy 0.96 , test accuracy 0.88\n",
      "epoch 9 training loss 0.30 , training accuracy 0.96 , test accuracy 0.88\n",
      "epoch 10 training loss 0.29 , training accuracy 0.97 , test accuracy 0.89\n",
      "epoch 11 training loss 0.29 , training accuracy 0.97 , test accuracy 0.88\n",
      "epoch 12 training loss 0.28 , training accuracy 0.97 , test accuracy 0.90\n",
      "epoch 13 training loss 0.28 , training accuracy 0.97 , test accuracy 0.88\n",
      "epoch 14 training loss 0.26 , training accuracy 0.97 , test accuracy 0.89\n",
      "epoch 15 training loss 0.28 , training accuracy 0.97 , test accuracy 0.90\n",
      "epoch 16 training loss 0.30 , training accuracy 0.97 , test accuracy 0.88\n",
      "epoch 17 training loss 0.27 , training accuracy 0.97 , test accuracy 0.88\n",
      "epoch 18 training loss 0.27 , training accuracy 0.97 , test accuracy 0.88\n",
      "epoch 19 training loss 0.29 , training accuracy 0.97 , test accuracy 0.90\n",
      "Building model with pre-trained gate and new experts initialized to same parameters as experts used to train the gate\n",
      "epoch 0 training loss 0.41 , training accuracy 0.86 , test accuracy 0.91\n",
      "epoch 1 training loss 0.10 , training accuracy 0.98 , test accuracy 0.91\n",
      "epoch 2 training loss 0.09 , training accuracy 0.98 , test accuracy 0.91\n",
      "epoch 3 training loss 0.08 , training accuracy 0.98 , test accuracy 0.91\n",
      "epoch 4 training loss 0.07 , training accuracy 0.99 , test accuracy 0.92\n",
      "epoch 5 training loss 0.07 , training accuracy 0.99 , test accuracy 0.92\n",
      "epoch 6 training loss 0.06 , training accuracy 0.99 , test accuracy 0.92\n",
      "epoch 7 training loss 0.07 , training accuracy 0.99 , test accuracy 0.92\n",
      "epoch 8 training loss 0.06 , training accuracy 0.99 , test accuracy 0.92\n",
      "epoch 9 training loss 0.06 , training accuracy 0.99 , test accuracy 0.92\n",
      "epoch 10 training loss 0.06 , training accuracy 0.99 , test accuracy 0.92\n",
      "epoch 11 training loss 0.06 , training accuracy 0.99 , test accuracy 0.92\n",
      "epoch 12 training loss 0.06 , training accuracy 0.99 , test accuracy 0.92\n",
      "epoch 13 training loss 0.05 , training accuracy 0.99 , test accuracy 0.92\n",
      "epoch 14 training loss 0.06 , training accuracy 0.99 , test accuracy 0.92\n",
      "epoch 15 training loss 0.06 , training accuracy 0.99 , test accuracy 0.92\n",
      "epoch 16 training loss 0.05 , training accuracy 0.99 , test accuracy 0.91\n",
      "epoch 17 training loss 0.05 , training accuracy 0.99 , test accuracy 0.92\n",
      "epoch 18 training loss 0.05 , training accuracy 0.99 , test accuracy 0.92\n",
      "epoch 19 training loss 0.06 , training accuracy 0.99 , test accuracy 0.92\n",
      "Building model with pre-trained gate and new experts initialized to default parameters\n",
      "epoch 0 training loss 0.38 , training accuracy 0.87 , test accuracy 0.90\n",
      "epoch 1 training loss 0.10 , training accuracy 0.98 , test accuracy 0.91\n",
      "epoch 2 training loss 0.08 , training accuracy 0.98 , test accuracy 0.91\n",
      "epoch 3 training loss 0.08 , training accuracy 0.98 , test accuracy 0.92\n",
      "epoch 4 training loss 0.07 , training accuracy 0.99 , test accuracy 0.91\n",
      "epoch 5 training loss 0.06 , training accuracy 0.99 , test accuracy 0.92\n",
      "epoch 6 training loss 0.05 , training accuracy 0.99 , test accuracy 0.92\n",
      "epoch 7 training loss 0.06 , training accuracy 0.99 , test accuracy 0.92\n",
      "epoch 8 training loss 0.05 , training accuracy 0.99 , test accuracy 0.92\n",
      "epoch 9 training loss 0.06 , training accuracy 0.99 , test accuracy 0.92\n",
      "epoch 10 training loss 0.05 , training accuracy 0.99 , test accuracy 0.92\n",
      "epoch 11 training loss 0.05 , training accuracy 0.99 , test accuracy 0.92\n",
      "epoch 12 training loss 0.05 , training accuracy 0.99 , test accuracy 0.92\n",
      "epoch 13 training loss 0.05 , training accuracy 0.99 , test accuracy 0.91\n",
      "epoch 14 training loss 0.05 , training accuracy 0.99 , test accuracy 0.92\n",
      "epoch 15 training loss 0.05 , training accuracy 0.99 , test accuracy 0.92\n",
      "epoch 16 training loss 0.04 , training accuracy 0.99 , test accuracy 0.92\n",
      "epoch 17 training loss 0.05 , training accuracy 0.99 , test accuracy 0.92\n",
      "epoch 18 training loss 0.05 , training accuracy 0.99 , test accuracy 0.92\n",
      "epoch 19 training loss 0.05 , training accuracy 0.99 , test accuracy 0.92\n",
      "RUN for split: 04_18_29_36_57\n",
      "Model: moe_expectation_model 5 Experts\n",
      "Building model with pre-trained experts\n",
      "model params: 27167\n",
      "epoch 0 training loss 0.78 , training accuracy 0.82 , test accuracy 0.85\n",
      "epoch 1 training loss 0.45 , training accuracy 0.92 , test accuracy 0.89\n",
      "epoch 2 training loss 0.40 , training accuracy 0.94 , test accuracy 0.88\n",
      "epoch 3 training loss 0.39 , training accuracy 0.94 , test accuracy 0.89\n",
      "epoch 4 training loss 0.35 , training accuracy 0.95 , test accuracy 0.90\n",
      "epoch 5 training loss 0.34 , training accuracy 0.96 , test accuracy 0.89\n",
      "epoch 6 training loss 0.33 , training accuracy 0.96 , test accuracy 0.89\n",
      "epoch 7 training loss 0.34 , training accuracy 0.96 , test accuracy 0.90\n",
      "epoch 8 training loss 0.32 , training accuracy 0.96 , test accuracy 0.90\n",
      "epoch 9 training loss 0.31 , training accuracy 0.96 , test accuracy 0.90\n",
      "epoch 10 training loss 0.31 , training accuracy 0.96 , test accuracy 0.90\n",
      "epoch 11 training loss 0.32 , training accuracy 0.96 , test accuracy 0.90\n",
      "epoch 12 training loss 0.31 , training accuracy 0.96 , test accuracy 0.90\n",
      "epoch 13 training loss 0.30 , training accuracy 0.97 , test accuracy 0.90\n",
      "epoch 14 training loss 0.30 , training accuracy 0.97 , test accuracy 0.91\n",
      "epoch 15 training loss 0.30 , training accuracy 0.97 , test accuracy 0.90\n",
      "epoch 16 training loss 0.29 , training accuracy 0.97 , test accuracy 0.90\n",
      "epoch 17 training loss 0.29 , training accuracy 0.97 , test accuracy 0.90\n",
      "epoch 18 training loss 0.31 , training accuracy 0.97 , test accuracy 0.90\n",
      "epoch 19 training loss 0.30 , training accuracy 0.97 , test accuracy 0.91\n",
      "Building model with pre-trained gate and new experts initialized to same parameters as experts used to train the gate\n",
      "epoch 0 training loss 0.36 , training accuracy 0.91 , test accuracy 0.92\n",
      "epoch 1 training loss 0.10 , training accuracy 0.98 , test accuracy 0.92\n",
      "epoch 2 training loss 0.09 , training accuracy 0.98 , test accuracy 0.92\n",
      "epoch 3 training loss 0.09 , training accuracy 0.98 , test accuracy 0.93\n",
      "epoch 4 training loss 0.08 , training accuracy 0.98 , test accuracy 0.92\n",
      "epoch 5 training loss 0.08 , training accuracy 0.99 , test accuracy 0.92\n",
      "epoch 6 training loss 0.07 , training accuracy 0.99 , test accuracy 0.93\n",
      "epoch 7 training loss 0.07 , training accuracy 0.99 , test accuracy 0.92\n",
      "epoch 8 training loss 0.06 , training accuracy 0.99 , test accuracy 0.93\n",
      "epoch 9 training loss 0.07 , training accuracy 0.99 , test accuracy 0.93\n",
      "epoch 10 training loss 0.07 , training accuracy 0.99 , test accuracy 0.93\n",
      "epoch 11 training loss 0.07 , training accuracy 0.99 , test accuracy 0.93\n",
      "epoch 12 training loss 0.07 , training accuracy 0.99 , test accuracy 0.93\n",
      "epoch 13 training loss 0.07 , training accuracy 0.99 , test accuracy 0.93\n",
      "epoch 14 training loss 0.07 , training accuracy 0.99 , test accuracy 0.93\n",
      "epoch 15 training loss 0.06 , training accuracy 0.99 , test accuracy 0.93\n",
      "epoch 16 training loss 0.06 , training accuracy 0.99 , test accuracy 0.93\n",
      "epoch 17 training loss 0.06 , training accuracy 0.99 , test accuracy 0.93\n",
      "epoch 18 training loss 0.06 , training accuracy 0.99 , test accuracy 0.93\n",
      "epoch 19 training loss 0.06 , training accuracy 0.99 , test accuracy 0.93\n",
      "Building model with pre-trained gate and new experts initialized to default parameters\n",
      "epoch 0 training loss 0.34 , training accuracy 0.90 , test accuracy 0.92\n",
      "epoch 1 training loss 0.11 , training accuracy 0.98 , test accuracy 0.93\n",
      "epoch 2 training loss 0.11 , training accuracy 0.98 , test accuracy 0.93\n",
      "epoch 3 training loss 0.08 , training accuracy 0.98 , test accuracy 0.92\n",
      "epoch 4 training loss 0.08 , training accuracy 0.98 , test accuracy 0.93\n",
      "epoch 5 training loss 0.07 , training accuracy 0.98 , test accuracy 0.93\n",
      "epoch 6 training loss 0.07 , training accuracy 0.98 , test accuracy 0.93\n",
      "epoch 7 training loss 0.07 , training accuracy 0.98 , test accuracy 0.93\n",
      "epoch 8 training loss 0.06 , training accuracy 0.99 , test accuracy 0.93\n",
      "epoch 9 training loss 0.06 , training accuracy 0.99 , test accuracy 0.93\n",
      "epoch 10 training loss 0.06 , training accuracy 0.99 , test accuracy 0.93\n",
      "epoch 11 training loss 0.05 , training accuracy 0.99 , test accuracy 0.93\n",
      "epoch 12 training loss 0.05 , training accuracy 0.99 , test accuracy 0.93\n",
      "epoch 13 training loss 0.05 , training accuracy 0.99 , test accuracy 0.93\n",
      "epoch 14 training loss 0.05 , training accuracy 0.99 , test accuracy 0.93\n",
      "epoch 15 training loss 0.05 , training accuracy 0.99 , test accuracy 0.93\n",
      "epoch 16 training loss 0.05 , training accuracy 0.99 , test accuracy 0.93\n",
      "epoch 17 training loss 0.04 , training accuracy 0.99 , test accuracy 0.93\n",
      "epoch 18 training loss 0.04 , training accuracy 0.99 , test accuracy 0.93\n",
      "epoch 19 training loss 0.05 , training accuracy 0.99 , test accuracy 0.93\n"
     ]
    }
   ],
   "source": [
    "# Train models model_4, model_5 and model_6 for the different splits of the digits shown above.\n",
    "pre_trained_expert = 'mnist_pre_trained'\n",
    "n_split_models_1 = []\n",
    "n_split_models_2 = []\n",
    "n_split_models_3 = []\n",
    "for classes_per_expert in classes_per_expert_list:\n",
    "    print('RUN for split:', classes_per_expert_str(classes_per_expert))\n",
    "\n",
    "    models = {\n",
    "        'moe_expectation_model':{'model':moe_expectation_model,'loss':cross_entropy_loss,'experts':{}},\n",
    "        }\n",
    "\n",
    "    models_gate_pretrained_same_wts = {\n",
    "        'moe_expectation_model':{'model':moe_expectation_model,'loss':cross_entropy_loss,'experts':{}},\n",
    "        }\n",
    "\n",
    "    models_gate_pretrained_rand_wts = {\n",
    "        'moe_expectation_model':{'model':moe_expectation_model,'loss':cross_entropy_loss,'experts':{}},\n",
    "        }\n",
    "\n",
    "    # Load the pre-trained experts for the corresponding split\n",
    "    plot_file = generate_plot_file(pre_trained_expert, str(num_classes)+'_'+str(total_experts)+'_'+classes_per_expert_str(classes_per_expert)+'_expert_model.pt')\n",
    "    expert_models, expert_models_copy = torch.load(os.path.join(pre_trained_model_path, plot_file))\n",
    "\n",
    "    for key, val in models.items():\n",
    "        print('Model:', key, total_experts, 'Experts')\n",
    "        print('Building model with pre-trained experts')\n",
    "\n",
    "        expert_models = expert_models.to(device)\n",
    "\n",
    "        gate_model = gate_layers(total_experts, num_classes).to(device)\n",
    "\n",
    "        moe_model = val['model'](total_experts, num_classes, augment=0, attention_flag=0, \n",
    "                                 experts=expert_models, gate=gate_model)\n",
    "\n",
    "        params = [p.numel() for p in moe_model.parameters() if p.requires_grad]\n",
    "        print('model params:', sum(params))\n",
    "        optimizer_moe = optim.RMSprop(moe_model.parameters(),\n",
    "                                  lr=0.001, momentum=0.9)\n",
    "        hist = moe_model.train(trainloader, testloader,  val['loss'], optimizer_moe, \n",
    "                               accuracy=accuracy, epochs=num_epochs)\n",
    "        val['experts'][total_experts] = {'model':moe_model, 'history':hist}\n",
    "\n",
    "    n_split_models_1.append(models)\n",
    "\n",
    "\n",
    "    for key, val in models_gate_pretrained_same_wts.items():\n",
    "\n",
    "        print('Building model with pre-trained gate and new experts initialized to same parameters as experts used to train the gate')\n",
    "\n",
    "        # copy parameters of the experts\n",
    "        expert_models = expert_models_copy.to(device)\n",
    "\n",
    "        # load the pre-trained gate\n",
    "        gate_model = models[key]['experts'][total_experts]['model'].gate\n",
    "\n",
    "        # Fix the gate parameters\n",
    "        for param in gate_model.parameters():\n",
    "            param.requires_grad = False\n",
    "\n",
    "        moe_model = val['model'](total_experts, num_classes, augment=0, attention_flag=0, \n",
    "                                 experts=expert_models, gate=gate_model)\n",
    "\n",
    "        optimizer_moe = optim.RMSprop(moe_model.parameters(),\n",
    "                                  lr=0.001, momentum=0.9)\n",
    "        hist = moe_model.train(trainloader, testloader,  val['loss'], optimizer_moe, \n",
    "                               accuracy=accuracy, epochs=num_epochs)\n",
    "        val['experts'][total_experts] = {'model':moe_model, 'history':hist}\n",
    "\n",
    "    n_split_models_2.append(models_gate_pretrained_same_wts)\n",
    "\n",
    "    for key, val in models_gate_pretrained_rand_wts.items():\n",
    "        print('Building model with pre-trained gate and new experts initialized to default parameters')\n",
    "\n",
    "        # initialize the expert parameters to default parameters\n",
    "        expert_models = experts(total_experts, [None]*total_experts, num_classes, [num_classes]*total_experts).to(device)\n",
    "\n",
    "        # load the pre-trained gate\n",
    "        gate_model = models[key]['experts'][total_experts]['model'].gate\n",
    "\n",
    "        # Fix the gate parameters\n",
    "        for param in gate_model.parameters():\n",
    "            param.requires_grad = False\n",
    "\n",
    "        moe_model = val['model'](total_experts, num_classes, augment=0, attention_flag=0, \n",
    "                                 experts=expert_models, gate=gate_model)\n",
    "\n",
    "        optimizer_moe = optim.RMSprop(moe_model.parameters(),\n",
    "                                  lr=0.001, momentum=0.9)\n",
    "        hist = moe_model.train(trainloader, testloader,  val['loss'], optimizer_moe, \n",
    "                               accuracy=accuracy, epochs=num_epochs)\n",
    "        val['experts'][total_experts] = {'model':moe_model, 'history':hist}\n",
    "    n_split_models_3.append(models_gate_pretrained_rand_wts)\n",
    "        \n",
    "plot_file = generate_plot_file(model_4, str(num_classes)+'_'+str(total_experts)+'_models.pt')\n",
    "torch.save(n_split_models_1,open(os.path.join(model_path, plot_file),'wb'))\n",
    "\n",
    "plot_file = generate_plot_file(model_5, str(num_classes)+'_'+str(total_experts)+'_models.pt')\n",
    "torch.save(n_split_models_2,open(os.path.join(model_path, plot_file),'wb'))\n",
    "\n",
    "plot_file = generate_plot_file(model_6, str(num_classes)+'_'+str(total_experts)+'_models.pt')\n",
    "torch.save(n_split_models_3,open(os.path.join(model_path, plot_file),'wb'))\n"
   ]
  },
  {
   "cell_type": "markdown",
   "metadata": {},
   "source": [
    "## Experiment 3: Train a model with gate coefficient of variation regularization "
   ]
  },
  {
   "cell_type": "code",
   "execution_count": 37,
   "metadata": {},
   "outputs": [],
   "source": [
    "total_experts = 5"
   ]
  },
  {
   "cell_type": "code",
   "execution_count": 38,
   "metadata": {},
   "outputs": [],
   "source": [
    "num_epochs = 20"
   ]
  },
  {
   "cell_type": "code",
   "execution_count": 39,
   "metadata": {},
   "outputs": [],
   "source": [
    "model_7 = 'mnist_with_reg'"
   ]
  },
  {
   "cell_type": "code",
   "execution_count": 28,
   "metadata": {},
   "outputs": [
    {
     "name": "stdout",
     "output_type": "stream",
     "text": [
      "w_importance 1.0\n",
      "Model: moe_expectation_model 5 Experts\n",
      "model params: 31772\n",
      "epoch 0 training loss 1.30 , training accuracy 0.54 , test accuracy 0.69\n",
      "epoch 1 training loss 0.68 , training accuracy 0.78 , test accuracy 0.75\n",
      "epoch 2 training loss 0.65 , training accuracy 0.80 , test accuracy 0.77\n",
      "epoch 3 training loss 0.55 , training accuracy 0.83 , test accuracy 0.80\n",
      "epoch 4 training loss 0.47 , training accuracy 0.85 , test accuracy 0.82\n",
      "epoch 5 training loss 0.44 , training accuracy 0.86 , test accuracy 0.81\n",
      "epoch 6 training loss 0.40 , training accuracy 0.88 , test accuracy 0.82\n",
      "epoch 7 training loss 0.39 , training accuracy 0.88 , test accuracy 0.85\n",
      "epoch 8 training loss 0.36 , training accuracy 0.89 , test accuracy 0.85\n",
      "epoch 9 training loss 0.36 , training accuracy 0.90 , test accuracy 0.85\n",
      "epoch 10 training loss 0.35 , training accuracy 0.90 , test accuracy 0.84\n",
      "epoch 11 training loss 0.35 , training accuracy 0.90 , test accuracy 0.85\n",
      "epoch 12 training loss 0.34 , training accuracy 0.90 , test accuracy 0.84\n",
      "epoch 13 training loss 0.34 , training accuracy 0.90 , test accuracy 0.85\n",
      "epoch 14 training loss 0.33 , training accuracy 0.90 , test accuracy 0.85\n",
      "epoch 15 training loss 0.32 , training accuracy 0.91 , test accuracy 0.84\n",
      "epoch 16 training loss 0.32 , training accuracy 0.91 , test accuracy 0.83\n",
      "epoch 17 training loss 0.31 , training accuracy 0.91 , test accuracy 0.86\n",
      "epoch 18 training loss 0.31 , training accuracy 0.91 , test accuracy 0.84\n",
      "epoch 19 training loss 0.31 , training accuracy 0.91 , test accuracy 0.87\n"
     ]
    },
    {
     "ename": "NameError",
     "evalue": "name 'model_7' is not defined",
     "output_type": "error",
     "traceback": [
      "\u001b[0;31m---------------------------------------------------------------------------\u001b[0m",
      "\u001b[0;31mNameError\u001b[0m                                 Traceback (most recent call last)",
      "\u001b[0;32m<ipython-input-28-57dfec6f95a3>\u001b[0m in \u001b[0;36m<module>\u001b[0;34m\u001b[0m\n\u001b[1;32m     28\u001b[0m     \u001b[0mval\u001b[0m\u001b[0;34m[\u001b[0m\u001b[0;34m'experts'\u001b[0m\u001b[0;34m]\u001b[0m\u001b[0;34m[\u001b[0m\u001b[0mtotal_experts\u001b[0m\u001b[0;34m]\u001b[0m \u001b[0;34m=\u001b[0m \u001b[0;34m{\u001b[0m\u001b[0;34m'model'\u001b[0m\u001b[0;34m:\u001b[0m\u001b[0mmoe_model\u001b[0m\u001b[0;34m,\u001b[0m \u001b[0;34m'history'\u001b[0m\u001b[0;34m:\u001b[0m\u001b[0mhist\u001b[0m\u001b[0;34m}\u001b[0m\u001b[0;34m\u001b[0m\u001b[0;34m\u001b[0m\u001b[0m\n\u001b[1;32m     29\u001b[0m \u001b[0;34m\u001b[0m\u001b[0m\n\u001b[0;32m---> 30\u001b[0;31m \u001b[0mplot_file\u001b[0m \u001b[0;34m=\u001b[0m \u001b[0mgenerate_plot_file\u001b[0m\u001b[0;34m(\u001b[0m\u001b[0mmodel_7\u001b[0m\u001b[0;34m,\u001b[0m \u001b[0mstr\u001b[0m\u001b[0;34m(\u001b[0m\u001b[0mnum_classes\u001b[0m\u001b[0;34m)\u001b[0m\u001b[0;34m+\u001b[0m\u001b[0;34m'_'\u001b[0m\u001b[0;34m+\u001b[0m\u001b[0mstr\u001b[0m\u001b[0;34m(\u001b[0m\u001b[0mtotal_experts\u001b[0m\u001b[0;34m)\u001b[0m\u001b[0;34m+\u001b[0m\u001b[0;34m'_models.pt'\u001b[0m\u001b[0;34m)\u001b[0m\u001b[0;34m\u001b[0m\u001b[0;34m\u001b[0m\u001b[0m\n\u001b[0m\u001b[1;32m     31\u001b[0m \u001b[0mtorch\u001b[0m\u001b[0;34m.\u001b[0m\u001b[0msave\u001b[0m\u001b[0;34m(\u001b[0m\u001b[0mmodels\u001b[0m\u001b[0;34m,\u001b[0m \u001b[0mopen\u001b[0m\u001b[0;34m(\u001b[0m\u001b[0mos\u001b[0m\u001b[0;34m.\u001b[0m\u001b[0mpath\u001b[0m\u001b[0;34m.\u001b[0m\u001b[0mjoin\u001b[0m\u001b[0;34m(\u001b[0m\u001b[0mmodel_path\u001b[0m\u001b[0;34m,\u001b[0m \u001b[0mplot_file\u001b[0m\u001b[0;34m)\u001b[0m\u001b[0;34m,\u001b[0m\u001b[0;34m'wb'\u001b[0m\u001b[0;34m)\u001b[0m\u001b[0;34m)\u001b[0m\u001b[0;34m\u001b[0m\u001b[0;34m\u001b[0m\u001b[0m\n\u001b[1;32m     32\u001b[0m \u001b[0mw_importance\u001b[0m \u001b[0;34m=\u001b[0m \u001b[0;36m0.0\u001b[0m\u001b[0;34m\u001b[0m\u001b[0;34m\u001b[0m\u001b[0m\n",
      "\u001b[0;31mNameError\u001b[0m: name 'model_7' is not defined"
     ]
    }
   ],
   "source": [
    "# Train the MoE model with gate coefficient of variation regularization\n",
    "\n",
    "# Enable regularization\n",
    "w_importance = 1.0\n",
    "\n",
    "print('w_importance', w_importance)\n",
    "models = {\n",
    "    'moe_expectation_model':{'model':moe_expectation_model,'loss':cross_entropy_loss,'experts':{}},\n",
    "    }\n",
    "\n",
    "for key, val in models.items():\n",
    "    print('Model:', key, total_experts, 'Experts')\n",
    "    expert_models = experts(total_experts, [None]*total_experts, num_classes, \n",
    "                            [num_classes]*total_experts).to(device)\n",
    "\n",
    "    gate_model = gate_layers(total_experts, num_classes).to(device)\n",
    "\n",
    "    moe_model = val['model'](total_experts, num_classes, augment=0, attention_flag=0,\n",
    "                             experts=expert_models, gate=gate_model)\n",
    "\n",
    "    params = [p.numel() for p in moe_model.parameters() if p.requires_grad]\n",
    "    print('model params:', sum(params))\n",
    "\n",
    "    optimizer_moe = optim.RMSprop(moe_model.parameters(),\n",
    "                              lr=0.001, momentum=0.9)\n",
    "    hist = moe_model.train(trainloader, testloader,  val['loss'], optimizer_moe, \n",
    "                           w_importance, accuracy=accuracy, epochs=num_epochs)\n",
    "    val['experts'][total_experts] = {'model':moe_model, 'history':hist}\n",
    "\n",
    "plot_file = generate_plot_file(model_7, str(num_classes)+'_'+str(total_experts)+'_models.pt')\n",
    "torch.save(models, open(os.path.join(model_path, plot_file),'wb'))\n",
    "w_importance = 0.0"
   ]
  },
  {
   "cell_type": "markdown",
   "metadata": {},
   "source": [
    "## Results"
   ]
  },
  {
   "cell_type": "markdown",
   "metadata": {},
   "source": [
    "### Plot the confusion matrix for the class predictions, for test data, of the MoE model trained with a linear gate and un-trained linear experts. We plot the results for one of the 10 models we trained."
   ]
  },
  {
   "cell_type": "code",
   "execution_count": 27,
   "metadata": {},
   "outputs": [
    {
     "name": "stdout",
     "output_type": "stream",
     "text": [
      "Model: mnist_scratch_10_5_1_models.pt\n",
      "\n",
      "Confusion matrix of predictions of the MNIST test data by MoE expectation model\n"
     ]
    },
    {
     "data": {
      "image/png": "[encoded data removed]",
      "text/plain": [
       "<Figure size 432x288 with 2 Axes>"
      ]
     },
     "metadata": {
      "needs_background": "light"
     },
     "output_type": "display_data"
    },
    {
     "name": "stdout",
     "output_type": "stream",
     "text": [
      "\n",
      "Experts used by the gate for classification of each digit\n"
     ]
    },
    {
     "data": {
      "image/png": "[encoded data removed]",
      "text/plain": [
       "<Figure size 576x288 with 2 Axes>"
      ]
     },
     "metadata": {
      "needs_background": "light"
     },
     "output_type": "display_data"
    }
   ],
   "source": [
    "from sklearn.metrics import confusion_matrix\n",
    "import seaborn as sns\n",
    "\n",
    "model_1 = 'mnist_scratch'\n",
    "\n",
    "m = model_1\n",
    "n_runs = 1\n",
    "n_run = 1\n",
    "total_experts = 5\n",
    "plot_file = generate_plot_file(m, str(num_classes)+'_'+str(total_experts)+'_'+str(n_runs)+'_models.pt')\n",
    "\n",
    "# Note: Here we are loading the pre-trained model from 'pre_trained_model_path. Change this to 'model_path' to load the \n",
    "# model you build above\n",
    "models_scratch = torch.load(open(os.path.join(model_path, plot_file),'rb'), map_location=device)\n",
    "print('Model:', plot_file)\n",
    "\n",
    "# Plotting for the model of the first run\n",
    "model = models_scratch[0]\n",
    "for e_key, e_val in model.items():\n",
    "    cmap = sns.color_palette(\"ch:s=.25,rot=-.25\", as_cmap=True)\n",
    "\n",
    "    for images, labels in testloader:\n",
    "        fig1,ax1 = plt.subplots(1, 1, sharex=False, sharey=False, figsize=(6,4))\n",
    "        images, labels = images.to(device), labels.to(device)\n",
    "        moe_model = e_val['experts'][total_experts]['model']\n",
    "        \n",
    "        # predict the classes for test data\n",
    "        pred = moe_model(images)\n",
    "        pred_labels = torch.argmax(pred, dim=1)\n",
    "\n",
    "        expert_outputs = moe_model.expert_outputs\n",
    "        gate_outputs = moe_model.gate_outputs\n",
    "\n",
    "        # plot the confusion matrix\n",
    "        print('\\nConfusion matrix of predictions of the MNIST test data by MoE expectation model')\n",
    "        sns.heatmap(confusion_matrix(labels.cpu(), pred_labels.cpu()), annot=True, ax=ax1, cmap=cmap, fmt='d')\n",
    "        image_file = generate_plot_file(m, 'conf_mat_run_'+str(n_run)+'_'+str(num_classes)+'_'+str(total_experts)+'_experts.png')\n",
    "        fig1.savefig(os.path.join(fig_path, image_file))\n",
    "        plt.show()\n",
    "        \n",
    "        fig2,ax2 = plt.subplots(1, 1, sharex=False, sharey=False, figsize=(8,4))\n",
    "\n",
    "        # get the experts selected by the gate for each sample\n",
    "        pred_gate_labels = torch.argmax(gate_outputs, dim=1)\n",
    "\n",
    "        # plot the expert selection table\n",
    "        print('\\nExperts used by the gate for classification of each digit')\n",
    "        class_expert_table = np.asarray([[0] * num_classes]*total_experts)\n",
    "        for label, expert in zip(labels, pred_gate_labels):\n",
    "            class_expert_table[expert,label] += 1\n",
    "        sns.heatmap(class_expert_table, yticklabels=['E'+str(i) for i in range(1,total_experts+1)], annot=True, cmap=cmap, fmt='d', ax=ax2)\n",
    "        \n",
    "        image_file = generate_plot_file(m, 'class_expert_table_run_'+str(n_run)+'_'+str(num_classes)+'_'+str(total_experts)+'_experts.png')\n",
    "        fig2.savefig(os.path.join(fig_path, image_file))\n",
    "        plt.show()"
   ]
  },
  {
   "cell_type": "markdown",
   "metadata": {},
   "source": [
    "### Experts selected by the gate for MNIST test data classification, for each digit, by models trained with pre-trained experts trained on 5 different splits of the 10 digits."
   ]
  },
  {
   "cell_type": "code",
   "execution_count": 24,
   "metadata": {},
   "outputs": [],
   "source": [
    "# Pre-defined class split among experts\n",
    "classes_per_expert_list = [[[0,1], [2,5], [3,4], [6,9], [7,8]],\n",
    "                      [[0,9], [1,4], [2,7], [3,6], [5,8]],\n",
    "                      [[0,3], [1,2], [4,7], [5,9], [6,8]],\n",
    "                      [[0,5], [1,9], [2,6], [3,7], [4,8]],\n",
    "                      [[0,4],[1,8], [2,9], [3,6], [5,7]]]\n",
    "\n",
    "class_expert_map = []\n",
    "for cpe in classes_per_expert_list:\n",
    "    entry = {c[0]:c[1] for c in cpe}\n",
    "    class_expert_map.append(entry)"
   ]
  },
  {
   "cell_type": "code",
   "execution_count": 25,
   "metadata": {},
   "outputs": [
    {
     "name": "stdout",
     "output_type": "stream",
     "text": [
      "Model: mnist_prechosen_10_5_models.pt\n",
      "\n",
      "Split: [[0, 1], [2, 5], [3, 4], [6, 9], [7, 8]]\n"
     ]
    },
    {
     "data": {
      "image/png": "[encoded data removed]",
      "text/plain": [
       "<Figure size 432x288 with 2 Axes>"
      ]
     },
     "metadata": {
      "needs_background": "light"
     },
     "output_type": "display_data"
    },
    {
     "name": "stdout",
     "output_type": "stream",
     "text": [
      "\n",
      "Split: [[0, 9], [1, 4], [2, 7], [3, 6], [5, 8]]\n"
     ]
    },
    {
     "data": {
      "image/png": "[encoded data removed]",
      "text/plain": [
       "<Figure size 432x288 with 2 Axes>"
      ]
     },
     "metadata": {
      "needs_background": "light"
     },
     "output_type": "display_data"
    },
    {
     "name": "stdout",
     "output_type": "stream",
     "text": [
      "\n",
      "Split: [[0, 3], [1, 2], [4, 7], [5, 9], [6, 8]]\n"
     ]
    },
    {
     "data": {
      "image/png": "[encoded data removed]",
      "text/plain": [
       "<Figure size 432x288 with 2 Axes>"
      ]
     },
     "metadata": {
      "needs_background": "light"
     },
     "output_type": "display_data"
    },
    {
     "name": "stdout",
     "output_type": "stream",
     "text": [
      "\n",
      "Split: [[0, 5], [1, 9], [2, 6], [3, 7], [4, 8]]\n"
     ]
    },
    {
     "data": {
      "image/png": "[encoded data removed]",
      "text/plain": [
       "<Figure size 432x288 with 2 Axes>"
      ]
     },
     "metadata": {
      "needs_background": "light"
     },
     "output_type": "display_data"
    },
    {
     "name": "stdout",
     "output_type": "stream",
     "text": [
      "\n",
      "Split: [[0, 4], [1, 8], [2, 9], [3, 6], [5, 7]]\n"
     ]
    },
    {
     "data": {
      "image/png": "[encoded data removed]",
      "text/plain": [
       "<Figure size 432x288 with 2 Axes>"
      ]
     },
     "metadata": {
      "needs_background": "light"
     },
     "output_type": "display_data"
    }
   ],
   "source": [
    "from sklearn.metrics import confusion_matrix\n",
    "import seaborn as sns\n",
    "\n",
    "model_4 = 'mnist_prechosen'\n",
    "\n",
    "m = model_4\n",
    "total_experts = 5\n",
    "plot_file = generate_plot_file(m, str(num_classes)+'_'+str(total_experts)+'_models.pt')\n",
    "\n",
    "# Note: Here we are loading the pre-trained model from 'pre_trained_model_path. Change this to 'model_path' to load the \n",
    "# model you build above\n",
    "models_prechosen = torch.load(open(os.path.join(pre_trained_model_path, plot_file),'rb'), map_location=device)\n",
    "print('Model:', plot_file)\n",
    "\n",
    "for classes_per_expert, model in zip(classes_per_expert_list, models_prechosen):\n",
    "    print('\\nSplit:', classes_per_expert)\n",
    "    for e_key, e_val in model.items():\n",
    "        cmap = sns.color_palette(\"ch:s=.25,rot=-.25\", as_cmap=True)\n",
    "\n",
    "        for images, labels in testloader:\n",
    "            fig1,ax1 = plt.subplots(1, 1, sharex=False, sharey=False, figsize=(6,4))\n",
    "            images, labels = images.to(device), labels.to(device)\n",
    "            moe_model = e_val['experts'][total_experts]['model']\n",
    "\n",
    "            pred = moe_model(images)\n",
    "            pred_labels = torch.argmax(pred, dim=1)\n",
    "\n",
    "            expert_outputs = moe_model.expert_outputs\n",
    "            gate_outputs = moe_model.gate_outputs\n",
    "\n",
    "            pred_gate_labels = torch.argmax(gate_outputs, dim=1)\n",
    "\n",
    "            class_expert_table = np.asarray([[0] * num_classes]*total_experts)\n",
    "            for label, expert in zip(labels, pred_gate_labels):\n",
    "                class_expert_table[expert,label] += 1\n",
    "            sns.heatmap(class_expert_table, yticklabels=['E'+str(i) for i in range(1,total_experts+1)], annot=True, cmap=cmap, fmt='d', ax=ax1)\n",
    "            image_file = generate_plot_file(m, 'class_expert_table_'+classes_per_expert_str(classes_per_expert)+'_'+str(num_classes)+'_'+str(total_experts)+'_experts.png')\n",
    "            fig1.savefig(os.path.join(fig_path, image_file))\n",
    "            plt.show()"
   ]
  },
  {
   "cell_type": "markdown",
   "metadata": {},
   "source": [
    "### Training loss comparison, for MNIST dataset, for pre-trained gate, trained on pre-trained and un-trained experts and training experts with default parameter initialization"
   ]
  },
  {
   "cell_type": "code",
   "execution_count": 26,
   "metadata": {},
   "outputs": [
    {
     "name": "stdout",
     "output_type": "stream",
     "text": [
      "mnist_pretrained_gate_scratch_same_wts_loss_compare_diff_subsets_10_5_experts.png\n"
     ]
    },
    {
     "data": {
      "image/png": "[encoded data removed]",
      "text/plain": [
       "<Figure size 576x288 with 1 Axes>"
      ]
     },
     "metadata": {
      "needs_background": "light"
     },
     "output_type": "display_data"
    }
   ],
   "source": [
    "m_key = 'moe_expectation_model'\n",
    "n_runs = 10\n",
    "total_experts = 5\n",
    "\n",
    "model_2 = 'mnist_pretrained_gate_scratch_same_wts'\n",
    "model_5 = 'mnist_pretrained_gate_prechosen_same_wts'\n",
    "\n",
    "m1 = model_2\n",
    "m2 = model_5\n",
    "\n",
    "plot_file = generate_plot_file(m1, str(num_classes)+'_'+str(total_experts)+'_'+str(n_runs)+'_models.pt')\n",
    "\n",
    "# Note: Here we are loading the pre-trained model from 'pre_trained_model_path. Change this to 'model_path' to load the \n",
    "# model you build above\n",
    "models_scratch_10 = torch.load(open(os.path.join(pre_trained_model_path, plot_file),'rb'), map_location=device)\n",
    "history_scratch = np.asarray([model[m_key]['experts'][total_experts]['history']['loss'] for model in models_scratch_10])\n",
    "mean_loss_scratch = np.mean(history_scratch, axis=0)\n",
    "\n",
    "history_prechosen = []\n",
    "plot_file = generate_plot_file(m2, str(num_classes)+'_'+str(total_experts)+'_models.pt')\n",
    "\n",
    "# Note: Here we are loading the pre-trained model from 'pre_trained_model_path. Change this to 'model_path' to load the \n",
    "# model you build above\n",
    "models_prechosen_1 = torch.load(open(os.path.join(pre_trained_model_path, plot_file),'rb'), map_location=device)\n",
    "for classes_per_expert, model in zip(classes_per_expert_list, models_prechosen_1):\n",
    "    history_prechosen.append(model[m_key]['experts'][total_experts]['history']['loss'])\n",
    "history_prechosen = np.asarray(history_prechosen)\n",
    "mean_loss_prechosen = np.mean(history_prechosen, axis=0)\n",
    "fig,ax = plt.subplots(1, 1, sharex=False, sharey=False, figsize=(8,4))\n",
    "\n",
    "legend_labels = ['pre_trained experts', 'un_trained experts']\n",
    "ax.plot(range(1,len(mean_loss_prechosen)+1), mean_loss_prechosen, marker='o',color='tab:blue')\n",
    "ax.plot(range(1,len(mean_loss_scratch)+1), mean_loss_scratch, marker='^', color='tab:orange')   \n",
    "# ax.set_ylim(bottom=0)\n",
    "ax.set_title(m_key)\n",
    "ax.legend(legend_labels)\n",
    "ax.set_xlabel('epochs')\n",
    "ax.set_xticks(range(len(mean_loss_scratch)+1))\n",
    "ax.set_ylabel('average training loss')\n",
    "image_file = generate_plot_file(m1, 'loss_compare_diff_subsets_'+str(num_classes)+'_'+str(total_experts)+'_experts.png')\n",
    "plt.savefig(os.path.join(fig_path, image_file))\n",
    "print(image_file)"
   ]
  },
  {
   "cell_type": "markdown",
   "metadata": {},
   "source": [
    "### Training loss comparison, for MNIST dataset, for pre-trained gate, trained on pre-trained and un-trained experts and training experts with default parameter initialization with the same initial parameter initialization as the experts trained from"
   ]
  },
  {
   "cell_type": "code",
   "execution_count": 27,
   "metadata": {},
   "outputs": [
    {
     "name": "stdout",
     "output_type": "stream",
     "text": [
      "mnist_pretrained_gate_scratch_rand_wts_loss_compare_diff_subsets_10_5_experts.png\n"
     ]
    },
    {
     "data": {
      "image/png": "[encoded data removed]",
      "text/plain": [
       "<Figure size 576x288 with 1 Axes>"
      ]
     },
     "metadata": {
      "needs_background": "light"
     },
     "output_type": "display_data"
    }
   ],
   "source": [
    "m_key = 'moe_expectation_model'\n",
    "n_runs = 10\n",
    "total_experts = 5\n",
    "\n",
    "model_3 = 'mnist_pretrained_gate_scratch_rand_wts'\n",
    "model_6 = 'mnist_pretrained_gate_prechosen_rand_wts'\n",
    "\n",
    "m1 = model_3\n",
    "m2 = model_6\n",
    "plot_file = generate_plot_file(m1, str(num_classes)+'_'+str(total_experts)+'_'+str(n_runs)+'_models.pt')\n",
    "\n",
    "# Note: Here we are loading the pre-trained model from 'pre_trained_model_path. Change this to 'model_path' to load the \n",
    "# model you build above\n",
    "models_scratch_10 = torch.load(open(os.path.join(pre_trained_model_path, plot_file),'rb'), map_location=device)\n",
    "history_scratch = np.asarray([model[m_key]['experts'][total_experts]['history']['loss'] for model in models_scratch_10])\n",
    "mean_loss_scratch = np.mean(history_scratch, axis=0)\n",
    "\n",
    "history_prechosen = []\n",
    "plot_file = generate_plot_file(m2, str(num_classes)+'_'+str(total_experts)+'_models.pt')\n",
    "\n",
    "# Note: Here we are loading the pre-trained model from 'pre_trained_model_path. Change this to 'model_path' to load the \n",
    "# model you build above\n",
    "models_prechosen_1 = torch.load(open(os.path.join(pre_trained_model_path, plot_file),'rb'), map_location=device)\n",
    "for classes_per_expert, model in zip(classes_per_expert_list, models_prechosen_1):\n",
    "    history_prechosen.append(model[m_key]['experts'][total_experts]['history']['loss'])\n",
    "history_prechosen = np.asarray(history_prechosen)\n",
    "mean_loss_prechosen = np.mean(history_prechosen, axis=0)\n",
    "fig,ax = plt.subplots(1, 1, sharex=False, sharey=False, figsize=(8,4))\n",
    "\n",
    "legend_labels = ['pre_trained experts', 'un_trained experts']\n",
    "ax.plot(range(1,len(mean_loss_prechosen)+1), mean_loss_prechosen, marker='o',color='tab:blue')\n",
    "ax.plot(range(1,len(mean_loss_scratch)+1), mean_loss_scratch, marker='^', color='tab:orange')   \n",
    "# ax.set_ylim(bottom=0)\n",
    "ax.set_title(m_key)\n",
    "ax.legend(legend_labels)\n",
    "ax.set_xlabel('epochs')\n",
    "ax.set_xticks(range(len(mean_loss_scratch)+1))\n",
    "ax.set_ylabel('average training loss')\n",
    "image_file = generate_plot_file(m1, 'loss_compare_diff_subsets_'+str(num_classes)+'_'+str(total_experts)+'_experts.png')\n",
    "plt.savefig(os.path.join(fig_path, image_file))\n",
    "print(image_file)"
   ]
  },
  {
   "cell_type": "markdown",
   "metadata": {},
   "source": [
    "### Compute the mean negative log likelihood error of mis-classifying commonly mis-classified digit pairs using the pre-trained gate models trained with pre-trained and un-trained experts."
   ]
  },
  {
   "cell_type": "code",
   "execution_count": 28,
   "metadata": {},
   "outputs": [
    {
     "name": "stdout",
     "output_type": "stream",
     "text": [
      "Mean negative log likelihood error of mis-classifying commonly mis-classfied digit pairs\n",
      "{'3,8': {'pre-trained experts': 0.102730036, 'un-trained experts': 0.6023878},\n",
      " '4,9': {'pre-trained experts': 0.27781877, 'un-trained experts': 0.18004052},\n",
      " '5,8': {'pre-trained experts': 0.23237674, 'un-trained experts': 0.5617698},\n",
      " '8,3': {'pre-trained experts': 0.43494126, 'un-trained experts': 0.8471615},\n",
      " '8,5': {'pre-trained experts': 0.10149733, 'un-trained experts': 0.6151565},\n",
      " '9,4': {'pre-trained experts': 0.14056462, 'un-trained experts': 0.20292129}}\n"
     ]
    }
   ],
   "source": [
    "classes_list = [[3,8], [8,3], [4,9], [9,4], [5,8], [8,5]]\n",
    "results = {'3,8':{}, '8,3':{},'4,9':{},'9,4':{}, '5,8':{}, '8,5':{}}\n",
    "total_experts = 5\n",
    "n_runs = 10\n",
    "for classes in classes_list:\n",
    "    index_0_1 = torch.where(testset.targets[range(0,testsize)]==classes[0])[0]\n",
    "\n",
    "    testloader_0_1 = torch.utils.data.DataLoader(torch.utils.data.Subset(torch.utils.data.Subset(testset, range(0,testsize)),index_0_1),\n",
    "                                                 batch_size=testsize,\n",
    "                                                 shuffle=True, num_workers=1, pin_memory=True)\n",
    "\n",
    "    model_2 = 'mnist_pretrained_gate_scratch_same_wts'\n",
    "    model_5 = 'mnist_pretrained_gate_prechosen_same_wts'\n",
    "\n",
    "    m1 = model_2\n",
    "    m2 = model_5\n",
    "    plot_file = generate_plot_file(m1, str(num_classes)+'_'+str(total_experts)+'_'+str(n_runs)+'_models.pt')\n",
    "    \n",
    "    # Note: Here we are loading the pre-trained model from 'pre_trained_model_path. Change this to 'model_path' to load the \n",
    "    # model you build above\n",
    "    models_scratch_10 = torch.load(open(os.path.join(pre_trained_model_path, plot_file),'rb'), map_location=device)\n",
    "    models_scratch = models_scratch_10[0]\n",
    "    \n",
    "    plot_file = generate_plot_file(m2, str(num_classes)+'_'+str(total_experts)+'_models.pt')\n",
    "    \n",
    "    # Note: Here we are loading the pre-trained model from 'pre_trained_model_path. Change this to 'model_path' to load the \n",
    "    # model you build above\n",
    "    models_prechosen = torch.load(open(os.path.join(pre_trained_model_path, plot_file),'rb'), map_location=device)[1]\n",
    "\n",
    "    m_key = 'moe_expectation_model'\n",
    "    moe_model_scratch = models_scratch[m_key]['experts'][total_experts]['model']\n",
    "    moe_model_prechosen = models_prechosen[m_key]['experts'][total_experts]['model']\n",
    "\n",
    "    for images, labels in testloader_0_1:\n",
    "        images, labels = images.to(device), labels.to(device)\n",
    "        pred_scratch = moe_model_scratch(images)\n",
    "        pred_prechosen = moe_model_prechosen(images)\n",
    "        eps=1e-7\n",
    "        # compute mean negative log likelihood error for digit pairs\n",
    "        logp = torch.log(torch.div(pred_prechosen[:,classes[0]].reshape(len(labels),1), \n",
    "                                   pred_prechosen[:,classes[0]].reshape(len(labels),1)+pred_prechosen[:,classes[1]].reshape(len(labels),1)))\n",
    "        with torch.no_grad():\n",
    "            log_error = -1 * np.nan_to_num(logp.cpu().numpy(), neginf=0)\n",
    "            results[','.join([str(c) for c in classes])]['pre-trained experts'] = log_error.mean()\n",
    "        \n",
    "        # compute mean negative log likelihood error for digit pairs\n",
    "        logp = torch.log(torch.div(pred_scratch[:,classes[0]].reshape(len(labels),1), \n",
    "                                   pred_scratch[:,classes[0]].reshape(len(labels),1)+pred_scratch[:,classes[1]].reshape(len(labels),1)))\n",
    "        with torch.no_grad():\n",
    "            log_error = -1 * np.nan_to_num(logp.cpu().numpy(), neginf=0)\n",
    "            results[','.join([str(c) for c in classes])]['un-trained experts'] = log_error.mean()\n",
    "print('Mean negative log likelihood error of mis-classifying commonly mis-classfied digit pairs')\n",
    "pprint(results)"
   ]
  },
  {
   "cell_type": "markdown",
   "metadata": {},
   "source": [
    "### Comparison of average gate probabilities per expert with and without gate coefficientof variation regularization"
   ]
  },
  {
   "cell_type": "code",
   "execution_count": 29,
   "metadata": {},
   "outputs": [
    {
     "name": "stdout",
     "output_type": "stream",
     "text": [
      "mnist_with_reg_importance_1.0_10_5_models.pt\n",
      "mnist_scratch_10_5_10_models.pt\n",
      "\n",
      "Average gate probability per expert with regualarization\n"
     ]
    },
    {
     "data": {
      "image/png": "[encoded data removed]",
      "text/plain": [
       "<Figure size 576x288 with 1 Axes>"
      ]
     },
     "metadata": {
      "needs_background": "light"
     },
     "output_type": "display_data"
    },
    {
     "name": "stdout",
     "output_type": "stream",
     "text": [
      "\n",
      "Average gate probability per expert without regualarization\n"
     ]
    },
    {
     "data": {
      "image/png": "[encoded data removed]",
      "text/plain": [
       "<Figure size 576x288 with 1 Axes>"
      ]
     },
     "metadata": {
      "needs_background": "light"
     },
     "output_type": "display_data"
    }
   ],
   "source": [
    "w_importance = 1.0\n",
    "n_runs = 10\n",
    "total_experts = 5\n",
    "\n",
    "model_7 = 'mnist_with_reg'\n",
    "\n",
    "plot_file = generate_plot_file(model_7, str(num_classes)+'_'+str(total_experts)+'_models.pt')\n",
    "\n",
    "# Note: Here we are loading the pre-trained model from 'pre_trained_model_path. Change this to 'model_path' to load the \n",
    "# model you build above\n",
    "models_reg = torch.load(open(os.path.join(pre_trained_model_path, plot_file),'rb'), map_location=device)\n",
    "print(plot_file)\n",
    "\n",
    "w_importance = 0.0\n",
    "n_runs = 10\n",
    "plot_file = generate_plot_file(model_1, str(num_classes)+'_'+str(total_experts)+'_'+str(n_runs)+'_models.pt')\n",
    "\n",
    "# Note: Here we are loading the pre-trained model from 'pre_trained_model_path. Change this to 'model_path' to load the \n",
    "# model you build above\n",
    "models_unreg = torch.load(open(os.path.join(pre_trained_model_path, plot_file),'rb'), map_location=device)[0]\n",
    "print(plot_file)\n",
    "\n",
    "for m_name, model in zip(['reg','un_reg'], [models_reg, models_unreg]):\n",
    "    for e_key, e_val in model.items():\n",
    "        fig,ax = plt.subplots(1, 1, sharex=False, sharey=False, figsize=(8,4))\n",
    "        if m_name == 'reg':\n",
    "            print('\\nAverage gate probability per expert with regualarization')\n",
    "        else:\n",
    "            print('\\nAverage gate probability per expert without regualarization')\n",
    "        history = e_val['experts'][total_experts]['history']\n",
    "        gate_prob = np.asarray(history['mean_gate_probability'])\n",
    "        for i in range(0, total_experts):\n",
    "            sns.lineplot(x=np.asarray(list(range(1,len(gate_prob)+1))), y=gate_prob[:,i], marker='o', ax=ax)\n",
    "\n",
    "        ax.set_title(e_key+'\\nAverage gate probability for ' + str(total_experts)+' experts')\n",
    "        ax.legend(['E'+str(i) for i in range(1, total_experts+1)])\n",
    "        ax.set_xlabel('epochs')\n",
    "        ax.set_xlim(0,len(gate_prob)+1)\n",
    "        ax.set_ylabel('avg gate probabilitis per expert')\n",
    "        ax.set_ylim(0,1)\n",
    "        ax.yaxis.set_major_formatter(FormatStrFormatter('%.2f'))\n",
    "        ax.set_xticks(range(1, len(gate_prob)+1))\n",
    "        image_file = generate_plot_file('mnist'+'_'+m_name, 'gate_prob_'+str(num_classes)+'_'+str(total_experts)+'_experts.png')\n",
    "        plt.savefig(os.path.join(fig_path, image_file))\n",
    "        plt.show()\n",
    "w_importance = 0.0"
   ]
  },
  {
   "cell_type": "markdown",
   "metadata": {},
   "source": [
    "### Experts used by the gate for classification of each digit with regularization"
   ]
  },
  {
   "cell_type": "code",
   "execution_count": 30,
   "metadata": {},
   "outputs": [
    {
     "name": "stdout",
     "output_type": "stream",
     "text": [
      "Model: mnist_with_reg_importance_1.0_10_5_models.pt\n",
      "\n",
      "Experts used by the gate for classification of each digit\n"
     ]
    },
    {
     "data": {
      "image/png": "[encoded data removed]",
      "text/plain": [
       "<Figure size 432x288 with 2 Axes>"
      ]
     },
     "metadata": {
      "needs_background": "light"
     },
     "output_type": "display_data"
    }
   ],
   "source": [
    "from sklearn.metrics import confusion_matrix\n",
    "import seaborn as sns\n",
    "\n",
    "total_experts = 5\n",
    "\n",
    "model_7 = 'mnist_with_reg'\n",
    "m = model_7\n",
    "w_importance = 1.0\n",
    "plot_file = generate_plot_file(m, str(num_classes)+'_'+str(total_experts)+'_models.pt')\n",
    "\n",
    "# Note: Here we are loading the pre-trained model from 'pre_trained_model_path. Change this to 'model_path' to load the \n",
    "# model you build above\n",
    "model_reg = torch.load(open(os.path.join(pre_trained_model_path, plot_file),'rb'), map_location=device)\n",
    "print('Model:', plot_file)\n",
    "\n",
    "# Plotting for the model with reg\n",
    "for e_key, e_val in model_reg.items():\n",
    "    cmap = sns.color_palette(\"ch:s=.25,rot=-.25\", as_cmap=True)\n",
    "\n",
    "    for images, labels in testloader:\n",
    "        fig1,ax1 = plt.subplots(1, 1, sharex=False, sharey=False, figsize=(6,4))\n",
    "        images, labels = images.to(device), labels.to(device)\n",
    "        moe_model = e_val['experts'][total_experts]['model']\n",
    "        \n",
    "        # predict the classes for test data\n",
    "        pred = moe_model(images)\n",
    "        pred_labels = torch.argmax(pred, dim=1)\n",
    "\n",
    "        expert_outputs = moe_model.expert_outputs\n",
    "        gate_outputs = moe_model.gate_outputs\n",
    "\n",
    "        # get the experts selected by the gate for each sample\n",
    "        pred_gate_labels = torch.argmax(gate_outputs, dim=1)\n",
    "\n",
    "        # plot the expert selection table\n",
    "        print('\\nExperts used by the gate for classification of each digit')\n",
    "        class_expert_table = np.asarray([[0] * num_classes]*total_experts)\n",
    "        for label, expert in zip(labels, pred_gate_labels):\n",
    "            class_expert_table[expert,label] += 1\n",
    "        sns.heatmap(class_expert_table, yticklabels=['E'+str(i) for i in range(1,total_experts+1)], annot=True, cmap=cmap, fmt='d', ax=ax1)\n",
    "        \n",
    "        image_file = generate_plot_file(m, 'class_expert_table_reg_'+str(num_classes)+'_'+str(total_experts)+'_experts.png')\n",
    "        fig1.savefig(os.path.join(fig_path, image_file))\n",
    "        plt.show()\n",
    "w_importance = 0.0"
   ]
  },
  {
   "cell_type": "code",
   "execution_count": null,
   "metadata": {},
   "outputs": [],
   "source": []
  }
 ],
 "metadata": {
  "@webio": {
   "lastCommId": null,
   "lastKernelId": null
  },
  "kernelspec": {
   "display_name": "mnn",
   "language": "python",
   "name": "mnn"
  },
  "language_info": {
   "codemirror_mode": {
    "name": "ipython",
    "version": 3
   },
   "file_extension": ".py",
   "mimetype": "text/x-python",
   "name": "python",
   "nbconvert_exporter": "python",
   "pygments_lexer": "ipython3",
   "version": "3.7.4"
  },
  "latex_envs": {
   "LaTeX_envs_menu_present": true,
   "autoclose": false,
   "autocomplete": true,
   "bibliofile": "biblio.bib",
   "cite_by": "apalike",
   "current_citInitial": 1,
   "eqLabelWithNumbers": true,
   "eqNumInitial": 1,
   "hotkeys": {
    "equation": "Ctrl-E",
    "itemize": "Ctrl-I"
   },
   "labels_anchors": false,
   "latex_user_defs": false,
   "report_style_numbering": false,
   "user_envs_cfg": false
  }
 },
 "nbformat": 4,
 "nbformat_minor": 4
}
